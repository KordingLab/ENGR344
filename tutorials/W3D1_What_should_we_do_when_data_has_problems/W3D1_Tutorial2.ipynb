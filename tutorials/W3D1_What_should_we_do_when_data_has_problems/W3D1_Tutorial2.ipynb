{
  "cells": [
    {
      "cell_type": "markdown",
      "metadata": {
        "id": "view-in-github",
        "colab_type": "text"
      },
      "source": [
        "<a href=\"https://colab.research.google.com/github/KordingLab/ENGR344/blob/master/tutorials/W3D1_What_should_we_do_when_data_has_problems/W3D1_Tutorial2.ipynb\" target=\"_parent\"><img src=\"https://colab.research.google.com/assets/colab-badge.svg\" alt=\"Open In Colab\"/></a>"
      ]
    },
    {
      "cell_type": "markdown",
      "metadata": {
        "execution": {},
        "id": "GwG32kd0jf8H"
      },
      "source": [
        "\n",
        "\n",
        "```\n",
        "# This is formatted as code\n",
        "```\n",
        "\n",
        "# Tutorial 2: Outliers\n",
        "**Week 3: What should we do when data has problems?**\n",
        "\n",
        "**Content creators**: Rob Lindgren\n",
        "\n",
        "**Content reviewers**: Konrad Kording, Keervani Kandala\n",
        "\n",
        "**Content modifiers**: ---\n",
        "\n",
        "**Modified Content reviewer**: ---\n"
      ]
    },
    {
      "cell_type": "markdown",
      "metadata": {
        "execution": {},
        "id": "mngEsmgIjf8J"
      },
      "source": [
        "___\n",
        "# Tutorial Objectives\n",
        "\n",
        "*Estimated timing of tutorial: 30 minutes*\n",
        "\n",
        "This is the tutorial 2 in a 3-part series on how to handle data that has problems. In this tutorial, we will learn about outliers: what problems they can cause, how to identify them, and how to remove them. By the end of this tutorial, you will be able to:\n",
        "\n",
        "- Explain the two possible causes of outliers, erroneous observations and natural variation\n",
        "- Identify outliers using histograms, scatterplots, boxplots, and z-scores\n",
        "- Remove outliers from a DataFrame using Boolean masks\n"
      ]
    },
    {
      "cell_type": "code",
      "execution_count": 1,
      "metadata": {
        "execution": {},
        "id": "zK3D5SfMjf8K",
        "colab": {
          "base_uri": "https://localhost:8080/",
          "height": 502
        },
        "outputId": "70199c74-c2d6-4073-d262-9a4ca99aca14",
        "cellView": "form"
      },
      "outputs": [
        {
          "output_type": "execute_result",
          "data": {
            "text/html": [
              "\n",
              "        <iframe\n",
              "            width=\"854\"\n",
              "            height=\"480\"\n",
              "            src=\"https://mfr.ca-1.osf.io/render?url=https://osf.io/hncv7/?direct%26mode=render%26action=download%26mode=render\"\n",
              "            frameborder=\"0\"\n",
              "            allowfullscreen\n",
              "        ></iframe>\n",
              "        "
            ],
            "text/plain": [
              "<IPython.lib.display.IFrame at 0x7f4c62b5e110>"
            ]
          },
          "metadata": {},
          "execution_count": 1
        }
      ],
      "source": [
        "# @title Tutorial slides\n",
        " \n",
        "# @markdown These are the slides for the videos in all tutorials today\n",
        "from IPython.display import IFrame\n",
        "\n",
        "IFrame(src=f\"https://mfr.ca-1.osf.io/render?url=https://osf.io/hncv7/?direct%26mode=render%26action=download%26mode=render\", width=854, height=480)"
      ]
    },
    {
      "cell_type": "markdown",
      "metadata": {
        "execution": {},
        "id": "GvEi-BMsjf8L"
      },
      "source": [
        "---\n",
        "# Setup"
      ]
    },
    {
      "cell_type": "code",
      "execution_count": null,
      "metadata": {
        "cellView": "code",
        "execution": {},
        "id": "YY7HrpSyjf8L"
      },
      "outputs": [],
      "source": [
        "# Imports\n",
        "\n",
        "import numpy as np\n",
        "import pandas as pd\n",
        "import matplotlib.pyplot as plt\n",
        "import random"
      ]
    },
    {
      "cell_type": "code",
      "source": [
        "# @title Plotting Function\n",
        "\n",
        "# Solution\n",
        "def plt_cars(df):\n",
        "  \"\"\"Plot histograms of 'Horsepower' and ' Highway mpg' from the Cars dataset, \n",
        "  as well as a scatterplot of 'Horsepower' vs. 'Highway mpg'.\n",
        "\n",
        "  Args:\n",
        "    df (DataFrame): Cars dataset, with variables 'Horsepower' and 'Highway 'mpg'.\n",
        "\n",
        "  Returns:\n",
        "    None\n",
        "  \"\"\"\n",
        "\n",
        "  # Compute means\n",
        "  means = df.mean()\n",
        "\n",
        "  # Create figure and axes objects\n",
        "  fig_a, (ax1, ax2) = plt.subplots(1, 2)\n",
        "  \n",
        "  # Visualize 'Horsepower'\n",
        "  ax1.hist('Horsepower', data=df)\n",
        "  ax1.set_xlabel(\"Horsepower\")\n",
        "  ax1.set_ylabel(\"Number of vehicles\")\n",
        "  ax1.axvline(means['Horsepower'], color='Orange')\n",
        "\n",
        "  # Visualize 'Highway mpg'\n",
        "  ax2.hist('Highway mpg', data=df)\n",
        "  ax2.set_xlabel(\"Highway mpg\")\n",
        "  ax2.set_ylabel(\"Number of vehicles\")\n",
        "  ax2.axvline(means['Highway mpg'], color='Orange')\n",
        "  print(fig_a)\n",
        "\n",
        "  print('\\n')\n",
        "  \n",
        "  # Visualize the relationship between 'Horsepower' and 'Highway mpg'\n",
        "  fig_b, ax = plt.subplots(1, 1)\n",
        "  ax.scatter('Horsepower', 'Highway mpg', data=df)\n",
        "  ax.set_xlabel('Horsepower')\n",
        "  ax.set_ylabel('Highway mpg')\n",
        "  print(fig_b)\n",
        "\n"
      ],
      "metadata": {
        "id": "OrOmn-xaNlug",
        "cellView": "form"
      },
      "execution_count": null,
      "outputs": []
    },
    {
      "cell_type": "code",
      "source": [
        "# @title Regression Function\n",
        "def regress(df_in, x_lab, y_lab):\n",
        "  # Takes a dataframe and two variable names from the dataframe\n",
        "  # and returns a dictionary with the results of a linear regression\n",
        "  # of y_lab on x_lab.\n",
        "\n",
        "  # Output dictionary looks like this...\n",
        "  # {'prediction' : predicted_values,\n",
        "  #  'intercept' : intercept\n",
        "  #  'coef' : coefficient}\n",
        "  df = df_in.copy()\n",
        "\n",
        "  from sklearn.linear_model import LinearRegression\n",
        "\n",
        "  x = df.loc[:, [x_lab]].values.reshape(-1, 1)  # values converts it into a numpy array\n",
        "  y = df.loc[:, [y_lab]].values.reshape(-1, 1)  # -1 means that calculate the dimension of rows, but have 1 column\n",
        "  reg = LinearRegression()  # create object for the class\n",
        "  reg.fit(x, y)  # perform linear regression\n",
        "  y_pred = reg.predict(x)  # make predictions\n",
        "\n",
        "  out = {'prediction' : reg.predict(x),\n",
        "        'intercept' : reg.intercept_[0],\n",
        "        'coef' : reg.coef_[0][0]}\n",
        "\n",
        "  return out"
      ],
      "metadata": {
        "id": "7iJFnEPuXLXp",
        "cellView": "form"
      },
      "execution_count": null,
      "outputs": []
    },
    {
      "cell_type": "markdown",
      "metadata": {
        "execution": {},
        "id": "loUlF0Sojf8T"
      },
      "source": [
        "---\n",
        "# Prepare Data\n",
        "\n",
        "*Estimated timing to here from start of tutorial: ???*\n",
        "\n",
        "Once again, let's load the Cars dataset, subset it, and verify that we got the subset that we expected.\n"
      ]
    },
    {
      "cell_type": "code",
      "source": [
        "data_url = 'https://raw.githubusercontent.com/RealTimeWeb/datasets/master/datasets/csv/cars/cars.csv'\n",
        "df = pd.read_csv(data_url)[['ID', 'Horsepower', 'Highway mpg']]\n",
        "df.head()"
      ],
      "metadata": {
        "id": "SSbi1PfxOqSq"
      },
      "execution_count": null,
      "outputs": []
    },
    {
      "cell_type": "markdown",
      "source": [
        "# Section 1: What problems do they pose?\n",
        "\n",
        "- **Erroneous observations:** Outliers might indicate problems with measurement or data entry. For this reason, they must be identified and investigated. Data points that do not belong in the data set should be removed and measurement and data entry issues need to be corrected. E.g. we run a questionaire and a user misunderstands a question.\n",
        "- **Natural variation**: Even accurately measured and recorded data can have outliers, and the presence of these outliers can have a substantial effect on the results of an analysis. It is possible that in this case that you might need to narrow your sample, thus excluding the outliers. E.g. a datapoint that is correct but unusual, and therefore one we may want to ignore for making predictions.\n",
        "\n",
        "**Philosophy of outliers**\n",
        "As such, we want to emphasize that how to deal with outliers is complex. If we are running a spam sending facility, we may want to focus on modeling the outliers well - we rely on outstandingly gullible people. If we want to build a tool to be used by many people we may mostly care about people that are somewhat typical and ignore the outliers. It is important to think through what we are trying to achieve with our modeling.\n",
        "\n"
      ],
      "metadata": {
        "id": "f16yZPqlAvkT"
      }
    },
    {
      "cell_type": "code",
      "source": [
        "# @title Video 6:How does horsepower relate to efficiency\n",
        "from ipywidgets import widgets\n",
        "from IPython.display import display, IFrame, YouTubeVideo\n",
        "\n",
        "out1 = widgets.Output()\n",
        "with out1:\n",
        "  video = YouTubeVideo(id=\"HhSjVj2AOgc\", width=854, height=480, fs=1, rel=0)\n",
        "  print(f'Video available at https://youtube.com/watch?v={video.id}')\n",
        "  display(video)\n",
        "\n",
        "out = widgets.Tab([out1])\n",
        "out.set_title(0, 'Youtube')\n",
        "\n",
        "display(out)"
      ],
      "metadata": {
        "id": "-wuPdoSKVjC4",
        "colab": {
          "base_uri": "https://localhost:8080/",
          "height": 581,
          "referenced_widgets": [
            "ed420a81c3d34931902ddee441ea0115",
            "0b52e204728a44f28707aee0f996793a",
            "2cfadbeae41b4b5cac5aa90be73f2d54",
            "2677c71d6ef04a079f99f9ab3b8af5fd"
          ]
        },
        "outputId": "3059ce8b-f0ea-4c9b-8ee5-ec54c60cdfa9"
      },
      "execution_count": null,
      "outputs": [
        {
          "output_type": "display_data",
          "data": {
            "application/vnd.jupyter.widget-view+json": {
              "model_id": "ed420a81c3d34931902ddee441ea0115",
              "version_minor": 0,
              "version_major": 2
            },
            "text/plain": [
              "Tab(children=(Output(),), _titles={'0': 'Youtube'})"
            ]
          },
          "metadata": {}
        }
      ]
    },
    {
      "cell_type": "markdown",
      "source": [
        "## Coding Exercise 1: What is the relationship between Horsepower and Fuel Efficiency?\n",
        "\n",
        "Use the `regress()` function, defined above, to estimate a linear model of the relationship between 'Horsepower' and 'Highway mpg'. Then perform the same regression on the subset of `df` for which 'Horsepower' is greater than 300. "
      ],
      "metadata": {
        "id": "Fq_5SGPMGyIm"
      }
    },
    {
      "cell_type": "code",
      "source": [
        "###########################################################################\n",
        "## TODO for students: Estimate a linear model of Horsepower vs. Highway mpg\n",
        "## for both the whole dataset and the subset with Horsepower > 300.\n",
        "raise NotImplementedError('student exercise: Regression on whole dataset and subset')\n",
        "###########################################################################\n",
        "\n",
        "# Regression on full dataset\n",
        "results = regress(..., ..., ...)\n",
        "print('Slope of the linear model estimated on the whole dataset:')\n",
        "print(results['coef'])\n",
        "\n",
        "print('\\n')\n",
        "\n",
        "# Regression on subset\n",
        "# hint you can do things like df[df['Horsepower'] > 100] to select only cars with at least 100 horsepower\n",
        "results_subset = regress(..., ..., ...)\n",
        "print('Slope of the linear model estimated on only observations for which Horsepower > 300')\n",
        "print(results_subset['coef'])"
      ],
      "metadata": {
        "id": "ci3LBSseHBu0"
      },
      "execution_count": null,
      "outputs": []
    },
    {
      "cell_type": "code",
      "source": [
        "# to_remove Solution\n",
        "\n",
        "# Regression on full dataset\n",
        "results = regress(df, 'Horsepower', 'Highway mpg')\n",
        "print('Slope of the linear model estimated on the whole dataset:')\n",
        "print(results['coef'])\n",
        "\n",
        "print('\\n')\n",
        "\n",
        "# Regression on subset\n",
        "results_subset = regress(df[df['Horsepower'] > 300], 'Horsepower', 'Highway mpg')\n",
        "print('Slope of the linear model estimated on only observations for which Horsepower > 300')\n",
        "print(results_subset['coef'])"
      ],
      "metadata": {
        "id": "R4cdgJoiHVA5"
      },
      "execution_count": null,
      "outputs": []
    },
    {
      "cell_type": "markdown",
      "source": [
        "## Discussion Question 1\n",
        "\n",
        "What do the results of our two regressions tell us about Horsepower and Fuel Efficiency?\n",
        "\n",
        "- Is there a different relationship between 'Horsepower' and 'Highway mpg' for high-horsepower vehicles than for others?\n",
        "- Why or why not?"
      ],
      "metadata": {
        "id": "0KQm_ZVSLl5l"
      }
    },
    {
      "cell_type": "code",
      "source": [
        "#to remove (only for TA)\n",
        "# The efffect for high HP cars is entirely driven by the one outlier we saw in the previous tutorial. Let the students figure that out themselves!"
      ],
      "metadata": {
        "id": "sbwmxfPsntBH"
      },
      "execution_count": null,
      "outputs": []
    },
    {
      "cell_type": "markdown",
      "source": [
        "# Section 2: Identifying outliers\n",
        "So how do we identify outliers? The first approach almost always has to be to visualize the data."
      ],
      "metadata": {
        "id": "vCE6K4iHAxEt"
      }
    },
    {
      "cell_type": "code",
      "source": [
        "# @title Video 7: Let us visualize outliers\n",
        "from ipywidgets import widgets\n",
        "from IPython.display import display, IFrame, YouTubeVideo\n",
        "\n",
        "out1 = widgets.Output()\n",
        "with out1:\n",
        "  video = YouTubeVideo(id=\"omVZoJ-62u8\", width=854, height=480, fs=1, rel=0)\n",
        "  print(f'Video available at https://youtube.com/watch?v={video.id}')\n",
        "  display(video)\n",
        "\n",
        "out = widgets.Tab([out1])\n",
        "out.set_title(0, 'Youtube')\n",
        "\n",
        "display(out)"
      ],
      "metadata": {
        "id": "eQfHAiflWBZO",
        "colab": {
          "base_uri": "https://localhost:8080/",
          "height": 581,
          "referenced_widgets": [
            "53c79a99447a40b0a8c16a71f0b87fa7",
            "c6aa1597caeb4535ae47368b2787f2a2",
            "25747692802043ba85d59952775712bc",
            "40c0b924e96b4a48a55ea4447e2cbc93"
          ]
        },
        "outputId": "f4f66749-c392-458a-ebe9-7d6cfa750dbc",
        "cellView": "form"
      },
      "execution_count": null,
      "outputs": [
        {
          "output_type": "display_data",
          "data": {
            "application/vnd.jupyter.widget-view+json": {
              "model_id": "53c79a99447a40b0a8c16a71f0b87fa7",
              "version_minor": 0,
              "version_major": 2
            },
            "text/plain": [
              "Tab(children=(Output(),), _titles={'0': 'Youtube'})"
            ]
          },
          "metadata": {}
        }
      ]
    },
    {
      "cell_type": "markdown",
      "source": [
        "## Section 2.1 Visualization is your friend\n",
        "\n",
        "We already noticed that we have outliers in the Cars dataset back in Tutorial 1. Let's revisit our histograms and scatterplot."
      ],
      "metadata": {
        "id": "dEulgDG_EhQV"
      }
    },
    {
      "cell_type": "code",
      "source": [
        "plt_cars(df)"
      ],
      "metadata": {
        "id": "AhOaD4p0FBLK"
      },
      "execution_count": null,
      "outputs": []
    },
    {
      "cell_type": "markdown",
      "source": [
        "Another good plot for identifying outliers is the boxplot. DataFrames have their own method for this which produces a collective boxplot of all variables in the dataset."
      ],
      "metadata": {
        "id": "RfwgGaEMIZ_3"
      }
    },
    {
      "cell_type": "code",
      "source": [
        "df.boxplot()"
      ],
      "metadata": {
        "id": "Y1lTT7XJIokd"
      },
      "execution_count": null,
      "outputs": []
    },
    {
      "cell_type": "markdown",
      "source": [
        "We can see, once again, that there is a clear outlier in 'Highway mpg'. It also looks like there are some 'Horsepower' datapoints that lie beyond the 'whiskers', which represents a distance 1.5 times larger than the interquartile range."
      ],
      "metadata": {
        "id": "XkNCSQVSJ9fx"
      }
    },
    {
      "cell_type": "markdown",
      "source": [
        "## Section 2.2: Z-scores\n",
        "\n",
        "Another way to identify outliers in your data is by calculating Z-scores for each data point. Z-scores measure the distance of a data point from the mean in terms of standard deviation, calculated as below.\n",
        "\n",
        "\\begin{align}\n",
        "z = \\frac{x - \\overline{x}}{s}\n",
        "\\end{align}\n",
        "\n",
        "$z$ is the score, $x$ the data point for which we're measuring the score, $\\overline{x}$ is the sample mean, and $s$ is the sample standard deviation. A data point with a Z-score of 2 is 2 standard deviations above the mean."
      ],
      "metadata": {
        "id": "iO640kSqK2_0"
      }
    },
    {
      "cell_type": "markdown",
      "source": [
        "How can we calculate Z-scores for all the data in our dataset? Pandas provides methods for calculating both mean and standard deviation by variable."
      ],
      "metadata": {
        "id": "CKY6PogmRzIC"
      }
    },
    {
      "cell_type": "code",
      "source": [
        "print(df.mean())\n",
        "print('\\n')\n",
        "print(df.std())"
      ],
      "metadata": {
        "id": "BB6gkWirSJZS"
      },
      "execution_count": null,
      "outputs": []
    },
    {
      "cell_type": "markdown",
      "source": [
        "These methods work intuitively with Pandas' indexing to allow us to subtract the mean of each column from each value in that column,"
      ],
      "metadata": {
        "id": "xz1eKbUoSXZy"
      }
    },
    {
      "cell_type": "code",
      "source": [
        "df - df.mean()"
      ],
      "metadata": {
        "id": "FjBVOB0uSngv"
      },
      "execution_count": null,
      "outputs": []
    },
    {
      "cell_type": "markdown",
      "source": [
        "...as well as divide each value by its column's standard deviation."
      ],
      "metadata": {
        "id": "Y3xLH4ofSr4K"
      }
    },
    {
      "cell_type": "code",
      "source": [
        "df / df.std()"
      ],
      "metadata": {
        "id": "nLSO_xTbTBje"
      },
      "execution_count": null,
      "outputs": []
    },
    {
      "cell_type": "code",
      "source": [
        "# @title Video 8: Identify outliers\n",
        "from ipywidgets import widgets\n",
        "from IPython.display import display, IFrame, YouTubeVideo\n",
        "\n",
        "out1 = widgets.Output()\n",
        "with out1:\n",
        "  video = YouTubeVideo(id=\"xIv49TK7OrU\", width=854, height=480, fs=1, rel=0)\n",
        "  print(f'Video available at https://youtube.com/watch?v={video.id}')\n",
        "  display(video)\n",
        "\n",
        "out = widgets.Tab([out1])\n",
        "out.set_title(0, 'Youtube')\n",
        "\n",
        "display(out)"
      ],
      "metadata": {
        "id": "xcNB7tQ3tyvA",
        "colab": {
          "base_uri": "https://localhost:8080/",
          "height": 581,
          "referenced_widgets": [
            "a82763f4a16445aa9c3d2402e650777e",
            "661decea45b74e79bb749659943d1f45",
            "b7c1f83bb95a42488ae662847535d9da",
            "39b265db40944baf9960b62b275c1d4f"
          ]
        },
        "outputId": "400e8106-6080-4a58-943f-542af448475c",
        "cellView": "form"
      },
      "execution_count": null,
      "outputs": [
        {
          "output_type": "display_data",
          "data": {
            "application/vnd.jupyter.widget-view+json": {
              "model_id": "a82763f4a16445aa9c3d2402e650777e",
              "version_minor": 0,
              "version_major": 2
            },
            "text/plain": [
              "Tab(children=(Output(),), _titles={'0': 'Youtube'})"
            ]
          },
          "metadata": {}
        }
      ]
    },
    {
      "cell_type": "markdown",
      "source": [
        "### Coding Exercise 2.2: Identifying Outliers by Z-scores\n",
        "\n",
        "Fill in the function below so that it calculates the Z-score for each entry in the input DataFrame and returns a boolean DataFrame indicating whether each value is an outlier.\n",
        "\n",
        "Note: It is common to use 3 as your threshold because 99.7% of all observations fall within 3 standard deviations in normally distributed data."
      ],
      "metadata": {
        "id": "N6GzYJWvTS-M"
      }
    },
    {
      "cell_type": "code",
      "source": [
        "###########################################################################\n",
        "## TODO for students: Fill in detect_outliers().\n",
        "raise NotImplementedError('student exercise: detect outliers function')\n",
        "###########################################################################\n",
        "\n",
        "def detect_outliers(df_in, thresh):\n",
        "  df = df_in.copy()\n",
        "  df_z = (...) / ...\n",
        "  df_out = ... > thresh # Hint: use np.abs() to get the absolute values of each entry\n",
        "  return df_out\n",
        "\n",
        "df_outliers = detect_outliers(df, 3)\n",
        "df_outliers.head()\n"
      ],
      "metadata": {
        "id": "bTByuIRyUNG8"
      },
      "execution_count": null,
      "outputs": []
    },
    {
      "cell_type": "code",
      "source": [
        "# to_remove Solution\n",
        "def detect_outliers(df_in, thresh):\n",
        "  df = df_in.copy()\n",
        "  df_z = (df - df.mean()) / df.std()\n",
        "  df_out = np.abs(df_z) > thresh\n",
        "  return df_out\n",
        "\n",
        "df_outliers = detect_outliers(df, 3)\n",
        "df_outliers.sum()\n"
      ],
      "metadata": {
        "id": "0DseKVyJUvqP"
      },
      "execution_count": null,
      "outputs": []
    },
    {
      "cell_type": "markdown",
      "source": [
        "# Section 3: Removing outliers\n",
        "\n",
        "[Insert a discussion of when it is appropriate to remove outliers, explain np logic operations]"
      ],
      "metadata": {
        "id": "3nkqKFUpA0mg"
      }
    },
    {
      "cell_type": "code",
      "source": [
        "# insert video"
      ],
      "metadata": {
        "id": "qDK0auCxtv7R"
      },
      "execution_count": null,
      "outputs": []
    },
    {
      "cell_type": "markdown",
      "source": [
        "### Coding Exercise 3: Detecting and Removing Outliers \n"
      ],
      "metadata": {
        "id": "3H5Qug3-2c0c"
      }
    },
    {
      "cell_type": "code",
      "source": [
        "###########################################################################\n",
        "## TODO for students: Fill in remove_outliers().\n",
        "raise NotImplementedError('student exercise: remove outliers function')\n",
        "###########################################################################\n",
        "\n",
        "def remove_outliers(df_in, thresh):\n",
        "  df = df_in.copy()\n",
        "  df_out = ...\n",
        "  return df_out\n",
        "\n",
        "df_rem = remove_outliers(df, 3)\n",
        "\n",
        "plt_cars(df_rem)"
      ],
      "metadata": {
        "id": "Qg0kyD5HWjNr"
      },
      "execution_count": null,
      "outputs": []
    },
    {
      "cell_type": "code",
      "source": [
        "# to_remove Solution\n",
        "\n",
        "def remove_outliers(df_in, thresh):\n",
        "  df = df_in.copy()\n",
        "  df_out = df[np.logical_not(detect_outliers(df, thresh)).all(axis=1)]\n",
        "  return df_out\n",
        "\n",
        "df_rem = remove_outliers(df, 3)\n",
        "\n",
        "plt_cars(df_rem)\n",
        "\n"
      ],
      "metadata": {
        "id": "tLiMKxakBsEK"
      },
      "execution_count": null,
      "outputs": []
    },
    {
      "cell_type": "markdown",
      "source": [
        "# Section 4: Discussion\n",
        "\n",
        "- How can outliers affect the results of an analysis?\n",
        "- Will every method of outlier detection always give the same results?\n",
        "- Should you always remove outliers?"
      ],
      "metadata": {
        "id": "XHD7kTGKZIGZ"
      }
    }
  ],
  "metadata": {
    "colab": {
      "collapsed_sections": [],
      "name": "Module_3_Tutorial2",
      "provenance": [],
      "include_colab_link": true
    },
    "kernel": {
      "display_name": "Python 3",
      "language": "python",
      "name": "python3"
    },
    "kernelspec": {
      "display_name": "Python 3",
      "name": "python3"
    },
    "language_info": {
      "codemirror_mode": {
        "name": "ipython",
        "version": 3
      },
      "file_extension": ".py",
      "mimetype": "text/x-python",
      "name": "python",
      "nbconvert_exporter": "python",
      "pygments_lexer": "ipython3",
      "version": "3.7.11"
    },
    "widgets": {
      "application/vnd.jupyter.widget-state+json": {
        "a82763f4a16445aa9c3d2402e650777e": {
          "model_module": "@jupyter-widgets/controls",
          "model_name": "TabModel",
          "model_module_version": "1.5.0",
          "state": {
            "_view_name": "TabView",
            "_dom_classes": [],
            "_titles": {
              "0": "Youtube"
            },
            "_model_name": "TabModel",
            "_view_module": "@jupyter-widgets/controls",
            "selected_index": 0,
            "_model_module_version": "1.5.0",
            "_view_count": null,
            "_view_module_version": "1.5.0",
            "box_style": "",
            "layout": "IPY_MODEL_661decea45b74e79bb749659943d1f45",
            "_model_module": "@jupyter-widgets/controls",
            "children": [
              "IPY_MODEL_b7c1f83bb95a42488ae662847535d9da"
            ]
          }
        },
        "661decea45b74e79bb749659943d1f45": {
          "model_module": "@jupyter-widgets/base",
          "model_name": "LayoutModel",
          "model_module_version": "1.2.0",
          "state": {
            "_view_name": "LayoutView",
            "grid_template_rows": null,
            "right": null,
            "justify_content": null,
            "_view_module": "@jupyter-widgets/base",
            "overflow": null,
            "_model_module_version": "1.2.0",
            "_view_count": null,
            "flex_flow": null,
            "width": null,
            "min_width": null,
            "border": null,
            "align_items": null,
            "bottom": null,
            "_model_module": "@jupyter-widgets/base",
            "top": null,
            "grid_column": null,
            "overflow_y": null,
            "overflow_x": null,
            "grid_auto_flow": null,
            "grid_area": null,
            "grid_template_columns": null,
            "flex": null,
            "_model_name": "LayoutModel",
            "justify_items": null,
            "grid_row": null,
            "max_height": null,
            "align_content": null,
            "visibility": null,
            "align_self": null,
            "height": null,
            "min_height": null,
            "padding": null,
            "grid_auto_rows": null,
            "grid_gap": null,
            "max_width": null,
            "order": null,
            "_view_module_version": "1.2.0",
            "grid_template_areas": null,
            "object_position": null,
            "object_fit": null,
            "grid_auto_columns": null,
            "margin": null,
            "display": null,
            "left": null
          }
        },
        "b7c1f83bb95a42488ae662847535d9da": {
          "model_module": "@jupyter-widgets/output",
          "model_name": "OutputModel",
          "model_module_version": "1.0.0",
          "state": {
            "_view_name": "OutputView",
            "msg_id": "",
            "_dom_classes": [],
            "_model_name": "OutputModel",
            "outputs": [
              {
                "output_type": "stream",
                "name": "stdout",
                "text": [
                  "Video available at https://youtube.com/watch?v=xIv49TK7OrU\n"
                ]
              },
              {
                "output_type": "display_data",
                "data": {
                  "text/html": "\n        <iframe\n            width=\"854\"\n            height=\"480\"\n            src=\"https://www.youtube.com/embed/xIv49TK7OrU?fs=1&rel=0\"\n            frameborder=\"0\"\n            allowfullscreen\n        ></iframe>\n        ",
                  "text/plain": "<IPython.lib.display.YouTubeVideo at 0x7f720f380690>",
                  "image/jpeg": "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\n"
                },
                "metadata": {}
              }
            ],
            "_view_module": "@jupyter-widgets/output",
            "_model_module_version": "1.0.0",
            "_view_count": null,
            "_view_module_version": "1.0.0",
            "layout": "IPY_MODEL_39b265db40944baf9960b62b275c1d4f",
            "_model_module": "@jupyter-widgets/output"
          }
        },
        "39b265db40944baf9960b62b275c1d4f": {
          "model_module": "@jupyter-widgets/base",
          "model_name": "LayoutModel",
          "model_module_version": "1.2.0",
          "state": {
            "_view_name": "LayoutView",
            "grid_template_rows": null,
            "right": null,
            "justify_content": null,
            "_view_module": "@jupyter-widgets/base",
            "overflow": null,
            "_model_module_version": "1.2.0",
            "_view_count": null,
            "flex_flow": null,
            "width": null,
            "min_width": null,
            "border": null,
            "align_items": null,
            "bottom": null,
            "_model_module": "@jupyter-widgets/base",
            "top": null,
            "grid_column": null,
            "overflow_y": null,
            "overflow_x": null,
            "grid_auto_flow": null,
            "grid_area": null,
            "grid_template_columns": null,
            "flex": null,
            "_model_name": "LayoutModel",
            "justify_items": null,
            "grid_row": null,
            "max_height": null,
            "align_content": null,
            "visibility": null,
            "align_self": null,
            "height": null,
            "min_height": null,
            "padding": null,
            "grid_auto_rows": null,
            "grid_gap": null,
            "max_width": null,
            "order": null,
            "_view_module_version": "1.2.0",
            "grid_template_areas": null,
            "object_position": null,
            "object_fit": null,
            "grid_auto_columns": null,
            "margin": null,
            "display": null,
            "left": null
          }
        },
        "ed420a81c3d34931902ddee441ea0115": {
          "model_module": "@jupyter-widgets/controls",
          "model_name": "TabModel",
          "model_module_version": "1.5.0",
          "state": {
            "_view_name": "TabView",
            "_dom_classes": [],
            "_titles": {
              "0": "Youtube"
            },
            "_model_name": "TabModel",
            "_view_module": "@jupyter-widgets/controls",
            "selected_index": 0,
            "_model_module_version": "1.5.0",
            "_view_count": null,
            "_view_module_version": "1.5.0",
            "box_style": "",
            "layout": "IPY_MODEL_0b52e204728a44f28707aee0f996793a",
            "_model_module": "@jupyter-widgets/controls",
            "children": [
              "IPY_MODEL_2cfadbeae41b4b5cac5aa90be73f2d54"
            ]
          }
        },
        "0b52e204728a44f28707aee0f996793a": {
          "model_module": "@jupyter-widgets/base",
          "model_name": "LayoutModel",
          "model_module_version": "1.2.0",
          "state": {
            "_view_name": "LayoutView",
            "grid_template_rows": null,
            "right": null,
            "justify_content": null,
            "_view_module": "@jupyter-widgets/base",
            "overflow": null,
            "_model_module_version": "1.2.0",
            "_view_count": null,
            "flex_flow": null,
            "width": null,
            "min_width": null,
            "border": null,
            "align_items": null,
            "bottom": null,
            "_model_module": "@jupyter-widgets/base",
            "top": null,
            "grid_column": null,
            "overflow_y": null,
            "overflow_x": null,
            "grid_auto_flow": null,
            "grid_area": null,
            "grid_template_columns": null,
            "flex": null,
            "_model_name": "LayoutModel",
            "justify_items": null,
            "grid_row": null,
            "max_height": null,
            "align_content": null,
            "visibility": null,
            "align_self": null,
            "height": null,
            "min_height": null,
            "padding": null,
            "grid_auto_rows": null,
            "grid_gap": null,
            "max_width": null,
            "order": null,
            "_view_module_version": "1.2.0",
            "grid_template_areas": null,
            "object_position": null,
            "object_fit": null,
            "grid_auto_columns": null,
            "margin": null,
            "display": null,
            "left": null
          }
        },
        "2cfadbeae41b4b5cac5aa90be73f2d54": {
          "model_module": "@jupyter-widgets/output",
          "model_name": "OutputModel",
          "model_module_version": "1.0.0",
          "state": {
            "_view_name": "OutputView",
            "msg_id": "",
            "_dom_classes": [],
            "_model_name": "OutputModel",
            "outputs": [
              {
                "output_type": "stream",
                "name": "stdout",
                "text": [
                  "Video available at https://youtube.com/watch?v=HhSjVj2AOgc\n"
                ]
              },
              {
                "output_type": "display_data",
                "data": {
                  "text/html": "\n        <iframe\n            width=\"854\"\n            height=\"480\"\n            src=\"https://www.youtube.com/embed/HhSjVj2AOgc?fs=1&rel=0\"\n            frameborder=\"0\"\n            allowfullscreen\n        ></iframe>\n        ",
                  "text/plain": "<IPython.lib.display.YouTubeVideo at 0x7f1cd490d050>",
                  "image/jpeg": "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\n"
                },
                "metadata": {}
              }
            ],
            "_view_module": "@jupyter-widgets/output",
            "_model_module_version": "1.0.0",
            "_view_count": null,
            "_view_module_version": "1.0.0",
            "layout": "IPY_MODEL_2677c71d6ef04a079f99f9ab3b8af5fd",
            "_model_module": "@jupyter-widgets/output"
          }
        },
        "2677c71d6ef04a079f99f9ab3b8af5fd": {
          "model_module": "@jupyter-widgets/base",
          "model_name": "LayoutModel",
          "model_module_version": "1.2.0",
          "state": {
            "_view_name": "LayoutView",
            "grid_template_rows": null,
            "right": null,
            "justify_content": null,
            "_view_module": "@jupyter-widgets/base",
            "overflow": null,
            "_model_module_version": "1.2.0",
            "_view_count": null,
            "flex_flow": null,
            "width": null,
            "min_width": null,
            "border": null,
            "align_items": null,
            "bottom": null,
            "_model_module": "@jupyter-widgets/base",
            "top": null,
            "grid_column": null,
            "overflow_y": null,
            "overflow_x": null,
            "grid_auto_flow": null,
            "grid_area": null,
            "grid_template_columns": null,
            "flex": null,
            "_model_name": "LayoutModel",
            "justify_items": null,
            "grid_row": null,
            "max_height": null,
            "align_content": null,
            "visibility": null,
            "align_self": null,
            "height": null,
            "min_height": null,
            "padding": null,
            "grid_auto_rows": null,
            "grid_gap": null,
            "max_width": null,
            "order": null,
            "_view_module_version": "1.2.0",
            "grid_template_areas": null,
            "object_position": null,
            "object_fit": null,
            "grid_auto_columns": null,
            "margin": null,
            "display": null,
            "left": null
          }
        },
        "53c79a99447a40b0a8c16a71f0b87fa7": {
          "model_module": "@jupyter-widgets/controls",
          "model_name": "TabModel",
          "model_module_version": "1.5.0",
          "state": {
            "_view_name": "TabView",
            "_dom_classes": [],
            "_titles": {
              "0": "Youtube"
            },
            "_model_name": "TabModel",
            "_view_module": "@jupyter-widgets/controls",
            "selected_index": 0,
            "_model_module_version": "1.5.0",
            "_view_count": null,
            "_view_module_version": "1.5.0",
            "box_style": "",
            "layout": "IPY_MODEL_c6aa1597caeb4535ae47368b2787f2a2",
            "_model_module": "@jupyter-widgets/controls",
            "children": [
              "IPY_MODEL_25747692802043ba85d59952775712bc"
            ]
          }
        },
        "c6aa1597caeb4535ae47368b2787f2a2": {
          "model_module": "@jupyter-widgets/base",
          "model_name": "LayoutModel",
          "model_module_version": "1.2.0",
          "state": {
            "_view_name": "LayoutView",
            "grid_template_rows": null,
            "right": null,
            "justify_content": null,
            "_view_module": "@jupyter-widgets/base",
            "overflow": null,
            "_model_module_version": "1.2.0",
            "_view_count": null,
            "flex_flow": null,
            "width": null,
            "min_width": null,
            "border": null,
            "align_items": null,
            "bottom": null,
            "_model_module": "@jupyter-widgets/base",
            "top": null,
            "grid_column": null,
            "overflow_y": null,
            "overflow_x": null,
            "grid_auto_flow": null,
            "grid_area": null,
            "grid_template_columns": null,
            "flex": null,
            "_model_name": "LayoutModel",
            "justify_items": null,
            "grid_row": null,
            "max_height": null,
            "align_content": null,
            "visibility": null,
            "align_self": null,
            "height": null,
            "min_height": null,
            "padding": null,
            "grid_auto_rows": null,
            "grid_gap": null,
            "max_width": null,
            "order": null,
            "_view_module_version": "1.2.0",
            "grid_template_areas": null,
            "object_position": null,
            "object_fit": null,
            "grid_auto_columns": null,
            "margin": null,
            "display": null,
            "left": null
          }
        },
        "25747692802043ba85d59952775712bc": {
          "model_module": "@jupyter-widgets/output",
          "model_name": "OutputModel",
          "model_module_version": "1.0.0",
          "state": {
            "_view_name": "OutputView",
            "msg_id": "",
            "_dom_classes": [],
            "_model_name": "OutputModel",
            "outputs": [
              {
                "output_type": "stream",
                "name": "stdout",
                "text": [
                  "Video available at https://youtube.com/watch?v=omVZoJ-62u8\n"
                ]
              },
              {
                "output_type": "display_data",
                "data": {
                  "text/html": "\n        <iframe\n            width=\"854\"\n            height=\"480\"\n            src=\"https://www.youtube.com/embed/omVZoJ-62u8?fs=1&rel=0\"\n            frameborder=\"0\"\n            allowfullscreen\n        ></iframe>\n        ",
                  "text/plain": "<IPython.lib.display.YouTubeVideo at 0x7f1cd36c7790>",
                  "image/jpeg": "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\n"
                },
                "metadata": {}
              }
            ],
            "_view_module": "@jupyter-widgets/output",
            "_model_module_version": "1.0.0",
            "_view_count": null,
            "_view_module_version": "1.0.0",
            "layout": "IPY_MODEL_40c0b924e96b4a48a55ea4447e2cbc93",
            "_model_module": "@jupyter-widgets/output"
          }
        },
        "40c0b924e96b4a48a55ea4447e2cbc93": {
          "model_module": "@jupyter-widgets/base",
          "model_name": "LayoutModel",
          "model_module_version": "1.2.0",
          "state": {
            "_view_name": "LayoutView",
            "grid_template_rows": null,
            "right": null,
            "justify_content": null,
            "_view_module": "@jupyter-widgets/base",
            "overflow": null,
            "_model_module_version": "1.2.0",
            "_view_count": null,
            "flex_flow": null,
            "width": null,
            "min_width": null,
            "border": null,
            "align_items": null,
            "bottom": null,
            "_model_module": "@jupyter-widgets/base",
            "top": null,
            "grid_column": null,
            "overflow_y": null,
            "overflow_x": null,
            "grid_auto_flow": null,
            "grid_area": null,
            "grid_template_columns": null,
            "flex": null,
            "_model_name": "LayoutModel",
            "justify_items": null,
            "grid_row": null,
            "max_height": null,
            "align_content": null,
            "visibility": null,
            "align_self": null,
            "height": null,
            "min_height": null,
            "padding": null,
            "grid_auto_rows": null,
            "grid_gap": null,
            "max_width": null,
            "order": null,
            "_view_module_version": "1.2.0",
            "grid_template_areas": null,
            "object_position": null,
            "object_fit": null,
            "grid_auto_columns": null,
            "margin": null,
            "display": null,
            "left": null
          }
        }
      }
    }
  },
  "nbformat": 4,
  "nbformat_minor": 0
}