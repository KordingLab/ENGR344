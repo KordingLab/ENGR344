{
  "cells": [
    {
      "cell_type": "markdown",
      "metadata": {
        "id": "view-in-github",
        "colab_type": "text"
      },
      "source": [
        "<a href=\"https://colab.research.google.com/github/KordingLab/ENGR344/blob/master/tutorials/W3D1_What_should_we_do_when_data_has_problems/W3D1_Tutorial1.ipynb\" target=\"_parent\"><img src=\"https://colab.research.google.com/assets/colab-badge.svg\" alt=\"Open In Colab\"/></a>"
      ]
    },
    {
      "cell_type": "markdown",
      "metadata": {
        "execution": {},
        "id": "GwG32kd0jf8H"
      },
      "source": [
        "\n",
        "\n",
        "```\n",
        "# This is formatted as code\n",
        "```\n",
        "\n",
        "# Tutorial 1: How is Data Usually Stored?\n",
        "**Week 3: What should we do when data has problems?**\n",
        "\n",
        "**Content creators**: Rob Lindgren\n",
        "\n",
        "**Content reviewers**: Konrad Kording, Keervani Kandala\n",
        "\n",
        "**Content modifiers**: ---\n",
        "\n",
        "**Modified Content reviewer**: ---\n"
      ]
    },
    {
      "cell_type": "markdown",
      "metadata": {
        "execution": {},
        "id": "mngEsmgIjf8J"
      },
      "source": [
        "___\n",
        "# Tutorial Objectives\n",
        "\n",
        "*Estimated timing of tutorial: Roughly 30 minutes per segment.\n",
        "\n",
        "This is tutorial 1 in a 3-part series on how to handle data that has problems. In this tutorial, we will introduce the Pandas library and its core data structure, the DataFrame. By the end of this tutorial, you will be able to:\n",
        "\n",
        "- Explain when data is best stored in a DataFrame as opposed to a NumPy array\n",
        "- Create and subset DataFrames\n",
        "- Examine DataFrames using the head() and tail() methods and the shape attribute\n",
        "- Create histograms and scatterplots from data stored in DataFrames\n",
        "\n",
        "Before we start. You know about numpy. Have you heard about pandas?"
      ]
    },
    {
      "cell_type": "code",
      "execution_count": 3,
      "metadata": {
        "execution": {},
        "id": "zK3D5SfMjf8K",
        "colab": {
          "base_uri": "https://localhost:8080/",
          "height": 502
        },
        "outputId": "ad589dab-ac47-45f2-efeb-789e457ef585",
        "cellView": "form"
      },
      "outputs": [
        {
          "output_type": "execute_result",
          "data": {
            "text/html": [
              "\n",
              "        <iframe\n",
              "            width=\"854\"\n",
              "            height=\"480\"\n",
              "            src=\"https://mfr.ca-1.osf.io/render?url=https://osf.io/hncv7/?direct%26mode=render%26action=download%26mode=render\"\n",
              "            frameborder=\"0\"\n",
              "            allowfullscreen\n",
              "        ></iframe>\n",
              "        "
            ],
            "text/plain": [
              "<IPython.lib.display.IFrame at 0x7fb1ff6778d0>"
            ]
          },
          "metadata": {},
          "execution_count": 3
        }
      ],
      "source": [
        "# @title Live portion slides slides\n",
        " \n",
        "# @markdown These are the slides for the videos in all tutorials today\n",
        "from IPython.display import IFrame\n",
        "\n",
        "# IFrame(src=f\"https://docs.google.com/presentation/d/1GaEnokeqNLk1goV-xAT2wxmBMwqhqljc/edit?usp=sharing&ouid=102615264973404864923&rtpof=true&sd=true\", width=854, height=480)\n",
        "\n",
        "IFrame(src=f\"https://mfr.ca-1.osf.io/render?url=https://osf.io/hncv7/?direct%26mode=render%26action=download%26mode=render\", width=854, height=480)"
      ]
    },
    {
      "cell_type": "markdown",
      "metadata": {
        "execution": {},
        "id": "GvEi-BMsjf8L"
      },
      "source": [
        "---\n",
        "# Setup"
      ]
    },
    {
      "cell_type": "markdown",
      "source": [
        "Python requires you to explictly \"import\" libraries before their functions are available to use. We will always specify our imports at the beginning of each notebook or script."
      ],
      "metadata": {
        "id": "KvRdlVsPFf80"
      }
    },
    {
      "cell_type": "code",
      "execution_count": null,
      "metadata": {
        "cellView": "code",
        "execution": {},
        "id": "YY7HrpSyjf8L"
      },
      "outputs": [],
      "source": [
        "# Imports\n",
        "import numpy as np\n",
        "import pandas as pd\n",
        "import matplotlib.pyplot as plt\n",
        "import random"
      ]
    },
    {
      "cell_type": "code",
      "source": [
        "# @title Video 1: Real world data has problems\n",
        "from ipywidgets import widgets\n",
        "from IPython.display import display, IFrame, YouTubeVideo\n",
        "\n",
        "\n",
        "out1 = widgets.Output()\n",
        "with out1:\n",
        "  video = YouTubeVideo(id=\"h4LFIXVH00k\", width=854, height=480, fs=1, rel=0)\n",
        "  print(f'Video available at https://youtube.com/watch?v={video.id}')\n",
        "  display(video)\n",
        "\n",
        "out = widgets.Tab([out1])\n",
        "out.set_title(0, 'Youtube')\n",
        "\n",
        "display(out)"
      ],
      "metadata": {
        "id": "7zToDmBCj6iQ",
        "colab": {
          "base_uri": "https://localhost:8080/",
          "height": 581,
          "referenced_widgets": [
            "d1682a85fa0045c1a005b778aaa9e855",
            "b84a4c3b26f54c9891ae673ccc7178b2",
            "5b771949e94f481b9cc9c325396ac6e3",
            "6e557888aea84a2e96ce9cfc6e1b8c2c"
          ]
        },
        "outputId": "6decd6be-7751-41e2-8c48-df48005cdd55",
        "cellView": "form"
      },
      "execution_count": null,
      "outputs": [
        {
          "output_type": "display_data",
          "data": {
            "application/vnd.jupyter.widget-view+json": {
              "model_id": "d1682a85fa0045c1a005b778aaa9e855",
              "version_minor": 0,
              "version_major": 2
            },
            "text/plain": [
              "Tab(children=(Output(),), _titles={'0': 'Youtube'})"
            ]
          },
          "metadata": {}
        }
      ]
    },
    {
      "cell_type": "markdown",
      "source": [
        "# Section 0: The nature of data in science\n",
        "Lets us first think about the nature of data in science. Let's say we run a questionaire to see if we can predict grades in CIS 344. We ask for the following:\n",
        "* Minor\n",
        "* Major\n",
        "* Past Grades\n",
        "* Age\n",
        "* If they like pizza\n",
        "\n",
        "We roll this out as a google form. Everything is optional to answer. The goal is predicting the grades.\n",
        "\n",
        "Discuss the following two questions:\n",
        "* What problems may the data have?\n",
        "* Is running such a study a good or a bad idea? \n"
      ],
      "metadata": {
        "id": "e0tpa69EjDHa"
      }
    },
    {
      "cell_type": "markdown",
      "metadata": {
        "execution": {},
        "id": "CxhC_uamjf8Q"
      },
      "source": [
        "---\n",
        "# Section 1: Introducing Pandas\n",
        "\n",
        "You've been working with NumPy for several weeks now and should be getting familiar with it. NumPy is a numerical computing library for Python that works with arrays of numbers (arrays which can have many dimensions). The core of NumPy is optimized to significantly speed up numerical calculations, making it essential to data science tasks where you have to repeat those calculations many times. \n",
        "\n",
        "Much of the data you will encounter in the world, however, is in the form of a table (like an Excel spreadsheet, or SQL table). Real-world data often has missing values and is of different types (e.g., Age is represented as integers and Name is represented as strings). Pandas is a library, built on top of NumPy, that is designed specifically for manipulating and analyzing this kind of messy tabular data. The object at the center of the Pandas library is called a *DataFrame*, a multidimensional array with nameable rows and columns that allows for missing values and varying data types."
      ]
    },
    {
      "cell_type": "code",
      "source": [
        "# @title Video 2: Pandas\n",
        "from ipywidgets import widgets\n",
        "from IPython.display import display, IFrame, YouTubeVideo\n",
        "\n",
        "\n",
        "out1 = widgets.Output()\n",
        "with out1:\n",
        "  video = YouTubeVideo(id=\"SwJQ221SUSA\", width=854, height=480, fs=1, rel=0)\n",
        "  print(f'Video available at https://youtube.com/watch?v={video.id}')\n",
        "  display(video)\n",
        "\n",
        "out = widgets.Tab([out1])\n",
        "out.set_title(0, 'Youtube')\n",
        "\n",
        "display(out)"
      ],
      "metadata": {
        "id": "AF_sCYRakFRS",
        "colab": {
          "base_uri": "https://localhost:8080/",
          "height": 581,
          "referenced_widgets": [
            "bf4b68b1e67642e8ab63f395d6265877",
            "6401a22b8da54a03827fba250318243c",
            "a0cf10dfee5d4e71aa0625979c9beaa4",
            "459f906ca0da4b1b9998adc851b8b92b"
          ]
        },
        "outputId": "76ee1b4d-b37a-46d4-aa12-0c86f767fa5a",
        "cellView": "form"
      },
      "execution_count": null,
      "outputs": [
        {
          "output_type": "display_data",
          "data": {
            "application/vnd.jupyter.widget-view+json": {
              "model_id": "bf4b68b1e67642e8ab63f395d6265877",
              "version_minor": 0,
              "version_major": 2
            },
            "text/plain": [
              "Tab(children=(Output(),), _titles={'0': 'Youtube'})"
            ]
          },
          "metadata": {}
        }
      ]
    },
    {
      "cell_type": "markdown",
      "source": [
        "## Section 1.1: Warming Up to DataFrames\n",
        "\n",
        "One way to think of a DataFrame is like a Python dictionary where each key is a column name and each value is an array of column data. In fact, providing an appropriately structured dictionary as an input to pd.dataframe() is an easy way to create a DataFrame.\n"
      ],
      "metadata": {
        "id": "GreaXyBRKyeE"
      }
    },
    {
      "cell_type": "code",
      "source": [
        "data_dict = {'Speed' : [120, 150, 147, 128, 101],\n",
        "             'Horsepower' : [200, 320, 280, 290, 110],\n",
        "             'Mpg' : [15, 29, 12, 28, 40]}\n",
        "df = pd.DataFrame(data_dict)\n",
        "print(df)"
      ],
      "metadata": {
        "id": "oZ1UIY0xPa6g"
      },
      "execution_count": null,
      "outputs": []
    },
    {
      "cell_type": "markdown",
      "source": [
        "An easy way to access the data in a single column is by using its name."
      ],
      "metadata": {
        "id": "MxJJgeARQXqE"
      }
    },
    {
      "cell_type": "code",
      "source": [
        "df['Speed']"
      ],
      "metadata": {
        "id": "Mdx1kyK3Qdr0"
      },
      "execution_count": null,
      "outputs": []
    },
    {
      "cell_type": "markdown",
      "source": [
        "This produces a Pandas *Series*, essentially a one-dimensional version of a DataFrame."
      ],
      "metadata": {
        "id": "TzKZZnaPTes0"
      }
    },
    {
      "cell_type": "code",
      "source": [
        "type(df['Speed'])"
      ],
      "metadata": {
        "colab": {
          "base_uri": "https://localhost:8080/"
        },
        "id": "7JfKT9mRTdcO",
        "outputId": "704e3f29-f397-42f5-edcc-476421b5171f"
      },
      "execution_count": null,
      "outputs": [
        {
          "output_type": "execute_result",
          "data": {
            "text/plain": [
              "pandas.core.series.Series"
            ]
          },
          "metadata": {},
          "execution_count": 7
        }
      ]
    },
    {
      "cell_type": "markdown",
      "source": [
        "Note the row indexes that appeared on the left side when we printed 'Col A'. We can access individual elements or ranges of elements using these indices."
      ],
      "metadata": {
        "id": "8mJAZnHcQj1U"
      }
    },
    {
      "cell_type": "code",
      "source": [
        "print('Individual element')\n",
        "print(df['Speed'][0])\n",
        "print('\\nRange of elements')\n",
        "print(df['Speed'][0:2])"
      ],
      "metadata": {
        "colab": {
          "base_uri": "https://localhost:8080/"
        },
        "id": "_EN8H4gYQt-E",
        "outputId": "e0ca0d0c-9904-4c9b-f48c-ddfb024ebff5"
      },
      "execution_count": null,
      "outputs": [
        {
          "output_type": "stream",
          "name": "stdout",
          "text": [
            "Individual element\n",
            "1\n",
            "\n",
            "Range of elements\n",
            "0    1\n",
            "1    2\n",
            "Name: Speed, dtype: int64\n"
          ]
        }
      ]
    },
    {
      "cell_type": "markdown",
      "source": [
        "The range is a Series, like above, while the individual element is whatever data type that is stored in the column (here it's a 64-bit integer)."
      ],
      "metadata": {
        "id": "QM5umDKsRHS8"
      }
    },
    {
      "cell_type": "code",
      "source": [
        "type(df['Speed'][0])"
      ],
      "metadata": {
        "colab": {
          "base_uri": "https://localhost:8080/"
        },
        "id": "R7soeWdrRVSs",
        "outputId": "33244dd6-c8fb-4aea-b30c-4132387bda8a"
      },
      "execution_count": null,
      "outputs": [
        {
          "output_type": "execute_result",
          "data": {
            "text/plain": [
              "numpy.int64"
            ]
          },
          "metadata": {},
          "execution_count": 15
        }
      ]
    },
    {
      "cell_type": "markdown",
      "source": [
        "DataFrames allow for easy subsetting. Here we subset columns using a list of column names and subset rows using the boolean expression `df['Speed'] > 30`."
      ],
      "metadata": {
        "id": "xYFQqN6aRpl_"
      }
    },
    {
      "cell_type": "code",
      "source": [
        "print('Subsetting by a list of column names')\n",
        "print(df[['Speed', 'Mpg']])\n",
        "print('\\n')\n",
        "print('Subsetting by row')\n",
        "print(df[df['Speed'] > 3])"
      ],
      "metadata": {
        "colab": {
          "base_uri": "https://localhost:8080/"
        },
        "id": "jGJcUAMeR4sh",
        "outputId": "a74d1da8-d0bb-401b-acb7-e3b5d768fb3c"
      },
      "execution_count": null,
      "outputs": [
        {
          "output_type": "stream",
          "name": "stdout",
          "text": [
            "Subsetting by a list of column names\n",
            "   Speed  Mpg\n",
            "0      1   11\n",
            "1      2   12\n",
            "2      3   13\n",
            "3      4   14\n",
            "4      5   15\n",
            "\n",
            "\n",
            "Subsetting by row\n",
            "   Speed  Horsepower  Mpg\n",
            "3      4           9   14\n",
            "4      5          10   15\n"
          ]
        }
      ]
    },
    {
      "cell_type": "markdown",
      "source": [
        "### Coding Exercise 1.1\n",
        "\n",
        "*Exercise objective:*\n",
        "- Print the first three rows of the entire dataset\n",
        "- Print just the first three rows of the columns 'Col A' and 'Col B'."
      ],
      "metadata": {
        "id": "yXvURS_j_5V5"
      }
    },
    {
      "cell_type": "code",
      "source": [
        "#################################################################################\n",
        "## TODO for students:\n",
        "## Print subsets of DataFrame df\n",
        "raise NotImplementedError(\"Student exercise: print subsets of df\")\n",
        "#################################################################################\n",
        "\n",
        "print('Print the first three rows of df')\n",
        "print(df[...])\n",
        "print('\\n')\n",
        "print('Print the first three rows of the columns Speed and Horsepower')\n",
        "print(df[...][...])"
      ],
      "metadata": {
        "id": "oSusMAf0E73M"
      },
      "execution_count": null,
      "outputs": []
    },
    {
      "cell_type": "code",
      "source": [
        "# to_remove Solution\n",
        "\n",
        "print('Print the first three rows of df')\n",
        "print(df[0:3])\n",
        "print('\\n')\n",
        "print('Print the first three rows of the columns Col A and Col B')\n",
        "print(df[['Speed', 'Horsepower']][0:3])"
      ],
      "metadata": {
        "id": "_Q7xbu0hEWFh",
        "colab": {
          "base_uri": "https://localhost:8080/"
        },
        "outputId": "88e25632-d788-4b2d-dfb7-8b052bf56612"
      },
      "execution_count": null,
      "outputs": [
        {
          "output_type": "stream",
          "name": "stdout",
          "text": [
            "Print the first three rows of df\n",
            "   Speed  Horsepower  Mpg\n",
            "0      1           6   11\n",
            "1      2           7   12\n",
            "2      3           8   13\n",
            "\n",
            "\n",
            "Print the first three rows of the columns Col A and Col B\n",
            "   Speed  Horsepower\n",
            "0      1           6\n",
            "1      2           7\n",
            "2      3           8\n"
          ]
        }
      ]
    },
    {
      "cell_type": "code",
      "source": [
        "# @title Video 3: Corgis datasets (and more generally, there are great cleaned data sets out there)\n",
        "from ipywidgets import widgets\n",
        "from IPython.display import display, IFrame, YouTubeVideo\n",
        "\n",
        "\n",
        "out1 = widgets.Output()\n",
        "with out1:\n",
        "  video = YouTubeVideo(id=\"MFxLC3PgER8\", width=854, height=480, fs=1, rel=0)\n",
        "  print(f'Video available at https://youtube.com/watch?v={video.id}')\n",
        "  display(video)\n",
        "\n",
        "out = widgets.Tab([out1])\n",
        "out.set_title(0, 'Youtube')\n",
        "\n",
        "display(out)"
      ],
      "metadata": {
        "id": "ztVrycrtkoAi",
        "colab": {
          "base_uri": "https://localhost:8080/",
          "height": 581,
          "referenced_widgets": [
            "4f8b1a05636f4bfca4cdfd4114432a02",
            "98c27b95c1ba4107aeeabad8fc9e0eb4",
            "375499dfb05243efbc03617eb964247f",
            "da17272960374b118a327ab66bda7443"
          ]
        },
        "outputId": "8144fc89-7c89-46bf-c5e1-c2aacc162035",
        "cellView": "form"
      },
      "execution_count": null,
      "outputs": [
        {
          "output_type": "display_data",
          "data": {
            "application/vnd.jupyter.widget-view+json": {
              "model_id": "4f8b1a05636f4bfca4cdfd4114432a02",
              "version_minor": 0,
              "version_major": 2
            },
            "text/plain": [
              "Tab(children=(Output(),), _titles={'0': 'Youtube'})"
            ]
          },
          "metadata": {}
        }
      ]
    },
    {
      "cell_type": "markdown",
      "source": [
        "---\n",
        "\n",
        "# Section 2: Exploring the Cars Dataset\n",
        "\n",
        "Dataset from the CORGIS project: https://ct-vt.github.io\n",
        "\n",
        "In this tutorial we will be working with the \"Cars\" dataset, which contains a number of variables we can use to understand the relationship between vehical characteristics and fuel consumption. "
      ],
      "metadata": {
        "id": "UbWzOcJH8Aip"
      }
    },
    {
      "cell_type": "markdown",
      "source": [
        "## Section 2.1: df.head(), df.tail(), and df.shape\n",
        "\n",
        "First we're going to load the dataset and view the first few rows using the `df.head()` method.\n",
        "\n",
        "**explain head**"
      ],
      "metadata": {
        "id": "Itgk0NEoK4V1"
      }
    },
    {
      "cell_type": "code",
      "execution_count": null,
      "metadata": {
        "cellView": "both",
        "execution": {},
        "id": "THiVtqFfjf8S",
        "colab": {
          "base_uri": "https://localhost:8080/",
          "height": 826
        },
        "outputId": "fb553991-2a3c-4f36-b9ab-60e756b8590e"
      },
      "outputs": [
        {
          "output_type": "execute_result",
          "data": {
            "text/html": [
              "\n",
              "  <div id=\"df-dee10e70-488b-4b8e-acbd-1571a37d0509\">\n",
              "    <div class=\"colab-df-container\">\n",
              "      <div>\n",
              "<style scoped>\n",
              "    .dataframe tbody tr th:only-of-type {\n",
              "        vertical-align: middle;\n",
              "    }\n",
              "\n",
              "    .dataframe tbody tr th {\n",
              "        vertical-align: top;\n",
              "    }\n",
              "\n",
              "    .dataframe thead th {\n",
              "        text-align: right;\n",
              "    }\n",
              "</style>\n",
              "<table border=\"1\" class=\"dataframe\">\n",
              "  <thead>\n",
              "    <tr style=\"text-align: right;\">\n",
              "      <th></th>\n",
              "      <th>City mpg</th>\n",
              "      <th>Classification</th>\n",
              "      <th>Driveline</th>\n",
              "      <th>Engine Type</th>\n",
              "      <th>Fuel Type</th>\n",
              "      <th>Height</th>\n",
              "      <th>Highway mpg</th>\n",
              "      <th>Horsepower</th>\n",
              "      <th>Hybrid</th>\n",
              "      <th>ID</th>\n",
              "      <th>Length</th>\n",
              "      <th>Make</th>\n",
              "      <th>Model Year</th>\n",
              "      <th>Number of Forward Gears</th>\n",
              "      <th>Torque</th>\n",
              "      <th>Transmission</th>\n",
              "      <th>Width</th>\n",
              "      <th>Year</th>\n",
              "    </tr>\n",
              "  </thead>\n",
              "  <tbody>\n",
              "    <tr>\n",
              "      <th>0</th>\n",
              "      <td>18</td>\n",
              "      <td>Automatic transmission</td>\n",
              "      <td>All-wheel drive</td>\n",
              "      <td>Audi 3.2L 6 cylinder 250hp 236ft-lbs</td>\n",
              "      <td>Gasoline</td>\n",
              "      <td>140</td>\n",
              "      <td>25</td>\n",
              "      <td>250</td>\n",
              "      <td>False</td>\n",
              "      <td>2009 Audi A3 3.2</td>\n",
              "      <td>143</td>\n",
              "      <td>Audi</td>\n",
              "      <td>2009 Audi A3</td>\n",
              "      <td>6</td>\n",
              "      <td>236</td>\n",
              "      <td>6 Speed Automatic Select Shift</td>\n",
              "      <td>202</td>\n",
              "      <td>2009</td>\n",
              "    </tr>\n",
              "    <tr>\n",
              "      <th>1</th>\n",
              "      <td>22</td>\n",
              "      <td>Automatic transmission</td>\n",
              "      <td>Front-wheel drive</td>\n",
              "      <td>Audi 2.0L 4 cylinder 200 hp 207 ft-lbs Turbo</td>\n",
              "      <td>Gasoline</td>\n",
              "      <td>140</td>\n",
              "      <td>28</td>\n",
              "      <td>200</td>\n",
              "      <td>False</td>\n",
              "      <td>2009 Audi A3 2.0 T AT</td>\n",
              "      <td>143</td>\n",
              "      <td>Audi</td>\n",
              "      <td>2009 Audi A3</td>\n",
              "      <td>6</td>\n",
              "      <td>207</td>\n",
              "      <td>6 Speed Automatic Select Shift</td>\n",
              "      <td>202</td>\n",
              "      <td>2009</td>\n",
              "    </tr>\n",
              "    <tr>\n",
              "      <th>2</th>\n",
              "      <td>21</td>\n",
              "      <td>Manual transmission</td>\n",
              "      <td>Front-wheel drive</td>\n",
              "      <td>Audi 2.0L 4 cylinder 200 hp 207 ft-lbs Turbo</td>\n",
              "      <td>Gasoline</td>\n",
              "      <td>140</td>\n",
              "      <td>30</td>\n",
              "      <td>200</td>\n",
              "      <td>False</td>\n",
              "      <td>2009 Audi A3 2.0 T</td>\n",
              "      <td>143</td>\n",
              "      <td>Audi</td>\n",
              "      <td>2009 Audi A3</td>\n",
              "      <td>6</td>\n",
              "      <td>207</td>\n",
              "      <td>6 Speed Manual</td>\n",
              "      <td>202</td>\n",
              "      <td>2009</td>\n",
              "    </tr>\n",
              "    <tr>\n",
              "      <th>3</th>\n",
              "      <td>21</td>\n",
              "      <td>Automatic transmission</td>\n",
              "      <td>All-wheel drive</td>\n",
              "      <td>Audi 2.0L 4 cylinder 200 hp 207 ft-lbs Turbo</td>\n",
              "      <td>Gasoline</td>\n",
              "      <td>140</td>\n",
              "      <td>28</td>\n",
              "      <td>200</td>\n",
              "      <td>False</td>\n",
              "      <td>2009 Audi A3 2.0 T Quattro</td>\n",
              "      <td>143</td>\n",
              "      <td>Audi</td>\n",
              "      <td>2009 Audi A3</td>\n",
              "      <td>6</td>\n",
              "      <td>207</td>\n",
              "      <td>6 Speed Automatic Select Shift</td>\n",
              "      <td>202</td>\n",
              "      <td>2009</td>\n",
              "    </tr>\n",
              "    <tr>\n",
              "      <th>4</th>\n",
              "      <td>21</td>\n",
              "      <td>Automatic transmission</td>\n",
              "      <td>All-wheel drive</td>\n",
              "      <td>Audi 2.0L 4 cylinder 200 hp 207 ft-lbs Turbo</td>\n",
              "      <td>Gasoline</td>\n",
              "      <td>140</td>\n",
              "      <td>28</td>\n",
              "      <td>200</td>\n",
              "      <td>False</td>\n",
              "      <td>2009 Audi A3 2.0 T Quattro</td>\n",
              "      <td>143</td>\n",
              "      <td>Audi</td>\n",
              "      <td>2009 Audi A3</td>\n",
              "      <td>6</td>\n",
              "      <td>207</td>\n",
              "      <td>6 Speed Automatic Select Shift</td>\n",
              "      <td>202</td>\n",
              "      <td>2009</td>\n",
              "    </tr>\n",
              "  </tbody>\n",
              "</table>\n",
              "</div>\n",
              "      <button class=\"colab-df-convert\" onclick=\"convertToInteractive('df-dee10e70-488b-4b8e-acbd-1571a37d0509')\"\n",
              "              title=\"Convert this dataframe to an interactive table.\"\n",
              "              style=\"display:none;\">\n",
              "        \n",
              "  <svg xmlns=\"http://www.w3.org/2000/svg\" height=\"24px\"viewBox=\"0 0 24 24\"\n",
              "       width=\"24px\">\n",
              "    <path d=\"M0 0h24v24H0V0z\" fill=\"none\"/>\n",
              "    <path d=\"M18.56 5.44l.94 2.06.94-2.06 2.06-.94-2.06-.94-.94-2.06-.94 2.06-2.06.94zm-11 1L8.5 8.5l.94-2.06 2.06-.94-2.06-.94L8.5 2.5l-.94 2.06-2.06.94zm10 10l.94 2.06.94-2.06 2.06-.94-2.06-.94-.94-2.06-.94 2.06-2.06.94z\"/><path d=\"M17.41 7.96l-1.37-1.37c-.4-.4-.92-.59-1.43-.59-.52 0-1.04.2-1.43.59L10.3 9.45l-7.72 7.72c-.78.78-.78 2.05 0 2.83L4 21.41c.39.39.9.59 1.41.59.51 0 1.02-.2 1.41-.59l7.78-7.78 2.81-2.81c.8-.78.8-2.07 0-2.86zM5.41 20L4 18.59l7.72-7.72 1.47 1.35L5.41 20z\"/>\n",
              "  </svg>\n",
              "      </button>\n",
              "      \n",
              "  <style>\n",
              "    .colab-df-container {\n",
              "      display:flex;\n",
              "      flex-wrap:wrap;\n",
              "      gap: 12px;\n",
              "    }\n",
              "\n",
              "    .colab-df-convert {\n",
              "      background-color: #E8F0FE;\n",
              "      border: none;\n",
              "      border-radius: 50%;\n",
              "      cursor: pointer;\n",
              "      display: none;\n",
              "      fill: #1967D2;\n",
              "      height: 32px;\n",
              "      padding: 0 0 0 0;\n",
              "      width: 32px;\n",
              "    }\n",
              "\n",
              "    .colab-df-convert:hover {\n",
              "      background-color: #E2EBFA;\n",
              "      box-shadow: 0px 1px 2px rgba(60, 64, 67, 0.3), 0px 1px 3px 1px rgba(60, 64, 67, 0.15);\n",
              "      fill: #174EA6;\n",
              "    }\n",
              "\n",
              "    [theme=dark] .colab-df-convert {\n",
              "      background-color: #3B4455;\n",
              "      fill: #D2E3FC;\n",
              "    }\n",
              "\n",
              "    [theme=dark] .colab-df-convert:hover {\n",
              "      background-color: #434B5C;\n",
              "      box-shadow: 0px 1px 3px 1px rgba(0, 0, 0, 0.15);\n",
              "      filter: drop-shadow(0px 1px 2px rgba(0, 0, 0, 0.3));\n",
              "      fill: #FFFFFF;\n",
              "    }\n",
              "  </style>\n",
              "\n",
              "      <script>\n",
              "        const buttonEl =\n",
              "          document.querySelector('#df-dee10e70-488b-4b8e-acbd-1571a37d0509 button.colab-df-convert');\n",
              "        buttonEl.style.display =\n",
              "          google.colab.kernel.accessAllowed ? 'block' : 'none';\n",
              "\n",
              "        async function convertToInteractive(key) {\n",
              "          const element = document.querySelector('#df-dee10e70-488b-4b8e-acbd-1571a37d0509');\n",
              "          const dataTable =\n",
              "            await google.colab.kernel.invokeFunction('convertToInteractive',\n",
              "                                                     [key], {});\n",
              "          if (!dataTable) return;\n",
              "\n",
              "          const docLinkHtml = 'Like what you see? Visit the ' +\n",
              "            '<a target=\"_blank\" href=https://colab.research.google.com/notebooks/data_table.ipynb>data table notebook</a>'\n",
              "            + ' to learn more about interactive tables.';\n",
              "          element.innerHTML = '';\n",
              "          dataTable['output_type'] = 'display_data';\n",
              "          await google.colab.output.renderOutput(dataTable, element);\n",
              "          const docLink = document.createElement('div');\n",
              "          docLink.innerHTML = docLinkHtml;\n",
              "          element.appendChild(docLink);\n",
              "        }\n",
              "      </script>\n",
              "    </div>\n",
              "  </div>\n",
              "  "
            ],
            "text/plain": [
              "   City mpg          Classification  ... Width  Year\n",
              "0        18  Automatic transmission  ...   202  2009\n",
              "1        22  Automatic transmission  ...   202  2009\n",
              "2        21     Manual transmission  ...   202  2009\n",
              "3        21  Automatic transmission  ...   202  2009\n",
              "4        21  Automatic transmission  ...   202  2009\n",
              "\n",
              "[5 rows x 18 columns]"
            ]
          },
          "metadata": {},
          "execution_count": 21
        }
      ],
      "source": [
        "data_url = 'https://raw.githubusercontent.com/RealTimeWeb/datasets/master/datasets/csv/cars/cars.csv'\n",
        "df_raw = pd.read_csv(data_url)\n",
        "df_raw.head()"
      ]
    },
    {
      "cell_type": "markdown",
      "source": [
        "Similarly, we can easily view the end of the dataset using `df.tail()`."
      ],
      "metadata": {
        "id": "lOR6bHLJF9qO"
      }
    },
    {
      "cell_type": "code",
      "source": [
        "df_raw.tail()"
      ],
      "metadata": {
        "id": "31H8ZQ1BGEn7"
      },
      "execution_count": null,
      "outputs": []
    },
    {
      "cell_type": "markdown",
      "source": [
        "It's also helpful to check the shape of a DataFrame (# of rows by # of columns) to ensure that it's what you expected. Shape is an attribute of the DataFrame rather than a method, so we don't put parentheses after it."
      ],
      "metadata": {
        "id": "MhUAAP2QHPU3"
      }
    },
    {
      "cell_type": "code",
      "source": [
        "df_raw.shape"
      ],
      "metadata": {
        "id": "4lcbuT6xHfp6"
      },
      "execution_count": null,
      "outputs": []
    },
    {
      "cell_type": "markdown",
      "source": [
        "The shape attribute is a tuple, so we can use indexing to retrieve the individual numbers if needed."
      ],
      "metadata": {
        "id": "FaUpdOCUHthh"
      }
    },
    {
      "cell_type": "code",
      "source": [
        "nrows = df_raw.shape[0]\n",
        "ncols = df_raw.shape[1]\n",
        "\n",
        "print('The Cars datasets has ' + str(nrows) + ' rows and ' + str(ncols) + ' columns.')"
      ],
      "metadata": {
        "id": "FMkkHs4fH-8n"
      },
      "execution_count": null,
      "outputs": []
    },
    {
      "cell_type": "code",
      "source": [
        "# @title Video 4: Always visualize everything\n",
        "from ipywidgets import widgets\n",
        "from IPython.display import display, IFrame, YouTubeVideo\n",
        "\n",
        "\n",
        "out1 = widgets.Output()\n",
        "with out1:\n",
        "  video = YouTubeVideo(id=\"0AbNrcQjhGs\", width=854, height=480, fs=1, rel=0)\n",
        "  print(f'Video available at https://youtube.com/watch?v={video.id}')\n",
        "  display(video)\n",
        "\n",
        "out = widgets.Tab([out1])\n",
        "out.set_title(0, 'Youtube')\n",
        "\n",
        "display(out)"
      ],
      "metadata": {
        "id": "GGAmvi5klC1V",
        "colab": {
          "base_uri": "https://localhost:8080/",
          "height": 581,
          "referenced_widgets": [
            "4654405f72d0491cad2a41d2a3afdbb9",
            "ffd3b77c695446f0979486207aa5c6c7",
            "c6d3ad91e6c14185a15ef0e6064ef340",
            "e6250189d23a4c6ba80622f5ec7d6551"
          ]
        },
        "outputId": "870f53d3-29ff-4b37-b8c4-7f1f626709b5",
        "cellView": "form"
      },
      "execution_count": null,
      "outputs": [
        {
          "output_type": "display_data",
          "data": {
            "application/vnd.jupyter.widget-view+json": {
              "model_id": "4654405f72d0491cad2a41d2a3afdbb9",
              "version_minor": 0,
              "version_major": 2
            },
            "text/plain": [
              "Tab(children=(Output(),), _titles={'0': 'Youtube'})"
            ]
          },
          "metadata": {}
        }
      ]
    },
    {
      "cell_type": "markdown",
      "source": [
        "### Coding Exercise 2.1: Subsetting the Cars Dataset\n",
        "\n",
        "Now that we've gotten a feel for what our data looks like, let's extract just the variables that we need. Going forward, we will be interested in the relationship between two variables from the Cars dataset, 'Horsepower' and 'Highway mpg'. We also want to include the 'ID' variable, which gives the make and model of car. Subset `df_raw` to include only these three variables and store them in a new DataFrame called `df`. \n",
        "\n",
        "*Exercise objective:* Produce a new dataframe `df` which contains only the columns 'ID', 'Horsepower', and 'Highway mpg'. Print the shape of the new DataFrame to verify that is now only has three columns.a"
      ],
      "metadata": {
        "id": "MI_-DH2LIbG0"
      }
    },
    {
      "cell_type": "code",
      "source": [
        "###########################################################################\n",
        "## TODO for students: Subset the df_raw dataset to just two variables,\n",
        "## 'Horsepower' and 'Highway mpg'. Name this subset 'df' and print the \n",
        "## shape of df to confirm that you now have two variables. \n",
        "raise NotImplementedError('student exercise: subset the Cars dataset')\n",
        "###########################################################################\n",
        "\n",
        "df = df_raw[...]\n",
        "print(...)"
      ],
      "metadata": {
        "id": "9gEniETmIgEV"
      },
      "execution_count": null,
      "outputs": []
    },
    {
      "cell_type": "code",
      "source": [
        "# to_remove \n",
        "# Solution\n",
        "\n",
        "df = df_raw[['ID', 'Horsepower', 'Highway mpg']]\n",
        "print(df.shape)"
      ],
      "metadata": {
        "id": "mW2PkU1bKXoN"
      },
      "execution_count": null,
      "outputs": []
    },
    {
      "cell_type": "markdown",
      "source": [
        "## Section 2.2: Visualizing Horsepower and Fuel Efficiency\n",
        "\n",
        "Now we're going to plot our two variables to get a feel for their distributions, as well as their relationship. To plot the distributions we will once again use `plt.hist()` from `matplotlib`.\n",
        "\n",
        "We can supply our DataFrame to the `data=` parameter of `plt.hist()`, which allows use to specify our variables by column name. First we plot the distribution of 'Horsepower'."
      ],
      "metadata": {
        "id": "uePcY4AtNjoz"
      }
    },
    {
      "cell_type": "code",
      "source": [
        "plt.hist('Horsepower', bins= 25, histtype=\"bar\", data=df)\n",
        "plt.xlabel(\"Horsepower\")\n",
        "plt.ylabel(\"Number of vehicles\")"
      ],
      "metadata": {
        "id": "sbP2rcwWkoNV"
      },
      "execution_count": null,
      "outputs": []
    },
    {
      "cell_type": "markdown",
      "source": [
        "Next, we plot 'Highway mpg'."
      ],
      "metadata": {
        "id": "vDYtKy4TlvXw"
      }
    },
    {
      "cell_type": "code",
      "source": [
        "plt.hist('Highway mpg', bins=25, histtype=\"bar\", data=df)\n",
        "plt.xlabel(\"Highway mpg\")\n",
        "plt.ylabel(\"Number of vehicles\")"
      ],
      "metadata": {
        "id": "pB-kvahdl53_"
      },
      "execution_count": null,
      "outputs": []
    },
    {
      "cell_type": "markdown",
      "source": [
        "Notice that the x-axis extends far past the last bar, indicating the presence of at least one outlier. We'll see this more clearly when we look at the relationship between the two datasets with a scatterplot (using `plt.scatter()`).\n",
        "\n"
      ],
      "metadata": {
        "id": "iSww0ivzmmaY"
      }
    },
    {
      "cell_type": "code",
      "source": [
        "plt.scatter('Horsepower', 'Highway mpg', data=df)\n",
        "plt.xlabel('Horsepower')\n",
        "plt.ylabel('Highway mpg')"
      ],
      "metadata": {
        "id": "2O-wycOXnGGB"
      },
      "execution_count": null,
      "outputs": []
    },
    {
      "cell_type": "markdown",
      "source": [
        "Maybe add analysis of wtf is going on with that one data point. How to approach this kind of a problem"
      ],
      "metadata": {
        "id": "VYw-yNvgFhlp"
      }
    },
    {
      "cell_type": "markdown",
      "source": [
        "Pandas provides an intuitive interface for calculating aggregate values like mean and median across a DataFrame: `df.mean()` and `df.median`."
      ],
      "metadata": {
        "id": "2RfgXK6RnpJX"
      }
    },
    {
      "cell_type": "code",
      "source": [
        "print('Means:')\n",
        "print(df.mean())\n",
        "print('\\n')\n",
        "print('Medians')\n",
        "print(df.median())"
      ],
      "metadata": {
        "id": "nFcowjB_n48V"
      },
      "execution_count": null,
      "outputs": []
    },
    {
      "cell_type": "markdown",
      "source": [
        "These methods return a Series of values, with each value labeled with its corresponding variable name. Note that both methods ignore the 'ID' variable, which has no mean or median."
      ],
      "metadata": {
        "id": "Kzj_WviioMEB"
      }
    },
    {
      "cell_type": "code",
      "source": [
        "type(df.median())"
      ],
      "metadata": {
        "id": "h4kRriJyoMf2"
      },
      "execution_count": null,
      "outputs": []
    },
    {
      "cell_type": "markdown",
      "source": [
        "It is often helpful to be able to display plots side by side and to generate multiple plots within one block of code. For this we will use `plt.subplots()`, a method that returns a figure object and a some number of axes objects, depending on the parameters given to `subplots()`. \n",
        "\n",
        "By default, `plt.subplots()` returns a figure and an axes as a tuple. \n",
        "\n",
        "`fig, ax = plt.subplot()`\n",
        "\n",
        "You can treat `ax` much like you treated `plt` above, using `ax.hist()`, `ax.scatter()`, etc, though some methods have slightly different names (`ax.set_xlabel()` instead of `plt.xlabel()`)\n",
        "\n",
        "You can also tell `plt.subplot()` to return more axes, depending on the numbers of rows and columns you assign to the figure. The following line will create a figure with two subplots, arranged next to each other on the same row.\n",
        "\n",
        "`fig, (ax1, ax2) = plt.subplot(nrow=1, ncols=2)`"
      ],
      "metadata": {
        "id": "HveQVbkgsOFq"
      }
    },
    {
      "cell_type": "markdown",
      "source": [
        "Let's recreate the histograms above, but in a single figure."
      ],
      "metadata": {
        "id": "5eb_tgN2sVhi"
      }
    },
    {
      "cell_type": "code",
      "source": [
        "fig, (ax1, ax2) = plt.subplots(nrows=2, ncols=1)\n",
        "\n",
        "ax1.hist('Horsepower', bins= 25, histtype=\"bar\", data=df)\n",
        "ax1.set_xlabel(\"Horsepower\")\n",
        "ax1.set_ylabel(\"Number of vehicles\")\n",
        "\n",
        "ax2.hist('Highway mpg', bins=25, histtype='bar', data=df)\n",
        "ax2.set_xlabel(\"Highway mpg\")\n",
        "ax2.set_ylabel(\"Number of vehicles\")"
      ],
      "metadata": {
        "id": "rSIh8w-TsV9B"
      },
      "execution_count": null,
      "outputs": []
    },
    {
      "cell_type": "markdown",
      "metadata": {
        "execution": {},
        "id": "mlu2WK0Rjf8S"
      },
      "source": [
        "### Coding Exercise 2.2: Writing a Function to Visualize Our Date\n",
        "\n",
        "Let's put the above plots together in one function that will allow us to easily visualize our data as we move through the tutorial.\n",
        "\n",
        "\n",
        "\n"
      ]
    },
    {
      "cell_type": "code",
      "source": [
        "def plt_cars(df):\n",
        "  \"\"\"Plot histograms of 'Horsepower' and ' Highway mpg' from the Cars dataset, \n",
        "  as well as a scatterplot of 'Horsepower' vs. 'Highway mpg'.\n",
        "\n",
        "  Args:\n",
        "    df (DataFrame): Cars dataset, with variables 'Horsepower' and 'Highway 'mpg'.\n",
        "\n",
        "  Returns:\n",
        "    None\n",
        "  \"\"\"\n",
        "  ###########################################################################\n",
        "  ## TODO for students: Complete this function for plotting histograms of \n",
        "  ## 'Horsepower' and ' Highway mpg' and a scatterplot of 'Horsepower' vs. \n",
        "  ## 'Highway mpg'.\n",
        "  raise NotImplementedError('student exercise: write function for visualizing Cars')\n",
        "  ###########################################################################\n",
        "\n",
        "  # Compute means\n",
        "  means = ...\n",
        "\n",
        "  # Creates figure and axes objects\n",
        "  fig_a, (ax1, ax2) = plt.subplots(1, 2)\n",
        "\n",
        "  # Visualize 'Horsepower'\n",
        "  ax1.hist(..., data=...)\n",
        "  ax1.set_xlabel(\"Horsepower\")\n",
        "  ax1.set_ylabel(\"Number of vehicles\")\n",
        "  ax1.axvline(..., color='orange')\n",
        "\n",
        "  # Visualize 'Highway mpg'\n",
        "  ax2.hist(..., data=...)\n",
        "  ax2.set_xlabel(\"Highway mpg\")\n",
        "  ax2.set_ylabel(\"Number of vehicles\")\n",
        "  ax2.axvline(..., color='orange')\n",
        "  print(fig_a)\n",
        "\n",
        "  print('\\n')\n",
        "\n",
        "  # Visualize the relationship between 'Horsepower' and 'Highway mpg'\n",
        "  fig_b, ax = plt.subplots(1, 1)\n",
        "  ax.scatter(x=..., y=..., data=...)\n",
        "  ax.set_xlabel('Horsepower')\n",
        "  ax.set_ylabel('Highway mpg')\n",
        "  print(fig_b)\n",
        "\n",
        "plt_hist(df)"
      ],
      "metadata": {
        "id": "gvKIGj9JdwzW"
      },
      "execution_count": null,
      "outputs": []
    },
    {
      "cell_type": "code",
      "source": [
        "# Solution\n",
        "def plt_cars(df):\n",
        "  \"\"\"Plot histograms of 'Horsepower' and ' Highway mpg' from the Cars dataset, \n",
        "  as well as a scatterplot of 'Horsepower' vs. 'Highway mpg'.\n",
        "\n",
        "  Args:\n",
        "    df (DataFrame): Cars dataset, with variables 'Horsepower' and 'Highway 'mpg'.\n",
        "\n",
        "  Returns:\n",
        "    None\n",
        "  \"\"\"\n",
        "\n",
        "  # Compute means\n",
        "  means = df.mean()\n",
        "\n",
        "  # Create figure and axes objects\n",
        "  fig_a, (ax1, ax2) = plt.subplots(1, 2)\n",
        "  \n",
        "  # Visualize 'Horsepower'\n",
        "  ax1.hist('Horsepower', data=df)\n",
        "  ax1.set_xlabel(\"Horsepower\")\n",
        "  ax1.set_ylabel(\"Number of vehicles\")\n",
        "  ax1.axvline(means['Horsepower'], color='Orange')\n",
        "\n",
        "  # Visualize 'Highway mpg'\n",
        "  ax2.hist('Highway mpg', data=df)\n",
        "  ax2.set_xlabel(\"Highway mpg\")\n",
        "  ax2.set_ylabel(\"Number of vehicles\")\n",
        "  ax2.axvline(means['Highway mpg'], color='Orange')\n",
        "  print(fig_a)\n",
        "\n",
        "  print('\\n')\n",
        "  \n",
        "  # Visualize the relationship between 'Horsepower' and 'Highway mpg'\n",
        "  fig_b, ax = plt.subplots(1, 1)\n",
        "  ax.scatter('Horsepower', 'Highway mpg', data=df)\n",
        "  ax.set_xlabel('Horsepower')\n",
        "  ax.set_ylabel('Highway mpg')\n",
        "  print(fig_b)\n",
        "\n",
        "plt_cars(df)"
      ],
      "metadata": {
        "id": "mkeDQWP4Z9Sa"
      },
      "execution_count": null,
      "outputs": []
    },
    {
      "cell_type": "markdown",
      "source": [
        "## Section 2.3: What's with that point?\n",
        "\n",
        "By now, you've likely noticed that there is a clear outlier with a 'Highway mpg' value far greater than the other vehicles in our dataset. A good first step to take in addressing this point would be to identify it. "
      ],
      "metadata": {
        "id": "H-GVwxSi5wwb"
      }
    },
    {
      "cell_type": "code",
      "source": [
        "# @title Video 5: What is this car?\n",
        "from ipywidgets import widgets\n",
        "from IPython.display import display, IFrame, YouTubeVideo\n",
        "\n",
        "out1 = widgets.Output()\n",
        "with out1:\n",
        "  video = YouTubeVideo(id=\"tpa1deNQxDQ\", width=854, height=480, fs=1, rel=0)\n",
        "  print(f'Video available at https://youtube.com/watch?v={video.id}')\n",
        "  display(video)\n",
        "\n",
        "out = widgets.Tab([out1])\n",
        "out.set_title(0, 'Youtube')\n",
        "\n",
        "display(out)"
      ],
      "metadata": {
        "id": "Pa9buSMtlpME",
        "colab": {
          "base_uri": "https://localhost:8080/",
          "height": 581,
          "referenced_widgets": [
            "a7a78f997f26464892785b4fbf80eeb5",
            "9ad0cd172ba2488f9ffd4f180c7f3e32",
            "88390b644f5a48619ef14da8086f0e13",
            "c5b079843e994cf7a9d0f082c2062b34"
          ]
        },
        "outputId": "55826ffe-3861-4d8e-c514-6707063932fc",
        "cellView": "form"
      },
      "execution_count": null,
      "outputs": [
        {
          "output_type": "display_data",
          "data": {
            "application/vnd.jupyter.widget-view+json": {
              "model_id": "a7a78f997f26464892785b4fbf80eeb5",
              "version_minor": 0,
              "version_major": 2
            },
            "text/plain": [
              "Tab(children=(Output(),), _titles={'0': 'Youtube'})"
            ]
          },
          "metadata": {}
        }
      ]
    },
    {
      "cell_type": "markdown",
      "source": [
        "### Coding Exercise 2.3: Identifying the outlier\n",
        "\n",
        "We discussed in Section 1.1 how we can use variable names to subset our data by column and boolean expressions like `df['Speed'] > 30` to subset by row. Combine these two techniques to print the 'ID' of the outlier. "
      ],
      "metadata": {
        "id": "cpqqRzVu6wNR"
      }
    },
    {
      "cell_type": "code",
      "source": [
        "###########################################################################\n",
        "## TODO for students: Print the 'ID' of the outlier. \n",
        "raise NotImplementedError('student exercise: print outlier ID')\n",
        "###########################################################################\n",
        "\n",
        "print(df[...][...])"
      ],
      "metadata": {
        "id": "nkMfIlpS8hcA"
      },
      "execution_count": null,
      "outputs": []
    },
    {
      "cell_type": "code",
      "source": [
        "# to_remove Solution\n",
        "print(df['ID'][df['Highway mpg'] > 200])"
      ],
      "metadata": {
        "id": "ARspQnll8CXr"
      },
      "execution_count": null,
      "outputs": []
    },
    {
      "cell_type": "markdown",
      "source": [
        "---\n",
        "\n",
        "# Section 3: Discussion\n",
        "- That outlier you found. Is it real or a coding error? How would you go about it?\n",
        "\n",
        "- When is it appropriate to store your data in NumPy arrays?\n",
        "- When should you instead utilize a Pandas DataFrame?"
      ],
      "metadata": {
        "id": "7fQjCpn-fbEj"
      }
    },
    {
      "cell_type": "code",
      "source": [
        "#remove solution - the car seems to be a coding error. It does not reach 200MPG. Gotta google it!"
      ],
      "metadata": {
        "id": "Yab_zVsp1pDs"
      },
      "execution_count": null,
      "outputs": []
    }
  ],
  "metadata": {
    "colab": {
      "collapsed_sections": [],
      "name": "Module_3_Tutorial1",
      "provenance": [],
      "include_colab_link": true
    },
    "kernel": {
      "display_name": "Python 3",
      "language": "python",
      "name": "python3"
    },
    "kernelspec": {
      "display_name": "Python 3",
      "name": "python3"
    },
    "language_info": {
      "codemirror_mode": {
        "name": "ipython",
        "version": 3
      },
      "file_extension": ".py",
      "mimetype": "text/x-python",
      "name": "python",
      "nbconvert_exporter": "python",
      "pygments_lexer": "ipython3",
      "version": "3.7.11"
    },
    "widgets": {
      "application/vnd.jupyter.widget-state+json": {
        "4f8b1a05636f4bfca4cdfd4114432a02": {
          "model_module": "@jupyter-widgets/controls",
          "model_name": "TabModel",
          "model_module_version": "1.5.0",
          "state": {
            "_view_name": "TabView",
            "_dom_classes": [],
            "_titles": {
              "0": "Youtube"
            },
            "_model_name": "TabModel",
            "_view_module": "@jupyter-widgets/controls",
            "selected_index": 0,
            "_model_module_version": "1.5.0",
            "_view_count": null,
            "_view_module_version": "1.5.0",
            "box_style": "",
            "layout": "IPY_MODEL_98c27b95c1ba4107aeeabad8fc9e0eb4",
            "_model_module": "@jupyter-widgets/controls",
            "children": [
              "IPY_MODEL_375499dfb05243efbc03617eb964247f"
            ]
          }
        },
        "98c27b95c1ba4107aeeabad8fc9e0eb4": {
          "model_module": "@jupyter-widgets/base",
          "model_name": "LayoutModel",
          "model_module_version": "1.2.0",
          "state": {
            "_view_name": "LayoutView",
            "grid_template_rows": null,
            "right": null,
            "justify_content": null,
            "_view_module": "@jupyter-widgets/base",
            "overflow": null,
            "_model_module_version": "1.2.0",
            "_view_count": null,
            "flex_flow": null,
            "width": null,
            "min_width": null,
            "border": null,
            "align_items": null,
            "bottom": null,
            "_model_module": "@jupyter-widgets/base",
            "top": null,
            "grid_column": null,
            "overflow_y": null,
            "overflow_x": null,
            "grid_auto_flow": null,
            "grid_area": null,
            "grid_template_columns": null,
            "flex": null,
            "_model_name": "LayoutModel",
            "justify_items": null,
            "grid_row": null,
            "max_height": null,
            "align_content": null,
            "visibility": null,
            "align_self": null,
            "height": null,
            "min_height": null,
            "padding": null,
            "grid_auto_rows": null,
            "grid_gap": null,
            "max_width": null,
            "order": null,
            "_view_module_version": "1.2.0",
            "grid_template_areas": null,
            "object_position": null,
            "object_fit": null,
            "grid_auto_columns": null,
            "margin": null,
            "display": null,
            "left": null
          }
        },
        "375499dfb05243efbc03617eb964247f": {
          "model_module": "@jupyter-widgets/output",
          "model_name": "OutputModel",
          "model_module_version": "1.0.0",
          "state": {
            "_view_name": "OutputView",
            "msg_id": "",
            "_dom_classes": [],
            "_model_name": "OutputModel",
            "outputs": [
              {
                "output_type": "stream",
                "name": "stdout",
                "text": [
                  "Video available at https://youtube.com/watch?v=MFxLC3PgER8\n"
                ]
              },
              {
                "output_type": "display_data",
                "data": {
                  "text/html": "\n        <iframe\n            width=\"854\"\n            height=\"480\"\n            src=\"https://www.youtube.com/embed/MFxLC3PgER8?fs=1&rel=0\"\n            frameborder=\"0\"\n            allowfullscreen\n        ></iframe>\n        ",
                  "text/plain": "<IPython.lib.display.YouTubeVideo at 0x7fad5fe9cd50>",
                  "image/jpeg": "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\n"
                },
                "metadata": {}
              }
            ],
            "_view_module": "@jupyter-widgets/output",
            "_model_module_version": "1.0.0",
            "_view_count": null,
            "_view_module_version": "1.0.0",
            "layout": "IPY_MODEL_da17272960374b118a327ab66bda7443",
            "_model_module": "@jupyter-widgets/output"
          }
        },
        "da17272960374b118a327ab66bda7443": {
          "model_module": "@jupyter-widgets/base",
          "model_name": "LayoutModel",
          "model_module_version": "1.2.0",
          "state": {
            "_view_name": "LayoutView",
            "grid_template_rows": null,
            "right": null,
            "justify_content": null,
            "_view_module": "@jupyter-widgets/base",
            "overflow": null,
            "_model_module_version": "1.2.0",
            "_view_count": null,
            "flex_flow": null,
            "width": null,
            "min_width": null,
            "border": null,
            "align_items": null,
            "bottom": null,
            "_model_module": "@jupyter-widgets/base",
            "top": null,
            "grid_column": null,
            "overflow_y": null,
            "overflow_x": null,
            "grid_auto_flow": null,
            "grid_area": null,
            "grid_template_columns": null,
            "flex": null,
            "_model_name": "LayoutModel",
            "justify_items": null,
            "grid_row": null,
            "max_height": null,
            "align_content": null,
            "visibility": null,
            "align_self": null,
            "height": null,
            "min_height": null,
            "padding": null,
            "grid_auto_rows": null,
            "grid_gap": null,
            "max_width": null,
            "order": null,
            "_view_module_version": "1.2.0",
            "grid_template_areas": null,
            "object_position": null,
            "object_fit": null,
            "grid_auto_columns": null,
            "margin": null,
            "display": null,
            "left": null
          }
        },
        "bf4b68b1e67642e8ab63f395d6265877": {
          "model_module": "@jupyter-widgets/controls",
          "model_name": "TabModel",
          "model_module_version": "1.5.0",
          "state": {
            "_view_name": "TabView",
            "_dom_classes": [],
            "_titles": {
              "0": "Youtube"
            },
            "_model_name": "TabModel",
            "_view_module": "@jupyter-widgets/controls",
            "selected_index": 0,
            "_model_module_version": "1.5.0",
            "_view_count": null,
            "_view_module_version": "1.5.0",
            "box_style": "",
            "layout": "IPY_MODEL_6401a22b8da54a03827fba250318243c",
            "_model_module": "@jupyter-widgets/controls",
            "children": [
              "IPY_MODEL_a0cf10dfee5d4e71aa0625979c9beaa4"
            ]
          }
        },
        "6401a22b8da54a03827fba250318243c": {
          "model_module": "@jupyter-widgets/base",
          "model_name": "LayoutModel",
          "model_module_version": "1.2.0",
          "state": {
            "_view_name": "LayoutView",
            "grid_template_rows": null,
            "right": null,
            "justify_content": null,
            "_view_module": "@jupyter-widgets/base",
            "overflow": null,
            "_model_module_version": "1.2.0",
            "_view_count": null,
            "flex_flow": null,
            "width": null,
            "min_width": null,
            "border": null,
            "align_items": null,
            "bottom": null,
            "_model_module": "@jupyter-widgets/base",
            "top": null,
            "grid_column": null,
            "overflow_y": null,
            "overflow_x": null,
            "grid_auto_flow": null,
            "grid_area": null,
            "grid_template_columns": null,
            "flex": null,
            "_model_name": "LayoutModel",
            "justify_items": null,
            "grid_row": null,
            "max_height": null,
            "align_content": null,
            "visibility": null,
            "align_self": null,
            "height": null,
            "min_height": null,
            "padding": null,
            "grid_auto_rows": null,
            "grid_gap": null,
            "max_width": null,
            "order": null,
            "_view_module_version": "1.2.0",
            "grid_template_areas": null,
            "object_position": null,
            "object_fit": null,
            "grid_auto_columns": null,
            "margin": null,
            "display": null,
            "left": null
          }
        },
        "a0cf10dfee5d4e71aa0625979c9beaa4": {
          "model_module": "@jupyter-widgets/output",
          "model_name": "OutputModel",
          "model_module_version": "1.0.0",
          "state": {
            "_view_name": "OutputView",
            "msg_id": "",
            "_dom_classes": [],
            "_model_name": "OutputModel",
            "outputs": [
              {
                "output_type": "stream",
                "name": "stdout",
                "text": [
                  "Video available at https://youtube.com/watch?v=SwJQ221SUSA\n"
                ]
              },
              {
                "output_type": "display_data",
                "data": {
                  "text/html": "\n        <iframe\n            width=\"854\"\n            height=\"480\"\n            src=\"https://www.youtube.com/embed/SwJQ221SUSA?fs=1&rel=0\"\n            frameborder=\"0\"\n            allowfullscreen\n        ></iframe>\n        ",
                  "text/plain": "<IPython.lib.display.YouTubeVideo at 0x7fab4d696f10>",
                  "image/jpeg": "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\n"
                },
                "metadata": {}
              }
            ],
            "_view_module": "@jupyter-widgets/output",
            "_model_module_version": "1.0.0",
            "_view_count": null,
            "_view_module_version": "1.0.0",
            "layout": "IPY_MODEL_459f906ca0da4b1b9998adc851b8b92b",
            "_model_module": "@jupyter-widgets/output"
          }
        },
        "459f906ca0da4b1b9998adc851b8b92b": {
          "model_module": "@jupyter-widgets/base",
          "model_name": "LayoutModel",
          "model_module_version": "1.2.0",
          "state": {
            "_view_name": "LayoutView",
            "grid_template_rows": null,
            "right": null,
            "justify_content": null,
            "_view_module": "@jupyter-widgets/base",
            "overflow": null,
            "_model_module_version": "1.2.0",
            "_view_count": null,
            "flex_flow": null,
            "width": null,
            "min_width": null,
            "border": null,
            "align_items": null,
            "bottom": null,
            "_model_module": "@jupyter-widgets/base",
            "top": null,
            "grid_column": null,
            "overflow_y": null,
            "overflow_x": null,
            "grid_auto_flow": null,
            "grid_area": null,
            "grid_template_columns": null,
            "flex": null,
            "_model_name": "LayoutModel",
            "justify_items": null,
            "grid_row": null,
            "max_height": null,
            "align_content": null,
            "visibility": null,
            "align_self": null,
            "height": null,
            "min_height": null,
            "padding": null,
            "grid_auto_rows": null,
            "grid_gap": null,
            "max_width": null,
            "order": null,
            "_view_module_version": "1.2.0",
            "grid_template_areas": null,
            "object_position": null,
            "object_fit": null,
            "grid_auto_columns": null,
            "margin": null,
            "display": null,
            "left": null
          }
        },
        "4654405f72d0491cad2a41d2a3afdbb9": {
          "model_module": "@jupyter-widgets/controls",
          "model_name": "TabModel",
          "model_module_version": "1.5.0",
          "state": {
            "_view_name": "TabView",
            "_dom_classes": [],
            "_titles": {
              "0": "Youtube"
            },
            "_model_name": "TabModel",
            "_view_module": "@jupyter-widgets/controls",
            "selected_index": 0,
            "_model_module_version": "1.5.0",
            "_view_count": null,
            "_view_module_version": "1.5.0",
            "box_style": "",
            "layout": "IPY_MODEL_ffd3b77c695446f0979486207aa5c6c7",
            "_model_module": "@jupyter-widgets/controls",
            "children": [
              "IPY_MODEL_c6d3ad91e6c14185a15ef0e6064ef340"
            ]
          }
        },
        "ffd3b77c695446f0979486207aa5c6c7": {
          "model_module": "@jupyter-widgets/base",
          "model_name": "LayoutModel",
          "model_module_version": "1.2.0",
          "state": {
            "_view_name": "LayoutView",
            "grid_template_rows": null,
            "right": null,
            "justify_content": null,
            "_view_module": "@jupyter-widgets/base",
            "overflow": null,
            "_model_module_version": "1.2.0",
            "_view_count": null,
            "flex_flow": null,
            "width": null,
            "min_width": null,
            "border": null,
            "align_items": null,
            "bottom": null,
            "_model_module": "@jupyter-widgets/base",
            "top": null,
            "grid_column": null,
            "overflow_y": null,
            "overflow_x": null,
            "grid_auto_flow": null,
            "grid_area": null,
            "grid_template_columns": null,
            "flex": null,
            "_model_name": "LayoutModel",
            "justify_items": null,
            "grid_row": null,
            "max_height": null,
            "align_content": null,
            "visibility": null,
            "align_self": null,
            "height": null,
            "min_height": null,
            "padding": null,
            "grid_auto_rows": null,
            "grid_gap": null,
            "max_width": null,
            "order": null,
            "_view_module_version": "1.2.0",
            "grid_template_areas": null,
            "object_position": null,
            "object_fit": null,
            "grid_auto_columns": null,
            "margin": null,
            "display": null,
            "left": null
          }
        },
        "c6d3ad91e6c14185a15ef0e6064ef340": {
          "model_module": "@jupyter-widgets/output",
          "model_name": "OutputModel",
          "model_module_version": "1.0.0",
          "state": {
            "_view_name": "OutputView",
            "msg_id": "",
            "_dom_classes": [],
            "_model_name": "OutputModel",
            "outputs": [
              {
                "output_type": "stream",
                "name": "stdout",
                "text": [
                  "Video available at https://youtube.com/watch?v=0AbNrcQjhGs\n"
                ]
              },
              {
                "output_type": "display_data",
                "data": {
                  "text/html": "\n        <iframe\n            width=\"854\"\n            height=\"480\"\n            src=\"https://www.youtube.com/embed/0AbNrcQjhGs?fs=1&rel=0\"\n            frameborder=\"0\"\n            allowfullscreen\n        ></iframe>\n        ",
                  "text/plain": "<IPython.lib.display.YouTubeVideo at 0x7fab49f70990>",
                  "image/jpeg": "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\n"
                },
                "metadata": {}
              }
            ],
            "_view_module": "@jupyter-widgets/output",
            "_model_module_version": "1.0.0",
            "_view_count": null,
            "_view_module_version": "1.0.0",
            "layout": "IPY_MODEL_e6250189d23a4c6ba80622f5ec7d6551",
            "_model_module": "@jupyter-widgets/output"
          }
        },
        "e6250189d23a4c6ba80622f5ec7d6551": {
          "model_module": "@jupyter-widgets/base",
          "model_name": "LayoutModel",
          "model_module_version": "1.2.0",
          "state": {
            "_view_name": "LayoutView",
            "grid_template_rows": null,
            "right": null,
            "justify_content": null,
            "_view_module": "@jupyter-widgets/base",
            "overflow": null,
            "_model_module_version": "1.2.0",
            "_view_count": null,
            "flex_flow": null,
            "width": null,
            "min_width": null,
            "border": null,
            "align_items": null,
            "bottom": null,
            "_model_module": "@jupyter-widgets/base",
            "top": null,
            "grid_column": null,
            "overflow_y": null,
            "overflow_x": null,
            "grid_auto_flow": null,
            "grid_area": null,
            "grid_template_columns": null,
            "flex": null,
            "_model_name": "LayoutModel",
            "justify_items": null,
            "grid_row": null,
            "max_height": null,
            "align_content": null,
            "visibility": null,
            "align_self": null,
            "height": null,
            "min_height": null,
            "padding": null,
            "grid_auto_rows": null,
            "grid_gap": null,
            "max_width": null,
            "order": null,
            "_view_module_version": "1.2.0",
            "grid_template_areas": null,
            "object_position": null,
            "object_fit": null,
            "grid_auto_columns": null,
            "margin": null,
            "display": null,
            "left": null
          }
        },
        "a7a78f997f26464892785b4fbf80eeb5": {
          "model_module": "@jupyter-widgets/controls",
          "model_name": "TabModel",
          "model_module_version": "1.5.0",
          "state": {
            "_view_name": "TabView",
            "_dom_classes": [],
            "_titles": {
              "0": "Youtube"
            },
            "_model_name": "TabModel",
            "_view_module": "@jupyter-widgets/controls",
            "selected_index": 0,
            "_model_module_version": "1.5.0",
            "_view_count": null,
            "_view_module_version": "1.5.0",
            "box_style": "",
            "layout": "IPY_MODEL_9ad0cd172ba2488f9ffd4f180c7f3e32",
            "_model_module": "@jupyter-widgets/controls",
            "children": [
              "IPY_MODEL_88390b644f5a48619ef14da8086f0e13"
            ]
          }
        },
        "9ad0cd172ba2488f9ffd4f180c7f3e32": {
          "model_module": "@jupyter-widgets/base",
          "model_name": "LayoutModel",
          "model_module_version": "1.2.0",
          "state": {
            "_view_name": "LayoutView",
            "grid_template_rows": null,
            "right": null,
            "justify_content": null,
            "_view_module": "@jupyter-widgets/base",
            "overflow": null,
            "_model_module_version": "1.2.0",
            "_view_count": null,
            "flex_flow": null,
            "width": null,
            "min_width": null,
            "border": null,
            "align_items": null,
            "bottom": null,
            "_model_module": "@jupyter-widgets/base",
            "top": null,
            "grid_column": null,
            "overflow_y": null,
            "overflow_x": null,
            "grid_auto_flow": null,
            "grid_area": null,
            "grid_template_columns": null,
            "flex": null,
            "_model_name": "LayoutModel",
            "justify_items": null,
            "grid_row": null,
            "max_height": null,
            "align_content": null,
            "visibility": null,
            "align_self": null,
            "height": null,
            "min_height": null,
            "padding": null,
            "grid_auto_rows": null,
            "grid_gap": null,
            "max_width": null,
            "order": null,
            "_view_module_version": "1.2.0",
            "grid_template_areas": null,
            "object_position": null,
            "object_fit": null,
            "grid_auto_columns": null,
            "margin": null,
            "display": null,
            "left": null
          }
        },
        "88390b644f5a48619ef14da8086f0e13": {
          "model_module": "@jupyter-widgets/output",
          "model_name": "OutputModel",
          "model_module_version": "1.0.0",
          "state": {
            "_view_name": "OutputView",
            "msg_id": "",
            "_dom_classes": [],
            "_model_name": "OutputModel",
            "outputs": [
              {
                "output_type": "stream",
                "name": "stdout",
                "text": [
                  "Video available at https://youtube.com/watch?v=tpa1deNQxDQ\n"
                ]
              },
              {
                "output_type": "display_data",
                "data": {
                  "text/html": "\n        <iframe\n            width=\"854\"\n            height=\"480\"\n            src=\"https://www.youtube.com/embed/tpa1deNQxDQ?fs=1&rel=0\"\n            frameborder=\"0\"\n            allowfullscreen\n        ></iframe>\n        ",
                  "text/plain": "<IPython.lib.display.YouTubeVideo at 0x7fab49f701d0>",
                  "image/jpeg": "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\n"
                },
                "metadata": {}
              }
            ],
            "_view_module": "@jupyter-widgets/output",
            "_model_module_version": "1.0.0",
            "_view_count": null,
            "_view_module_version": "1.0.0",
            "layout": "IPY_MODEL_c5b079843e994cf7a9d0f082c2062b34",
            "_model_module": "@jupyter-widgets/output"
          }
        },
        "c5b079843e994cf7a9d0f082c2062b34": {
          "model_module": "@jupyter-widgets/base",
          "model_name": "LayoutModel",
          "model_module_version": "1.2.0",
          "state": {
            "_view_name": "LayoutView",
            "grid_template_rows": null,
            "right": null,
            "justify_content": null,
            "_view_module": "@jupyter-widgets/base",
            "overflow": null,
            "_model_module_version": "1.2.0",
            "_view_count": null,
            "flex_flow": null,
            "width": null,
            "min_width": null,
            "border": null,
            "align_items": null,
            "bottom": null,
            "_model_module": "@jupyter-widgets/base",
            "top": null,
            "grid_column": null,
            "overflow_y": null,
            "overflow_x": null,
            "grid_auto_flow": null,
            "grid_area": null,
            "grid_template_columns": null,
            "flex": null,
            "_model_name": "LayoutModel",
            "justify_items": null,
            "grid_row": null,
            "max_height": null,
            "align_content": null,
            "visibility": null,
            "align_self": null,
            "height": null,
            "min_height": null,
            "padding": null,
            "grid_auto_rows": null,
            "grid_gap": null,
            "max_width": null,
            "order": null,
            "_view_module_version": "1.2.0",
            "grid_template_areas": null,
            "object_position": null,
            "object_fit": null,
            "grid_auto_columns": null,
            "margin": null,
            "display": null,
            "left": null
          }
        },
        "d1682a85fa0045c1a005b778aaa9e855": {
          "model_module": "@jupyter-widgets/controls",
          "model_name": "TabModel",
          "model_module_version": "1.5.0",
          "state": {
            "_view_name": "TabView",
            "_dom_classes": [],
            "_titles": {
              "0": "Youtube"
            },
            "_model_name": "TabModel",
            "_view_module": "@jupyter-widgets/controls",
            "selected_index": 0,
            "_model_module_version": "1.5.0",
            "_view_count": null,
            "_view_module_version": "1.5.0",
            "box_style": "",
            "layout": "IPY_MODEL_b84a4c3b26f54c9891ae673ccc7178b2",
            "_model_module": "@jupyter-widgets/controls",
            "children": [
              "IPY_MODEL_5b771949e94f481b9cc9c325396ac6e3"
            ]
          }
        },
        "b84a4c3b26f54c9891ae673ccc7178b2": {
          "model_module": "@jupyter-widgets/base",
          "model_name": "LayoutModel",
          "model_module_version": "1.2.0",
          "state": {
            "_view_name": "LayoutView",
            "grid_template_rows": null,
            "right": null,
            "justify_content": null,
            "_view_module": "@jupyter-widgets/base",
            "overflow": null,
            "_model_module_version": "1.2.0",
            "_view_count": null,
            "flex_flow": null,
            "width": null,
            "min_width": null,
            "border": null,
            "align_items": null,
            "bottom": null,
            "_model_module": "@jupyter-widgets/base",
            "top": null,
            "grid_column": null,
            "overflow_y": null,
            "overflow_x": null,
            "grid_auto_flow": null,
            "grid_area": null,
            "grid_template_columns": null,
            "flex": null,
            "_model_name": "LayoutModel",
            "justify_items": null,
            "grid_row": null,
            "max_height": null,
            "align_content": null,
            "visibility": null,
            "align_self": null,
            "height": null,
            "min_height": null,
            "padding": null,
            "grid_auto_rows": null,
            "grid_gap": null,
            "max_width": null,
            "order": null,
            "_view_module_version": "1.2.0",
            "grid_template_areas": null,
            "object_position": null,
            "object_fit": null,
            "grid_auto_columns": null,
            "margin": null,
            "display": null,
            "left": null
          }
        },
        "5b771949e94f481b9cc9c325396ac6e3": {
          "model_module": "@jupyter-widgets/output",
          "model_name": "OutputModel",
          "model_module_version": "1.0.0",
          "state": {
            "_view_name": "OutputView",
            "msg_id": "",
            "_dom_classes": [],
            "_model_name": "OutputModel",
            "outputs": [
              {
                "output_type": "stream",
                "name": "stdout",
                "text": [
                  "Video available at https://youtube.com/watch?v=h4LFIXVH00k\n"
                ]
              },
              {
                "output_type": "display_data",
                "data": {
                  "text/html": "\n        <iframe\n            width=\"854\"\n            height=\"480\"\n            src=\"https://www.youtube.com/embed/h4LFIXVH00k?fs=1&rel=0\"\n            frameborder=\"0\"\n            allowfullscreen\n        ></iframe>\n        ",
                  "text/plain": "<IPython.lib.display.YouTubeVideo at 0x7efd09688710>",
                  "image/jpeg": "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\n"
                },
                "metadata": {}
              }
            ],
            "_view_module": "@jupyter-widgets/output",
            "_model_module_version": "1.0.0",
            "_view_count": null,
            "_view_module_version": "1.0.0",
            "layout": "IPY_MODEL_6e557888aea84a2e96ce9cfc6e1b8c2c",
            "_model_module": "@jupyter-widgets/output"
          }
        },
        "6e557888aea84a2e96ce9cfc6e1b8c2c": {
          "model_module": "@jupyter-widgets/base",
          "model_name": "LayoutModel",
          "model_module_version": "1.2.0",
          "state": {
            "_view_name": "LayoutView",
            "grid_template_rows": null,
            "right": null,
            "justify_content": null,
            "_view_module": "@jupyter-widgets/base",
            "overflow": null,
            "_model_module_version": "1.2.0",
            "_view_count": null,
            "flex_flow": null,
            "width": null,
            "min_width": null,
            "border": null,
            "align_items": null,
            "bottom": null,
            "_model_module": "@jupyter-widgets/base",
            "top": null,
            "grid_column": null,
            "overflow_y": null,
            "overflow_x": null,
            "grid_auto_flow": null,
            "grid_area": null,
            "grid_template_columns": null,
            "flex": null,
            "_model_name": "LayoutModel",
            "justify_items": null,
            "grid_row": null,
            "max_height": null,
            "align_content": null,
            "visibility": null,
            "align_self": null,
            "height": null,
            "min_height": null,
            "padding": null,
            "grid_auto_rows": null,
            "grid_gap": null,
            "max_width": null,
            "order": null,
            "_view_module_version": "1.2.0",
            "grid_template_areas": null,
            "object_position": null,
            "object_fit": null,
            "grid_auto_columns": null,
            "margin": null,
            "display": null,
            "left": null
          }
        }
      }
    }
  },
  "nbformat": 4,
  "nbformat_minor": 0
}