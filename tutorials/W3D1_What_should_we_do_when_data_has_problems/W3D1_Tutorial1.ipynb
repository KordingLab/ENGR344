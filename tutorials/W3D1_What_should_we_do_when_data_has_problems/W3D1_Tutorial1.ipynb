{
  "cells": [
    {
      "cell_type": "markdown",
      "metadata": {
        "id": "view-in-github",
        "colab_type": "text"
      },
      "source": [
        "<a href=\"https://colab.research.google.com/github/KordingLab/ENGR344/blob/master/tutorials/W3D1_What_should_we_do_when_data_has_problems/W3D1_Tutorial1.ipynb\" target=\"_parent\"><img src=\"https://colab.research.google.com/assets/colab-badge.svg\" alt=\"Open In Colab\"/></a>"
      ]
    },
    {
      "cell_type": "markdown",
      "metadata": {
        "execution": {},
        "id": "GwG32kd0jf8H"
      },
      "source": [
        "\n",
        "\n",
        "```\n",
        "# This is formatted as code\n",
        "```\n",
        "\n",
        "# Tutorial 1: How is Data Usually Stored?\n",
        "**Week 3: What should we do when data has problems?**\n",
        "\n",
        "**Content creators**: Rob Lindgren\n",
        "\n",
        "**Content reviewers**: Konrad Kording, Keervani Kandala\n",
        "\n",
        "**Content modifiers**: ---\n",
        "\n",
        "**Modified Content reviewer**: ---\n"
      ]
    },
    {
      "cell_type": "code",
      "source": [
        "# @title Due Dates Calendar\n",
        "\n",
        "from ipywidgets import widgets\n",
        "from IPython.display import display, IFrame, YouTubeVideo\n",
        "\n",
        "\n",
        "out1 = widgets.Output()\n",
        "with out1:\n",
        "  calendar = IFrame(src=\"https://calendar.google.com/calendar/embed?src=356b9d2nspjttvgbb3tvgk2f58%40group.calendar.google.com&ctz=America%2FNew_York\", width=600, height=480)\n",
        "  display(calendar)\n",
        "\n",
        "out = widgets.Tab([out1])\n",
        "out.set_title(0, 'Calendar')\n",
        "\n",
        "display(out)"
      ],
      "metadata": {
        "colab": {
          "base_uri": "https://localhost:8080/",
          "height": 563,
          "referenced_widgets": [
            "99e28e99a0b045ce98c99a93f4ac6a55",
            "4158f6af6d23437b99e7b59ba98d50b0",
            "bac539333fb4440d9a0218af97469dbf",
            "e0d00db65b524e2ca4d173f72bd9d21c"
          ]
        },
        "cellView": "form",
        "id": "7diSjFwrAV93",
        "outputId": "aee5f287-46b4-46ce-c6ad-29047e1819b5"
      },
      "execution_count": null,
      "outputs": [
        {
          "output_type": "display_data",
          "data": {
            "application/vnd.jupyter.widget-view+json": {
              "model_id": "99e28e99a0b045ce98c99a93f4ac6a55",
              "version_minor": 0,
              "version_major": 2
            },
            "text/plain": [
              "Tab(children=(Output(),), _titles={'0': 'Calendar'})"
            ]
          },
          "metadata": {}
        }
      ]
    },
    {
      "cell_type": "markdown",
      "metadata": {
        "execution": {},
        "id": "mngEsmgIjf8J"
      },
      "source": [
        "___\n",
        "# Tutorial Objectives\n",
        "\n",
        "*Estimated timing of tutorial: Roughly 30 minutes per segment.\n",
        "\n",
        "This is tutorial 1 in a 3-part series on how to handle data that has problems. In this tutorial, we will introduce the Pandas library and its core data structure, the DataFrame. By the end of this tutorial, you will be able to:\n",
        "\n",
        "- Explain when data is best stored in a DataFrame as opposed to a NumPy array\n",
        "- Create and subset DataFrames\n",
        "- Examine DataFrames using the head() and tail() methods and the shape attribute\n",
        "- Create histograms and scatterplots from data stored in DataFrames\n",
        "\n",
        "Before we start. You know about numpy. Have you heard about pandas?"
      ]
    },
    {
      "cell_type": "code",
      "execution_count": null,
      "metadata": {
        "execution": {},
        "id": "zK3D5SfMjf8K",
        "cellView": "form"
      },
      "outputs": [],
      "source": [
        "# @title Live portion slides slides\n",
        " \n",
        "# @markdown These are the slides for the videos in all tutorials today\n",
        "from IPython.display import IFrame\n",
        "\n",
        "# IFrame(src=f\"https://docs.google.com/presentation/d/1GaEnokeqNLk1goV-xAT2wxmBMwqhqljc/edit?usp=sharing&ouid=102615264973404864923&rtpof=true&sd=true\", width=854, height=480)\n",
        "\n",
        "IFrame(src=f\"https://mfr.ca-1.osf.io/render?url=https://osf.io/hncv7/?direct%26mode=render%26action=download%26mode=render\", width=854, height=480)"
      ]
    },
    {
      "cell_type": "markdown",
      "metadata": {
        "execution": {},
        "id": "GvEi-BMsjf8L"
      },
      "source": [
        "---\n",
        "# Setup"
      ]
    },
    {
      "cell_type": "markdown",
      "source": [
        "Python requires you to explictly \"import\" libraries before their functions are available to use. We will always specify our imports at the beginning of each notebook or script."
      ],
      "metadata": {
        "id": "KvRdlVsPFf80"
      }
    },
    {
      "cell_type": "code",
      "execution_count": null,
      "metadata": {
        "cellView": "code",
        "execution": {},
        "id": "YY7HrpSyjf8L"
      },
      "outputs": [],
      "source": [
        "# Imports\n",
        "import numpy as np\n",
        "import pandas as pd\n",
        "import matplotlib.pyplot as plt\n",
        "import random"
      ]
    },
    {
      "cell_type": "code",
      "source": [
        "# @title Video 1: Real world data has problems\n",
        "from ipywidgets import widgets\n",
        "from IPython.display import display, IFrame, YouTubeVideo\n",
        "\n",
        "\n",
        "out1 = widgets.Output()\n",
        "with out1:\n",
        "  video = YouTubeVideo(id=\"h4LFIXVH00k\", width=854, height=480, fs=1, rel=0)\n",
        "  print(f'Video available at https://youtube.com/watch?v={video.id}')\n",
        "  display(video)\n",
        "\n",
        "out = widgets.Tab([out1])\n",
        "out.set_title(0, 'Youtube')\n",
        "\n",
        "display(out)"
      ],
      "metadata": {
        "id": "7zToDmBCj6iQ",
        "cellView": "form"
      },
      "execution_count": null,
      "outputs": []
    },
    {
      "cell_type": "markdown",
      "source": [
        "# Section 0: The nature of data in science\n",
        "Lets us first think about the nature of data in science. Let's say we run a questionaire to see if we can predict grades in CIS 344. We ask for the following:\n",
        "* Minor\n",
        "* Major\n",
        "* Past Grades\n",
        "* Age\n",
        "* If they like pizza\n",
        "\n",
        "We roll this out as a google form. Everything is optional to answer. The goal is predicting the grades.\n",
        "\n",
        "Discuss the following two questions:\n",
        "* What problems may the data have?\n",
        "* Is running such a study a good or a bad idea? \n"
      ],
      "metadata": {
        "id": "e0tpa69EjDHa"
      }
    },
    {
      "cell_type": "markdown",
      "metadata": {
        "execution": {},
        "id": "CxhC_uamjf8Q"
      },
      "source": [
        "---\n",
        "# Section 1: Introducing Pandas\n",
        "\n",
        "You've been working with NumPy for several weeks now and should be getting familiar with it. NumPy is a numerical computing library for Python that works with arrays of numbers (arrays which can have many dimensions). The core of NumPy is optimized to significantly speed up numerical calculations, making it essential to data science tasks where you have to repeat those calculations many times. \n",
        "\n",
        "Much of the data you will encounter in the world, however, is in the form of a table (like an Excel spreadsheet, or SQL table). Real-world data often has missing values and is of different types (e.g., Age is represented as integers and Name is represented as strings). Pandas is a library, built on top of NumPy, that is designed specifically for manipulating and analyzing this kind of messy tabular data. The object at the center of the Pandas library is called a *DataFrame*, a multidimensional array with nameable rows and columns that allows for missing values and varying data types."
      ]
    },
    {
      "cell_type": "code",
      "source": [
        "# @title Video 2: Pandas\n",
        "from ipywidgets import widgets\n",
        "from IPython.display import display, IFrame, YouTubeVideo\n",
        "\n",
        "\n",
        "out1 = widgets.Output()\n",
        "with out1:\n",
        "  video = YouTubeVideo(id=\"SwJQ221SUSA\", width=854, height=480, fs=1, rel=0)\n",
        "  print(f'Video available at https://youtube.com/watch?v={video.id}')\n",
        "  display(video)\n",
        "\n",
        "out = widgets.Tab([out1])\n",
        "out.set_title(0, 'Youtube')\n",
        "\n",
        "display(out)"
      ],
      "metadata": {
        "id": "AF_sCYRakFRS",
        "cellView": "form"
      },
      "execution_count": null,
      "outputs": []
    },
    {
      "cell_type": "markdown",
      "source": [
        "## Section 1.1: Warming Up to DataFrames\n",
        "\n",
        "One way to think of a DataFrame is like a Python dictionary where each key is a column name and each value is an array of column data. In fact, providing an appropriately structured dictionary as an input to pd.dataframe() is an easy way to create a DataFrame.\n"
      ],
      "metadata": {
        "id": "GreaXyBRKyeE"
      }
    },
    {
      "cell_type": "code",
      "source": [
        "data_dict = {'Speed' : [120, 150, 147, 128, 101],\n",
        "             'Horsepower' : [200, 320, 280, 290, 110],\n",
        "             'Mpg' : [15, 29, 12, 28, 40]}\n",
        "df = pd.DataFrame(data_dict)\n",
        "print(df)"
      ],
      "metadata": {
        "id": "oZ1UIY0xPa6g"
      },
      "execution_count": null,
      "outputs": []
    },
    {
      "cell_type": "markdown",
      "source": [
        "An easy way to access the data in a single column is by using its name."
      ],
      "metadata": {
        "id": "MxJJgeARQXqE"
      }
    },
    {
      "cell_type": "code",
      "source": [
        "df['Speed']"
      ],
      "metadata": {
        "id": "Mdx1kyK3Qdr0"
      },
      "execution_count": null,
      "outputs": []
    },
    {
      "cell_type": "markdown",
      "source": [
        "This produces a Pandas *Series*, essentially a one-dimensional version of a DataFrame."
      ],
      "metadata": {
        "id": "TzKZZnaPTes0"
      }
    },
    {
      "cell_type": "code",
      "source": [
        "type(df['Speed'])"
      ],
      "metadata": {
        "id": "7JfKT9mRTdcO"
      },
      "execution_count": null,
      "outputs": []
    },
    {
      "cell_type": "markdown",
      "source": [
        "Note the row indexes that appeared on the left side when we printed 'Col A'. We can access individual elements or ranges of elements using these indices."
      ],
      "metadata": {
        "id": "8mJAZnHcQj1U"
      }
    },
    {
      "cell_type": "code",
      "source": [
        "print('Individual element')\n",
        "print(df['Speed'][0])\n",
        "print('\\nRange of elements')\n",
        "print(df['Speed'][0:2])"
      ],
      "metadata": {
        "id": "_EN8H4gYQt-E"
      },
      "execution_count": null,
      "outputs": []
    },
    {
      "cell_type": "markdown",
      "source": [
        "The range is a Series, like above, while the individual element is whatever data type that is stored in the column (here it's a 64-bit integer)."
      ],
      "metadata": {
        "id": "QM5umDKsRHS8"
      }
    },
    {
      "cell_type": "code",
      "source": [
        "type(df['Speed'][0])"
      ],
      "metadata": {
        "id": "R7soeWdrRVSs"
      },
      "execution_count": null,
      "outputs": []
    },
    {
      "cell_type": "markdown",
      "source": [
        "DataFrames allow for easy subsetting. Here we subset columns using a list of column names and subset rows using the boolean expression `df['Speed'] > 30`."
      ],
      "metadata": {
        "id": "xYFQqN6aRpl_"
      }
    },
    {
      "cell_type": "code",
      "source": [
        "print('Subsetting by a list of column names')\n",
        "print(df[['Speed', 'Mpg']])\n",
        "print('\\n')\n",
        "print('Subsetting by row')\n",
        "print(df[df['Speed'] > 3])"
      ],
      "metadata": {
        "id": "jGJcUAMeR4sh"
      },
      "execution_count": null,
      "outputs": []
    },
    {
      "cell_type": "markdown",
      "source": [
        "### Coding Exercise 1.1\n",
        "\n",
        "*Exercise objective:*\n",
        "- Print the first three rows of the entire dataset\n",
        "- Print just the first three rows of the columns 'Col A' and 'Col B'."
      ],
      "metadata": {
        "id": "yXvURS_j_5V5"
      }
    },
    {
      "cell_type": "code",
      "source": [
        "#################################################################################\n",
        "## TODO for students:\n",
        "## Print subsets of DataFrame df\n",
        "raise NotImplementedError(\"Student exercise: print subsets of df\")\n",
        "#################################################################################\n",
        "\n",
        "print('Print the first three rows of df')\n",
        "print(df[...])\n",
        "print('\\n')\n",
        "print('Print the first three rows of the columns Speed and Horsepower')\n",
        "print(df[...][...])"
      ],
      "metadata": {
        "id": "oSusMAf0E73M"
      },
      "execution_count": null,
      "outputs": []
    },
    {
      "cell_type": "code",
      "source": [
        "# @title Video 3: Corgis datasets (and more generally, there are great cleaned data sets out there)\n",
        "from ipywidgets import widgets\n",
        "from IPython.display import display, IFrame, YouTubeVideo\n",
        "\n",
        "\n",
        "out1 = widgets.Output()\n",
        "with out1:\n",
        "  video = YouTubeVideo(id=\"MFxLC3PgER8\", width=854, height=480, fs=1, rel=0)\n",
        "  print(f'Video available at https://youtube.com/watch?v={video.id}')\n",
        "  display(video)\n",
        "\n",
        "out = widgets.Tab([out1])\n",
        "out.set_title(0, 'Youtube')\n",
        "\n",
        "display(out)"
      ],
      "metadata": {
        "id": "ztVrycrtkoAi",
        "cellView": "form"
      },
      "execution_count": null,
      "outputs": []
    },
    {
      "cell_type": "markdown",
      "source": [
        "---\n",
        "\n",
        "# Section 2: Exploring the Cars Dataset\n",
        "\n",
        "Dataset from the CORGIS project: https://ct-vt.github.io\n",
        "\n",
        "In this tutorial we will be working with the \"Cars\" dataset, which contains a number of variables we can use to understand the relationship between vehical characteristics and fuel consumption. "
      ],
      "metadata": {
        "id": "UbWzOcJH8Aip"
      }
    },
    {
      "cell_type": "markdown",
      "source": [
        "## Section 2.1: df.head(), df.tail(), and df.shape\n",
        "\n",
        "First we're going to load the dataset and view the first few rows using the `df.head()` method.\n",
        "\n",
        "**explain head**"
      ],
      "metadata": {
        "id": "Itgk0NEoK4V1"
      }
    },
    {
      "cell_type": "code",
      "execution_count": null,
      "metadata": {
        "cellView": "both",
        "execution": {},
        "id": "THiVtqFfjf8S"
      },
      "outputs": [],
      "source": [
        "data_url = 'https://raw.githubusercontent.com/RealTimeWeb/datasets/master/datasets/csv/cars/cars.csv'\n",
        "df_raw = pd.read_csv(data_url)\n",
        "df_raw.head()"
      ]
    },
    {
      "cell_type": "markdown",
      "source": [
        "Similarly, we can easily view the end of the dataset using `df.tail()`."
      ],
      "metadata": {
        "id": "lOR6bHLJF9qO"
      }
    },
    {
      "cell_type": "code",
      "source": [
        "df_raw.tail()"
      ],
      "metadata": {
        "id": "31H8ZQ1BGEn7"
      },
      "execution_count": null,
      "outputs": []
    },
    {
      "cell_type": "markdown",
      "source": [
        "It's also helpful to check the shape of a DataFrame (# of rows by # of columns) to ensure that it's what you expected. Shape is an attribute of the DataFrame rather than a method, so we don't put parentheses after it."
      ],
      "metadata": {
        "id": "MhUAAP2QHPU3"
      }
    },
    {
      "cell_type": "code",
      "source": [
        "df_raw.shape"
      ],
      "metadata": {
        "id": "4lcbuT6xHfp6"
      },
      "execution_count": null,
      "outputs": []
    },
    {
      "cell_type": "markdown",
      "source": [
        "The shape attribute is a tuple, so we can use indexing to retrieve the individual numbers if needed."
      ],
      "metadata": {
        "id": "FaUpdOCUHthh"
      }
    },
    {
      "cell_type": "code",
      "source": [
        "nrows = df_raw.shape[0]\n",
        "ncols = df_raw.shape[1]\n",
        "\n",
        "print('The Cars datasets has ' + str(nrows) + ' rows and ' + str(ncols) + ' columns.')"
      ],
      "metadata": {
        "id": "FMkkHs4fH-8n"
      },
      "execution_count": null,
      "outputs": []
    },
    {
      "cell_type": "code",
      "source": [
        "# @title Video 4: Always visualize everything\n",
        "from ipywidgets import widgets\n",
        "from IPython.display import display, IFrame, YouTubeVideo\n",
        "\n",
        "\n",
        "out1 = widgets.Output()\n",
        "with out1:\n",
        "  video = YouTubeVideo(id=\"0AbNrcQjhGs\", width=854, height=480, fs=1, rel=0)\n",
        "  print(f'Video available at https://youtube.com/watch?v={video.id}')\n",
        "  display(video)\n",
        "\n",
        "out = widgets.Tab([out1])\n",
        "out.set_title(0, 'Youtube')\n",
        "\n",
        "display(out)"
      ],
      "metadata": {
        "id": "GGAmvi5klC1V",
        "cellView": "form"
      },
      "execution_count": null,
      "outputs": []
    },
    {
      "cell_type": "markdown",
      "source": [
        "### Coding Exercise 2.1: Subsetting the Cars Dataset\n",
        "\n",
        "Now that we've gotten a feel for what our data looks like, let's extract just the variables that we need. Going forward, we will be interested in the relationship between two variables from the Cars dataset, 'Horsepower' and 'Highway mpg'. We also want to include the 'ID' variable, which gives the make and model of car. Subset `df_raw` to include only these three variables and store them in a new DataFrame called `df`. \n",
        "\n",
        "*Exercise objective:* Produce a new dataframe `df` which contains only the columns 'ID', 'Horsepower', and 'Highway mpg'. Print the shape of the new DataFrame to verify that is now only has three columns.a"
      ],
      "metadata": {
        "id": "MI_-DH2LIbG0"
      }
    },
    {
      "cell_type": "code",
      "source": [
        "###########################################################################\n",
        "## TODO for students: Subset the df_raw dataset to just two variables,\n",
        "## 'Horsepower' and 'Highway mpg'. Name this subset 'df' and print the \n",
        "## shape of df to confirm that you now have two variables. \n",
        "raise NotImplementedError('student exercise: subset the Cars dataset')\n",
        "###########################################################################\n",
        "\n",
        "df = df_raw[...]\n",
        "print(...)"
      ],
      "metadata": {
        "id": "9gEniETmIgEV"
      },
      "execution_count": null,
      "outputs": []
    },
    {
      "cell_type": "markdown",
      "source": [
        "## Section 2.2: Visualizing Horsepower and Fuel Efficiency\n",
        "\n",
        "Now we're going to plot our two variables to get a feel for their distributions, as well as their relationship. To plot the distributions we will once again use `plt.hist()` from `matplotlib`.\n",
        "\n",
        "We can supply our DataFrame to the `data=` parameter of `plt.hist()`, which allows use to specify our variables by column name. First we plot the distribution of 'Horsepower'."
      ],
      "metadata": {
        "id": "uePcY4AtNjoz"
      }
    },
    {
      "cell_type": "code",
      "source": [
        "plt.hist('Horsepower', bins= 25, histtype=\"bar\", data=df)\n",
        "plt.xlabel(\"Horsepower\")\n",
        "plt.ylabel(\"Number of vehicles\")"
      ],
      "metadata": {
        "id": "sbP2rcwWkoNV"
      },
      "execution_count": null,
      "outputs": []
    },
    {
      "cell_type": "markdown",
      "source": [
        "Next, we plot 'Highway mpg'."
      ],
      "metadata": {
        "id": "vDYtKy4TlvXw"
      }
    },
    {
      "cell_type": "code",
      "source": [
        "plt.hist('Highway mpg', bins=25, histtype=\"bar\", data=df)\n",
        "plt.xlabel(\"Highway mpg\")\n",
        "plt.ylabel(\"Number of vehicles\")"
      ],
      "metadata": {
        "id": "pB-kvahdl53_"
      },
      "execution_count": null,
      "outputs": []
    },
    {
      "cell_type": "markdown",
      "source": [
        "Notice that the x-axis extends far past the last bar, indicating the presence of at least one outlier. We'll see this more clearly when we look at the relationship between the two datasets with a scatterplot (using `plt.scatter()`).\n",
        "\n"
      ],
      "metadata": {
        "id": "iSww0ivzmmaY"
      }
    },
    {
      "cell_type": "code",
      "source": [
        "plt.scatter('Horsepower', 'Highway mpg', data=df)\n",
        "plt.xlabel('Horsepower')\n",
        "plt.ylabel('Highway mpg')"
      ],
      "metadata": {
        "id": "2O-wycOXnGGB"
      },
      "execution_count": null,
      "outputs": []
    },
    {
      "cell_type": "markdown",
      "source": [
        "Maybe add analysis of wtf is going on with that one data point. How to approach this kind of a problem"
      ],
      "metadata": {
        "id": "VYw-yNvgFhlp"
      }
    },
    {
      "cell_type": "markdown",
      "source": [
        "Pandas provides an intuitive interface for calculating aggregate values like mean and median across a DataFrame: `df.mean()` and `df.median`."
      ],
      "metadata": {
        "id": "2RfgXK6RnpJX"
      }
    },
    {
      "cell_type": "code",
      "source": [
        "print('Means:')\n",
        "print(df.mean())\n",
        "print('\\n')\n",
        "print('Medians')\n",
        "print(df.median())"
      ],
      "metadata": {
        "id": "nFcowjB_n48V"
      },
      "execution_count": null,
      "outputs": []
    },
    {
      "cell_type": "markdown",
      "source": [
        "These methods return a Series of values, with each value labeled with its corresponding variable name. Note that both methods ignore the 'ID' variable, which has no mean or median."
      ],
      "metadata": {
        "id": "Kzj_WviioMEB"
      }
    },
    {
      "cell_type": "code",
      "source": [
        "type(df.median())"
      ],
      "metadata": {
        "id": "h4kRriJyoMf2"
      },
      "execution_count": null,
      "outputs": []
    },
    {
      "cell_type": "markdown",
      "source": [
        "It is often helpful to be able to display plots side by side and to generate multiple plots within one block of code. For this we will use `plt.subplots()`, a method that returns a figure object and a some number of axes objects, depending on the parameters given to `subplots()`. \n",
        "\n",
        "By default, `plt.subplots()` returns a figure and an axes as a tuple. \n",
        "\n",
        "`fig, ax = plt.subplot()`\n",
        "\n",
        "You can treat `ax` much like you treated `plt` above, using `ax.hist()`, `ax.scatter()`, etc, though some methods have slightly different names (`ax.set_xlabel()` instead of `plt.xlabel()`)\n",
        "\n",
        "You can also tell `plt.subplot()` to return more axes, depending on the numbers of rows and columns you assign to the figure. The following line will create a figure with two subplots, arranged next to each other on the same row.\n",
        "\n",
        "`fig, (ax1, ax2) = plt.subplot(nrow=1, ncols=2)`"
      ],
      "metadata": {
        "id": "HveQVbkgsOFq"
      }
    },
    {
      "cell_type": "markdown",
      "source": [
        "Let's recreate the histograms above, but in a single figure."
      ],
      "metadata": {
        "id": "5eb_tgN2sVhi"
      }
    },
    {
      "cell_type": "code",
      "source": [
        "fig, (ax1, ax2) = plt.subplots(nrows=2, ncols=1)\n",
        "\n",
        "ax1.hist('Horsepower', bins= 25, histtype=\"bar\", data=df)\n",
        "ax1.set_xlabel(\"Horsepower\")\n",
        "ax1.set_ylabel(\"Number of vehicles\")\n",
        "\n",
        "ax2.hist('Highway mpg', bins=25, histtype='bar', data=df)\n",
        "ax2.set_xlabel(\"Highway mpg\")\n",
        "ax2.set_ylabel(\"Number of vehicles\")"
      ],
      "metadata": {
        "id": "rSIh8w-TsV9B"
      },
      "execution_count": null,
      "outputs": []
    },
    {
      "cell_type": "markdown",
      "metadata": {
        "execution": {},
        "id": "mlu2WK0Rjf8S"
      },
      "source": [
        "### Coding Exercise 2.2: Writing a Function to Visualize Our Date\n",
        "\n",
        "Let's put the above plots together in one function that will allow us to easily visualize our data as we move through the tutorial.\n",
        "\n",
        "\n",
        "\n"
      ]
    },
    {
      "cell_type": "code",
      "source": [
        "def plt_cars(df):\n",
        "  \"\"\"Plot histograms of 'Horsepower' and ' Highway mpg' from the Cars dataset, \n",
        "  as well as a scatterplot of 'Horsepower' vs. 'Highway mpg'.\n",
        "\n",
        "  Args:\n",
        "    df (DataFrame): Cars dataset, with variables 'Horsepower' and 'Highway 'mpg'.\n",
        "\n",
        "  Returns:\n",
        "    None\n",
        "  \"\"\"\n",
        "  ###########################################################################\n",
        "  ## TODO for students: Complete this function for plotting histograms of \n",
        "  ## 'Horsepower' and ' Highway mpg' and a scatterplot of 'Horsepower' vs. \n",
        "  ## 'Highway mpg'.\n",
        "  raise NotImplementedError('student exercise: write function for visualizing Cars')\n",
        "  ###########################################################################\n",
        "\n",
        "  # Compute means\n",
        "  means = ...\n",
        "\n",
        "  # Creates figure and axes objects\n",
        "  fig_a, (ax1, ax2) = plt.subplots(1, 2)\n",
        "\n",
        "  # Visualize 'Horsepower'\n",
        "  ax1.hist(..., data=...)\n",
        "  ax1.set_xlabel(\"Horsepower\")\n",
        "  ax1.set_ylabel(\"Number of vehicles\")\n",
        "  ax1.axvline(..., color='orange')\n",
        "\n",
        "  # Visualize 'Highway mpg'\n",
        "  ax2.hist(..., data=...)\n",
        "  ax2.set_xlabel(\"Highway mpg\")\n",
        "  ax2.set_ylabel(\"Number of vehicles\")\n",
        "  ax2.axvline(..., color='orange')\n",
        "  print(fig_a)\n",
        "\n",
        "  print('\\n')\n",
        "\n",
        "  # Visualize the relationship between 'Horsepower' and 'Highway mpg'\n",
        "  fig_b, ax = plt.subplots(1, 1)\n",
        "  ax.scatter(x=..., y=..., data=...)\n",
        "  ax.set_xlabel('Horsepower')\n",
        "  ax.set_ylabel('Highway mpg')\n",
        "  print(fig_b)\n",
        "\n",
        "plt_hist(df)"
      ],
      "metadata": {
        "id": "gvKIGj9JdwzW"
      },
      "execution_count": null,
      "outputs": []
    },
    {
      "cell_type": "markdown",
      "source": [
        "## Section 2.3: What's with that point?\n",
        "\n",
        "By now, you've likely noticed that there is a clear outlier with a 'Highway mpg' value far greater than the other vehicles in our dataset. A good first step to take in addressing this point would be to identify it. "
      ],
      "metadata": {
        "id": "H-GVwxSi5wwb"
      }
    },
    {
      "cell_type": "code",
      "source": [
        "# @title Video 5: What is this car?\n",
        "from ipywidgets import widgets\n",
        "from IPython.display import display, IFrame, YouTubeVideo\n",
        "\n",
        "out1 = widgets.Output()\n",
        "with out1:\n",
        "  video = YouTubeVideo(id=\"tpa1deNQxDQ\", width=854, height=480, fs=1, rel=0)\n",
        "  print(f'Video available at https://youtube.com/watch?v={video.id}')\n",
        "  display(video)\n",
        "\n",
        "out = widgets.Tab([out1])\n",
        "out.set_title(0, 'Youtube')\n",
        "\n",
        "display(out)"
      ],
      "metadata": {
        "id": "Pa9buSMtlpME",
        "cellView": "form"
      },
      "execution_count": null,
      "outputs": []
    },
    {
      "cell_type": "markdown",
      "source": [
        "### Coding Exercise 2.3: Identifying the outlier\n",
        "\n",
        "We discussed in Section 1.1 how we can use variable names to subset our data by column and boolean expressions like `df['Speed'] > 30` to subset by row. Combine these two techniques to print the 'ID' of the outlier. "
      ],
      "metadata": {
        "id": "cpqqRzVu6wNR"
      }
    },
    {
      "cell_type": "code",
      "source": [
        "###########################################################################\n",
        "## TODO for students: Print the 'ID' of the outlier. \n",
        "raise NotImplementedError('student exercise: print outlier ID')\n",
        "###########################################################################\n",
        "\n",
        "print(df[...][...])"
      ],
      "metadata": {
        "id": "nkMfIlpS8hcA"
      },
      "execution_count": null,
      "outputs": []
    },
    {
      "cell_type": "markdown",
      "source": [
        "---\n",
        "\n",
        "# Section 3: Discussion\n",
        "- That outlier you found. Is it real or a coding error? How would you go about it?\n",
        "\n",
        "- When is it appropriate to store your data in NumPy arrays?\n",
        "- When should you instead utilize a Pandas DataFrame?"
      ],
      "metadata": {
        "id": "7fQjCpn-fbEj"
      }
    }
  ],
  "metadata": {
    "colab": {
      "collapsed_sections": [],
      "name": "Module_3_Tutorial1",
      "provenance": [],
      "toc_visible": true,
      "include_colab_link": true
    },
    "kernel": {
      "display_name": "Python 3",
      "language": "python",
      "name": "python3"
    },
    "kernelspec": {
      "display_name": "Python 3",
      "name": "python3"
    },
    "language_info": {
      "codemirror_mode": {
        "name": "ipython",
        "version": 3
      },
      "file_extension": ".py",
      "mimetype": "text/x-python",
      "name": "python",
      "nbconvert_exporter": "python",
      "pygments_lexer": "ipython3",
      "version": "3.7.11"
    },
    "widgets": {
      "application/vnd.jupyter.widget-state+json": {
        "99e28e99a0b045ce98c99a93f4ac6a55": {
          "model_module": "@jupyter-widgets/controls",
          "model_name": "TabModel",
          "model_module_version": "1.5.0",
          "state": {
            "_view_name": "TabView",
            "_dom_classes": [],
            "_titles": {
              "0": "Calendar"
            },
            "_model_name": "TabModel",
            "_view_module": "@jupyter-widgets/controls",
            "selected_index": 0,
            "_model_module_version": "1.5.0",
            "_view_count": null,
            "_view_module_version": "1.5.0",
            "box_style": "",
            "layout": "IPY_MODEL_4158f6af6d23437b99e7b59ba98d50b0",
            "_model_module": "@jupyter-widgets/controls",
            "children": [
              "IPY_MODEL_bac539333fb4440d9a0218af97469dbf"
            ]
          }
        },
        "4158f6af6d23437b99e7b59ba98d50b0": {
          "model_module": "@jupyter-widgets/base",
          "model_name": "LayoutModel",
          "model_module_version": "1.2.0",
          "state": {
            "_view_name": "LayoutView",
            "grid_template_rows": null,
            "right": null,
            "justify_content": null,
            "_view_module": "@jupyter-widgets/base",
            "overflow": null,
            "_model_module_version": "1.2.0",
            "_view_count": null,
            "flex_flow": null,
            "width": null,
            "min_width": null,
            "border": null,
            "align_items": null,
            "bottom": null,
            "_model_module": "@jupyter-widgets/base",
            "top": null,
            "grid_column": null,
            "overflow_y": null,
            "overflow_x": null,
            "grid_auto_flow": null,
            "grid_area": null,
            "grid_template_columns": null,
            "flex": null,
            "_model_name": "LayoutModel",
            "justify_items": null,
            "grid_row": null,
            "max_height": null,
            "align_content": null,
            "visibility": null,
            "align_self": null,
            "height": null,
            "min_height": null,
            "padding": null,
            "grid_auto_rows": null,
            "grid_gap": null,
            "max_width": null,
            "order": null,
            "_view_module_version": "1.2.0",
            "grid_template_areas": null,
            "object_position": null,
            "object_fit": null,
            "grid_auto_columns": null,
            "margin": null,
            "display": null,
            "left": null
          }
        },
        "bac539333fb4440d9a0218af97469dbf": {
          "model_module": "@jupyter-widgets/output",
          "model_name": "OutputModel",
          "model_module_version": "1.0.0",
          "state": {
            "_view_name": "OutputView",
            "msg_id": "",
            "_dom_classes": [],
            "_model_name": "OutputModel",
            "outputs": [
              {
                "output_type": "display_data",
                "data": {
                  "text/html": "\n        <iframe\n            width=\"600\"\n            height=\"480\"\n            src=\"https://calendar.google.com/calendar/embed?src=356b9d2nspjttvgbb3tvgk2f58%40group.calendar.google.com&ctz=America%2FNew_York\"\n            frameborder=\"0\"\n            allowfullscreen\n        ></iframe>\n        ",
                  "text/plain": "<IPython.lib.display.IFrame at 0x7f2dc45d7950>"
                },
                "metadata": {}
              }
            ],
            "_view_module": "@jupyter-widgets/output",
            "_model_module_version": "1.0.0",
            "_view_count": null,
            "_view_module_version": "1.0.0",
            "layout": "IPY_MODEL_e0d00db65b524e2ca4d173f72bd9d21c",
            "_model_module": "@jupyter-widgets/output"
          }
        },
        "e0d00db65b524e2ca4d173f72bd9d21c": {
          "model_module": "@jupyter-widgets/base",
          "model_name": "LayoutModel",
          "model_module_version": "1.2.0",
          "state": {
            "_view_name": "LayoutView",
            "grid_template_rows": null,
            "right": null,
            "justify_content": null,
            "_view_module": "@jupyter-widgets/base",
            "overflow": null,
            "_model_module_version": "1.2.0",
            "_view_count": null,
            "flex_flow": null,
            "width": null,
            "min_width": null,
            "border": null,
            "align_items": null,
            "bottom": null,
            "_model_module": "@jupyter-widgets/base",
            "top": null,
            "grid_column": null,
            "overflow_y": null,
            "overflow_x": null,
            "grid_auto_flow": null,
            "grid_area": null,
            "grid_template_columns": null,
            "flex": null,
            "_model_name": "LayoutModel",
            "justify_items": null,
            "grid_row": null,
            "max_height": null,
            "align_content": null,
            "visibility": null,
            "align_self": null,
            "height": null,
            "min_height": null,
            "padding": null,
            "grid_auto_rows": null,
            "grid_gap": null,
            "max_width": null,
            "order": null,
            "_view_module_version": "1.2.0",
            "grid_template_areas": null,
            "object_position": null,
            "object_fit": null,
            "grid_auto_columns": null,
            "margin": null,
            "display": null,
            "left": null
          }
        }
      }
    }
  },
  "nbformat": 4,
  "nbformat_minor": 0
}