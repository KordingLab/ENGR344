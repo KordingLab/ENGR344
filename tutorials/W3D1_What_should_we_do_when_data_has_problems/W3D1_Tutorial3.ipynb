{
  "cells": [
    {
      "cell_type": "markdown",
      "metadata": {
        "id": "view-in-github",
        "colab_type": "text"
      },
      "source": [
        "<a href=\"https://colab.research.google.com/github/KordingLab/ENGR344/blob/master/tutorials/W3D1_What_should_we_do_when_data_has_problems/W3D1_Tutorial3.ipynb\" target=\"_parent\"><img src=\"https://colab.research.google.com/assets/colab-badge.svg\" alt=\"Open In Colab\"/></a>"
      ]
    },
    {
      "cell_type": "markdown",
      "metadata": {
        "execution": {},
        "id": "GwG32kd0jf8H"
      },
      "source": [
        "\n",
        "\n",
        "```\n",
        "# This is formatted as code\n",
        "```\n",
        "\n",
        "# Tutorial 3: Missing Data\n",
        "**Week 3: What should we do when data has problems?**\n",
        "\n",
        "**Content creators**: Rob Lindgren\n",
        "\n",
        "**Content reviewers**: Konrad Kording, Keervani Kandala\n",
        "\n",
        "**Content modifiers**: ---\n",
        "\n",
        "**Modified Content reviewer**: ---\n"
      ]
    },
    {
      "cell_type": "code",
      "source": [
        "# @title Due Dates Calendar\n",
        "\n",
        "from ipywidgets import widgets\n",
        "from IPython.display import display, IFrame, YouTubeVideo\n",
        "\n",
        "\n",
        "out1 = widgets.Output()\n",
        "with out1:\n",
        "  calendar = IFrame(src=\"https://calendar.google.com/calendar/embed?src=356b9d2nspjttvgbb3tvgk2f58%40group.calendar.google.com&ctz=America%2FNew_York\", width=600, height=480)\n",
        "  display(calendar)\n",
        "\n",
        "out = widgets.Tab([out1])\n",
        "out.set_title(0, 'Calendar')\n",
        "\n",
        "display(out)"
      ],
      "metadata": {
        "cellView": "form",
        "id": "_QDOJ0K8_sYg",
        "outputId": "f9c5a9f8-b354-4015-cf26-eea590a8e814",
        "colab": {
          "base_uri": "https://localhost:8080/",
          "height": 563,
          "referenced_widgets": [
            "e3f9ec182d1347548ae7d9fd58ff41d2",
            "e97ef9097aab48d7be8cd7d684b0981a",
            "532040edc1714008aa3e296f285f2748",
            "1abaa4f8eca94dea91a60137073e321e"
          ]
        }
      },
      "execution_count": null,
      "outputs": [
        {
          "output_type": "display_data",
          "data": {
            "application/vnd.jupyter.widget-view+json": {
              "model_id": "e3f9ec182d1347548ae7d9fd58ff41d2",
              "version_minor": 0,
              "version_major": 2
            },
            "text/plain": [
              "Tab(children=(Output(),), _titles={'0': 'Calendar'})"
            ]
          },
          "metadata": {}
        }
      ]
    },
    {
      "cell_type": "markdown",
      "metadata": {
        "execution": {},
        "id": "mngEsmgIjf8J"
      },
      "source": [
        "___\n",
        "# Tutorial Objectives\n",
        "\n",
        "*Estimated timing of tutorial: __ minutes*\n",
        "\n",
        "This is tutorial 3 in a 3-part series on how to handle data that has problems. In this tutorial, we will learn about missing data: what problems does it pose, how it is represented in base Python, NumPy, and Pandas, how to identify them, and how to remove or fill them. By the end of this tutorial, you will be able to:\n",
        "\n",
        "- Explain the problems caused by missing values\n",
        "- Explain the different types of missing values\n",
        "- Identify missing values in NumPy and Pandas\n",
        "- Remove missing values with NumPy and Pandas\n",
        "- Fill in missing values with Pandas using a single value or a linear estimate"
      ]
    },
    {
      "cell_type": "code",
      "execution_count": null,
      "metadata": {
        "execution": {},
        "id": "zK3D5SfMjf8K",
        "colab": {
          "base_uri": "https://localhost:8080/",
          "height": 502
        },
        "outputId": "8a51199d-4727-45f5-acc1-224347a3b0fc",
        "cellView": "form"
      },
      "outputs": [
        {
          "output_type": "execute_result",
          "data": {
            "text/html": [
              "\n",
              "        <iframe\n",
              "            width=\"854\"\n",
              "            height=\"480\"\n",
              "            src=\"https://mfr.ca-1.osf.io/render?url=https://osf.io/hncv7/?direct%26mode=render%26action=download%26mode=render\"\n",
              "            frameborder=\"0\"\n",
              "            allowfullscreen\n",
              "        ></iframe>\n",
              "        "
            ],
            "text/plain": [
              "<IPython.lib.display.IFrame at 0x7fd1594eb190>"
            ]
          },
          "metadata": {},
          "execution_count": 1
        }
      ],
      "source": [
        "# @title Tutorial slides\n",
        " \n",
        "# @markdown These are the slides for the videos in all tutorials today\n",
        "from IPython.display import IFrame\n",
        "\n",
        "IFrame(src=f\"https://mfr.ca-1.osf.io/render?url=https://osf.io/hncv7/?direct%26mode=render%26action=download%26mode=render\", width=854, height=480)"
      ]
    },
    {
      "cell_type": "markdown",
      "metadata": {
        "execution": {},
        "id": "GvEi-BMsjf8L"
      },
      "source": [
        "---\n",
        "# Setup"
      ]
    },
    {
      "cell_type": "code",
      "execution_count": null,
      "metadata": {
        "cellView": "code",
        "execution": {},
        "id": "YY7HrpSyjf8L"
      },
      "outputs": [],
      "source": [
        "# Imports\n",
        "\n",
        "import numpy as np\n",
        "import pandas as pd\n",
        "import matplotlib.pyplot as plt\n",
        "import random"
      ]
    },
    {
      "cell_type": "code",
      "source": [
        "# @title Create different kinds of missing data\n",
        "\n",
        "def mcar(df_in, var_list, true_probs):\n",
        "  \"\"\"Replaces values in the columns named by var_list with None such that\n",
        "  the data in those columns are missing-completely-at-random.\n",
        "\n",
        "  Args:\n",
        "    df_in (DataFrame): Pandas DataFrame containing all variables in var_list.\n",
        "    var_list (list of strings): List of variable names to which missing values\n",
        "      will be assigned.\n",
        "    true_prob (list of numbers): Each entry in true_prop indicates the probability\n",
        "      of a missing value being assigned. It is the same length as var_list and\n",
        "      the first entry corresponds to the first variable, the second to the second,\n",
        "      etc. All entries must be between 0 and 1 inclusive.\n",
        "\n",
        "  Returns:\n",
        "    The DataFrame df_in, but with all variables in var_list now MCAR.\n",
        "  \"\"\"\n",
        "  df = df_in.copy()\n",
        "\n",
        "  n = df.shape[0]\n",
        "  rng = np.random.RandomState(2)\n",
        "  for var, t in zip(var_list, true_probs):\n",
        "    f = 1-t\n",
        "    mask = rng.choice([True, False], size=n, p=[t, f])\n",
        "    df.loc[mask, [var]] = None\n",
        "\n",
        "  return df\n",
        "\n",
        "def mar(df_in, var_list, true_probs, fact_var, fact_val):\n",
        "  \"\"\"Replaces values in the columns named by var_list with None such that\n",
        "  the data in those columns are missing-at-random.\n",
        "\n",
        "  Args:\n",
        "    df_in (DataFrame): Pandas DataFrame containing all variables in var_list.\n",
        "    var_list (list of strings): List of variable names to which missing values\n",
        "      will be assigned.\n",
        "    true_prob (list of numbers): Each entry in true_prop indicates the probability\n",
        "      of a missing value being assigned. It is the same length as var_list and\n",
        "      the first entry corresponds to the first variable, the second to the second,\n",
        "      etc. All entries must be between 0 and 1 inclusive.\n",
        "    fact_var (string): Name of a factor variable in df_in that will determine \n",
        "      which observations are assignmed missing values and which are not.\n",
        "    fact_val (dtype of df_in[fact_var]): The value of fact_var for which missing\n",
        "      values will be assigned. \n",
        "\n",
        "  Returns:\n",
        "    The DataFrame df_in, but with all variables in var_list now MCAR.\n",
        "  \"\"\"\n",
        "  df = df_in.copy()\n",
        "  df_sub = df[df[fact_var] == fact_val].copy()\n",
        "  df = df[df[fact_var] != fact_val].copy()\n",
        "\n",
        "  n = df_sub.shape[0]\n",
        "  rng = np.random.RandomState(2)\n",
        "\n",
        "  for var, t in zip(var_list, true_probs):\n",
        "    f = 1-t\n",
        "    mask = rng.choice([True, False], size=n, p=[t, f])\n",
        "    df_sub.loc[mask, var] = None \n",
        "\n",
        "  df = df.append(df_sub)\n",
        "\n",
        "  return df\n",
        "\n",
        "def mnar(df_in):\n",
        "  \"\"\"Replaces values in the 'Highway mpg' column with None such that\n",
        "  the data in those columns are missing-not-at-random.\n",
        "\n",
        "  Args:\n",
        "    df_in (DataFrame): Pandas DataFrame containing all variables in var_list.\n",
        "\n",
        "  Returns:\n",
        "    The DataFrame df_in, but with all 'Highway mpg' now MCAR.\n",
        "  \"\"\"\n",
        "  df_bias = df_in.copy()\n",
        "  df_bias = df.copy()\n",
        "  #df_bias.loc[(df_bias['Highway mpg'] > 25) & (df_bias['Horsepower'] < 350), 'Highway mpg'] = None\n",
        "  df_bias.loc[df_bias['Highway mpg'] > 25, 'Highway mpg'] = None\n",
        "\n",
        "  return df_bias\n",
        "\n",
        "def choose_missing(df_in):\n",
        "\n",
        "  choice_dict = {'mcar' : mcar(df_in, var_list=['Highway mpg'], true_probs=[0.2]),\n",
        "                 'mar' : mar(df_in, var_list=['Highway mpg'], true_probs=[0.2], fact_var='Driveline', fact_val='All-wheel drive'),\n",
        "                 'mnar' : mnar(df_in)}\n",
        "\n",
        "  rng = np.random.RandomState(1)\n",
        "  fn_order = rng.choice(['mcar', 'mar', 'mnar'], size=3, replace=False)\n",
        "\n",
        "  output_df = {'data' : {'A' : None, 'B' : None, 'C' : None},\n",
        "               'name' : {'A' : None, 'B' : None, 'C' : None}}\n",
        "  for fn,letter in zip(fn_order, ['A', 'B', 'C']):\n",
        "    output_df['data'][letter] = choice_dict[fn]\n",
        "    output_df['name'][letter] = fn\n",
        "\n",
        "  return output_df"
      ],
      "metadata": {
        "id": "c4ZQYm8vb4GD",
        "cellView": "form"
      },
      "execution_count": null,
      "outputs": []
    },
    {
      "cell_type": "code",
      "source": [
        "# @title Plotting Functions\n",
        "\n",
        "# Solution\n",
        "def plt_cars(df):\n",
        "  \"\"\"Plot histograms of 'Horsepower' and ' Highway mpg' from the Cars dataset, \n",
        "  as well as a scatterplot of 'Horsepower' vs. 'Highway mpg'.\n",
        "\n",
        "  Args:\n",
        "    df (DataFrame): Cars dataset, with variables 'Horsepower' and 'Highway 'mpg'.\n",
        "\n",
        "  Returns:\n",
        "    None\n",
        "  \"\"\"\n",
        "\n",
        "  # Compute means\n",
        "  means = df.mean()\n",
        "\n",
        "  # Create figure and axes objects\n",
        "  fig_a, (ax1, ax2) = plt.subplots(1, 2)\n",
        "  \n",
        "  # Visualize 'Horsepower'\n",
        "  ax1.hist('Horsepower', data=df)\n",
        "  ax1.set_xlabel(\"Horsepower\")\n",
        "  ax1.set_ylabel(\"Number of vehicles\")\n",
        "  ax1.axvline(means['Horsepower'], color='Orange')\n",
        "\n",
        "  # Visualize 'Highway mpg'\n",
        "  ax2.hist('Highway mpg', data=df)\n",
        "  ax2.set_xlabel(\"Highway mpg\")\n",
        "  ax2.set_ylabel(\"Number of vehicles\")\n",
        "  ax2.axvline(means['Highway mpg'], color='Orange')\n",
        "  print(fig_a)\n",
        "\n",
        "  print('\\n')\n",
        "  \n",
        "  # Visualize the relationship between 'Horsepower' and 'Highway mpg'\n",
        "  fig_b, ax = plt.subplots(1, 1)\n",
        "  ax.scatter('Horsepower', 'Highway mpg', data=df)\n",
        "  ax.set_xlabel('Horsepower')\n",
        "  ax.set_ylabel('Highway mpg')\n",
        "  print(fig_b)\n",
        "\n",
        "def plt_reg(df_in, x, y, y_pred):\n",
        "  \"\"\"Creates a scatterplot of x and y from df_in, then overlays a lineplot\n",
        "  of x and y_pred over top.\n",
        "\n",
        "  Args:\n",
        "    df_in (DataFrame): Dataset with variables labeled x and y.\n",
        "    x (string): Name of variable to be plotted on x-axis.\n",
        "    y (string): Name of variable to be plotted on y-axis.\n",
        "    y_pred (array-like): Predicted y values resulting from regression.\n",
        "\n",
        "  Returns:\n",
        "    None\n",
        "  \"\"\"\n",
        "  df = df_in.copy()\n",
        "  fig, ax = plt.subplots(1, )\n",
        "  ax.scatter(x, y, data=df)\n",
        "  ax.plot(df[x], y_pred, color='red', linewidth=3)\n",
        "  print(fig)\n"
      ],
      "metadata": {
        "id": "OrOmn-xaNlug",
        "cellView": "form"
      },
      "execution_count": null,
      "outputs": []
    },
    {
      "cell_type": "code",
      "source": [
        "# @title Helper function for linear regression\n",
        "def regress(df_in, x_lab, y_lab):\n",
        "  \"\"\"Performs linear regression of y_lab on x_lab variables from \n",
        "  dataframe df_in. Returns results in a dictionary.\n",
        "\n",
        "  Args:\n",
        "    df_in (DataFrame): Pandas DataFrame with variables named\n",
        "      x_lab and y_lab.\n",
        "    x_lab (string): Name of independent variable for regression.\n",
        "    y_lab (string): Name of dependent variable for regression.\n",
        "\n",
        "  Returns:\n",
        "    A dictionary of the following form...\n",
        "      {'prediction' : predicted_values,\n",
        "      'intercept' : intercept\n",
        "      'coef' : coefficient}\n",
        "  \"\"\"\n",
        "  \n",
        "  # Takes a dataframe and two variable names from the dataframe\n",
        "  # and returns a dictionary with the regression results.\n",
        "\n",
        "  # Output dictionary looks like this...\n",
        "  # {'prediction' : predicted_values,\n",
        "  #  'intercept' : intercept\n",
        "  #  'coef' : coefficient}\n",
        "  df = df_in.copy()\n",
        "\n",
        "  from sklearn.linear_model import LinearRegression\n",
        "\n",
        "  x = df.loc[:, [x_lab]].values.reshape(-1, 1)  # values converts it into a numpy array\n",
        "  y = df.loc[:, [y_lab]].values.reshape(-1, 1)  # -1 means that calculate the dimension of rows, but have 1 column\n",
        "  reg = LinearRegression()  # create object for the class\n",
        "  reg.fit(x, y)  # perform linear regression\n",
        "  y_pred = reg.predict(x)  # make predictions\n",
        "\n",
        "  out = {'prediction' : reg.predict(x),\n",
        "        'intercept' : reg.intercept_[0],\n",
        "        'coef' : reg.coef_[0][0]}\n",
        "\n",
        "  return out"
      ],
      "metadata": {
        "id": "dDi7CbuiT3LL",
        "cellView": "form"
      },
      "execution_count": null,
      "outputs": []
    },
    {
      "cell_type": "code",
      "source": [
        "# @title Helper functions to detect and remove outliers\n",
        "def detect_outliers(df_in, thresh):\n",
        "  df = df_in.copy()\n",
        "  df_z = (df - df.mean()) / df.std()\n",
        "  df_out = np.abs(df_z) > thresh\n",
        "  return df_out\n",
        "  \n",
        "def remove_outliers(df_in, thresh):\n",
        "  df = df_in.copy()\n",
        "  df_out = df[np.logical_not(detect_outliers(df, thresh)).all(axis=1)]\n",
        "  return df_out"
      ],
      "metadata": {
        "id": "jSkYM1ROYOFp",
        "cellView": "form"
      },
      "execution_count": null,
      "outputs": []
    },
    {
      "cell_type": "markdown",
      "metadata": {
        "execution": {},
        "id": "loUlF0Sojf8T"
      },
      "source": [
        "---\n",
        "# Prepare Data\n",
        "\n",
        "*Estimated timing to here from start of tutorial: 90 min*\n",
        "\n",
        "In this tutorial we will learn how to identify and handline both outliers and missing values in our data while we continue to investigate the Cars dataset.\n",
        "\n",
        "Once again, let's load the Cars dataset, subset it, and verify that we got the subset that we expected.\n"
      ]
    },
    {
      "cell_type": "code",
      "source": [
        "data_url = 'https://raw.githubusercontent.com/RealTimeWeb/datasets/master/datasets/csv/cars/cars.csv'\n",
        "df = pd.read_csv(data_url)[['ID', 'Driveline', 'Horsepower', 'Highway mpg']]\n",
        "df.head()"
      ],
      "metadata": {
        "id": "SSbi1PfxOqSq"
      },
      "execution_count": null,
      "outputs": []
    },
    {
      "cell_type": "markdown",
      "source": [
        "Now let's use our `remove_outliers()` function from the last tutorial to remove all data points that are 3 or more standard deviations from the mean of their respective distributions."
      ],
      "metadata": {
        "id": "VWB0DKtrX3L1"
      }
    },
    {
      "cell_type": "code",
      "source": [
        "print(df.shape)\n",
        "df = remove_outliers(df, 3)\n",
        "print(df.shape)"
      ],
      "metadata": {
        "id": "q45twXvaYLr5"
      },
      "execution_count": null,
      "outputs": []
    },
    {
      "cell_type": "markdown",
      "source": [
        "# Section 1: What problems do missing values pose?\n",
        "\n",
        "Missing values cause three key problems in data analysis:\n",
        "- Reduction of statistical power\n",
        "- Biased results\n",
        "- Reduced representativeness of samples"
      ],
      "metadata": {
        "id": "KpEhByCcP5W-"
      }
    },
    {
      "cell_type": "code",
      "source": [
        "# @title Video 1: Missing data\n",
        "from ipywidgets import widgets\n",
        "from IPython.display import display, IFrame, YouTubeVideo\n",
        "\n",
        "\n",
        "out1 = widgets.Output()\n",
        "with out1:\n",
        "  video = YouTubeVideo(id=\"-JwyylR2YEg\", width=854, height=480, fs=1, rel=0)\n",
        "  print(f'Video available at https://youtube.com/watch?v={video.id}')\n",
        "  display(video)\n",
        "\n",
        "out = widgets.Tab([out1])\n",
        "out.set_title(0, 'Youtube')\n",
        "\n",
        "display(out)"
      ],
      "metadata": {
        "id": "l_i0B12q377N",
        "colab": {
          "base_uri": "https://localhost:8080/",
          "height": 581,
          "referenced_widgets": [
            "d6a6886923aa4fdc81701f1fccefff66",
            "5c9d7a1ac36c47f79de0a1352ae8fc19",
            "6aa405c633a14642803cac8a637dd932",
            "877786d17ef349c9850eeef276861360"
          ]
        },
        "outputId": "7fb2d78f-d347-4438-e78d-2b4ed533ce8c"
      },
      "execution_count": null,
      "outputs": [
        {
          "output_type": "display_data",
          "data": {
            "application/vnd.jupyter.widget-view+json": {
              "model_id": "d6a6886923aa4fdc81701f1fccefff66",
              "version_minor": 0,
              "version_major": 2
            },
            "text/plain": [
              "Tab(children=(Output(),), _titles={'0': 'Youtube'})"
            ]
          },
          "metadata": {}
        }
      ]
    },
    {
      "cell_type": "markdown",
      "source": [
        "Discuss missing not at random (MNAR) as it relates to your field."
      ],
      "metadata": {
        "id": "UuKHV77N7MEE"
      }
    },
    {
      "cell_type": "markdown",
      "source": [
        "## Section 1.1: Reduction of statistical power"
      ],
      "metadata": {
        "id": "cT4VdAGnO-si"
      }
    },
    {
      "cell_type": "markdown",
      "source": [
        "Statistical power is the likelihood of rejecting a null hypothesis when the null hypothesis is false, i.e. when you *should* reject the null hypothesis. Missing values, when not filled in somehow, reduce sample size which, in turn, reduces statistical power.\n",
        "\n",
        "Even a small number of missing values per variable can be a serious issue when our analysis requires multiple variables. Take the following dataset, for example:"
      ],
      "metadata": {
        "id": "Zr5oKjJY0LBl"
      }
    },
    {
      "cell_type": "code",
      "source": [
        "bad_df = pd.DataFrame({'Speed' : [1, None, 3, 4, 5],\n",
        "                       'Horsepower' : [6, 7, None, 9, 10],\n",
        "                       'Mpg' : [11, 12, 13, None, 15]})\n",
        "bad_df"
      ],
      "metadata": {
        "id": "UW5s37DL4b1U"
      },
      "execution_count": null,
      "outputs": []
    },
    {
      "cell_type": "markdown",
      "source": [
        "Each column is missing just one value, but if we require all three for our analysis, then we are left with only two complete observations."
      ],
      "metadata": {
        "id": "bv1qlIw-4xAW"
      }
    },
    {
      "cell_type": "code",
      "source": [
        "bad_df.dropnav()"
      ],
      "metadata": {
        "id": "uyNhz_eE45yX"
      },
      "execution_count": null,
      "outputs": []
    },
    {
      "cell_type": "markdown",
      "source": [
        "## Section 1.2: Bias and reduced representativeness of samples.\n",
        "\n",
        "There may or may not be a pattern to the missingness of our data. The presence of a pattern will determine whether and how missing values result in a less representative sample and bias our results. Missing data can be:\n",
        "\n",
        "- **Missing completely at random (MCAR):** Data is MCAR when the missingness of values is unrelated to what is being measured. Surveys may get lost in the mail, a faulty instrument may occassionally fail to register a measurement independently of what is being measured, and lab samples may be damaged before they can be tested. If data that is truly MCAR, the sample obtained will still be representative and estimates will be unbiased. \n",
        "\n",
        "- **Missing at random (MAR):** Data is MAR when the missingness of values is related variables in our dataset *other than* the variable with the missing value. If surveys are predictably lost in the mail in one zipcode but not others (and the zipcode is in our data), then the missing values are MAR. Similarly, if the faulty instrument more frequently fails on hot days rather than cold days (and we have a variable indicating hot and cold days in our data), those values are also MAR. As long as we properly account for the pattern with which our MAR data is missing, we can get a representative sample and an unbiased result.\n",
        "\n",
        "- **Missing not at random (MNAR):** Data is MNAR when missingness is related to what is being measured. If our faulty instrument is a thermometer that regularly fails to record a temperature on hot days, those values would be MNAR. This is the most problematic type of missing data. The only way to get an unbiased result is to either go out and retrieve the missing data or accurately model it.\n"
      ],
      "metadata": {
        "id": "37-uS99h6j6o"
      }
    },
    {
      "cell_type": "markdown",
      "source": [
        "# Section 2: How are missing values represented?"
      ],
      "metadata": {
        "id": "_seuJeqmQCEv"
      }
    },
    {
      "cell_type": "markdown",
      "source": [
        "## Section 2.1: In general\n",
        "\n",
        "There are two ways to represent missing values:\n",
        "- Masking\n",
        "- Sentinel Values"
      ],
      "metadata": {
        "id": "44byGF5ia5gC"
      }
    },
    {
      "cell_type": "markdown",
      "source": [
        "Masking is typically performed using a boolean array with `True` entries indicating that value is missing and `False` entries indicating that it is not. The below mask tells us that the first and third entries are missing.\n",
        "\n",
        "```\n",
        "mask = [True, False, True, False, False]\n",
        "```"
      ],
      "metadata": {
        "id": "TnNpCPwrVuo3"
      }
    },
    {
      "cell_type": "markdown",
      "source": [
        "Sentinel values are often data-specific, such as extreme values that would not be appropriate to the thing being measured. For example, the US Census counts the total number of people in a household. This number can never be negative, so -1 is a reasonable choice to represent missing values for this particular variable. \n",
        "\n",
        "```\n",
        "hh_members = [2, 1, -1, 3, 5, -1, 2]\n",
        "```\n",
        "\n",
        "Sentinel values can also be conventional, such as the `NaN` (not-a-number) value used by NumPy. `NaN` is a special value in the IEEE floating-point specification set aside for undefined values."
      ],
      "metadata": {
        "id": "A0oheZZCWKtd"
      }
    },
    {
      "cell_type": "code",
      "source": [
        "test = np.arange(10.0)\n",
        "test[2] = np.NaN\n",
        "test"
      ],
      "metadata": {
        "id": "eWzjvlDXYuMs"
      },
      "execution_count": null,
      "outputs": []
    },
    {
      "cell_type": "markdown",
      "source": [
        "There are trade-offs to each of these methods\n",
        "\n",
        "- **Masking** requires the allocation of an additional array, which reduces storage and computational overhead. The degree to which this is a problem will depend on how large the allocated array needs to be.\n",
        "- **Sentinel values in general** require extra logic for computations. For example, you can’t use a sum() function on a variable for which missing values are represented with a -1 without some extra steps.\n",
        "- Using **extreme values** as sentinels reduces the range of values you can represent in your data.\n",
        "- **Special values** like NaN are not available for all data types (there is no NaN for integers). Python libraries like NumPy and Pandas continue to update their handling of missing values to account for this, so it’s worth keeping an eye out for changes to missing value representation.\n"
      ],
      "metadata": {
        "id": "62LgTo_Ba8kW"
      }
    },
    {
      "cell_type": "markdown",
      "source": [
        "## Section 2.2: How NumPy and Pandas represent missing values\n",
        "\n",
        "There are two representations of missing values in Python and its libraries NumPy and Pandas:\n",
        "- `None`\n",
        "- `NaN`"
      ],
      "metadata": {
        "id": "l2hT64Kzao5U"
      }
    },
    {
      "cell_type": "markdown",
      "source": [
        "`None` in Python is of data type 'object', the most general data type. It can only be used in arrays that are also of type 'object'."
      ],
      "metadata": {
        "id": "zOy2gGFdc3Kc"
      }
    },
    {
      "cell_type": "code",
      "source": [
        "arr = np.array([1, 2, None, 4])\n",
        "arr"
      ],
      "metadata": {
        "id": "V_YyhtcSdKiF"
      },
      "execution_count": null,
      "outputs": []
    },
    {
      "cell_type": "markdown",
      "source": [
        "`None`: Base Python uses None to represent missing data\n",
        "None is an object, so it can only be used in arrays with data type “object.” \n",
        "These arrays can hold a variety of data types including integers, floats, and strings, therefore they can’t really be optimized for performing calculations quickly. \n",
        "If you provide an array with a None object to a function like sum(), it will raise an error.\n",
        "\n",
        "`NaN`: This is where NumPy comes in. NumPy relies on the IEEE floating-point NaN (not-a-number) np.nan\n",
        "Because it is part of the IEEE 754 standard, it is recognized by most systems. \n",
        "This supports much faster operations.\n",
        "This also means that aggregations are well-defined over NumPy arrays containing np.nan, so you can use np.sum() (which return np.nan if there is any np.nan in the input) or np.nansum() (which ignores the missing values). \n"
      ],
      "metadata": {
        "id": "abg_CFT1ckNZ"
      }
    },
    {
      "cell_type": "markdown",
      "source": [
        "# Section 3: Identifying and missing values"
      ],
      "metadata": {
        "id": "0ow1sJjgQVIo"
      }
    },
    {
      "cell_type": "markdown",
      "source": [
        "## Section 3.1: Identifying missing values\n",
        "\n",
        "NumPy and Pandas provide us with three handy methods for uncovering missing values: \n",
        "- `np.isnan()`\n",
        "- `df.isnull()`\n",
        "- `df.notnull()`\n",
        "\n",
        "All three of them return a boolean array indicating either the presence (in the case of the first two) or absence (the last one) of missing values."
      ],
      "metadata": {
        "id": "Bo8P19az9XXv"
      }
    },
    {
      "cell_type": "markdown",
      "source": [
        "Returning to our NumPy array from earlier with the NaN at index 2..."
      ],
      "metadata": {
        "id": "3y-LDbOEg2_S"
      }
    },
    {
      "cell_type": "code",
      "source": [
        "test = np.arange(10.0)\n",
        "test[2] = np.NaN\n",
        "test"
      ],
      "metadata": {
        "id": "Alx4gx46g5lf"
      },
      "execution_count": null,
      "outputs": []
    },
    {
      "cell_type": "markdown",
      "source": [
        "We can identify the location of the missing value using `np.isnull()`."
      ],
      "metadata": {
        "id": "x35jpbdJhSy9"
      }
    },
    {
      "cell_type": "code",
      "source": [
        "missings = np.isnan(test)\n",
        "missings"
      ],
      "metadata": {
        "id": "RfBxJe85hbps"
      },
      "execution_count": null,
      "outputs": []
    },
    {
      "cell_type": "markdown",
      "source": [
        "And we can use this boolean array along with `np.logical_not()`, which applies the logical 'not' operator across elements of an array, to remove the missing value."
      ],
      "metadata": {
        "id": "7Xz0wqXHhvfo"
      }
    },
    {
      "cell_type": "code",
      "source": [
        "test[np.logical_not(missings)]"
      ],
      "metadata": {
        "id": "FWwBoDUBiBcu"
      },
      "execution_count": null,
      "outputs": []
    },
    {
      "cell_type": "markdown",
      "source": [
        "We can use the `pd.isnull()` and `pd.notnull` operators on our Cars dataset. Notice that this is a method of the DataFrame object, so for the dataframe `df` you call it using `df.isnull()`."
      ],
      "metadata": {
        "id": "4dkZv6stiQZK"
      }
    },
    {
      "cell_type": "code",
      "source": [
        "df.isnull()"
      ],
      "metadata": {
        "id": "ZsobR10OiXfv"
      },
      "execution_count": null,
      "outputs": []
    },
    {
      "cell_type": "code",
      "source": [
        "df.notnull()"
      ],
      "metadata": {
        "id": "oG_xIdX7inIM"
      },
      "execution_count": null,
      "outputs": []
    },
    {
      "cell_type": "markdown",
      "source": [
        "### Coding Exercise 3.1: Count missing values by variable\n",
        "\n",
        "Pandas DataFrames also have a `sum()` method that we can call by appending it to the DataFrame name, as in `df.sum()`. If you use the `sum()` method on a boolean array, Python will treat `True` values as 1 and `False` values as 0, allowing you to easily count the number of missing values in each column of a DateFrame.\n",
        "\n",
        "*Exercise objective: print the number of missing values in each column of Cars dataset.*\n"
      ],
      "metadata": {
        "id": "CpdlpBwFRvcP"
      }
    },
    {
      "cell_type": "code",
      "source": [
        "###########################################################################\n",
        "## TODO for students: Use df.isnull() and df.sum() to count missing values.\n",
        "raise NotImplementedError('student exercise: count missing values')\n",
        "###########################################################################\n",
        "\n",
        "print(...) # Hint: you can do this in one line by combining both methods"
      ],
      "metadata": {
        "id": "gZ-ZexMkg4VV"
      },
      "execution_count": null,
      "outputs": []
    },
    {
      "cell_type": "code",
      "source": [
        "# to_remove Solution\n",
        "\n",
        "print(df.isnull().sum())\n"
      ],
      "metadata": {
        "id": "FzCIYcr0qTpr"
      },
      "execution_count": null,
      "outputs": []
    },
    {
      "cell_type": "markdown",
      "source": [
        "## Coding Exercise 3.2: Can you detect MCAR, MAR, and MNAR?\n",
        "\n",
        "In the first cell below, we create three different DataFrames: `df_A`, `df_B`, and `df_C`.\n",
        "\n",
        "- One of these DataFrames has 'Highway mpg' values missing-completely-at-random\n",
        "- Another has 'Highway mpg' values missing-at-random with respect to the 'Driveline' variable, i.e., the missing values in 'Highway mpg' are somehow predictable from 'Driveline'\n",
        "- And the third has 'Highway mpg' values missing-not-at-random, i.e., the missing values in 'Highway mpg' depend on real 'Highway mpg' and are not predictable from this dataset at all\n",
        "\n",
        "Using the following tools, figure out which of the DataFrames below is MCAR, which is MAR, and which MNAR. \n",
        "- `plt_cars()`: Visualization is your friend!\n",
        "- You can use a structure like `df.isnull().groupby(df['Driveline']).sum()` to calculate the number of the missing values for each value of Driveline.\n"
      ],
      "metadata": {
        "id": "39FlKI0ipErX"
      }
    },
    {
      "cell_type": "code",
      "source": [
        "# @title Video 1: Detecting the nature of missing data\n",
        "from ipywidgets import widgets\n",
        "from IPython.display import display, IFrame, YouTubeVideo\n",
        "\n",
        "\n",
        "out1 = widgets.Output()\n",
        "with out1:\n",
        "  video = YouTubeVideo(id=\"WM0WJen6QvM\", width=854, height=480, fs=1, rel=0)\n",
        "  print(f'Video available at https://youtube.com/watch?v={video.id}')\n",
        "  display(video)\n",
        "\n",
        "out = widgets.Tab([out1])\n",
        "out.set_title(0, 'Youtube')\n",
        "\n",
        "display(out)"
      ],
      "metadata": {
        "colab": {
          "base_uri": "https://localhost:8080/",
          "height": 581,
          "referenced_widgets": [
            "335e0f580d1a482fab52729767033436",
            "e1dba015d64b4babbf553206fbfa9a19",
            "485949cc0bad42ba83ccdd00d2d65b1a",
            "ae15846cabaa4a068adc06ba89688b47"
          ]
        },
        "id": "LVKiXK8gqrj8",
        "outputId": "9bbec1c5-2f69-4052-b0bb-68bb0e530638"
      },
      "execution_count": null,
      "outputs": [
        {
          "output_type": "display_data",
          "data": {
            "application/vnd.jupyter.widget-view+json": {
              "model_id": "335e0f580d1a482fab52729767033436",
              "version_minor": 0,
              "version_major": 2
            },
            "text/plain": [
              "Tab(children=(Output(),), _titles={'0': 'Youtube'})"
            ]
          },
          "metadata": {}
        }
      ]
    },
    {
      "cell_type": "code",
      "source": [
        "out_df = choose_missing(df)\n",
        "df_A = out_df['data']['A']\n",
        "df_B = out_df['data']['B']\n",
        "df_C = out_df['data']['C']"
      ],
      "metadata": {
        "id": "02SEotxDVXaM"
      },
      "execution_count": null,
      "outputs": []
    },
    {
      "cell_type": "code",
      "source": [
        "###########################################################################\n",
        "## TODO for students: Identify the MCAR, MAR, and MNAR DataFrames.\n",
        "raise NotImplementedError('Identify the MCAR, MAR, and MNAR DataFrames')\n",
        "###########################################################################"
      ],
      "metadata": {
        "id": "NNp3SOlfWZfp"
      },
      "execution_count": null,
      "outputs": []
    },
    {
      "cell_type": "code",
      "source": [
        "# to_remove Solution\n",
        "\n",
        "# There is no obvious pattern to the distribution of missing values across \n",
        "# values of Driveline\n",
        "print(df_A.isnull().groupby(df_A['Driveline']).sum())\n",
        "\n",
        "# Both the histograms and scatterplot look as expected\n",
        "plt_cars(df_A)\n",
        "\n",
        "# Conclusion: df_A is likely MCAR\n"
      ],
      "metadata": {
        "id": "3Rtd_iBxfSkl"
      },
      "execution_count": null,
      "outputs": []
    },
    {
      "cell_type": "code",
      "source": [
        "# to_remove Solution contd.\n",
        "\n",
        "# The missing values seem to be concentrated in Front-wheel drive\n",
        "print(df_B.isnull().groupby(df_B['Driveline']).sum())\n",
        "\n",
        "# The histogram for 'Highway mpg' is entirely cut off above 25\n",
        "# This would mean the missingness of values depends on 'Highway mpg',\n",
        "# i.e., all values greater than 25 are missing, so df_B must be MNAR\n",
        "plt_cars(df_B)\n",
        "\n",
        "# Conclusion: df_B is MNAR"
      ],
      "metadata": {
        "id": "HlaRU_SKgtwL"
      },
      "execution_count": null,
      "outputs": []
    },
    {
      "cell_type": "code",
      "source": [
        "# to_remove Solution contd.\n",
        "\n",
        "# This looks like good evidence that df_C is MAR: There is a relationship between Driveline and missing values\n",
        "print(df_C.isnull().groupby(df_C['Driveline']).sum())\n",
        "\n",
        "# The histograms and scatterplot look roughly as expected, so these don't tell us much\n",
        "plt_cars(df_C)\n",
        "\n",
        "# Conclusion: df_C is MAR"
      ],
      "metadata": {
        "id": "G11ACVIcgyJ7"
      },
      "execution_count": null,
      "outputs": []
    },
    {
      "cell_type": "markdown",
      "source": [
        "### Coding Exercise 3.2 Answer\n",
        "\n",
        "Running the cell below will print out the answer to Coding Exercise 3.2.\n"
      ],
      "metadata": {
        "id": "Ai4TAvR-aphj"
      }
    },
    {
      "cell_type": "code",
      "source": [
        "for key in out_df['name']:\n",
        "  print('DataFrame df_' + key + ' is: ' + out_df['name'][key])"
      ],
      "metadata": {
        "id": "znOR_TuJa2N2"
      },
      "execution_count": null,
      "outputs": []
    },
    {
      "cell_type": "markdown",
      "source": [
        "# Discussion\n",
        "What can us data scientists do in the case of missing data? How should we think about them? Discuss where in the world data is missing and for what reasons."
      ],
      "metadata": {
        "id": "LlNH7I8-rbXF"
      }
    },
    {
      "cell_type": "markdown",
      "source": [
        "# Section 4: Handling missing values\n",
        "\n",
        "Pandas provides methods dropping rows with missing values, filling missing values with a constant, and interpolating missing values using one of several estimation methods.\n",
        "\n",
        "- `df.dropna()`\n",
        "- `df.fillna()`\n",
        "- `df.interpolate()`"
      ],
      "metadata": {
        "id": "CGPgyvvl9fAc"
      }
    },
    {
      "cell_type": "code",
      "source": [
        "# @title Video 1: Missing Intuitions\n",
        "from ipywidgets import widgets\n",
        "from IPython.display import display, IFrame, YouTubeVideo\n",
        "\n",
        "\n",
        "out1 = widgets.Output()\n",
        "with out1:\n",
        "  video = YouTubeVideo(id=\"QGAbapaBl7I\", width=854, height=480, fs=1, rel=0)\n",
        "  print(f'Video available at https://youtube.com/watch?v={video.id}')\n",
        "  display(video)\n",
        "\n",
        "out = widgets.Tab([out1])\n",
        "out.set_title(0, 'Youtube')\n",
        "\n",
        "display(out)"
      ],
      "metadata": {
        "id": "49Hn58DO8ITT"
      },
      "execution_count": null,
      "outputs": []
    },
    {
      "cell_type": "markdown",
      "source": [
        ""
      ],
      "metadata": {
        "id": "LqhJZdQV_Tox"
      }
    },
    {
      "cell_type": "markdown",
      "metadata": {
        "execution": {},
        "id": "-kKkWcBqjf8V"
      },
      "source": [
        "### Coding Exercise 3.2: Estimate Missing Data\n",
        "\n",
        "In this exercise we're going to compare different methods of filling missing data using `df.fillna()`.\n",
        "\n",
        "- Fill in with the mean.\n",
        "- Fill in with a linear estimate."
      ]
    },
    {
      "cell_type": "code",
      "source": [
        "###########################################################################\n",
        "## TODO for students: Complete the following functions for filling in \n",
        "## missing data, one using the mean and one using a linear estimate.\n",
        "raise NotImplementedError('student exercise: functions for filling in data')\n",
        "###########################################################################\n",
        "\n",
        "def fill_with_mean(df_in):\n",
        "  df = df_in.copy()\n",
        "\n",
        "  # Calculate the means of each column\n",
        "  means = ...\n",
        "\n",
        "  # Fill the missing values in df with the means calculated above\n",
        "  # Hint: use inplace=True to modify the existing DataFrame without creating a \n",
        "  # new one\n",
        "  ...\n",
        "  return df\n",
        "\n",
        "def fill_with_lin(df_in):\n",
        "  df = df_in.copy()\n",
        "\n",
        "  # Sort values by 'Horsepower'\n",
        "  # Hint: use the sort_values() method for dataframes\n",
        "  ... \n",
        "\n",
        "  # Interpolate using the linear method\n",
        "  # Set the limit_direction parameter to 'both'\n",
        "  ...\n",
        "  return df"
      ],
      "metadata": {
        "id": "gfITv0_77tlH"
      },
      "execution_count": null,
      "outputs": []
    },
    {
      "cell_type": "code",
      "execution_count": null,
      "metadata": {
        "execution": {},
        "id": "RfPBo4dvjf8W"
      },
      "outputs": [],
      "source": [
        "# Solution\n",
        "def fill_with_mean(df_in):\n",
        "  df = df_in.copy()\n",
        "\n",
        "  # Calculate the means of each column\n",
        "  means = df.mean()\n",
        "\n",
        "  # Fill the missing values in df with the means calculated above\n",
        "  df.fillna(means, inplace=True) \n",
        "\n",
        "  return df.fillna(df.mean())\n",
        "\n",
        "def fill_with_lin(df_in):\n",
        "  df = df_in.copy()\n",
        "\n",
        "  # Sort values by 'Horsepower'\n",
        "  # Hint: use the sort_values() method for dataframes\n",
        "  df.sort_values('Horsepower', inplace=True)\n",
        "\n",
        "  # Interpolate using the linear method\n",
        "  # Set the limit_direction parameter to 'both'\n",
        "  df.interpolate(method='linear', inplace=True, limit_direction='both')\n",
        "  \n",
        "  return df"
      ]
    },
    {
      "cell_type": "markdown",
      "source": [
        "Now let's use our new functions and plot the results."
      ],
      "metadata": {
        "id": "0Gveogfg90Bp"
      }
    },
    {
      "cell_type": "code",
      "source": [
        "# Fill with mean and plot\n",
        "df_fill_m = fill_with_mean(df)\n",
        "plt_cars(df_fill_m)\n",
        "\n",
        "# Fill with linear estimate and plot\n",
        "df_fill_lin = fill_with_lin(df)\n",
        "plt_cars(df_fill_lin)\n"
      ],
      "metadata": {
        "id": "DsWlfFPJ94Y_"
      },
      "execution_count": null,
      "outputs": []
    },
    {
      "cell_type": "markdown",
      "source": [
        "...And let's see how different methods of filling missing values affect our regression results."
      ],
      "metadata": {
        "id": "t9PQBzx9VRhY"
      }
    },
    {
      "cell_type": "code",
      "source": [
        "# Filling with the mean\n",
        "reg_mean = regress(df_fill_m, 'Horsepower', 'Highway mpg') \n",
        "plt_reg(df_fill_m, 'Horsepower', 'Highway mpg', reg_mean['prediction'])\n",
        "print('Intercept = ' + str(reg_mean['intercept']))\n",
        "print('Coefficient = ' + str(reg_mean['coef']))"
      ],
      "metadata": {
        "id": "DvWFwdL3VdBH"
      },
      "execution_count": null,
      "outputs": []
    },
    {
      "cell_type": "code",
      "source": [
        "# Filling with linear estimate\n",
        "reg_lin = regress(df_fill_lin, 'Horsepower', 'Highway mpg') \n",
        "plt_reg(df_fill_lin, 'Horsepower', 'Highway mpg', reg_lin['prediction'])\n",
        "print('Intercept = ' + str(reg_lin['intercept']))\n",
        "print('Coefficient = ' + str(reg_lin['coef']))"
      ],
      "metadata": {
        "id": "dw1C7ijnVxtB"
      },
      "execution_count": null,
      "outputs": []
    },
    {
      "cell_type": "markdown",
      "source": [
        "# Section 4: Discussion\n",
        "In this tutorial we have seen a broad range of problems and solutions for cases where we have missing data. Let us talk about the relevant issues. What can we handle as data scientists? What requires better data?\n",
        "\n",
        "And how does all this relate to causality?\n"
      ],
      "metadata": {
        "id": "ypSKrHOOQva1"
      }
    },
    {
      "cell_type": "markdown",
      "source": [
        "## Submit\n",
        "Take the weekly survey/quiz and also submit your notebooks there. (Click the ?D logo below!)\n",
        "\n",
        "<a href=\"https://airtable.com/shrJhXIeslRire1iD\"><img src=\"https://github.com/KordingLab/ENGR344/blob/master/tutorials/static_344/SubmitButton.jpg?raw=1\" alt=\"button link to survey\" style=\"width:410px\"></a>"
      ],
      "metadata": {
        "id": "h4pY-c2NAvrP"
      }
    }
  ],
  "metadata": {
    "colab": {
      "collapsed_sections": [],
      "name": "Module_3_Tutorial3",
      "provenance": [],
      "include_colab_link": true
    },
    "kernel": {
      "display_name": "Python 3",
      "language": "python",
      "name": "python3"
    },
    "kernelspec": {
      "display_name": "Python 3",
      "name": "python3"
    },
    "language_info": {
      "codemirror_mode": {
        "name": "ipython",
        "version": 3
      },
      "file_extension": ".py",
      "mimetype": "text/x-python",
      "name": "python",
      "nbconvert_exporter": "python",
      "pygments_lexer": "ipython3",
      "version": "3.7.11"
    },
    "widgets": {
      "application/vnd.jupyter.widget-state+json": {
        "d6a6886923aa4fdc81701f1fccefff66": {
          "model_module": "@jupyter-widgets/controls",
          "model_name": "TabModel",
          "model_module_version": "1.5.0",
          "state": {
            "_view_name": "TabView",
            "_dom_classes": [],
            "_titles": {
              "0": "Youtube"
            },
            "_model_name": "TabModel",
            "_view_module": "@jupyter-widgets/controls",
            "selected_index": 0,
            "_model_module_version": "1.5.0",
            "_view_count": null,
            "_view_module_version": "1.5.0",
            "box_style": "",
            "layout": "IPY_MODEL_5c9d7a1ac36c47f79de0a1352ae8fc19",
            "_model_module": "@jupyter-widgets/controls",
            "children": [
              "IPY_MODEL_6aa405c633a14642803cac8a637dd932"
            ]
          }
        },
        "5c9d7a1ac36c47f79de0a1352ae8fc19": {
          "model_module": "@jupyter-widgets/base",
          "model_name": "LayoutModel",
          "model_module_version": "1.2.0",
          "state": {
            "_view_name": "LayoutView",
            "grid_template_rows": null,
            "right": null,
            "justify_content": null,
            "_view_module": "@jupyter-widgets/base",
            "overflow": null,
            "_model_module_version": "1.2.0",
            "_view_count": null,
            "flex_flow": null,
            "width": null,
            "min_width": null,
            "border": null,
            "align_items": null,
            "bottom": null,
            "_model_module": "@jupyter-widgets/base",
            "top": null,
            "grid_column": null,
            "overflow_y": null,
            "overflow_x": null,
            "grid_auto_flow": null,
            "grid_area": null,
            "grid_template_columns": null,
            "flex": null,
            "_model_name": "LayoutModel",
            "justify_items": null,
            "grid_row": null,
            "max_height": null,
            "align_content": null,
            "visibility": null,
            "align_self": null,
            "height": null,
            "min_height": null,
            "padding": null,
            "grid_auto_rows": null,
            "grid_gap": null,
            "max_width": null,
            "order": null,
            "_view_module_version": "1.2.0",
            "grid_template_areas": null,
            "object_position": null,
            "object_fit": null,
            "grid_auto_columns": null,
            "margin": null,
            "display": null,
            "left": null
          }
        },
        "6aa405c633a14642803cac8a637dd932": {
          "model_module": "@jupyter-widgets/output",
          "model_name": "OutputModel",
          "model_module_version": "1.0.0",
          "state": {
            "_view_name": "OutputView",
            "msg_id": "",
            "_dom_classes": [],
            "_model_name": "OutputModel",
            "outputs": [
              {
                "output_type": "stream",
                "name": "stdout",
                "text": [
                  "Video available at https://youtube.com/watch?v=-JwyylR2YEg\n"
                ]
              },
              {
                "output_type": "display_data",
                "data": {
                  "text/html": "\n        <iframe\n            width=\"854\"\n            height=\"480\"\n            src=\"https://www.youtube.com/embed/-JwyylR2YEg?fs=1&rel=0\"\n            frameborder=\"0\"\n            allowfullscreen\n        ></iframe>\n        ",
                  "text/plain": "<IPython.lib.display.YouTubeVideo at 0x7f11519dde90>",
                  "image/jpeg": "/9j/4AAQSkZJRgABAQAAAQABAAD/2wCEABALDBoYFhsaGBodHRwfIyklIiIiIzEtLyUpLicyMjgtLi01RVFCNThLOTUtRWFRS1NWX1xbMkFlbWRYbFBZW1cBERISGRUYMBobMFc3L0BXV1ddXVxdXFdbV2NXV1dXWWNXV1dZV1djV1dXV1paXlhdV1deV1dgV1xXV15XZGRXV//AABEIAWgB4AMBIgACEQEDEQH/xAAbAAEAAgMBAQAAAAAAAAAAAAAABAUBAgMHBv/EAEYQAAIBAgMDCAcECQIGAwEAAAABAgMRBBIhFDFRBRMiQVNhkqEXMnGBkdHSBiNCUhUWNHOCk7Gy8DPBJENicoPhJTWiB//EABgBAQEBAQEAAAAAAAAAAAAAAAABAgME/8QAHBEBAAMBAQEBAQAAAAAAAAAAAAECEQMhMTIE/9oADAMBAAIRAxEAPwDz8AAAAAAAAAAAAAAAAAAAAAAAAAAAAAAAAAAAAAAAAAAAAAAAAAAAAAAAAAAAAAAAAAAAAAAAAAAAAAAAAAAAAAAAAAAAAAAAAAAAAAAAAAAAAAAAAAAAAAAAAAAAAAAAAAAAAAAAAAAAAAAAAAAAAAAAAAAAAAAAAH2Ho4xva4bxT+kejjG9rhvFP6QPjwfYejjG9rhvFP6R6OMb2uG8U/pA+PB9h6OMb2uG8U/pHo4xva4bxT+kD48H2Ho4xva4bxT+kejjG9rhvFP6QPjwfYejjG9rhvFP6R6OMb2uG8U/pA+PB9h6OMb2uG8U/pHo4xva4bxT+kD48H2Ho4xva4bxT+kejjG9rhvFP6QPjwfYejjG9rhvFP6R6OMb2uG8U/pA+PB9h6OMb2uG8U/pHo4xva4bxT+kD48H2Ho4xva4bxT+kejjG9rhvFP6QPjwfYejjG9rhvFP6R6OMb2uG8U/pA+PB9h6OMb2uG8U/pHo4xva4bxT+kD48H2Ho4xva4bxT+kejjG9rhvFP6QPjwfYejjG9rhvFP6R6OMb2uG8U/pA+PB9h6OMb2uG8U/pHo4xva4bxT+kD48H2Ho4xva4bxT+kejjG9rhvFP6QPjwfYejjG9rhvFP6R6OMb2uG8U/pA+PB9h6OMb2uG8U/pHo4xva4bxT+kD48H2Ho4xva4bxT+kejjG9rhvFP6QPjwfYejjG9rhvFP6R6OMb2uG8U/pA+PB9h6OMb2uG8U/pHo4xva4bxT+kD48H1lf/APnuMpwlN1MPaMXJ2lPclf8AKfPLk6fGPxfyAiAmLk2fGPxfyNlyXU4w+L+QEEE9ckVPzQ+L+RsuRqn5ofF/IaK4FkuRKv5ofF/I2/QVX81P4v5E0xVgtP0DV/NT+L+Rn9AVvzU/i/kNXFUC0/QNX81P4v5HCXJk02nKF00rXet+Gg0xCBZ/oOr+an8X8g+Q6v5ofF/IaZKsBY/oWr+aHxfyMfoep+aHxfyGmSrwT3yTU/ND4v5Gv6Lnxh8X8hpj3MAFQAAAAAAAAAAAAAAAAAAAAAAAAAAAAAAAAAAAAAAAAAAAAAAAAAAAAAReU/2at+7n/azyZM9Z5T/Zq37uf9rPI0ySrtFm6ZwTN0yCRFnSLI6ZvGRFSYs3TOEZG6kFd0zJErYhxaXcbYXFrVy9yO9eOx7Lz37Z8jUi5o6Uc2a2pK9aOi160zhBXWlnbgS/GYjY9Wn9EWnJjGjNWzM9DlJnnells5thyOcpFQkzm5ByOcmVHsYANsAIfK+MeHwtatFJunBySe52XWceT+VVUwm0VUoOClzq/JKF1JeQFkCh5L5arV6HOThSpT5+NNxnJrovLp19PpaLiWNXlbDQqc3OvTjNNJpyWje5Pg2BNBDxPKuHoyyVa1OErXtKSVk+t8F7TLxdq0ouVJU40lN9LpLV6tbstlv9oEsEKnyvhp1FSjXpynLdFSV3pfT3ama/KmHp1FSqVqcajt0XJJ67vZcCYDnRrRqQU4SUoyV1JO6a7mRqvK+GhU5qVemp3SyuSum9yfBgTQVv6ao7Y8Lmjnyp+svWbfQtxtr7GTa+IhTSdScYJuycnbXfbyYHUEGpyvhowhOVemozvkeZdK2+3E7bdR5uNTnYc3P1Z5lZ34MCQCLg+UqFdyVGrCo42vld7X3e4g47l+jGEuZq0qlSMoRy5r76kYvdvtcC4BExnKVCg0q1WFNvVKTs2l124G9THUYQjOVWChL1ZOSs9G9Hu3Jv3ASAV75cwmTPtFLLdxvmW9atE6E1JKUWmmrprc1xQGwPn8fy7VhQr1qNOE1GuqNJO/TeZRk/FdL2E6tytBYLaoLMpQUoR63KWkY+3M0gLIFVyfytmwG1V0oWjOU1HcssmtPgOQuUqleM416ap1qeVygnfozipRf9V7YsC1BRYbH46sqs6UMNlhVqQUZOabyTcd60V7HXAct89LDPJlp4iEsvGNSD6UW+tWvb/tfEC4AAAAAAAAAAAAAAAAAAETlT9mr/ALqf9rPI1Pieucq/stf91P8AtZ5ASVdDZM5KRurcSDqmdEzircTorcSDqmbqRySX5kbqP/UgLHkvk+NSo5TV1w7z6bDcnUF/yofA+X5I5QhB9KS4WT1bL6jyzFTUXBxT0TbRvpMzbxnnWM9T6mCo2/04r2Kx89j8DGlOU4dG+9dXtLKvyy5TyUYKdnq76eRXco4pOzqJw9qdiUmYnVvWJjE3E8nKpShnWWcoJrulb+h8zPRtPetGfb8p8uYeNJwi87srJHw1VuTbdrtts89f1OfHotO1iZ+tGznKRmSfcc2mdXLWGzRsy0zVxKPZwAbYVf2nV+T8Ul2Uv6FVjsFUeJWHjF7PjHCrVa/DzaWdP/uSpr3s+pAHykovJV0f/wBnTfu5ymZxuMjh5V9nrxlNzcpYSrTvKpJvVU90tbaO0l7j6kAfNcp4iFCtXnSxMadWdnOhWp5lVagksm6TurLo3XcbV5SlVrycHBy5PTcfytufR9x9GAPn61FLCcnJRSy1cO1ZbtNfZ1muAxVKhPFUsQmqs605WcG3WhL1cunS6No26rM+iK/E8nVZynlxdaEZ74pQdtLdFuN0By+y3/12F/dxKLlPFOeFxsZ14wqffLZVTjuTdpWtnbatLNe2vcfW4XDxo04UqatCEVGK4JKx1ApHXhT5ShzklHnMNGML/ikqj0XF6o7cv01PZYyipLaad01dbpFqZAouU8VkxkYzrRwtPmrxqZY3qSzawzzTSsknbe79xX4anmw1JSSkv0hJ2yWTXOSd8r3LrPrDIFDypRnLE1lS0qSwVSMXu6Wbo6+1lfi8fhqmApUaS+8hKguayPNSaqRvmVuj16vffvPrQBQxxdLC43FSxUlT53I6U5bpQUEsifFSUnb/AKrkLDYfo4S9NqnLHVKlOEo+rBwqOOj3a6pdV0fVgCmwtGO2Y+WVXcaSvbesj0uSPs4rcn4W/Yw/tRYmQPkor/42jFLpRxkVL/uWLdztQwVTbtlcf+GpVHiovqbl6sPdUdSXuRfYbBxpTqyi3arLO49SlZJte2yZIA+Npc5UwWDwlKClKpOdSam2o83TqylaTSbScsq3E+c8TRxtGvXp0owqLmJ81OUtW24OV4q1ndfxH0YA+QhgK8sNialGrXUliazdGMsqnFVZXjF2um1ud95Orc048lrDK1PnbwXCCo1L3678T6EjywcXiI1223GDhFdUbu7a73ZL3ASQAAAAAAAAYMgAAAAAAAAROVP2Wv8Aup/2s8gR7Byp+zV/3c/7WePokqwzZGDZEGyRukdqW5I7RQRGSN4klEfrCrHkbDR+8i9Hm4626teG8scXCFSdHDJ51mzSi3e0Vx9rsVvJkYTk1OKl7Vct1g4XjzbVK35Ulca3FYxypxpYepOjUSpxvmg3osr6r8U/9jjjYU5KKpvOlLM7O63Pr43toWdOioSblPnG+NnYh8oTUI3S61YmtTWFFVfTl7WR5omXfd8DWcfZ8CMIEjmyZUjo927gRGio0ZqzZmrKj2sAGkADAGQDSrVjCLlOSjFb3J2S97A3Bzo14VFmpzjNbrxaa8jcDINYyTSaaaeqa60HJKybSu7Lvdr6e5P4AbGDWdWMfWklo3q7aK137NV8TMZp7mnq1o+tAbAGAMg0p1YzWaElKL607r4mzdld6IDIMRaaTTunuaMSmla7Su7K/W+AGwAAAAAAaykla7Su7LvYGwAAAGspJJttJLVt9SA2BhGQAAAAwZAwZMGITUknFpp6prVNAbAxcyAAAAAAReU/2av+7n/azyA9f5T/AGav+7n/AGs8gJKsI3SNUdaS1RBKijojRHWO8DenTctxrKnJJpLLYm04Zbd/WcsTB2Svvk2brXfHK11fhq8qdfM3e+8upRhOSnKDkmu//ZkCOAi2pat/0O2Hxjw/Qmm1+Fmb1ycdudvE+FKOZShTyWTvo1/UiY/FZpxXUdJ8qc7HJTTzPS/Uu84VsLZwb16pX67/APszEere3njjWpW9jNCTHWm09Wrr3rcVdPlSnLR3i+8sxjFZ13nH+jIEiy0dmtUQJx1I04s0Z0aNGVHtQANIHz32so15xp82pyhrmUbvXS10urefQgCr+z0KscLFVs17vKpb1HquSOVIylRtH1s9O2l7feR1a4Eww2lq9AK2eEmpxbm26k0pumnFZY0526299tb8O40hKeda1eczzU008mTpWt+HdltbXj1lpGSe5p+wyBSYeU4U482qztQ6cZKStJKNrXWj9b1fkLSvFSdRwjVTus7aToyvZvpWv39e8vABR1eclBr7xxdOtlzJ3azQy3672zWvrY6ToylVTk6kbutFSWbS7WXd79/At0xJXTT6wIXJtWdXNOd1a0MvVmj6zX8V1/CRFnkkr1c7U+eTzKKWV2y9S1y2tvXEtqdNQioxSSW5I2Ar3TlHC0oxzp3pJ2buk5Rv5XOOSpFpqVV/eVI2bb6GSbXmlrv7y3MAVMZVFUjrUd0lumsn3f5bZZK+vG7t3DCyneK6bSnG8m5tSTjK+ktY9V1u1RbgCkgq0aVNp1XKdC873bUk4bk90rOenXY3jJynKFOVbJelvzXSblf1tbaFtOCknGSTT0afWa0aEYXyq19XxftYFVUdVNRefm1Kor3nfest5RvK1s3+WNlKoqlLNKc3aCaSnG198rWyvvva1n3ItwBXcmylmlGWeWied5ld364y9V+zT2aHDpOpHNznOKtK6tLIo9LL/wBNrZdVqXAAoo1Kyozk5TUlSk53zXz2WqurJp30Wh1qTqLnOadV0/u75s108zzZbrNute27q1LacFJOMldNWafWbAVVGE5OEXKeRyluc1ZZVo5Ozet3cj13N0pKo61+YtCylrLpJ5rLV+rv+ZeGQKylKSxCXTknp+NKCyda9Vq/XvuzXHSqKVSzqZ0lzKinlbt+K2j1336i1AFbCM86lep/rSVru2S0urda9tTbFSfPWm6qhlWTm83rXd75f4dHpvLAAVKzynZuqqjqTUt6iqetmupaZbNa395jna0oNzU1ly03a6u83SqK2uXda3fqi3AFThFUlOmpOpkXOv8AEr2nDLdvV6X37+8485VyU/8AUUowpfn6Tb6V0tPbfyLwwBSKM4JxXOZedqZ9Zre246rWz36ddrnSUqi5tuU5uy6KU4/jet7Wbta6kuq+ly4AGDIAAAAReVP2av8Au5/2s8fuez1qSnCUJerJOL9jViiX2LwHZT/mz+ZB5tE7UN56J+puA7KX8yfzNo/ZDArdSl/Mn8xg+DUktXuKvFY+UnaGkV5nqFT7IYGSs6crfvJ/M5fqRyd2Mv5k/mIgfOUp5op8UmaVbOS7kfZUvs5hYRUYwlZaLpy+Zn9XcL+R+OXzO3O8VtsuNqTPx8dCTjuOs6kJK0oO59Z+r2F/I/HL5mf1fw35H4pfM7X6cr+zEpWvSvx8jSqwh6sH5HPETlJNvS2qR9l+r+G/I/FL5mJfZ3CvfB+OXzMxflX5ErMXl8ZOSipT6msz9yPj5O7b4u57FW+zeEnBwlTeV7+nJeaZD/Ujk7sZfzJ/M88y6VjHldKtOHqyaLClWzxv19Z6J+o/J3Yy/mT+ZtD7F4CLuqUl/wCSfzMzDcS85kc2emfqfgeyl/Mn8zH6mYDspfzZ/MmGr8AGkD577WVq0Y0+bc4w1zOLa10tdrq3n0JgCs+z06ssLF1s2a7s5b3HqbOvLK/4d7vXp+srr/UjvXAnGQKfnnCnehKlOebSFKFlLo65tXa2+911LrNauNmpQyVG7c16zSc80km1DLfr11VrdxdGAKum6s5RvVmlKdaLSUdFGbStpwRGWOqOnmlVcanM05RhZdObi21a13d20RfGkaaUnJLWVk37N39QKmpXnCTWbm4OdRyldLVZbLM011v22NniqkZ0s9RPModGDV227XytdJNWvZq1mWwAyAAAAAAAAAAAAAAAAAAAAAAAAAAAAAAAAAAAAAAAAAAAAAAAAAAAAAAAAAAAAAAAAAAAAAAAADlXqOKW5Xdm3uWm9/095tSk5RTas2twG4InKU5xp/du03KKXvktPfuIcOUpucpfglzeRSVsqbmrvdvcePWgLcECnjZtx6MUuinrf1r6prS274mK2NmpyUVCyk46t71TU7/7AWAK39JPM7RTSTe/Xo5b6b9zfUurfc3qYuTpwmnGKlOybeji72fvVn7wJ4K2nylKUopRjrb8S6V5uN436tL9d7nWrip85kio2zZbu+/I5X8vMCaCrjyq2lLLHcnlv0v9PPf2dX+WOscbPnFBxj+G+u+6vdX3pedmBPBV18XONSok30ZaJW3Wo6f/AKfxNo8pScopRjqk7Xtvm45dbdJW179ALIEDC4yUpQg0nJrNf/otv9ubQ0qY+UJTTdPRys27JKKi1H2u/kwLIEPE4yULNQuubnUae/o5dPM4/pGSWsYu7cYtPSU2k4rS9t7+F+sCyBW/pKXT6Ksm0tVdNTUVdX6736reZthcXOpzj0VoKy3rMp1I39+VAWAKuljqlszyzjpot7fN5tPf/UPlGWTNaLsm1aSs+g3Z72BaAh4rFTp5FlUpSTSs7Xnpp8Mz/hOMOU3KUcsVllZq7tmi5uKav3K/vSAsgVlLlCTyro65FZvpPN+Jd3yfA1oY2o+YUnDpZHJ8VKE3b23j5gWoAAAAAAAAAAAAAAAAAAAAAAAAAAAAAAAAAAAAAAAAAAAAAAAMBpGQBiwsZAGlSkpJprR6Ozs/itTKirWsrcDYAYsvgLGQBiy4CxkAYsLLgZAGkaUVJyS1aS39S4cDay4GQBgJIyAMZVw3hIyAMJIZVwMgDAsvgZAHKWHi5KTTut2rt4dx0sjIAAAAAAAAAAAAAAAAAAAAAAAAAAAAAAAAAAAAAAAAAAAAAAOVebSWXrers3b3L/NTalJuKbVm1qbgCHynNxpXTt0opvNl0cle8uoh0MZNR9ZWvbO25Ris71vpmVrK+hcGtSCkrPd8AIW2S5mM7wV5yi5tPLFKUlmav12XX1nKpyjNSko5ZWi3utdqnmvvvlfs9/GyhBRSUVZLqMgRMZXqU49HK5KMpO8XZ5VeyV9L+84VsdUg8rytqT/DZSSUXZXlo+l37iyMgVKx9SKndbpNJyW9c41m3pWW7f8ABWvKwmInOXSypKCemt25SV002rWin1795MAFbTxlW6byZfu3ZRd7Tk42vfqtc0hynPLmcVJXS6KtrJdFb3+Ky/iXAtTSdNStdXs7r2gQcdiZ05ReaKfNybTTtOScdI673rbf7Gb4bFznVlBxSSctNLqzsnvu779y39ZOMAVyxdW9+hlzJWyu9udyb78NTFPHVJaLJd5b6P7tt2yy11fw3FmAIODxc6lSUZJJK+ml42lZJ6tu613Ld1kVYypHK7OWmvBdFPM1wWu4uABVTx1RucVZWvutdJNWlvu0/Z17yTQxE551ZJwWVuz9fXcuFsr/AIkTDSnTUVaKtd397ArsNj5vm03BtqCtbWd0ryWuiWt9PwvcdMTjKkXOyjlU1G7W68FLM7tK13bq3lgAKxcoTzRXQu8nQWrkpb2mnayWvWKOOqTcUnBuTjdqLtG8ZNxavvWVcN+5FioJNtLV7zYCvjipLDxk5Rc28rll0Tu96urbrb95jB4ic5wbulKN2upXhF/1bLEAVcuUJ3mlksr2vZWtPLr0t76r2EeUZN6ZZbrQs1KV6aldau2r7/aWZiMEm2lvd33uyX9EgKynyhNxTbpxTds73R0bs0paPdva3mdtnFpOcH95JNW6SV1ZJZuD73u0ZZmQIOIxco1VFZfwWi07zzSs3HXq3vf7t5pTrzhQpylJXk+lOSdo3u7tX3blvW8sQBV1OUZpyUckrRdtLaqClffez9nv4yKGJk60qcnF2V+ivZv1bW/db3kwwBkAAAAAAAAAAAAAAAAAAAAAAAAAAAAAAAAAAAcq8mkrX36tK7Stw9tjak24pyVnbUDcETlK/NdG/rQvZtaZlfWOu4hTdWOacM7jGkujeTveU7uObXMuj7tOAFwCoU5qUcyqSnmiks00svR1SSal13v8jpybGpnWfMlkvrKUszb36+q1wX5u4CzBUwlPNUVLnJJqK3yvHV3fTtaVupe81ozrf8LeFVRWVPpLW8Hdz1vw39/XYC4BW43EVU6kYtro3i4xbtZJ6+e6/wATNTGVFdRV2s1+g9FdWffo7267AWIKnaaqbyvMm5WlKLs2lGy7k9d2/qN6tatZ65V090H0VGqkvbeN2BZgh4XETlKopa5dVaOm96a9drafM4UMVWk46b2rvK92Ru3c7q3dewFmCBhcTVlTnKSV1FNKzTUrO8bfDvOcsRXim7KVm0lkev3Wa+/82n/sCzBXRxNV3y9JLM08jWa0YtLu1bVxz1SWHrPryPK4pp3y7rcb/wCaAWIKunWqqq+jLK3Zt3aX3tS1k+Kyq+5K3Uawr155Op3XU+jJwnpLuTy/5YC2BXvETnQnUjeF2sumqSavde3N7jehiJyq2e68rrK1lSfRebruv69zAmgrFWqwi73abna8X0fvUld8LO/sRmGLrNJZLt3adml0W734XtG3/d3AWQIOHxNR05yks1o3Vou97arL/nA4bVXcZWt0VNp5W81owaXVvba9wFqCFjsRODioLvejd9Vou+1/8RyliKyV3bXXWLVunbfr1cQLIFXLG1uqD3R3wa9dJR07pXvwVjbaazckkl0rWyt2+8UU+9ZbveBZAgYyrUhOOVtrJLTLfW8ddOCu7dx0ouVSEk5SXS6M4rK5JWd7P3rv94EsFbPEVoScIxckrRUnFu+ZLLL3O9/9jHPVYR63e9m4vo/eW1fCz8gLMEDBVakpvO3rTi0srSvmkm/6fFGMDXqOUYzvbJF7np0Y+s3re7fH4pgWAKVOv6v3ludz5tfV522Tjbr9hmVWs1UeWqlVi3G7tls+jazvG8d+i1QFyCvwdCTzOcqkXGbtHPJpLo/ifrJ2v/E0WAAAAAAAAAAAAAAAAAAAAAAAAAAAAAAAAAAwZAGAZAAAAYBkAAAAMGQAAAAxJJqz3MyANYxSSSSSWiS6kZMgAAABgyAAAAwDIAwZAAAADBkAAAAAAAAAAAAAAAAAAAAAAAAAAAAAAAAADlXcrLLffra17d1++xtSvlWbfbU3AEXlCEpU0oq7zw013Zle9uoiQp1IVFBSe5apXyqUpt2vfdaC+HsLUxbW/WBV569o3zXyqV3D1ZOnUurLg1HTfr3m1OvVbp3U7PRrL3vVvKtPC9Ou5ZgCqhUxEaebW6VlFx0X3Kd+Pr6b+4U605VLRlKTUnFZlleXm4yd1b82Xq6y0aNYUox0jFK3BW3gV2JhUzRlNu3RTtZrWpFPWy6vI1dStJLNzm+LnaHqPNqo6dJWvx3LiWrV9GZAq1Xr3VlKV4ysnG17OWVy0srpR61bhqbUZV52WaUU2+lk1XR67xWl+4sgBVzxGIcVLK4JtqyTbTSXCLdm83VuS3XN4SqOtDNm0k7pReVLI7PNbX4liAKyrVq59cyipx5t5bZumlK/sTaXFXeu8szDXkZAAAAAAAAAAAAAAAAAAAAAAAAAAAAAAAAAAAAAAAAAAAAAAAAAAAAAAAAAAAAAAAAAAAAAAAAAAAAAAAAAAAAAAAAAAAAAAAAAAAAAAAAAAAAAAAAAAAAAAAAAAAAAAAAAAADltEOPkNohx8iCQHytS56pR1zU9ZvS0IqClnbvotUvbfg2Be7RDj5DaIcfIpVyph3lXOxvJ2S133S14atb+KMx5SoO1qitK6T1tp37gLnaIcfIbRDj5FD+mKPN1aibcKTipS3J5lF3V+rpI3pcqUpKDcsnOeopaOSbspdyfVe28C72iHHyG0Q4+RQy5ZoWjlnnzWso8Hez13LR/A2jytQtrUimldp9Xq6d76Ud3FcQLzaIcfIbRDj5FTHG0nCM+cioSllTbteV2ra9d017iHjuXaNCVWNRTvShGbsl0k3a0ddWrq/tA+i2iHHyG0Q4+RSQ5Uou+aSi1mbTe6MW05NrRLR7+DMS5Wop9KVlaLTfXfPpl336EuoC82iHHyG0Q4+RUUsfRnPJCpGUrXsvYnv96+JxXLFDNNZ9IJNys7auS04+q+4C92iHHyG0Q4+RSQ5VoNvp2tPJqnbNp18NVr3nSWPpxhnnLLHO4JvrabWiW/c/gBb7RDj5DaIcfIpK3K1CEHN1E4r8ut9IvS2/SUX7znT5ZoycrtxUW1d21anOOkVr+CT3bvY7Bf7RDj5DaIcfIplylQcsiqRcm7WV3ro+r2r4riSwJ20Q4+Q2iHHyIIAnbRDj5DaIcfIggCdtEOPkNohx8iCAJ20Q4+Q2iHHyIIAnbRDj5DaIcfIggCdtEOPkNohx8iCAJ20Q4+Q2iHHyIIAnbRDj5DaIcfIggCdtEOPkNohx8iCAJ20Q4+Q2iHHyIIAnbRDj5DaIcfIggCdtEOPkNohx8iCAJ20Q4+Q2iHHyIIAnbRDj5DaIcfIggCdtEOPkNohx8iCAJ20Q4+Q2iHHyIIAnbRDj5DaIcfIggCdtEOPkNohx8iCAJ20Q4+Q2iHHyIJHxVaUMrSTu0rXd229yVuF37vegttohx8htEOPkVVCtKU5xaXRtrF3V3fo7t60+J3A25t8CDW5EpTlOUoPNO+ZptXTgoOLt1WS04q+8twBUR5Gppt2m5PWUnJtyalGV2/4I+5Gs+QaMsl4N5IqKu+pNu3m/aXIAqYcjwVOdO05Rm4uWaTbeVJLV90UarkOknG0ZJRatFSdrRnnjG3BS1S6vYXAAplyHSSgkppQjGKSm7NQTUbrraTZrX5ChKFopxkr5ZNt5W3B30af/AC49a3F2AKnCclKFGFKolVyyc7yV+m5OWZXvbVvrb7zGK5FpVpSlUg25aXvxg4ae5vyLcAU0uQqTkpZZXWZrpPTPe/8Ac/LghR5BowyuMJLLu1/edX/kn8e4uQBR4PkR0q/ORk8ii1CnrpdRTbbk030VuS39Yl9naLVnGbWiScm0ks1kk+rpy+PcXgApZ8gUpO7jLR3XS0T6O5dXqx/xnefJkZU4QtNKnbK1JqSdmr342b+JZgCk/V+jZpRmouLjlU3ZJxjHTg7Rj8BP7P0ZXbhJu+a7d9c05X+M5/EuwBUT5FpSUU4O0Z50r7pafD1V/jJ3NvgSQBG5t8Bzb4EkARubfAc2+BJAEbm3wHNvgSQBG5t8Bzb4EkARubfAc2+BJAEbm3wHNvgSQBG5t8Bzb4EkARubfAc2+BJAEbm3wHNvgSQBG5t8Bzb4EkARubfAc2+BJAEbm3wHNvgSQBG5t8Bzb4EkARubfAc2+BJAEbm3wHNvgSQBG5t8Bzb4EkARubfAc2+BJAEbm3wHNvgSQBG5t8DlUwcZyjKUE5R9Vtaq/D4InACDRwcad8kFG+rsrX1v/uzrzb4EkAAAAAAAAAAAAAAAAAAAAAAAAAAAAAAAAAAAAAAAAAAAAAAAAAAAAAAAAAAAAAAAAAAAAAAAAAAAAAAAAAcdqp9pDxIbVT7SHiR4aAPctqp9pDxIbVT7SHiR4aAPctqp9pDxIbVT7SHiR4aAPctqp9pDxIbVT7SHiR4aAPctqp9pDxIbVT7SHiR4aAPctqp9pDxIbVT7SHiR4aAPctqp9pDxIbVT7SHiR4aAPctqp9pDxIbVT7SHiR4aAPctqp9pDxIbVT7SHiR4aAPctqp9pDxIbVT7SHiR4aAPctqp9pDxIbVT7SHiR4aAPctqp9pDxIbVT7SHiR4aAPctqp9pDxIbVT7SHiR4aAPctqp9pDxIbVT7SHiR4aAPctqp9pDxIbVT7SHiR4aAPctqp9pDxIbVT7SHiR4aAPctqp9pDxIbVT7SHiR4aAPctqp9pDxIbVT7SHiR4aAPctqp9pDxIbVT7SHiR4aAPctqp9pDxIbVT7SHiR4aAPctqp9pDxIbVT7SHiR4aAPctqp9pDxIbVT7SHiR4aAPctqp9pDxIbVT7SHiR4aAPctqp9pDxIbVT7SHiR4aAPctqp9pDxIbVT7SHiR4aAPctqp9pDxIbVT7SHiR4aAPctqp9pDxIbVT7SHiR4aAPctqp9pDxIbVT7SHiR4aAPctqp9pDxIbVT7SHiR4aAPctqp9pDxIbVT7SHiR4aAAAAAAAAAAAAAAAAAAAAAAAAAAAAAAAAAAAAAAAAAAAAAAAAAAAAAAAAAAAAAAAAAAAAAAAAAAAAAAAAAAAAAAAAAAAAAAAAAAAAAAAAAAAAAAAAAAAAAAAAAAAAAAAAAAAAAAAAAAAAAAAAAAAAAAAAAAAAAAAAAAAAAAAAAAAAAAAAAAAAAAAAAAAAAAAAAAAAAAAAAAAAAAAAAAAAAAAAAAAAAAAAAAAAAAAAAAAAAAAAAP/9k=\n"
                },
                "metadata": {}
              }
            ],
            "_view_module": "@jupyter-widgets/output",
            "_model_module_version": "1.0.0",
            "_view_count": null,
            "_view_module_version": "1.0.0",
            "layout": "IPY_MODEL_877786d17ef349c9850eeef276861360",
            "_model_module": "@jupyter-widgets/output"
          }
        },
        "877786d17ef349c9850eeef276861360": {
          "model_module": "@jupyter-widgets/base",
          "model_name": "LayoutModel",
          "model_module_version": "1.2.0",
          "state": {
            "_view_name": "LayoutView",
            "grid_template_rows": null,
            "right": null,
            "justify_content": null,
            "_view_module": "@jupyter-widgets/base",
            "overflow": null,
            "_model_module_version": "1.2.0",
            "_view_count": null,
            "flex_flow": null,
            "width": null,
            "min_width": null,
            "border": null,
            "align_items": null,
            "bottom": null,
            "_model_module": "@jupyter-widgets/base",
            "top": null,
            "grid_column": null,
            "overflow_y": null,
            "overflow_x": null,
            "grid_auto_flow": null,
            "grid_area": null,
            "grid_template_columns": null,
            "flex": null,
            "_model_name": "LayoutModel",
            "justify_items": null,
            "grid_row": null,
            "max_height": null,
            "align_content": null,
            "visibility": null,
            "align_self": null,
            "height": null,
            "min_height": null,
            "padding": null,
            "grid_auto_rows": null,
            "grid_gap": null,
            "max_width": null,
            "order": null,
            "_view_module_version": "1.2.0",
            "grid_template_areas": null,
            "object_position": null,
            "object_fit": null,
            "grid_auto_columns": null,
            "margin": null,
            "display": null,
            "left": null
          }
        },
        "335e0f580d1a482fab52729767033436": {
          "model_module": "@jupyter-widgets/controls",
          "model_name": "TabModel",
          "model_module_version": "1.5.0",
          "state": {
            "_view_name": "TabView",
            "_dom_classes": [],
            "_titles": {
              "0": "Youtube"
            },
            "_model_name": "TabModel",
            "_view_module": "@jupyter-widgets/controls",
            "selected_index": 0,
            "_model_module_version": "1.5.0",
            "_view_count": null,
            "_view_module_version": "1.5.0",
            "box_style": "",
            "layout": "IPY_MODEL_e1dba015d64b4babbf553206fbfa9a19",
            "_model_module": "@jupyter-widgets/controls",
            "children": [
              "IPY_MODEL_485949cc0bad42ba83ccdd00d2d65b1a"
            ]
          }
        },
        "e1dba015d64b4babbf553206fbfa9a19": {
          "model_module": "@jupyter-widgets/base",
          "model_name": "LayoutModel",
          "model_module_version": "1.2.0",
          "state": {
            "_view_name": "LayoutView",
            "grid_template_rows": null,
            "right": null,
            "justify_content": null,
            "_view_module": "@jupyter-widgets/base",
            "overflow": null,
            "_model_module_version": "1.2.0",
            "_view_count": null,
            "flex_flow": null,
            "width": null,
            "min_width": null,
            "border": null,
            "align_items": null,
            "bottom": null,
            "_model_module": "@jupyter-widgets/base",
            "top": null,
            "grid_column": null,
            "overflow_y": null,
            "overflow_x": null,
            "grid_auto_flow": null,
            "grid_area": null,
            "grid_template_columns": null,
            "flex": null,
            "_model_name": "LayoutModel",
            "justify_items": null,
            "grid_row": null,
            "max_height": null,
            "align_content": null,
            "visibility": null,
            "align_self": null,
            "height": null,
            "min_height": null,
            "padding": null,
            "grid_auto_rows": null,
            "grid_gap": null,
            "max_width": null,
            "order": null,
            "_view_module_version": "1.2.0",
            "grid_template_areas": null,
            "object_position": null,
            "object_fit": null,
            "grid_auto_columns": null,
            "margin": null,
            "display": null,
            "left": null
          }
        },
        "485949cc0bad42ba83ccdd00d2d65b1a": {
          "model_module": "@jupyter-widgets/output",
          "model_name": "OutputModel",
          "model_module_version": "1.0.0",
          "state": {
            "_view_name": "OutputView",
            "msg_id": "",
            "_dom_classes": [],
            "_model_name": "OutputModel",
            "outputs": [
              {
                "output_type": "stream",
                "name": "stdout",
                "text": [
                  "Video available at https://youtube.com/watch?v=WM0WJen6QvM\n"
                ]
              },
              {
                "output_type": "display_data",
                "data": {
                  "text/html": "\n        <iframe\n            width=\"854\"\n            height=\"480\"\n            src=\"https://www.youtube.com/embed/WM0WJen6QvM?fs=1&rel=0\"\n            frameborder=\"0\"\n            allowfullscreen\n        ></iframe>\n        ",
                  "text/plain": "<IPython.lib.display.YouTubeVideo at 0x7f115d7e70d0>",
                  "image/jpeg": "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\n"
                },
                "metadata": {}
              }
            ],
            "_view_module": "@jupyter-widgets/output",
            "_model_module_version": "1.0.0",
            "_view_count": null,
            "_view_module_version": "1.0.0",
            "layout": "IPY_MODEL_ae15846cabaa4a068adc06ba89688b47",
            "_model_module": "@jupyter-widgets/output"
          }
        },
        "ae15846cabaa4a068adc06ba89688b47": {
          "model_module": "@jupyter-widgets/base",
          "model_name": "LayoutModel",
          "model_module_version": "1.2.0",
          "state": {
            "_view_name": "LayoutView",
            "grid_template_rows": null,
            "right": null,
            "justify_content": null,
            "_view_module": "@jupyter-widgets/base",
            "overflow": null,
            "_model_module_version": "1.2.0",
            "_view_count": null,
            "flex_flow": null,
            "width": null,
            "min_width": null,
            "border": null,
            "align_items": null,
            "bottom": null,
            "_model_module": "@jupyter-widgets/base",
            "top": null,
            "grid_column": null,
            "overflow_y": null,
            "overflow_x": null,
            "grid_auto_flow": null,
            "grid_area": null,
            "grid_template_columns": null,
            "flex": null,
            "_model_name": "LayoutModel",
            "justify_items": null,
            "grid_row": null,
            "max_height": null,
            "align_content": null,
            "visibility": null,
            "align_self": null,
            "height": null,
            "min_height": null,
            "padding": null,
            "grid_auto_rows": null,
            "grid_gap": null,
            "max_width": null,
            "order": null,
            "_view_module_version": "1.2.0",
            "grid_template_areas": null,
            "object_position": null,
            "object_fit": null,
            "grid_auto_columns": null,
            "margin": null,
            "display": null,
            "left": null
          }
        },
        "e3f9ec182d1347548ae7d9fd58ff41d2": {
          "model_module": "@jupyter-widgets/controls",
          "model_name": "TabModel",
          "model_module_version": "1.5.0",
          "state": {
            "_view_name": "TabView",
            "_dom_classes": [],
            "_titles": {
              "0": "Calendar"
            },
            "_model_name": "TabModel",
            "_view_module": "@jupyter-widgets/controls",
            "selected_index": 0,
            "_model_module_version": "1.5.0",
            "_view_count": null,
            "_view_module_version": "1.5.0",
            "box_style": "",
            "layout": "IPY_MODEL_e97ef9097aab48d7be8cd7d684b0981a",
            "_model_module": "@jupyter-widgets/controls",
            "children": [
              "IPY_MODEL_532040edc1714008aa3e296f285f2748"
            ]
          }
        },
        "e97ef9097aab48d7be8cd7d684b0981a": {
          "model_module": "@jupyter-widgets/base",
          "model_name": "LayoutModel",
          "model_module_version": "1.2.0",
          "state": {
            "_view_name": "LayoutView",
            "grid_template_rows": null,
            "right": null,
            "justify_content": null,
            "_view_module": "@jupyter-widgets/base",
            "overflow": null,
            "_model_module_version": "1.2.0",
            "_view_count": null,
            "flex_flow": null,
            "width": null,
            "min_width": null,
            "border": null,
            "align_items": null,
            "bottom": null,
            "_model_module": "@jupyter-widgets/base",
            "top": null,
            "grid_column": null,
            "overflow_y": null,
            "overflow_x": null,
            "grid_auto_flow": null,
            "grid_area": null,
            "grid_template_columns": null,
            "flex": null,
            "_model_name": "LayoutModel",
            "justify_items": null,
            "grid_row": null,
            "max_height": null,
            "align_content": null,
            "visibility": null,
            "align_self": null,
            "height": null,
            "min_height": null,
            "padding": null,
            "grid_auto_rows": null,
            "grid_gap": null,
            "max_width": null,
            "order": null,
            "_view_module_version": "1.2.0",
            "grid_template_areas": null,
            "object_position": null,
            "object_fit": null,
            "grid_auto_columns": null,
            "margin": null,
            "display": null,
            "left": null
          }
        },
        "532040edc1714008aa3e296f285f2748": {
          "model_module": "@jupyter-widgets/output",
          "model_name": "OutputModel",
          "model_module_version": "1.0.0",
          "state": {
            "_view_name": "OutputView",
            "msg_id": "",
            "_dom_classes": [],
            "_model_name": "OutputModel",
            "outputs": [
              {
                "output_type": "display_data",
                "data": {
                  "text/html": "\n        <iframe\n            width=\"600\"\n            height=\"480\"\n            src=\"https://calendar.google.com/calendar/embed?src=356b9d2nspjttvgbb3tvgk2f58%40group.calendar.google.com&ctz=America%2FNew_York\"\n            frameborder=\"0\"\n            allowfullscreen\n        ></iframe>\n        ",
                  "text/plain": "<IPython.lib.display.IFrame at 0x7f311e5d0f90>"
                },
                "metadata": {}
              }
            ],
            "_view_module": "@jupyter-widgets/output",
            "_model_module_version": "1.0.0",
            "_view_count": null,
            "_view_module_version": "1.0.0",
            "layout": "IPY_MODEL_1abaa4f8eca94dea91a60137073e321e",
            "_model_module": "@jupyter-widgets/output"
          }
        },
        "1abaa4f8eca94dea91a60137073e321e": {
          "model_module": "@jupyter-widgets/base",
          "model_name": "LayoutModel",
          "model_module_version": "1.2.0",
          "state": {
            "_view_name": "LayoutView",
            "grid_template_rows": null,
            "right": null,
            "justify_content": null,
            "_view_module": "@jupyter-widgets/base",
            "overflow": null,
            "_model_module_version": "1.2.0",
            "_view_count": null,
            "flex_flow": null,
            "width": null,
            "min_width": null,
            "border": null,
            "align_items": null,
            "bottom": null,
            "_model_module": "@jupyter-widgets/base",
            "top": null,
            "grid_column": null,
            "overflow_y": null,
            "overflow_x": null,
            "grid_auto_flow": null,
            "grid_area": null,
            "grid_template_columns": null,
            "flex": null,
            "_model_name": "LayoutModel",
            "justify_items": null,
            "grid_row": null,
            "max_height": null,
            "align_content": null,
            "visibility": null,
            "align_self": null,
            "height": null,
            "min_height": null,
            "padding": null,
            "grid_auto_rows": null,
            "grid_gap": null,
            "max_width": null,
            "order": null,
            "_view_module_version": "1.2.0",
            "grid_template_areas": null,
            "object_position": null,
            "object_fit": null,
            "grid_auto_columns": null,
            "margin": null,
            "display": null,
            "left": null
          }
        }
      }
    }
  },
  "nbformat": 4,
  "nbformat_minor": 0
}