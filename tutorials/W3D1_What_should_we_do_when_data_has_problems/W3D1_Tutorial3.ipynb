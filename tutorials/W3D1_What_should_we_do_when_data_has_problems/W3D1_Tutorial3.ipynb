{
  "cells": [
    {
      "cell_type": "markdown",
      "metadata": {
        "id": "view-in-github",
        "colab_type": "text"
      },
      "source": [
        "<a href=\"https://colab.research.google.com/github/KordingLab/ENGR344/blob/master/tutorials/W3D1_What_should_we_do_when_data_has_problems/W3D1_Tutorial3.ipynb\" target=\"_parent\"><img src=\"https://colab.research.google.com/assets/colab-badge.svg\" alt=\"Open In Colab\"/></a>"
      ]
    },
    {
      "cell_type": "markdown",
      "metadata": {
        "execution": {},
        "id": "GwG32kd0jf8H"
      },
      "source": [
        "\n",
        "\n",
        "```\n",
        "# This is formatted as code\n",
        "```\n",
        "\n",
        "# Tutorial 2: Outliers\n",
        "**Week 3: What should we do when data has problems?**\n",
        "\n",
        "**Content creators**: Rob Lindgren\n",
        "\n",
        "**Content reviewers**: Konrad Kording, Keervani Kandala\n",
        "\n",
        "**Content modifiers**: ---\n",
        "\n",
        "**Modified Content reviewer**: ---\n"
      ]
    },
    {
      "cell_type": "code",
      "source": [
        "# @title Due Dates Calendar\n",
        "\n",
        "from ipywidgets import widgets\n",
        "from IPython.display import display, IFrame, YouTubeVideo\n",
        "\n",
        "\n",
        "out1 = widgets.Output()\n",
        "with out1:\n",
        "  calendar = IFrame(src=\"https://calendar.google.com/calendar/embed?src=356b9d2nspjttvgbb3tvgk2f58%40group.calendar.google.com&ctz=America%2FNew_York\", width=600, height=480)\n",
        "  display(calendar)\n",
        "\n",
        "out = widgets.Tab([out1])\n",
        "out.set_title(0, 'Calendar')\n",
        "\n",
        "display(out)"
      ],
      "metadata": {
        "cellView": "form",
        "colab": {
          "base_uri": "https://localhost:8080/",
          "height": 563,
          "referenced_widgets": [
            "562447ac89e54a95a0e8b52f77b59704",
            "3fd5ef4d474a441b945e040e78dfe2d6",
            "062b276ba5f54e559b635b01c12feec4",
            "2938445cd49c4a1db3284e65cf717920"
          ]
        },
        "id": "c96e7ykcAY72",
        "outputId": "5d165e8b-b892-48a2-e179-fe0107a6cf1b"
      },
      "execution_count": 1,
      "outputs": [
        {
          "output_type": "display_data",
          "data": {
            "application/vnd.jupyter.widget-view+json": {
              "model_id": "562447ac89e54a95a0e8b52f77b59704",
              "version_minor": 0,
              "version_major": 2
            },
            "text/plain": [
              "Tab(children=(Output(),), _titles={'0': 'Calendar'})"
            ]
          },
          "metadata": {}
        }
      ]
    },
    {
      "cell_type": "markdown",
      "metadata": {
        "execution": {},
        "id": "mngEsmgIjf8J"
      },
      "source": [
        "___\n",
        "# Tutorial Objectives\n",
        "\n",
        "*Estimated timing of tutorial: 30 minutes*\n",
        "\n",
        "This is the tutorial 2 in a 3-part series on how to handle data that has problems. In this tutorial, we will learn about outliers: what problems they can cause, how to identify them, and how to remove them. By the end of this tutorial, you will be able to:\n",
        "\n",
        "- Explain the two possible causes of outliers, erroneous observations and natural variation\n",
        "- Identify outliers using histograms, scatterplots, boxplots, and z-scores\n",
        "- Remove outliers from a DataFrame using Boolean masks\n"
      ]
    },
    {
      "cell_type": "code",
      "execution_count": null,
      "metadata": {
        "execution": {},
        "id": "zK3D5SfMjf8K",
        "cellView": "form"
      },
      "outputs": [],
      "source": [
        "# @title Tutorial slides\n",
        " \n",
        "# @markdown These are the slides for the videos in all tutorials today\n",
        "from IPython.display import IFrame\n",
        "\n",
        "IFrame(src=f\"https://mfr.ca-1.osf.io/render?url=https://osf.io/hncv7/?direct%26mode=render%26action=download%26mode=render\", width=854, height=480)"
      ]
    },
    {
      "cell_type": "markdown",
      "metadata": {
        "execution": {},
        "id": "GvEi-BMsjf8L"
      },
      "source": [
        "---\n",
        "# Setup"
      ]
    },
    {
      "cell_type": "code",
      "execution_count": null,
      "metadata": {
        "cellView": "code",
        "execution": {},
        "id": "YY7HrpSyjf8L"
      },
      "outputs": [],
      "source": [
        "# Imports\n",
        "\n",
        "import numpy as np\n",
        "import pandas as pd\n",
        "import matplotlib.pyplot as plt\n",
        "import random"
      ]
    },
    {
      "cell_type": "code",
      "source": [
        "# @title Plotting Function\n",
        "\n",
        "# Solution\n",
        "def plt_cars(df):\n",
        "  \"\"\"Plot histograms of 'Horsepower' and ' Highway mpg' from the Cars dataset, \n",
        "  as well as a scatterplot of 'Horsepower' vs. 'Highway mpg'.\n",
        "\n",
        "  Args:\n",
        "    df (DataFrame): Cars dataset, with variables 'Horsepower' and 'Highway 'mpg'.\n",
        "\n",
        "  Returns:\n",
        "    None\n",
        "  \"\"\"\n",
        "\n",
        "  # Compute means\n",
        "  means = df.mean()\n",
        "\n",
        "  # Create figure and axes objects\n",
        "  fig_a, (ax1, ax2) = plt.subplots(1, 2)\n",
        "  \n",
        "  # Visualize 'Horsepower'\n",
        "  ax1.hist('Horsepower', data=df)\n",
        "  ax1.set_xlabel(\"Horsepower\")\n",
        "  ax1.set_ylabel(\"Number of vehicles\")\n",
        "  ax1.axvline(means['Horsepower'], color='Orange')\n",
        "\n",
        "  # Visualize 'Highway mpg'\n",
        "  ax2.hist('Highway mpg', data=df)\n",
        "  ax2.set_xlabel(\"Highway mpg\")\n",
        "  ax2.set_ylabel(\"Number of vehicles\")\n",
        "  ax2.axvline(means['Highway mpg'], color='Orange')\n",
        "  print(fig_a)\n",
        "\n",
        "  print('\\n')\n",
        "  \n",
        "  # Visualize the relationship between 'Horsepower' and 'Highway mpg'\n",
        "  fig_b, ax = plt.subplots(1, 1)\n",
        "  ax.scatter('Horsepower', 'Highway mpg', data=df)\n",
        "  ax.set_xlabel('Horsepower')\n",
        "  ax.set_ylabel('Highway mpg')\n",
        "  print(fig_b)\n",
        "\n"
      ],
      "metadata": {
        "id": "OrOmn-xaNlug",
        "cellView": "form"
      },
      "execution_count": null,
      "outputs": []
    },
    {
      "cell_type": "code",
      "source": [
        "# @title Regression Function\n",
        "def regress(df_in, x_lab, y_lab):\n",
        "  # Takes a dataframe and two variable names from the dataframe\n",
        "  # and returns a dictionary with the results of a linear regression\n",
        "  # of y_lab on x_lab.\n",
        "\n",
        "  # Output dictionary looks like this...\n",
        "  # {'prediction' : predicted_values,\n",
        "  #  'intercept' : intercept\n",
        "  #  'coef' : coefficient}\n",
        "  df = df_in.copy()\n",
        "\n",
        "  from sklearn.linear_model import LinearRegression\n",
        "\n",
        "  x = df.loc[:, [x_lab]].values.reshape(-1, 1)  # values converts it into a numpy array\n",
        "  y = df.loc[:, [y_lab]].values.reshape(-1, 1)  # -1 means that calculate the dimension of rows, but have 1 column\n",
        "  reg = LinearRegression()  # create object for the class\n",
        "  reg.fit(x, y)  # perform linear regression\n",
        "  y_pred = reg.predict(x)  # make predictions\n",
        "\n",
        "  out = {'prediction' : reg.predict(x),\n",
        "        'intercept' : reg.intercept_[0],\n",
        "        'coef' : reg.coef_[0][0]}\n",
        "\n",
        "  return out"
      ],
      "metadata": {
        "id": "7iJFnEPuXLXp",
        "cellView": "form"
      },
      "execution_count": null,
      "outputs": []
    },
    {
      "cell_type": "markdown",
      "metadata": {
        "execution": {},
        "id": "loUlF0Sojf8T"
      },
      "source": [
        "---\n",
        "# Prepare Data\n",
        "\n",
        "*Estimated timing to here from start of tutorial: ???*\n",
        "\n",
        "Once again, let's load the Cars dataset, subset it, and verify that we got the subset that we expected.\n"
      ]
    },
    {
      "cell_type": "code",
      "source": [
        "data_url = 'https://raw.githubusercontent.com/RealTimeWeb/datasets/master/datasets/csv/cars/cars.csv'\n",
        "df = pd.read_csv(data_url)[['ID', 'Horsepower', 'Highway mpg']]\n",
        "df.head()"
      ],
      "metadata": {
        "id": "SSbi1PfxOqSq"
      },
      "execution_count": null,
      "outputs": []
    },
    {
      "cell_type": "markdown",
      "source": [
        "# Section 1: What problems do they pose?\n",
        "\n",
        "- **Erroneous observations:** Outliers might indicate problems with measurement or data entry. For this reason, they must be identified and investigated. Data points that do not belong in the data set should be removed and measurement and data entry issues need to be corrected. E.g. we run a questionaire and a user misunderstands a question.\n",
        "- **Natural variation**: Even accurately measured and recorded data can have outliers, and the presence of these outliers can have a substantial effect on the results of an analysis. It is possible that in this case that you might need to narrow your sample, thus excluding the outliers. E.g. a datapoint that is correct but unusual, and therefore one we may want to ignore for making predictions.\n",
        "\n",
        "**Philosophy of outliers**\n",
        "As such, we want to emphasize that how to deal with outliers is complex. If we are running a spam sending facility, we may want to focus on modeling the outliers well - we rely on outstandingly gullible people. If we want to build a tool to be used by many people we may mostly care about people that are somewhat typical and ignore the outliers. It is important to think through what we are trying to achieve with our modeling.\n",
        "\n"
      ],
      "metadata": {
        "id": "f16yZPqlAvkT"
      }
    },
    {
      "cell_type": "code",
      "source": [
        "# @title Video 6:How does horsepower relate to efficiency\n",
        "from ipywidgets import widgets\n",
        "from IPython.display import display, IFrame, YouTubeVideo\n",
        "\n",
        "out1 = widgets.Output()\n",
        "with out1:\n",
        "  video = YouTubeVideo(id=\"HhSjVj2AOgc\", width=854, height=480, fs=1, rel=0)\n",
        "  print(f'Video available at https://youtube.com/watch?v={video.id}')\n",
        "  display(video)\n",
        "\n",
        "out = widgets.Tab([out1])\n",
        "out.set_title(0, 'Youtube')\n",
        "\n",
        "display(out)"
      ],
      "metadata": {
        "id": "-wuPdoSKVjC4",
        "cellView": "form"
      },
      "execution_count": null,
      "outputs": []
    },
    {
      "cell_type": "markdown",
      "source": [
        "## Coding Exercise 1: What is the relationship between Horsepower and Fuel Efficiency?\n",
        "\n",
        "Use the `regress()` function, defined above, to estimate a linear model of the relationship between 'Horsepower' and 'Highway mpg'. Then perform the same regression on the subset of `df` for which 'Horsepower' is greater than 300. "
      ],
      "metadata": {
        "id": "Fq_5SGPMGyIm"
      }
    },
    {
      "cell_type": "code",
      "source": [
        "###########################################################################\n",
        "## TODO for students: Estimate a linear model of Horsepower vs. Highway mpg\n",
        "## for both the whole dataset and the subset with Horsepower > 300.\n",
        "raise NotImplementedError('student exercise: Regression on whole dataset and subset')\n",
        "###########################################################################\n",
        "\n",
        "# Regression on full dataset\n",
        "results = regress(..., ..., ...)\n",
        "print('Slope of the linear model estimated on the whole dataset:')\n",
        "print(results['coef'])\n",
        "\n",
        "print('\\n')\n",
        "\n",
        "# Regression on subset\n",
        "# hint you can do things like df[df['Horsepower'] > 100] to select only cars with at least 100 horsepower\n",
        "results_subset = regress(..., ..., ...)\n",
        "print('Slope of the linear model estimated on only observations for which Horsepower > 300')\n",
        "print(results_subset['coef'])"
      ],
      "metadata": {
        "id": "ci3LBSseHBu0"
      },
      "execution_count": null,
      "outputs": []
    },
    {
      "cell_type": "code",
      "source": [
        "# to_remove Solution\n",
        "\n",
        "# Regression on full dataset\n",
        "results = regress(df, 'Horsepower', 'Highway mpg')\n",
        "print('Slope of the linear model estimated on the whole dataset:')\n",
        "print(results['coef'])\n",
        "\n",
        "print('\\n')\n",
        "\n",
        "# Regression on subset\n",
        "results_subset = regress(df[df['Horsepower'] > 300], 'Horsepower', 'Highway mpg')\n",
        "print('Slope of the linear model estimated on only observations for which Horsepower > 300')\n",
        "print(results_subset['coef'])"
      ],
      "metadata": {
        "id": "R4cdgJoiHVA5"
      },
      "execution_count": null,
      "outputs": []
    },
    {
      "cell_type": "markdown",
      "source": [
        "## Discussion Question 1\n",
        "\n",
        "What do the results of our two regressions tell us about Horsepower and Fuel Efficiency?\n",
        "\n",
        "- Is there a different relationship between 'Horsepower' and 'Highway mpg' for high-horsepower vehicles than for others?\n",
        "- Why or why not?"
      ],
      "metadata": {
        "id": "0KQm_ZVSLl5l"
      }
    },
    {
      "cell_type": "code",
      "source": [
        "#to remove (only for TA)\n",
        "# The efffect for high HP cars is entirely driven by the one outlier we saw in the previous tutorial. Let the students figure that out themselves!"
      ],
      "metadata": {
        "id": "sbwmxfPsntBH"
      },
      "execution_count": null,
      "outputs": []
    },
    {
      "cell_type": "markdown",
      "source": [
        "# Section 2: Identifying outliers\n",
        "So how do we identify outliers? The first approach almost always has to be to visualize the data."
      ],
      "metadata": {
        "id": "vCE6K4iHAxEt"
      }
    },
    {
      "cell_type": "code",
      "source": [
        "# @title Video 7: Let us visualize outliers\n",
        "from ipywidgets import widgets\n",
        "from IPython.display import display, IFrame, YouTubeVideo\n",
        "\n",
        "out1 = widgets.Output()\n",
        "with out1:\n",
        "  video = YouTubeVideo(id=\"omVZoJ-62u8\", width=854, height=480, fs=1, rel=0)\n",
        "  print(f'Video available at https://youtube.com/watch?v={video.id}')\n",
        "  display(video)\n",
        "\n",
        "out = widgets.Tab([out1])\n",
        "out.set_title(0, 'Youtube')\n",
        "\n",
        "display(out)"
      ],
      "metadata": {
        "id": "eQfHAiflWBZO",
        "cellView": "form"
      },
      "execution_count": null,
      "outputs": []
    },
    {
      "cell_type": "markdown",
      "source": [
        "## Section 2.1 Visualization is your friend\n",
        "\n",
        "We already noticed that we have outliers in the Cars dataset back in Tutorial 1. Let's revisit our histograms and scatterplot."
      ],
      "metadata": {
        "id": "dEulgDG_EhQV"
      }
    },
    {
      "cell_type": "code",
      "source": [
        "plt_cars(df)"
      ],
      "metadata": {
        "id": "AhOaD4p0FBLK"
      },
      "execution_count": null,
      "outputs": []
    },
    {
      "cell_type": "markdown",
      "source": [
        "Another good plot for identifying outliers is the boxplot. DataFrames have their own method for this which produces a collective boxplot of all variables in the dataset."
      ],
      "metadata": {
        "id": "RfwgGaEMIZ_3"
      }
    },
    {
      "cell_type": "code",
      "source": [
        "df.boxplot()"
      ],
      "metadata": {
        "id": "Y1lTT7XJIokd"
      },
      "execution_count": null,
      "outputs": []
    },
    {
      "cell_type": "markdown",
      "source": [
        "We can see, once again, that there is a clear outlier in 'Highway mpg'. It also looks like there are some 'Horsepower' datapoints that lie beyond the 'whiskers', which represents a distance 1.5 times larger than the interquartile range."
      ],
      "metadata": {
        "id": "XkNCSQVSJ9fx"
      }
    },
    {
      "cell_type": "markdown",
      "source": [
        "## Section 2.2: Z-scores\n",
        "\n",
        "Another way to identify outliers in your data is by calculating Z-scores for each data point. Z-scores measure the distance of a data point from the mean in terms of standard deviation, calculated as below.\n",
        "\n",
        "\\begin{align}\n",
        "z = \\frac{x - \\overline{x}}{s}\n",
        "\\end{align}\n",
        "\n",
        "$z$ is the score, $x$ the data point for which we're measuring the score, $\\overline{x}$ is the sample mean, and $s$ is the sample standard deviation. A data point with a Z-score of 2 is 2 standard deviations above the mean."
      ],
      "metadata": {
        "id": "iO640kSqK2_0"
      }
    },
    {
      "cell_type": "markdown",
      "source": [
        "How can we calculate Z-scores for all the data in our dataset? Pandas provides methods for calculating both mean and standard deviation by variable."
      ],
      "metadata": {
        "id": "CKY6PogmRzIC"
      }
    },
    {
      "cell_type": "code",
      "source": [
        "print(df.mean())\n",
        "print('\\n')\n",
        "print(df.std())"
      ],
      "metadata": {
        "id": "BB6gkWirSJZS"
      },
      "execution_count": null,
      "outputs": []
    },
    {
      "cell_type": "markdown",
      "source": [
        "These methods work intuitively with Pandas' indexing to allow us to subtract the mean of each column from each value in that column,"
      ],
      "metadata": {
        "id": "xz1eKbUoSXZy"
      }
    },
    {
      "cell_type": "code",
      "source": [
        "df - df.mean()"
      ],
      "metadata": {
        "id": "FjBVOB0uSngv"
      },
      "execution_count": null,
      "outputs": []
    },
    {
      "cell_type": "markdown",
      "source": [
        "...as well as divide each value by its column's standard deviation."
      ],
      "metadata": {
        "id": "Y3xLH4ofSr4K"
      }
    },
    {
      "cell_type": "code",
      "source": [
        "df / df.std()"
      ],
      "metadata": {
        "id": "nLSO_xTbTBje"
      },
      "execution_count": null,
      "outputs": []
    },
    {
      "cell_type": "code",
      "source": [
        "# @title Video 8: Identify outliers\n",
        "from ipywidgets import widgets\n",
        "from IPython.display import display, IFrame, YouTubeVideo\n",
        "\n",
        "out1 = widgets.Output()\n",
        "with out1:\n",
        "  video = YouTubeVideo(id=\"xIv49TK7OrU\", width=854, height=480, fs=1, rel=0)\n",
        "  print(f'Video available at https://youtube.com/watch?v={video.id}')\n",
        "  display(video)\n",
        "\n",
        "out = widgets.Tab([out1])\n",
        "out.set_title(0, 'Youtube')\n",
        "\n",
        "display(out)"
      ],
      "metadata": {
        "id": "xcNB7tQ3tyvA",
        "cellView": "form"
      },
      "execution_count": null,
      "outputs": []
    },
    {
      "cell_type": "markdown",
      "source": [
        "### Coding Exercise 2.2: Identifying Outliers by Z-scores\n",
        "\n",
        "Fill in the function below so that it calculates the Z-score for each entry in the input DataFrame and returns a boolean DataFrame indicating whether each value is an outlier.\n",
        "\n",
        "Note: It is common to use 3 as your threshold because 99.7% of all observations fall within 3 standard deviations in normally distributed data."
      ],
      "metadata": {
        "id": "N6GzYJWvTS-M"
      }
    },
    {
      "cell_type": "code",
      "source": [
        "###########################################################################\n",
        "## TODO for students: Fill in detect_outliers().\n",
        "raise NotImplementedError('student exercise: detect outliers function')\n",
        "###########################################################################\n",
        "\n",
        "def detect_outliers(df_in, thresh):\n",
        "  df = df_in.copy()\n",
        "  df_z = (...) / ...\n",
        "  df_out = ... > thresh # Hint: use np.abs() to get the absolute values of each entry\n",
        "  return df_out\n",
        "\n",
        "df_outliers = detect_outliers(df, 3)\n",
        "df_outliers.head()\n"
      ],
      "metadata": {
        "id": "bTByuIRyUNG8"
      },
      "execution_count": null,
      "outputs": []
    },
    {
      "cell_type": "code",
      "source": [
        "# to_remove Solution\n",
        "def detect_outliers(df_in, thresh):\n",
        "  df = df_in.copy()\n",
        "  df_z = (df - df.mean()) / df.std()\n",
        "  df_out = np.abs(df_z) > thresh\n",
        "  return df_out\n",
        "\n",
        "df_outliers = detect_outliers(df, 3)\n",
        "df_outliers.sum()\n"
      ],
      "metadata": {
        "id": "0DseKVyJUvqP"
      },
      "execution_count": null,
      "outputs": []
    },
    {
      "cell_type": "markdown",
      "source": [
        "# Section 3: Removing outliers\n",
        "\n",
        "[Insert a discussion of when it is appropriate to remove outliers, explain np logic operations]"
      ],
      "metadata": {
        "id": "3nkqKFUpA0mg"
      }
    },
    {
      "cell_type": "code",
      "source": [
        "# insert video"
      ],
      "metadata": {
        "id": "qDK0auCxtv7R"
      },
      "execution_count": null,
      "outputs": []
    },
    {
      "cell_type": "markdown",
      "source": [
        "### Coding Exercise 3: Detecting and Removing Outliers \n"
      ],
      "metadata": {
        "id": "3H5Qug3-2c0c"
      }
    },
    {
      "cell_type": "code",
      "source": [
        "###########################################################################\n",
        "## TODO for students: Fill in remove_outliers().\n",
        "raise NotImplementedError('student exercise: remove outliers function')\n",
        "###########################################################################\n",
        "\n",
        "def remove_outliers(df_in, thresh):\n",
        "  df = df_in.copy()\n",
        "  df_out = ...\n",
        "  return df_out\n",
        "\n",
        "df_rem = remove_outliers(df, 3)\n",
        "\n",
        "plt_cars(df_rem)"
      ],
      "metadata": {
        "id": "Qg0kyD5HWjNr"
      },
      "execution_count": null,
      "outputs": []
    },
    {
      "cell_type": "code",
      "source": [
        "# to_remove Solution\n",
        "\n",
        "def remove_outliers(df_in, thresh):\n",
        "  df = df_in.copy()\n",
        "  df_out = df[np.logical_not(detect_outliers(df, thresh)).all(axis=1)]\n",
        "  return df_out\n",
        "\n",
        "df_rem = remove_outliers(df, 3)\n",
        "\n",
        "plt_cars(df_rem)\n",
        "\n"
      ],
      "metadata": {
        "id": "tLiMKxakBsEK"
      },
      "execution_count": null,
      "outputs": []
    },
    {
      "cell_type": "markdown",
      "source": [
        "# Section 4: Discussion\n",
        "\n",
        "- How can outliers affect the results of an analysis?\n",
        "- Will every method of outlier detection always give the same results?\n",
        "- Should you always remove outliers?"
      ],
      "metadata": {
        "id": "XHD7kTGKZIGZ"
      }
    }
  ],
  "metadata": {
    "colab": {
      "collapsed_sections": [],
      "name": "Module_3_Tutorial2",
      "provenance": [],
      "include_colab_link": true
    },
    "kernel": {
      "display_name": "Python 3",
      "language": "python",
      "name": "python3"
    },
    "kernelspec": {
      "display_name": "Python 3",
      "name": "python3"
    },
    "language_info": {
      "codemirror_mode": {
        "name": "ipython",
        "version": 3
      },
      "file_extension": ".py",
      "mimetype": "text/x-python",
      "name": "python",
      "nbconvert_exporter": "python",
      "pygments_lexer": "ipython3",
      "version": "3.7.11"
    },
    "widgets": {
      "application/vnd.jupyter.widget-state+json": {
        "562447ac89e54a95a0e8b52f77b59704": {
          "model_module": "@jupyter-widgets/controls",
          "model_name": "TabModel",
          "model_module_version": "1.5.0",
          "state": {
            "_view_name": "TabView",
            "_dom_classes": [],
            "_titles": {
              "0": "Calendar"
            },
            "_model_name": "TabModel",
            "_view_module": "@jupyter-widgets/controls",
            "selected_index": 0,
            "_model_module_version": "1.5.0",
            "_view_count": null,
            "_view_module_version": "1.5.0",
            "box_style": "",
            "layout": "IPY_MODEL_3fd5ef4d474a441b945e040e78dfe2d6",
            "_model_module": "@jupyter-widgets/controls",
            "children": [
              "IPY_MODEL_062b276ba5f54e559b635b01c12feec4"
            ]
          }
        },
        "3fd5ef4d474a441b945e040e78dfe2d6": {
          "model_module": "@jupyter-widgets/base",
          "model_name": "LayoutModel",
          "model_module_version": "1.2.0",
          "state": {
            "_view_name": "LayoutView",
            "grid_template_rows": null,
            "right": null,
            "justify_content": null,
            "_view_module": "@jupyter-widgets/base",
            "overflow": null,
            "_model_module_version": "1.2.0",
            "_view_count": null,
            "flex_flow": null,
            "width": null,
            "min_width": null,
            "border": null,
            "align_items": null,
            "bottom": null,
            "_model_module": "@jupyter-widgets/base",
            "top": null,
            "grid_column": null,
            "overflow_y": null,
            "overflow_x": null,
            "grid_auto_flow": null,
            "grid_area": null,
            "grid_template_columns": null,
            "flex": null,
            "_model_name": "LayoutModel",
            "justify_items": null,
            "grid_row": null,
            "max_height": null,
            "align_content": null,
            "visibility": null,
            "align_self": null,
            "height": null,
            "min_height": null,
            "padding": null,
            "grid_auto_rows": null,
            "grid_gap": null,
            "max_width": null,
            "order": null,
            "_view_module_version": "1.2.0",
            "grid_template_areas": null,
            "object_position": null,
            "object_fit": null,
            "grid_auto_columns": null,
            "margin": null,
            "display": null,
            "left": null
          }
        },
        "062b276ba5f54e559b635b01c12feec4": {
          "model_module": "@jupyter-widgets/output",
          "model_name": "OutputModel",
          "model_module_version": "1.0.0",
          "state": {
            "_view_name": "OutputView",
            "msg_id": "",
            "_dom_classes": [],
            "_model_name": "OutputModel",
            "outputs": [
              {
                "output_type": "display_data",
                "data": {
                  "text/html": "\n        <iframe\n            width=\"600\"\n            height=\"480\"\n            src=\"https://calendar.google.com/calendar/embed?src=356b9d2nspjttvgbb3tvgk2f58%40group.calendar.google.com&ctz=America%2FNew_York\"\n            frameborder=\"0\"\n            allowfullscreen\n        ></iframe>\n        ",
                  "text/plain": "<IPython.lib.display.IFrame at 0x7f630358bb50>"
                },
                "metadata": {}
              }
            ],
            "_view_module": "@jupyter-widgets/output",
            "_model_module_version": "1.0.0",
            "_view_count": null,
            "_view_module_version": "1.0.0",
            "layout": "IPY_MODEL_2938445cd49c4a1db3284e65cf717920",
            "_model_module": "@jupyter-widgets/output"
          }
        },
        "2938445cd49c4a1db3284e65cf717920": {
          "model_module": "@jupyter-widgets/base",
          "model_name": "LayoutModel",
          "model_module_version": "1.2.0",
          "state": {
            "_view_name": "LayoutView",
            "grid_template_rows": null,
            "right": null,
            "justify_content": null,
            "_view_module": "@jupyter-widgets/base",
            "overflow": null,
            "_model_module_version": "1.2.0",
            "_view_count": null,
            "flex_flow": null,
            "width": null,
            "min_width": null,
            "border": null,
            "align_items": null,
            "bottom": null,
            "_model_module": "@jupyter-widgets/base",
            "top": null,
            "grid_column": null,
            "overflow_y": null,
            "overflow_x": null,
            "grid_auto_flow": null,
            "grid_area": null,
            "grid_template_columns": null,
            "flex": null,
            "_model_name": "LayoutModel",
            "justify_items": null,
            "grid_row": null,
            "max_height": null,
            "align_content": null,
            "visibility": null,
            "align_self": null,
            "height": null,
            "min_height": null,
            "padding": null,
            "grid_auto_rows": null,
            "grid_gap": null,
            "max_width": null,
            "order": null,
            "_view_module_version": "1.2.0",
            "grid_template_areas": null,
            "object_position": null,
            "object_fit": null,
            "grid_auto_columns": null,
            "margin": null,
            "display": null,
            "left": null
          }
        }
      }
    }
  },
  "nbformat": 4,
  "nbformat_minor": 0
}