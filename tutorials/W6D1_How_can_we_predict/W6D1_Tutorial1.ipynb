{
  "cells": [
    {
      "cell_type": "markdown",
      "metadata": {
        "id": "view-in-github",
        "colab_type": "text"
      },
      "source": [
        "<a href=\"https://colab.research.google.com/github/KordingLab/ENGR344/blob/master/tutorials/W6D1_How_can_we_predict/W6D1_Tutorial1.ipynb\" target=\"_parent\"><img src=\"https://colab.research.google.com/assets/colab-badge.svg\" alt=\"Open In Colab\"/></a>"
      ]
    },
    {
      "cell_type": "markdown",
      "source": [
        "## **Tutorial 1: Auto Machine Learning using Auto-Sklearn.**\n",
        "\n",
        "**Week 6: How can we predict?**\n",
        "\n",
        "- **Content Creators:** Keervani Kandala, Konrad Kording, Tony Liu, Ilenna Jones\n",
        "\n",
        "- **Content Reviewers:** Rob Lindgren\n",
        "\n",
        "**Acknowledgements:** This notebook contains excerpts from the official [auto-sklearn](https://automl.github.io/auto-sklearn/master/) tutorials "
      ],
      "metadata": {
        "id": "mParjNYZeKd_"
      }
    },
    {
      "cell_type": "code",
      "source": [
        "# @title Due Dates Calendar\n",
        "\n",
        "from ipywidgets import widgets\n",
        "from IPython.display import display, IFrame, YouTubeVideo\n",
        "\n",
        "\n",
        "out1 = widgets.Output()\n",
        "with out1:\n",
        "  calendar = IFrame(src=\"https://calendar.google.com/calendar/embed?src=356b9d2nspjttvgbb3tvgk2f58%40group.calendar.google.com&ctz=America%2FNew_York\", width=600, height=480)\n",
        "  display(calendar)\n",
        "\n",
        "out = widgets.Tab([out1])\n",
        "out.set_title(0, 'Calendar')\n",
        "\n",
        "display(out)"
      ],
      "metadata": {
        "colab": {
          "base_uri": "https://localhost:8080/",
          "height": 563,
          "referenced_widgets": [
            "c51d3f622c68427d811c2a546f9c9e52",
            "521548f650ed4a33aa2183c6bd101066",
            "7365eaac9ac041ddadf3086becf3f0c5",
            "b0c7d5ba3dea48e4844341ee5d2550f5"
          ]
        },
        "id": "rK5-3OiPehmS",
        "outputId": "9e0bfb49-5258-4463-f6b7-0d4820113eeb",
        "cellView": "form"
      },
      "execution_count": 6,
      "outputs": [
        {
          "output_type": "display_data",
          "data": {
            "text/plain": [
              "Tab(children=(Output(),), _titles={'0': 'Calendar'})"
            ],
            "application/vnd.jupyter.widget-view+json": {
              "version_major": 2,
              "version_minor": 0,
              "model_id": "c51d3f622c68427d811c2a546f9c9e52"
            }
          },
          "metadata": {}
        }
      ]
    },
    {
      "cell_type": "markdown",
      "source": [
        "___\n",
        "# Part 1 Objectives\n",
        "\n",
        "*Estimated timing of tutorial: 50 minutes*\n",
        "\n",
        "This is the tutorial 1 in a 2-part series on how can we make predictions with data. In this tutorial, we will learn about auto machine learning: what is automl, how to use Auto-Sklearn for AutoML with Scikit-Learn machine learning algorithms in Python to make predictions.\n",
        "\n",
        "By the end of this tutorial, you will know:\n",
        "\n",
        "- Auto-Sklearn is an open-source library for AutoML with scikit-learn data preparation and machine learning models.\n",
        "- How to use Auto-Sklearn to automatically discover top-performing models for classification tasks."
      ],
      "metadata": {
        "id": "fP1hVPzzeu0h"
      }
    },
    {
      "cell_type": "code",
      "source": [
        "# @title Tutorial slides\n",
        " \n",
        "# @markdown These are the slides for the videos in all tutorials today\n",
        "from IPython.display import IFrame\n",
        "\n",
        "IFrame(src=f\"https://mfr.ca-1.osf.io/render?url=https://osf.io/9jmpr/?direct%26mode=render%26action=download%26mode=render\", width=854, height=480)"
      ],
      "metadata": {
        "id": "LndeVfXde7FA",
        "cellView": "form"
      },
      "execution_count": null,
      "outputs": []
    },
    {
      "cell_type": "markdown",
      "metadata": {
        "execution": {},
        "id": "GvEi-BMsjf8L"
      },
      "source": [
        "---\n",
        "# Part 1 Setup"
      ]
    },
    {
      "cell_type": "markdown",
      "source": [
        "This tutorial is divided into 3 sections:\n",
        "- The concepts behind using AutoML With Auto-Sklearn\n",
        "- Installing and Using Auto-Sklearn\n",
        "- Auto-Sklearn for Classification"
      ],
      "metadata": {
        "id": "zUjmaH1CC75b"
      }
    },
    {
      "cell_type": "markdown",
      "metadata": {
        "execution": {},
        "id": "6npYQxOHDLDS"
      },
      "source": [
        "---\n",
        "# Section 1: AutoML with Auto-Sklearn"
      ]
    },
    {
      "cell_type": "code",
      "source": [
        "# @title Video 1: Auto-ML\n",
        "from ipywidgets import widgets\n",
        "\n",
        "out1 = widgets.Output()\n",
        "with out1:\n",
        "  from IPython.display import YouTubeVideo\n",
        "  video = YouTubeVideo(id=\"MUBe2qdb-RY\", width=854, height=480, fs=1, rel=0)\n",
        "  print('Video available at https://youtube.com/watch?v=' + video.id)\n",
        "  display(video)\n",
        "\n",
        "out = widgets.Tab([out1])\n",
        "out.set_title(0, 'Youtube')\n",
        "\n",
        "display(out)"
      ],
      "metadata": {
        "cellView": "form",
        "id": "osDuck7izN5V"
      },
      "execution_count": null,
      "outputs": []
    },
    {
      "cell_type": "markdown",
      "source": [
        "## **What is Auto ML?**\n",
        "\n",
        "Machine Learning (ML) algorithms are methods that build or train models to fit to sample data with the purpose of using the models for prediction or decision making. These algorithms usually use optimization techniques to fit the model to data. There are many different approaches to ML. You may have heard of some of them: support vector machines, random forests, logistic regression, etc. Many machine learning courses teach them. We argue that, unless you want to do research in that area, that there is a better solution for getting problems solved.\n",
        "\n",
        "Automated Machine Learning (Auto ML) provides methods and processes to make Machine Learning automatic. The promise is to allow better results in Machine Learning tasks, to accelerate research on Machine Learning, and to make state of the art machie learning methods available to everyone. Importantly, Auto ML will avoid making the mistakes that many humans make.\n",
        "\n",
        "\n",
        "Models in machine learning are defined by the model type (e.g. support vector machinem or logistic regression) and their settings that are higher-level parameters (e.g. regularization strength). These parameters are also called  \"hyperparameters.\" Traditionally, models that are effective predictors of the data are found using intuitions, trial, and error - in other words the hyperparameters are hand-tuned. In practice, the choice of algorithm and parameters are hard for humans to guess and hence trial and error usually wins. But why should we let humans do the boring task of trying algorithms until things work?\n",
        "\n",
        "In contrast, AutoML often involves the use of hyperparameter optimization algorithms, such as Bayesian Optimization, to efficiently navigate the space of possible models and model configurations and quickly discover what works well for a given predictive modeling task. It allows non-expert machine learning practitioners to quickly and easily discover what works well or even best for a given dataset with very little technical background or direct input. There are many platforms available to perform AutoML: Google Cloud AutoML, Amazon, Azure, Auto-SKlearn, and other. We will be using Auto-SKlearn in our tutorial. \n",
        "\n",
        "The big advantage of AutoML though is that it avoids leakage. When we try 10 algorithms and deploy the best, we will do better than chance, even if the data is entirely random. But AutoML naturally avoids this problem. As such, the results of AutoML are not just better (because AutoML tries more ideas than Konrad would). They are also more trustworthy (because AutoML does not inappropriately use test set information while humans do.\n",
        "\n",
        "## **What is Auto-Sklearn?**\n",
        "\n",
        "Auto-Sklearn is an open-source library for performing AutoML in Python. It makes use of the popular Scikit-Learn machine learning library for data transforms and machine learning algorithms and uses a Bayesian Optimization search procedure to efficiently discover a top-performing model pipeline for a given dataset. \n",
        "\n",
        "Auto-Sklearn has won many auto-ML competitions. It includes a lot of cool tricks. But all of these tricks are usually irrelevant from a practitioners perspective. We usually just want good results. And we want that these good results still work on a new dataset. As an example of a cool trick, Auto-Sklearn uses insights from previous ML problems it solved to allow it to basically try good ideas based on the data. E.g. if there are very few data points and the problem is very high dimensional it will use more linear techniques than if things are the other way around."
      ],
      "metadata": {
        "id": "QlV5E5BOjnmd"
      }
    },
    {
      "cell_type": "markdown",
      "metadata": {
        "execution": {},
        "id": "HiA5qGxroImS"
      },
      "source": [
        "---\n",
        "# Section 2: Installing and using Auto-Sklearn"
      ]
    },
    {
      "cell_type": "markdown",
      "source": [
        "\n",
        "We will start by installing the dependencies for this notebook: the packages swig, numpy and auto-sklearn for our tools, and kaggle for our dataset. This can be achieved using pip, as follows:"
      ],
      "metadata": {
        "id": "FH8IO49IdkcB"
      }
    },
    {
      "cell_type": "code",
      "execution_count": null,
      "metadata": {
        "id": "b0lozq-K6U7K"
      },
      "outputs": [],
      "source": [
        "!pip install -q kaggle\n",
        "!sudo apt-get install swig -y\n",
        "!pip install Cython numpy\n",
        "!pip install pipelineprofiler\n",
        "!pip install auto-sklearn"
      ]
    },
    {
      "cell_type": "markdown",
      "source": [
        "**After installing the dependencies above, restart runtime (in the runtime menu across the top). This will resolve any issues with conflicting versions of sklearn.**\n",
        "\n",
        "Incidentally, if you are running not on google colab but on your own computers, you will have to do a lot of this package management yourself. It is not overly interesting. But needs to be done. Stackoverflow is your friend if it does not work."
      ],
      "metadata": {
        "id": "xH8ny4RIkxqF"
      }
    },
    {
      "cell_type": "markdown",
      "source": [
        "Now let us import the needed libraries."
      ],
      "metadata": {
        "id": "NTJCfC9NkSCA"
      }
    },
    {
      "cell_type": "code",
      "execution_count": null,
      "metadata": {
        "id": "cRkaqY16Ui4d"
      },
      "outputs": [],
      "source": [
        "import pandas as pd\n",
        "import numpy as np\n",
        "import matplotlib.pyplot as plt\n",
        "import PipelineProfiler\n",
        "import autosklearn.classification\n",
        "import sklearn.model_selection\n",
        "\n",
        "from sklearn.model_selection import train_test_split\n",
        "from sklearn.metrics import confusion_matrix\n",
        "from sklearn.metrics import ConfusionMatrixDisplay\n",
        "import sklearn.datasets\n",
        "import sklearn.metrics"
      ]
    },
    {
      "cell_type": "markdown",
      "source": [
        "We need to print the auto-sklearn version number to confirm it was installed successfully:\n",
        "Running the example prints the version number."
      ],
      "metadata": {
        "id": "QldYa1I5Hi5S"
      }
    },
    {
      "cell_type": "code",
      "source": [
        "print('autosklearn: %s' % autosklearn.__version__)"
      ],
      "metadata": {
        "id": "0QlUMPmgHnuw"
      },
      "execution_count": null,
      "outputs": []
    },
    {
      "cell_type": "markdown",
      "source": [
        "What does it mean that autosklearn is 0.14.6? The trailing zero implies that the authors do not quite believe that their library is finished. This is slightly bleeding edge. Anything that is good in ML is generally bleeding edge and not quite stable."
      ],
      "metadata": {
        "id": "Of4_Z85sgKtl"
      }
    },
    {
      "cell_type": "markdown",
      "metadata": {
        "execution": {},
        "id": "KRfy85Huoddg"
      },
      "source": [
        "---\n",
        "# Section 3: Auto-Sklearn with Classification"
      ]
    },
    {
      "cell_type": "markdown",
      "metadata": {
        "id": "wGpL9p7amExS"
      },
      "source": [
        "Using Auto-Sklearn is straightforward.\n",
        "\n",
        "Depending on whether your prediction task is classification or regression, you create and configure an instance of the `AutoSklearnClassifier` or `AutoSklearnRegressor` class, fit it on your dataset, and that’s it. (Classification = predict something discrete, Regression = predict something continuous) The resulting model can then be used to make predictions directly. \n",
        "\n",
        "After installing all the dependencies and libraries, let's try it out!"
      ]
    },
    {
      "cell_type": "markdown",
      "source": [
        "---\n",
        "## Preparation of the Data\n",
        "\n",
        "*Estimated timing to here from start of tutorial: 15 minutes\n",
        "\n",
        "Now let us load and begin to understand the \"Heart Disease Prediction\" dataset from Kaggle or from the device as a csv file. \n",
        "\n",
        "**URL:** https://www.kaggle.com/cherngs/heart-disease-cleveland-uci\n",
        "\n",
        "**Description of the dataset:**\n",
        "\n",
        "This database contains 76 attributes, but all published experiments refer to using a subset of 14 of them. In particular, the Cleveland database is the only one that has been used by ML researchers to\n",
        "this date. The `target` field refers to the presence of heart disease in the patient. It is a categorical variable, which is integer valued from 0 (no presence) to 1 (presence).\n",
        "\n",
        "Be sure to read [the dataset description](https://archive.ics.uci.edu/ml/datasets/Heart+Disease)"
      ],
      "metadata": {
        "id": "6sVWGH22k_kC"
      }
    },
    {
      "cell_type": "markdown",
      "source": [
        "---\n",
        "## Loading the Data\n"
      ],
      "metadata": {
        "id": "xU28gMTVmRDp"
      }
    },
    {
      "cell_type": "markdown",
      "source": [
        "Now, let us read the csv file using pandas and print the data.\n",
        "\n",
        "(One of the tutorial content creators is hosting the csv file from the kaggle website for ease of download into this tutorial - otherwise you would need to log into kaggle.com to access this dataset)\n"
      ],
      "metadata": {
        "id": "npwncEa_cp-H"
      }
    },
    {
      "cell_type": "code",
      "execution_count": null,
      "metadata": {
        "id": "ybvblxNvUciB"
      },
      "outputs": [],
      "source": [
        "hearts_url = 'https://raw.githubusercontent.com/roblindgren/datasets/main/heart.csv'\n",
        "df = pd.read_csv(hearts_url)\n",
        "df.head()"
      ]
    },
    {
      "cell_type": "markdown",
      "source": [
        "Given our understanding of the data, we can form a question. Perhaps we are interested in the `target` variable, or presence/absence of heart disease in each patient. For the didactic purpose of this exercise, I remind myself that I can use models via autoML to either predict new datapoints or make decisions. I might then ask the question: \"What contributes to heart disease outcome?\"\n",
        "\n",
        "From this I might then say I want to predict heart disease with my model using all of the data I have. I can do this with autoML."
      ],
      "metadata": {
        "id": "khbniuELP-j0"
      }
    },
    {
      "cell_type": "markdown",
      "source": [
        "## Coding Exercise 1.1: Convert data into sklearn-compatible format\n",
        "\n",
        "Now, let us convert the datafile into a numpy array for auto sklearn to use. \n",
        "\n",
        "We can also split the dataset into two input and output elements- `X` and `y` (both as numpy arrays), where `y` is the \"target\" column and `X` contains all the other columns and print their sizes."
      ],
      "metadata": {
        "id": "-dXikYU1dl9e"
      }
    },
    {
      "cell_type": "code",
      "execution_count": null,
      "metadata": {
        "id": "zYjZg_k6BVcV"
      },
      "outputs": [],
      "source": [
        "#################################################\n",
        "## TODO for students: calculate the covariance matrix\n",
        "# Fill out function and remove\n",
        "raise NotImplementedError(\"Student excercise: convert to sklearn-compatible format\")\n",
        "#################################################\n",
        "\n",
        "# Create X as a numpy array with all columns except column labeled 'target'\n",
        "X = df.loc[:, df.columns != ...].to_numpy()\n",
        "print('Shape of X:', X.shape)\n",
        "\n",
        "# Create y as numpy array using only 'target'\n",
        "y = df[...].to_numpy()\n",
        "print('Shape of y:', y.shape)"
      ]
    },
    {
      "cell_type": "code",
      "source": [
        "### to_remove Solution ###\n",
        "\n",
        "# Create X as a numpy array with all columns except target\n",
        "X = df.loc[:, df.columns != 'target'].to_numpy()\n",
        "print('Shape of X:', X.shape)\n",
        "\n",
        "# Create y as numpy array using only target\n",
        "y = df['target'].to_numpy()\n",
        "print('Shape of y:', y.shape)"
      ],
      "metadata": {
        "id": "erHWZjdKjb_1"
      },
      "execution_count": null,
      "outputs": []
    },
    {
      "cell_type": "markdown",
      "source": [
        "Let's also visualize both numpy arrays."
      ],
      "metadata": {
        "id": "d2lUH5qNLReW"
      }
    },
    {
      "cell_type": "code",
      "source": [
        "print(X)\n",
        "print(y)"
      ],
      "metadata": {
        "id": "6d8SJpqeeOIm"
      },
      "execution_count": null,
      "outputs": []
    },
    {
      "cell_type": "markdown",
      "source": [
        "As expected, this shows a matrix of values for `X` and a vector of values for `y`. \n",
        "- The `X` matrix contains a variety of values with each column corresponding to each variable. \n",
        "- The `y` vector contains only 0s or 1s corresponding to the `target` variable, indicating absence (0) or presence (1) of heart disease.\n"
      ],
      "metadata": {
        "id": "0H3dfkg7epBs"
      }
    },
    {
      "cell_type": "markdown",
      "source": [
        "Now, we will split the dataset into train and test sets and allow the process to find a good model on the training set, then later evaluate the performance of what was found on the holdout test set. This is done using the `train_test_split` function from the autosklearn package. This function takes numpy arrays, which is why we converted the data from a pandas DataFrame object to numpy arrays. Incidentally, auto-sklearn can do all of this automatically for us but let us be methodological here."
      ],
      "metadata": {
        "id": "3lAnidEne3np"
      }
    },
    {
      "cell_type": "code",
      "execution_count": null,
      "metadata": {
        "id": "Cfshd86Wb8VC"
      },
      "outputs": [],
      "source": [
        "# split into train and test sets\n",
        "X_train, X_test, y_train, y_test = \\\n",
        "    train_test_split(X, y, random_state=1)"
      ]
    },
    {
      "cell_type": "code",
      "source": [
        "# It's good to check the shape of our new train and test sets\n",
        "for item in [X_train, X_test, y_train, y_test]:\n",
        "  print(item.shape)"
      ],
      "metadata": {
        "id": "AFLn5ypifZRc"
      },
      "execution_count": null,
      "outputs": []
    },
    {
      "cell_type": "markdown",
      "source": [
        "### Discussion Questions\n",
        "\n",
        "- Given the nature of the target data we are trying to fit to, what kind of task are we trying to do with this dataset: regression or classification? How do you know?\n",
        "\n",
        "- Is there another variable (we are using `target` now) in this dataset we could set as `y` that would make this make sense as a regression task?\n",
        "\n",
        "- How much of the dataset are we about to use for our model fit?\n",
        "\n",
        "- Why do we need to split the dataset into X_train, y_train, X_test, and y_test?"
      ],
      "metadata": {
        "id": "VW6pHUZ-hW0J"
      }
    },
    {
      "cell_type": "code",
      "source": [
        "# @title Video 2: Auto-Sklearn\n",
        "from ipywidgets import widgets\n",
        "\n",
        "out1 = widgets.Output()\n",
        "with out1:\n",
        "  from IPython.display import YouTubeVideo\n",
        "  video = YouTubeVideo(id=\"cr75IKPYvMY\", width=854, height=480, fs=1, rel=0)\n",
        "  print('Video available at https://youtube.com/watch?v=' + video.id)\n",
        "  display(video)\n",
        "\n",
        "out = widgets.Tab([out1])\n",
        "out.set_title(0, 'Youtube')\n",
        "\n",
        "display(out)"
      ],
      "metadata": {
        "cellView": "form",
        "id": "Rr55p8YsztQU"
      },
      "execution_count": null,
      "outputs": []
    },
    {
      "cell_type": "markdown",
      "source": [
        "## Building and Fit\n",
        "\n",
        "*Estimated timing to here from start of tutorial: ???*\n",
        "\n",
        "Below are the two most important hyperparameters:\n",
        "\n",
        "- **time_left_for_this_task**, optional (default=3600):\n",
        "Time limit in seconds for the search of appropriate models. By increasing this value, auto-sklearn has a higher chance of finding better models.\n",
        "\n",
        "- **per_run_time_limit**, optional (default=1/10 of time_left_for_this_task):\n",
        "Time limit for a single call to the machine learning model. Model fitting will be terminated if the machine learning algorithm runs over the time limit. Set this value high enough so that typical machine learning algorithms can be fit on the training data."
      ],
      "metadata": {
        "id": "N8Xmxpyrmyy9"
      }
    },
    {
      "cell_type": "markdown",
      "source": [
        "```python\n",
        "automl = autosklearn.classification.AutoSklearnClassifier(\n",
        "    time_left_for_this_task=120,\n",
        "    per_run_time_limit=30\n",
        ")\n",
        "```"
      ],
      "metadata": {
        "id": "Kr2VeoH_h4Ar"
      }
    },
    {
      "cell_type": "markdown",
      "source": [
        "---\n",
        "## Coding Exercise 1.2: Use automl to train a classifier on the dataset\n",
        "\n",
        "Starting from our initial dataset in the right format (`X` and `y`), we will:\n",
        "1. Split the dataset into train and test sets\n",
        "2. Initialize a classifier object using `AutoSklearnClassifier` class by setting a time limit\n",
        "3. Fit the classifier to the data\n",
        "\n",
        "This will yield a trained classifier that can produce predictions on our test set. \n",
        "\n",
        "The code below will take about two minutes (120 seconds) to run (this works much better if given more time)."
      ],
      "metadata": {
        "id": "9L3Q2lIwnxnY"
      }
    },
    {
      "cell_type": "code",
      "execution_count": null,
      "metadata": {
        "id": "rag5BGmQ7ALB"
      },
      "outputs": [],
      "source": [
        "#################################################\n",
        "## TODO for students: calculate the covariance matrix\n",
        "# Fill out function and remove\n",
        "raise NotImplementedError(\"Student excercise: train a classifier on the dataset\")\n",
        "#################################################\n",
        "\n",
        "# Split the dataset into train and test sets\n",
        "X_train, X_test, y_train, y_test = \\\n",
        "  train_test_split(..., ..., random_state=1)\n",
        "\n",
        "# Instantiate an automl classifier model object with time limits\n",
        "automl = autosklearn.classification.AutoSklearnClassifier(\n",
        "        time_left_for_this_task=120,\n",
        "        per_run_time_limit=30\n",
        ")\n",
        "\n",
        "# Fit the classifier to training data\n",
        "automl.fit(..., ...)"
      ]
    },
    {
      "cell_type": "code",
      "source": [
        "### to_remove Solution ###\n",
        "\n",
        "# Split the dataset into train and test sets\n",
        "X_train, X_test, y_train, y_test = \\\n",
        "  train_test_split(X, y, random_state=1)\n",
        "\n",
        "# Instantiate an automl classifier model object with time limits\n",
        "automl = autosklearn.classification.AutoSklearnClassifier(\n",
        "        time_left_for_this_task=120,\n",
        "        per_run_time_limit=30\n",
        ")\n",
        "\n",
        "# Fit the classifier to training data\n",
        "automl.fit(X_train, y_train)"
      ],
      "metadata": {
        "id": "siAb5eTzkjmC"
      },
      "execution_count": null,
      "outputs": []
    },
    {
      "cell_type": "markdown",
      "source": [
        "If you are curious, run the code below to look at the details of the model automatically chosen and trained. See how auto-sklearn hides a lot of the details behind the very few lines of code we've used so far. These details typically would be selected by the machine learning practitioner, but auto-sklearn specified these hyperparameters for us."
      ],
      "metadata": {
        "id": "MSpI2tyYVAyf"
      }
    },
    {
      "cell_type": "code",
      "source": [
        "# Model search statistics\n",
        "print(automl.sprint_statistics())"
      ],
      "metadata": {
        "id": "n-YW1OvrVgiC"
      },
      "execution_count": null,
      "outputs": []
    },
    {
      "cell_type": "code",
      "source": [
        "# Model Description\n",
        "print(automl.show_models())"
      ],
      "metadata": {
        "id": "F0Es_Wp5UuDR"
      },
      "execution_count": null,
      "outputs": []
    },
    {
      "cell_type": "markdown",
      "metadata": {
        "id": "iSemr-aXtIW1"
      },
      "source": [
        "### Get the Score of the Final Ensemble\n",
        "\n",
        "Now we will print the accuracy score."
      ]
    },
    {
      "cell_type": "code",
      "source": [
        "# Produce predictions by using the predict method from the trained classifier object\n",
        "y_hat = automl.predict(X_test)\n",
        "\n",
        "# Calculate the accuracy by comparing the target data to the predicted data\n",
        "score = sklearn.metrics.accuracy_score(y_test, y_hat)\n",
        "print(\"Accuracy score\", score)"
      ],
      "metadata": {
        "id": "WeWCaIVYnTvQ"
      },
      "execution_count": null,
      "outputs": []
    },
    {
      "cell_type": "markdown",
      "source": [
        "What does this number mean? It means that when used to make predictions that are compared to the test data, our model classified patients correctly 75% of the time."
      ],
      "metadata": {
        "id": "bBgcR4Vag3Rz"
      }
    },
    {
      "cell_type": "markdown",
      "source": [
        "---\n",
        "## Coding Exercise 1.3: Visualize a Confusion Matrix\n",
        "\n",
        "What tripped up our classifier? If a classifier incorrectly classified something, it's safe to say that it was confused. When was our model confused? To determine this, we can make a **Confusion Matrix**.\n",
        "\n",
        "To make a confusion matrix and display it nicely we can use the `confusion_matrix` function and `ConfusionMatrixDisplay` class from the `sklearn.metrics` package."
      ],
      "metadata": {
        "id": "zxDwGpCEnmZr"
      }
    },
    {
      "cell_type": "code",
      "source": [
        "\n",
        "def plot_confusion_matrix(y_test, y_pred):\n",
        "  '''\n",
        "  Displays a confusion matrix in image and text form\n",
        "\n",
        "  Args:\n",
        "    y_test (numpy array of floats) : ground truth target data\n",
        "    y_pred (numpy array of floats) : predicted data from a classifier\n",
        "  '''\n",
        "  #################################################\n",
        "  ## TODO for students: calculate the covariance matrix\n",
        "  # Fill out function and remove\n",
        "  raise NotImplementedError(\"Student excercise: visualize a confusion matrix\")\n",
        "  #################################################\n",
        "  # Set title of Confusion Matrix\n",
        "  title = 'Confusion matrix'\n",
        "\n",
        "  # Produce confusion matrix by providing targets and predictions\n",
        "  cm = confusion_matrix(..., ...)\n",
        "\n",
        "  # Display confusion matrix\n",
        "  disp = ConfusionMatrixDisplay(confusion_matrix=cm).plot(cmap=plt.cm.Blues)\n",
        "  disp.ax_.set_title(title)\n",
        "\n",
        "  # Print text version of confusion matrix\n",
        "  print(title)\n",
        "  print(disp.confusion_matrix)\n",
        "\n",
        "  plt.show()\n",
        "\n",
        "plot_confusion_matrix(y_test, y_hat)"
      ],
      "metadata": {
        "id": "oajux38AonRq"
      },
      "execution_count": null,
      "outputs": []
    },
    {
      "cell_type": "code",
      "source": [
        "### to_remove Solution ###\n",
        "\n",
        "def plot_confusion_matrix(y_test, y_pred):\n",
        "  '''\n",
        "  Displays a confusion matrix in image and text form\n",
        "\n",
        "  Args:\n",
        "    y_test (numpy array of floats) : ground truth target data\n",
        "    y_pred (numpy array of floats) : predicted data from a classifier\n",
        "  '''\n",
        "  \n",
        "  # Set title of Confusion Matrix\n",
        "  title = 'Confusion matrix'\n",
        "\n",
        "  # Produce confusion matrix\n",
        "  cm = confusion_matrix(y_test, y_pred)\n",
        "\n",
        "  # Display confusion matrix\n",
        "  disp = ConfusionMatrixDisplay(confusion_matrix=cm).plot(cmap=plt.cm.Blues)\n",
        "  disp.ax_.set_title(title)\n",
        "\n",
        "  # Print text version of confusion matrix\n",
        "  print(title)\n",
        "  print(disp.confusion_matrix)\n",
        "\n",
        "  plt.show()\n",
        "\n",
        "plot_confusion_matrix(y_test, y_hat)"
      ],
      "metadata": {
        "id": "ofFE8Hk-N3SP"
      },
      "execution_count": null,
      "outputs": []
    },
    {
      "cell_type": "markdown",
      "source": [
        "- What can you say about what the classifier did based on interpreting this confusion matrix? Can you describe it in terms of true/false negatives/positives?"
      ],
      "metadata": {
        "id": "PF3gqZ9dgIwl"
      }
    },
    {
      "cell_type": "markdown",
      "source": [
        "# Part 1 References\n",
        "\n",
        "- https://automl.github.io/auto-sklearn/master/api.html#classification\n",
        "- https://machinelearningmastery.com/auto-sklearn-for-automated-machine-learning-in-python/\n",
        "- https://www.automl.org/automl/\n",
        "- https://neptune.ai/blog/a-quickstart-guide-to-auto-sklearn-automl-for-machine-learning-practitioners\n",
        "- https://scikit-learn.org/stable/auto_examples/model_selection/plot_confusion_matrix.html "
      ],
      "metadata": {
        "id": "8El5rMXCo_sX"
      }
    },
    {
      "cell_type": "markdown",
      "source": [
        "___\n",
        "# Part 2 Objectives\n",
        "\n",
        "*Estimated timing of tutorial: 15 minutes*\n",
        "\n",
        "This is the tutorial 2 in 2-part series on how can we make predictions with data. Now that we have trained a machine learning classifier, our next tasks is to *interpret* the classifier.\n",
        "\n",
        "By the end of this tutorial, you will understand:\n",
        "\n",
        "- The intuition behind Shapley values for feature importance.\n",
        "- How to use SHAP, a popular framework for Shapley feature importance."
      ],
      "metadata": {
        "id": "3XLH6rDH1tiW"
      }
    },
    {
      "cell_type": "markdown",
      "source": [
        "This part of the tutorial is divided into 2 sections:\n",
        "- Installing and Using SHAP\n",
        "- Interpreting SHAP for feature importance"
      ],
      "metadata": {
        "id": "kEIlF5jPr6FN"
      }
    },
    {
      "cell_type": "markdown",
      "source": [
        "# Section 4: Installing and using SHAP\n"
      ],
      "metadata": {
        "id": "5cCb9iEu0GwV"
      }
    },
    {
      "cell_type": "code",
      "source": [
        "# @title Video 3: Shapley Values\n",
        "from ipywidgets import widgets\n",
        "\n",
        "out1 = widgets.Output()\n",
        "with out1:\n",
        "  from IPython.display import YouTubeVideo\n",
        "  video = YouTubeVideo(id=\"QovddmPXgRA\", width=854, height=480, fs=1, rel=0)\n",
        "  print('Video available at https://youtube.com/watch?v=' + video.id)\n",
        "  display(video)\n",
        "\n",
        "out = widgets.Tab([out1])\n",
        "out.set_title(0, 'Youtube')\n",
        "\n",
        "display(out)"
      ],
      "metadata": {
        "cellView": "form",
        "id": "l8FfAMGX0JKI"
      },
      "execution_count": null,
      "outputs": []
    },
    {
      "cell_type": "markdown",
      "source": [
        "## What is SHAP?\n",
        "\n",
        "[SHAP](https://github.com/slundberg/shap) (SHapley-based Additive exPlanations) is a wildly popular Python package for post-hoc machine learning model interpretation. At its core, it implements variations of the Shapley value for intuitively interpreting feature importance adapted to specific machine learning model types (for example, neural networks, random forests, etc.) for fast and efficient computation.\n",
        "\n",
        "It also provides a rich library for interactive visualization of the resulting Shapley feature importances, something that we'll explore in this tutorial. \n",
        "\n",
        "Let's go ahead and install SHAP through our standard `pip` method:"
      ],
      "metadata": {
        "id": "iPj6HY42PcSp"
      }
    },
    {
      "cell_type": "code",
      "source": [
        "!pip install shap"
      ],
      "metadata": {
        "id": "LODW-WeDTi8C"
      },
      "execution_count": null,
      "outputs": []
    },
    {
      "cell_type": "markdown",
      "source": [
        "### Using SHAP\n",
        "\n",
        "Let's first get SHAP installed and initialized:"
      ],
      "metadata": {
        "id": "5oLEUTartIOA"
      }
    },
    {
      "cell_type": "code",
      "source": [
        "import shap\n",
        "\n",
        "# SHAP uses javascript (JS) for its visualizations, and this \n",
        "# tells our notebook that we want to render them\n",
        "shap.initjs()"
      ],
      "metadata": {
        "id": "vITcSYxQtZb0"
      },
      "execution_count": null,
      "outputs": []
    },
    {
      "cell_type": "markdown",
      "source": [
        "\n",
        "\n",
        "\n",
        "SHAP is well-adapted to the popular machine learning frameworks in Python (such as scikit-learn and XGBoost), working out-of-the-box with straightforward function calls:\n",
        "\n",
        "```python\n",
        "explainer = shap.Explainer(model.predict)\n",
        "shap_values = explainer(X_test)\n",
        "```\n",
        "Let's create an explainer object and compute SHAP values for our trained automl model (it will take about 2-3 mins to run):\n",
        "\n",
        "\n"
      ],
      "metadata": {
        "id": "hBtUIFScS0ei"
      }
    },
    {
      "cell_type": "code",
      "source": [
        "\n",
        "# Since we are classifying samples, our model produces two numbers when calling\n",
        "# predict_proba(): the probability of predicting class 0, and the probability of\n",
        "# predicting class 1. We need to wrap our model's predict_proba function so  \n",
        "# that SHAP can understand our model's output.\n",
        "def predict_proba_class_1(x):\n",
        "    return shap.links.identity(automl.predict_proba(x)[:,1])\n",
        "\n",
        "# we want to propagate the feature names through to the shap values\n",
        "feat_names = df.drop('target', axis='columns').columns.tolist()\n",
        "\n",
        "# We need a subset of training examples to compute the \"average\" model output,\n",
        "# so we sample some values from X_train. \n",
        "explainer = shap.Explainer(predict_proba_class_1, \n",
        "                           shap.sample(X_train, 50),\n",
        "                           feature_names=feat_names)\n",
        "\n",
        "# We want to explain the first 10 samples of our test set.\n",
        "shap_values = explainer(X_test[:10])\n"
      ],
      "metadata": {
        "id": "XFKAbOkOUqtj"
      },
      "execution_count": null,
      "outputs": []
    },
    {
      "cell_type": "markdown",
      "source": [
        "# Section 5: Using SHAP for model interpretation"
      ],
      "metadata": {
        "id": "0qfyMV1oF7Xs"
      }
    },
    {
      "cell_type": "markdown",
      "source": [
        "Now, let's take a look at the SHAP values for the third test set example:"
      ],
      "metadata": {
        "id": "rQ2d_QLwujox"
      }
    },
    {
      "cell_type": "code",
      "source": [
        "shap.plots.waterfall(shap_values[2])"
      ],
      "metadata": {
        "id": "cqEO9DrRuiHp"
      },
      "execution_count": null,
      "outputs": []
    },
    {
      "cell_type": "markdown",
      "source": [
        "The above code cell should produce a plot that looks something like this:\n",
        "\n",
        "![image.png](data:image/png;base64,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)"
      ],
      "metadata": {
        "id": "FubeSDwKA2iN"
      }
    },
    {
      "cell_type": "markdown",
      "source": [
        "\n",
        "SHAP produces an aestheically pleasing plot, but let's unpack a bit what all of it means. First, let's look at the $f(x)$ terms:\n",
        "\n",
        "- $f(x) = 0.27$, at the top of the plot: this is our model's prediction for the first test set example. This means that our autoML model gives this patient a 27\\% chance of having heart disease.\n",
        "- $E[f(x)] = 0.591$, at the bottom of the plot: this is the *average* prediction of our model on the test set.\n",
        "\n",
        "Remember from the slides how we talked about the **marginal contribution** of a feature as its importance? Here, we make it more concrete in that the Shapley value tells us how a particular feature makes our model deviate from the **average** prediction, $E[f(x)]$. \n",
        "\n",
        "What's neat about Shapley values is that since they are computed over all combinations of features, the sum of the Shapley values for each individual feature plus $E[f(x)]$ will exactly equal the prediction the model makes for the example! \n",
        "\n",
        "**Exercise:** Convince yourself that the sum of the Shapley values plus the average prediction equals the percentage chance of the prediction.\n",
        "\n",
        "Now, we can look at the features themselves. For this example, it appears that the feature \"cp = 0\" has the biggest influence on the model output, as it reduces the model's prediction probability by **0.13**, followed by \"ca = 2\" and \"exang = 1\" which both reduce the model's prediction probability by **0.08**.\n",
        "\n",
        "Let's take a look at the [dataset description](https://www.kaggle.com/cherngs/heart-disease-cleveland-uci) again for what the top few features mean:\n",
        "\n",
        "- cp: chest pain type\n",
        "  - Value 0: typical angina\n",
        "  - Value 1: atypical angina\n",
        "  - Value 2: non-anginal pain\n",
        "  - Value 3: asymptomatic\n",
        "- ca: number of major vessels (0-3) colored by flouroscopy\n",
        "- exang: exercise induced angina (1 = yes; 0 = no)"
      ],
      "metadata": {
        "id": "F8qwZlGC0tE2"
      }
    },
    {
      "cell_type": "markdown",
      "source": [
        "This suggests that that \"cp = 0,\" according to our model, reduces the probability of heart disease. We aren't doctors, so we need domain expertise to determine whether this is sensible or not. \"Angina\" is constriction of blood vessels in the heart, which doesn't sound ideal, but according to domain experts, \"typical\" angina (cp = 0) is preferable in patients with heart problems as opposed \"atypical\" angina (cp = 1). \"Typical\" angina is predictable (triggered by stress and exercise) and responds to treatment, which are both signals that the condition affecting the patient may not be an underlying heart disease.\n",
        "\n",
        "We can also look at how \"ca\" aligns with medical knowledge. A flouroscopy is a test that checks the blockages of major blood vessels: more vessels colored means there are less blockages, so higher values mean lower risk for heart disease. The patient has a value of \"ca = 2,\" which is the second highest possible value, and the SHAP value appropriately indicates that this lowers the predicted risk for heart disease. "
      ],
      "metadata": {
        "id": "isskt1upBvik"
      }
    },
    {
      "cell_type": "markdown",
      "source": [
        "## Caution: be wary of over-interpreting!\n",
        "\n",
        "Although these explanations of the model outputs seem intuitive, recall the \"layers\" of the data science process: these SHAP values are only interpreting the model, and do not directly represent the **world** or even the **data** wholly. These SHAP values do give us some confidence that our model is learning patterns that align with real-world relationships between the features and heart disease, but we should not treat them as ground truth."
      ],
      "metadata": {
        "id": "AZGd3sV9GMY0"
      }
    },
    {
      "cell_type": "markdown",
      "source": [
        "![](https://christophm.github.io/interpretable-ml-book/images/big-picture.png)"
      ],
      "metadata": {
        "id": "X09-LckQLEdI"
      }
    },
    {
      "cell_type": "markdown",
      "source": [
        "## Global feature importance\n",
        "\n",
        "We've looked at the Shapley values that shows how important features are for a single example, but what if we want to say something about **global** feature importance? SHAP also provides a convenient function to do so:"
      ],
      "metadata": {
        "id": "zFEkcBsXG87n"
      }
    },
    {
      "cell_type": "code",
      "source": [
        "shap.plots.bar(shap_values)"
      ],
      "metadata": {
        "id": "3kUE5OHaIAFZ"
      },
      "execution_count": null,
      "outputs": []
    },
    {
      "cell_type": "markdown",
      "source": [
        "Now, we're taking the **mean** of the **absolute value** of the Shapley value over the test set, which gives an approximation of how \"important\" a feature is.\n",
        "Here we see again that the \"cp\" feature is not only the most important feature for the test example we looked at, but also the most important feature for our model overall.\n",
        "\n",
        "Note however that since we take the absolute value here, these aggregated feature importances do not tell us the **direction** of the relationship, ie whether a feature increases or decreases the predicted risk for heart disease. So again, be wary of how we assign meaning to these values."
      ],
      "metadata": {
        "id": "1xdYEvs2ICMa"
      }
    },
    {
      "cell_type": "markdown",
      "source": [
        "# Part 2 References\n",
        "\n",
        "- https://github.com/slundberg/shap\n",
        "- https://github.com/automl/auto-sklearn-talks/blob/main/2021_07_28_EuroPython/Tutorial-Regression.ipynb\n",
        "- https://shap.readthedocs.io/en/latest/example_notebooks/tabular_examples/tree_based_models/Front%20page%20example%20(XGBoost).html"
      ],
      "metadata": {
        "id": "CfIYG6HUr6FR"
      }
    },
    {
      "cell_type": "markdown",
      "source": [
        "---\n",
        "# Summary\n",
        "\n",
        "*Estimated timing of tutorial: 65 minutes*\n",
        "\n",
        "- In this tutorial, we were introduced to auto-ml through auto-sklearn, which, in very few lines of code, we are able to produce black-box classifiers or regressions that have the potential to produce good predictions of our data.\n",
        "- We prepared our data for use in the auto-sklearn coding library\n",
        "- We gave a limited amount of time for auto-sklearn to choose the best model for fitting a classifier to our data\n",
        "- We also visualized the prediction performance of our classifier by looking at accuracy scores and making a confusion matrix\n",
        "- We thought about the limitations of using this black-box method and use Shapley values from the SHAP package to interpret our classifier model. \n",
        "- Using the SHAP package and domain knowledge about the dataset we made best-guesses as to how our independent variables contribute to the model prediction.\n"
      ],
      "metadata": {
        "id": "6iHhGLtxpacS"
      }
    },
    {
      "cell_type": "markdown",
      "source": [
        "## Submit\n",
        "Take the weekly survey/quiz and also submit your notebooks there. (Click the ?D logo below!)\n",
        "\n",
        "<a href=\"https://airtable.com/shrVfGvG2mYCBhZS4\"><img src=\"https://github.com/KordingLab/ENGR344/blob/master/tutorials/static_344/SubmitButton.jpg?raw=1\" alt=\"button link to survey\" style=\"width:410px\"></a>"
      ],
      "metadata": {
        "id": "v-Zo4WhPvZ-M"
      }
    }
  ],
  "metadata": {
    "colab": {
      "collapsed_sections": [],
      "name": "Module_6_Tutorial_1",
      "provenance": [],
      "include_colab_link": true
    },
    "kernelspec": {
      "display_name": "Python 3",
      "name": "python3"
    },
    "language_info": {
      "name": "python"
    },
    "widgets": {
      "application/vnd.jupyter.widget-state+json": {
        "c51d3f622c68427d811c2a546f9c9e52": {
          "model_module": "@jupyter-widgets/controls",
          "model_name": "TabModel",
          "model_module_version": "1.5.0",
          "state": {
            "_dom_classes": [],
            "_model_module": "@jupyter-widgets/controls",
            "_model_module_version": "1.5.0",
            "_model_name": "TabModel",
            "_titles": {
              "0": "Calendar"
            },
            "_view_count": null,
            "_view_module": "@jupyter-widgets/controls",
            "_view_module_version": "1.5.0",
            "_view_name": "TabView",
            "box_style": "",
            "children": [
              "IPY_MODEL_521548f650ed4a33aa2183c6bd101066"
            ],
            "layout": "IPY_MODEL_7365eaac9ac041ddadf3086becf3f0c5",
            "selected_index": 0
          }
        },
        "521548f650ed4a33aa2183c6bd101066": {
          "model_module": "@jupyter-widgets/output",
          "model_name": "OutputModel",
          "model_module_version": "1.0.0",
          "state": {
            "_dom_classes": [],
            "_model_module": "@jupyter-widgets/output",
            "_model_module_version": "1.0.0",
            "_model_name": "OutputModel",
            "_view_count": null,
            "_view_module": "@jupyter-widgets/output",
            "_view_module_version": "1.0.0",
            "_view_name": "OutputView",
            "layout": "IPY_MODEL_b0c7d5ba3dea48e4844341ee5d2550f5",
            "msg_id": "",
            "outputs": [
              {
                "output_type": "display_data",
                "data": {
                  "text/plain": "<IPython.lib.display.IFrame at 0x7fcb72f0f1d0>",
                  "text/html": "\n        <iframe\n            width=\"600\"\n            height=\"480\"\n            src=\"https://calendar.google.com/calendar/embed?src=356b9d2nspjttvgbb3tvgk2f58%40group.calendar.google.com&ctz=America%2FNew_York\"\n            frameborder=\"0\"\n            allowfullscreen\n        ></iframe>\n        "
                },
                "metadata": {}
              }
            ]
          }
        },
        "7365eaac9ac041ddadf3086becf3f0c5": {
          "model_module": "@jupyter-widgets/base",
          "model_name": "LayoutModel",
          "model_module_version": "1.2.0",
          "state": {
            "_model_module": "@jupyter-widgets/base",
            "_model_module_version": "1.2.0",
            "_model_name": "LayoutModel",
            "_view_count": null,
            "_view_module": "@jupyter-widgets/base",
            "_view_module_version": "1.2.0",
            "_view_name": "LayoutView",
            "align_content": null,
            "align_items": null,
            "align_self": null,
            "border": null,
            "bottom": null,
            "display": null,
            "flex": null,
            "flex_flow": null,
            "grid_area": null,
            "grid_auto_columns": null,
            "grid_auto_flow": null,
            "grid_auto_rows": null,
            "grid_column": null,
            "grid_gap": null,
            "grid_row": null,
            "grid_template_areas": null,
            "grid_template_columns": null,
            "grid_template_rows": null,
            "height": null,
            "justify_content": null,
            "justify_items": null,
            "left": null,
            "margin": null,
            "max_height": null,
            "max_width": null,
            "min_height": null,
            "min_width": null,
            "object_fit": null,
            "object_position": null,
            "order": null,
            "overflow": null,
            "overflow_x": null,
            "overflow_y": null,
            "padding": null,
            "right": null,
            "top": null,
            "visibility": null,
            "width": null
          }
        },
        "b0c7d5ba3dea48e4844341ee5d2550f5": {
          "model_module": "@jupyter-widgets/base",
          "model_name": "LayoutModel",
          "model_module_version": "1.2.0",
          "state": {
            "_model_module": "@jupyter-widgets/base",
            "_model_module_version": "1.2.0",
            "_model_name": "LayoutModel",
            "_view_count": null,
            "_view_module": "@jupyter-widgets/base",
            "_view_module_version": "1.2.0",
            "_view_name": "LayoutView",
            "align_content": null,
            "align_items": null,
            "align_self": null,
            "border": null,
            "bottom": null,
            "display": null,
            "flex": null,
            "flex_flow": null,
            "grid_area": null,
            "grid_auto_columns": null,
            "grid_auto_flow": null,
            "grid_auto_rows": null,
            "grid_column": null,
            "grid_gap": null,
            "grid_row": null,
            "grid_template_areas": null,
            "grid_template_columns": null,
            "grid_template_rows": null,
            "height": null,
            "justify_content": null,
            "justify_items": null,
            "left": null,
            "margin": null,
            "max_height": null,
            "max_width": null,
            "min_height": null,
            "min_width": null,
            "object_fit": null,
            "object_position": null,
            "order": null,
            "overflow": null,
            "overflow_x": null,
            "overflow_y": null,
            "padding": null,
            "right": null,
            "top": null,
            "visibility": null,
            "width": null
          }
        }
      }
    }
  },
  "nbformat": 4,
  "nbformat_minor": 0
}