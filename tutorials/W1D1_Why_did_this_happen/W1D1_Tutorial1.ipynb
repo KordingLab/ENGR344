{
  "cells": [
    {
      "cell_type": "markdown",
      "metadata": {
        "id": "view-in-github",
        "colab_type": "text"
      },
      "source": [
        "<a href=\"https://colab.research.google.com/github/KordingLab/ENGR344/blob/W1_initialize/tutorials/W1D1_Why_did_this_happen/W1D1_Tutorial1.ipynb\" target=\"_parent\"><img src=\"https://colab.research.google.com/assets/colab-badge.svg\" alt=\"Open In Colab\"/></a>"
      ]
    },
    {
      "cell_type": "markdown",
      "metadata": {
        "execution": {},
        "id": "GwG32kd0jf8H"
      },
      "source": [
        "# Tutorial 1: Interventions\n",
        "**Week 1: Why Did This Happen?**\n",
        "\n",
        "**Originally By Neuromatch Academy**\n",
        "\n",
        "**Content creators**: Ari Benjamin, Tony Liu, Konrad Kording\n",
        "\n",
        "**Content reviewers**: Mike X Cohen, Madineh Sarvestani, Ella Batty, Yoni Friedman, Michael Waskom\n",
        "\n",
        "**Content modifiers**: Ilenna Jones\n",
        "\n",
        "**Modified Content reviewer**: Keervani Kandala\n"
      ]
    },
    {
      "cell_type": "markdown",
      "metadata": {
        "execution": {},
        "id": "HSUNyyBajf8I"
      },
      "source": [
        "**Our 2021 Sponsors, including Presenting Sponsor Facebook Reality Labs**\n",
        "\n",
        "<p align='center'><img src='https://github.com/NeuromatchAcademy/widgets/blob/master/sponsors.png?raw=True'/></p>"
      ]
    },
    {
      "cell_type": "markdown",
      "metadata": {
        "execution": {},
        "id": "mngEsmgIjf8J"
      },
      "source": [
        "---\n",
        "# Tutorial Objectives\n",
        "\n",
        "*Estimated timing of tutorial: 40 min*\n",
        "\n",
        "\n",
        "We list our overall week objectives below, with the sections we will focus on in this notebook in bold:\n",
        "\n",
        "1.   **Master definitions of causality**\n",
        "2.   **Understand that estimating causality is possible**\n",
        "3.  **Learn 3 different methods and understand when they fail**\n",
        "    1. Perturbations\n",
        "    2. Correlations\n",
        "    3. Simultaneous fitting/regression\n",
        " \n",
        "\n",
        "### Tutorial setting\n",
        "\n",
        "How do we know if a relationship is causal? What does that mean? How can we estimate causal relationships within neural data?\n",
        "\n",
        "The methods we'll learn today are very general and can be applied to all sorts of data, and in many circumstances.\n",
        "Causal questions are everywhere!\n",
        "\n",
        "\n",
        "### Tutorial 1 Objectives:\n",
        "\n",
        "1.   Simulate a neural system (and because we simulate it we know how causality works). This is a simple system in which we can think of causality - but obviously there are countless others\n",
        "2.   Understand perturbation as a method of estimating causality"
      ]
    },
    {
      "cell_type": "code",
      "execution_count": null,
      "metadata": {
        "cellView": "form",
        "execution": {},
        "id": "zK3D5SfMjf8K",
        "colab": {
          "base_uri": "https://localhost:8080/",
          "height": 502
        },
        "outputId": "b8adb7ad-c9f7-4916-8d51-9fe7eca19e97"
      },
      "outputs": [
        {
          "output_type": "execute_result",
          "data": {
            "text/html": [
              "\n",
              "        <iframe\n",
              "            width=\"854\"\n",
              "            height=\"480\"\n",
              "            src=\"https://mfr.ca-1.osf.io/render?url=https://osf.io/gp4m9/?direct%26mode=render%26action=download%26mode=render\"\n",
              "            frameborder=\"0\"\n",
              "            allowfullscreen\n",
              "        ></iframe>\n",
              "        "
            ],
            "text/plain": [
              "<IPython.lib.display.IFrame at 0x7fd28a3f3e10>"
            ]
          },
          "metadata": {},
          "execution_count": 1
        }
      ],
      "source": [
        "# @title Tutorial slides\n",
        "\n",
        "# @markdown These are the slides for the videos in all tutorials today\n",
        "from IPython.display import IFrame\n",
        "IFrame(src=f\"https://mfr.ca-1.osf.io/render?url=https://osf.io/gp4m9/?direct%26mode=render%26action=download%26mode=render\", width=854, height=480)"
      ]
    },
    {
      "cell_type": "markdown",
      "metadata": {
        "execution": {},
        "id": "GvEi-BMsjf8L"
      },
      "source": [
        "---\n",
        "# Setup"
      ]
    },
    {
      "cell_type": "code",
      "execution_count": null,
      "metadata": {
        "cellView": "code",
        "execution": {},
        "id": "YY7HrpSyjf8L"
      },
      "outputs": [],
      "source": [
        "# Imports\n",
        "\n",
        "import numpy as np\n",
        "import matplotlib.pyplot as plt\n",
        "from mpl_toolkits.axes_grid1 import make_axes_locatable"
      ]
    },
    {
      "cell_type": "code",
      "execution_count": null,
      "metadata": {
        "cellView": "form",
        "execution": {},
        "id": "A7holClXjf8M"
      },
      "outputs": [],
      "source": [
        "#@title Figure Settings\n",
        "%config InlineBackend.figure_format = 'retina'\n",
        "plt.style.use(\"https://raw.githubusercontent.com/NeuromatchAcademy/course-content/master/nma.mplstyle\")"
      ]
    },
    {
      "cell_type": "code",
      "execution_count": null,
      "metadata": {
        "cellView": "form",
        "execution": {},
        "id": "ndy6qAKkjf8P"
      },
      "outputs": [],
      "source": [
        "# @title Plotting Functions\n",
        "\n",
        "def see_neurons(A, ax):\n",
        "    \"\"\"\n",
        "    Visualizes the connectivity matrix.\n",
        "\n",
        "    Args:\n",
        "        A (np.ndarray): the connectivity matrix of shape (n_neurons, n_neurons)\n",
        "        ax (plt.axis): the matplotlib axis to display on\n",
        "\n",
        "    Returns:\n",
        "        Nothing, but visualizes A.\n",
        "    \"\"\"\n",
        "    A = A.T  # make up for opposite connectivity\n",
        "    n = len(A)\n",
        "    ax.set_aspect('equal')\n",
        "    thetas = np.linspace(0, np.pi * 2, n, endpoint=False)\n",
        "    x, y = np.cos(thetas), np.sin(thetas),\n",
        "    ax.scatter(x, y, c='k', s=150)\n",
        "\n",
        "    # Renormalize\n",
        "    A = A / A.max()\n",
        "    for i in range(n):\n",
        "        for j in range(n):\n",
        "            if A[i, j] > 0:\n",
        "                ax.arrow(x[i], y[i], x[j] - x[i], y[j] - y[i], color='k', alpha=A[i,j],\n",
        "                         head_width=.15, width = A[i, j] / 25, shape='right',\n",
        "                         length_includes_head=True)\n",
        "    ax.axis('off')\n",
        "\n",
        "\n",
        "def plot_connectivity_matrix(A, ax=None):\n",
        "  \"\"\"Plot the (weighted) connectivity matrix A as a heatmap\n",
        "\n",
        "    Args:\n",
        "      A (ndarray): connectivity matrix (n_neurons by n_neurons)\n",
        "      ax: axis on which to display connectivity matrix\n",
        "  \"\"\"\n",
        "  if ax is None:\n",
        "    ax = plt.gca()\n",
        "  lim = np.abs(A).max()\n",
        "  im = ax.imshow(A, vmin=-lim, vmax=lim, cmap=\"coolwarm\")\n",
        "  ax.tick_params(labelsize=10)\n",
        "  ax.xaxis.label.set_size(15)\n",
        "  ax.yaxis.label.set_size(15)\n",
        "  cbar = ax.figure.colorbar(im, ax=ax, ticks=[0], shrink=.7)\n",
        "  cbar.ax.set_ylabel(\"Connectivity Strength\", rotation=90,\n",
        "                     labelpad= 20,va=\"bottom\")\n",
        "  ax.set(xlabel=\"Connectivity from\", ylabel=\"Connectivity to\")\n",
        "\n",
        "\n",
        "def plot_connectivity_graph_matrix(A):\n",
        "  \"\"\"Plot both connectivity graph and matrix side by side\n",
        "\n",
        "    Args:\n",
        "      A (ndarray): connectivity matrix (n_neurons by n_neurons)\n",
        "\n",
        "  \"\"\"\n",
        "  fig, axs = plt.subplots(1, 2, figsize=(10, 5))\n",
        "  see_neurons(A,axs[0])  # we are invoking a helper function that visualizes the connectivity matrix\n",
        "  plot_connectivity_matrix(A)\n",
        "\n",
        "  fig.suptitle(\"Neuron Connectivity\")\n",
        "  plt.show()\n",
        "\n",
        "\n",
        "def plot_neural_activity(X):\n",
        "  \"\"\"Plot first 10 timesteps of neural activity\n",
        "\n",
        "  Args:\n",
        "    X (ndarray): neural activity (n_neurons by timesteps)\n",
        "\n",
        "  \"\"\"\n",
        "  f, ax = plt.subplots()\n",
        "  im = ax.imshow(X[:, :10])\n",
        "  divider = make_axes_locatable(ax)\n",
        "  cax1 = divider.append_axes(\"right\", size=\"5%\", pad=0.15)\n",
        "  plt.colorbar(im, cax=cax1)\n",
        "  ax.set(xlabel='Timestep', ylabel='Neuron', title='Simulated Neural Activity')\n",
        "\n",
        "\n",
        "def plot_true_vs_estimated_connectivity(estimated_connectivity, true_connectivity, selected_neuron=None):\n",
        "  \"\"\"Visualize true vs estimated connectivity matrices\n",
        "\n",
        "  Args:\n",
        "    estimated_connectivity (ndarray): estimated connectivity (n_neurons by n_neurons)\n",
        "    true_connectivity (ndarray): ground-truth connectivity (n_neurons by n_neurons)\n",
        "    selected_neuron (int or None): None if plotting all connectivity, otherwise connectivity\n",
        "      from selected_neuron will be shown\n",
        "\n",
        "  \"\"\"\n",
        "\n",
        "  fig, axs = plt.subplots(1, 2, figsize=(10, 5))\n",
        "\n",
        "  if selected_neuron is not None:\n",
        "    plot_connectivity_matrix(np.expand_dims(estimated_connectivity, axis=1), ax=axs[0])\n",
        "    plot_connectivity_matrix(true_connectivity[:, [selected_neuron]], ax=axs[1])\n",
        "    axs[0].set_xticks([0])\n",
        "    axs[1].set_xticks([0])\n",
        "    axs[0].set_xticklabels([selected_neuron])\n",
        "    axs[1].set_xticklabels([selected_neuron])\n",
        "  else:\n",
        "    plot_connectivity_matrix(estimated_connectivity, ax=axs[0])\n",
        "    plot_connectivity_matrix(true_connectivity, ax=axs[1])\n",
        "\n",
        "  axs[1].set(title=\"True connectivity\")\n",
        "  axs[0].set(title=\"Estimated connectivity\")"
      ]
    },
    {
      "cell_type": "markdown",
      "metadata": {
        "execution": {},
        "id": "CxhC_uamjf8Q"
      },
      "source": [
        "---\n",
        "# Section 1: Defining and estimating causality\n"
      ]
    },
    {
      "cell_type": "code",
      "execution_count": null,
      "metadata": {
        "cellView": "form",
        "execution": {},
        "id": "Dnp-ZAWvjf8R",
        "colab": {
          "base_uri": "https://localhost:8080/",
          "height": 580,
          "referenced_widgets": [
            "89abb1ec6e294ea1abd07d1e054385e7",
            "c7b3a44e59ed445cb8ee21cb819ac951",
            "826572d2cf534e7dbc4c0e6965243f8a",
            "484dc8bbb9274a78b84bf031c290ac5f",
            "b32d1bc0eb914cdda9a53199ef669664",
            "665ddc390af4499da4cbdf55bd4fc527"
          ]
        },
        "outputId": "3ce93eb4-6458-43df-d377-1a72932218fe"
      },
      "outputs": [
        {
          "output_type": "display_data",
          "data": {
            "application/vnd.jupyter.widget-view+json": {
              "model_id": "89abb1ec6e294ea1abd07d1e054385e7",
              "version_minor": 0,
              "version_major": 2
            },
            "text/plain": [
              "Tab(children=(Output(), Output()), _titles={'0': 'Youtube', '1': 'Bilibili'})"
            ]
          },
          "metadata": {}
        }
      ],
      "source": [
        "# @title Video 1: Defining causality\n",
        "from ipywidgets import widgets\n",
        "\n",
        "out2 = widgets.Output()\n",
        "with out2:\n",
        "  from IPython.display import IFrame\n",
        "  class BiliVideo(IFrame):\n",
        "      def __init__(self, id, page=1, width=400, height=300, **kwargs):\n",
        "          self.id=id\n",
        "          src = 'https://player.bilibili.com/player.html?bvid={0}&page={1}'.format(id, page)\n",
        "          super(BiliVideo, self).__init__(src, width, height, **kwargs)\n",
        "\n",
        "  video = BiliVideo(id=\"BV1ZD4y1m7GG\", width=854, height=480, fs=1)\n",
        "  print('Video available at https://www.bilibili.com/video/{0}'.format(video.id))\n",
        "  display(video)\n",
        "\n",
        "out1 = widgets.Output()\n",
        "with out1:\n",
        "  from IPython.display import YouTubeVideo\n",
        "  video = YouTubeVideo(id=\"yiddT2sMbZM\", width=854, height=480, fs=1, rel=0)\n",
        "  print('Video available at https://youtube.com/watch?v=' + video.id)\n",
        "  display(video)\n",
        "\n",
        "out = widgets.Tab([out1, out2])\n",
        "out.set_title(0, 'Youtube')\n",
        "out.set_title(1, 'Bilibili')\n",
        "\n",
        "display(out)"
      ]
    },
    {
      "cell_type": "markdown",
      "metadata": {
        "execution": {},
        "id": "tQweYswtjf8R"
      },
      "source": [
        "This video recaps the definition of causality and presents a simple case of 2 neurons.\n",
        "\n",
        "<details>\n",
        "<summary> <font color='blue'>Click here for text recap of video </font></summary>\n",
        "\n",
        "Let's think carefully about the statement \"**A causes B**\". To be concrete, let's take two neurons. What does it mean to say that neuron $A$ causes neuron $B$ to fire?\n",
        "\n",
        "The *interventional* definition of causality says that:\n",
        "$$\n",
        "(A \\text{ causes } B) \\Leftrightarrow ( \\text{ If we force }A \\text { to be different, then }B\\text{ changes})\n",
        "$$\n",
        "\n",
        "To determine if $A$ causes $B$ to fire, we can inject current into neuron $A$ and see what happens to $B$.\n",
        "\n",
        "**A mathematical definition of causality**: \n",
        "Over many trials, the average causal effect $\\delta_{A\\to B}$ of neuron $A$ upon neuron $B$ is the average change in neuron $B$'s activity when we set $A=1$ versus when we set $A=0$.\n",
        "\n",
        "\n",
        "\\begin{align*}\n",
        "\\delta_{A\\to B} = \\mathbb{E}[B | A=1] -  \\mathbb{E}[B | A=0] \n",
        "\\end{align*}\n",
        "\n",
        "\n",
        "where $\\mathbb{E}[B | \\text{do} (A=1)]$ is the expected value of B if A is forced to be 1 and  $\\mathbb{E}[B | \\text{do}(A=0)]$ is the expected value of B if A is forced to be 0.\n",
        "\n",
        "Note that this is an average effect. While one can get more sophisticated about conditional effects ($A$ only effects $B$ when it's not refractory, perhaps), we will only consider average effects today.\n",
        "\n",
        "</details>\n",
        "\n",
        "**Relation to a randomized controlled trial (RCT)**:\n",
        "The logic we just described is the logic of a randomized control trial (RCT). If you randomly give 100 people a drug (you in a way make them take it, obviously with consent) and 100 people a placebo (you make them not take it, despite consent), the effect is the difference in outcomes.\n",
        "\n"
      ]
    },
    {
      "cell_type": "markdown",
      "metadata": {
        "execution": {},
        "id": "mlu2WK0Rjf8S"
      },
      "source": [
        "## Coding Exercise 1: Randomized controlled trial for two neurons\n",
        "\n",
        "Let's pretend we can perform a randomized controlled trial for two neurons. Our model will have neuron $A$ synapsing on Neuron $B$:\n",
        "$$B = A + \\epsilon$$\n",
        " where $A$ and $B$ represent the activities of the two neurons and $\\epsilon$ is standard normal noise $\\epsilon\\sim\\mathcal{N}(0,1)$.\n",
        "\n",
        "Our goal is to perturb $A$ and confirm that $B$ changes. \n"
      ]
    },
    {
      "cell_type": "code",
      "execution_count": null,
      "metadata": {
        "cellView": "both",
        "execution": {},
        "id": "THiVtqFfjf8S",
        "colab": {
          "base_uri": "https://localhost:8080/"
        },
        "outputId": "7078c809-a875-4203-f036-d242d96e5467"
      },
      "outputs": [
        {
          "output_type": "stream",
          "name": "stdout",
          "text": [
            "0.9907195190159408\n"
          ]
        }
      ],
      "source": [
        "def neuron_B(activity_of_A):\n",
        "  \"\"\"Model activity of neuron B as neuron A activity + noise\n",
        "\n",
        "  Args:\n",
        "    activity_of_A (ndarray): An array of shape (T,) containing the neural activity of neuron A\n",
        "\n",
        "  Returns:\n",
        "    ndarray: activity of neuron B\n",
        "  \"\"\"\n",
        "  noise = np.random.randn(activity_of_A.shape[0])\n",
        "\n",
        "  return activity_of_A + noise\n",
        "\n",
        "np.random.seed(12) #we set the random seed so that every student will see the exact same graphs\n",
        "\n",
        "# Neuron A activity of zeros\n",
        "A_0 = np.zeros(5000)\n",
        "\n",
        "# Neuron A activity of ones\n",
        "A_1 = np.ones(5000)\n",
        "\n",
        "###########################################################################\n",
        "## TODO for students: Estimate the causal effect of A upon B\n",
        "## Use eq above (difference in mean of B when A=0 vs. A=1)\n",
        "raise NotImplementedError('student exercise: calculate the vector of Bs if A=0 and the vector of Bs if A=1, calculate the average difference')\n",
        "###########################################################################\n",
        "\n",
        "diff_in_means = ...\n",
        "print(diff_in_means)"
      ]
    },
    {
      "cell_type": "markdown",
      "metadata": {
        "cellView": "both",
        "execution": {},
        "id": "LbFTmjIkjf8S"
      },
      "source": [
        "[*Click for solution*](https://github.com/NeuromatchAcademy/course-content/tree/master//tutorials/W3D5_NetworkCausality/solutions/W3D5_Tutorial1_Solution_9ae3afbe.py)\n",
        "\n"
      ]
    },
    {
      "cell_type": "markdown",
      "metadata": {
        "execution": {},
        "id": "pVechStpjf8T"
      },
      "source": [
        "You should get a difference in means of `0.990719` (so very close to one). "
      ]
    },
    {
      "cell_type": "markdown",
      "metadata": {
        "execution": {},
        "id": "loUlF0Sojf8T"
      },
      "source": [
        "---\n",
        "# Section 2: Simulating a coupled system of neurons\n",
        "\n",
        "*Estimated timing to here from start of tutorial: 9 min*\n",
        "\n"
      ]
    },
    {
      "cell_type": "markdown",
      "metadata": {
        "execution": {},
        "id": "-bCA13t-jf8T"
      },
      "source": [
        "Can we still estimate causal effects when there are many interacting variables, for example when the neurons are in big networks? This is one of the central questions we will ask today. Let's first create our system, and the rest of today will be spent analyzing it.\n"
      ]
    },
    {
      "cell_type": "code",
      "execution_count": null,
      "metadata": {
        "cellView": "form",
        "execution": {},
        "id": "UnjIpyXXjf8T",
        "colab": {
          "base_uri": "https://localhost:8080/",
          "height": 580,
          "referenced_widgets": [
            "4aeba248599640ce8d85b803bcccd65e",
            "21fe78ef83604001b329adbd77f5d229",
            "a605e4a4ff2a41dd986de96095eab111",
            "7a6e248002d04ef9bed1533351e384d6",
            "eef04a9a99f94142b56c9c7b8f351e26",
            "7539f340be5a42dc90c5b504597dbee1"
          ]
        },
        "outputId": "4be38cc0-00a5-472a-bd5d-35079ad320a2"
      },
      "outputs": [
        {
          "output_type": "display_data",
          "data": {
            "application/vnd.jupyter.widget-view+json": {
              "model_id": "4aeba248599640ce8d85b803bcccd65e",
              "version_minor": 0,
              "version_major": 2
            },
            "text/plain": [
              "Tab(children=(Output(), Output()), _titles={'0': 'Youtube', '1': 'Bilibili'})"
            ]
          },
          "metadata": {}
        }
      ],
      "source": [
        "# @title Video 2: Simulated neural system model\n",
        "from ipywidgets import widgets\n",
        "\n",
        "out2 = widgets.Output()\n",
        "with out2:\n",
        "  from IPython.display import IFrame\n",
        "  class BiliVideo(IFrame):\n",
        "      def __init__(self, id, page=1, width=400, height=300, **kwargs):\n",
        "          self.id=id\n",
        "          src = 'https://player.bilibili.com/player.html?bvid={0}&page={1}'.format(id, page)\n",
        "          super(BiliVideo, self).__init__(src, width, height, **kwargs)\n",
        "\n",
        "  video = BiliVideo(id=\"BV1Xt4y1Q7uC\", width=854, height=480, fs=1)\n",
        "  print('Video available at https://www.bilibili.com/video/{0}'.format(video.id))\n",
        "  display(video)\n",
        "\n",
        "out1 = widgets.Output()\n",
        "with out1:\n",
        "  from IPython.display import YouTubeVideo\n",
        "  video = YouTubeVideo(id=\"oPJz49dAuL8\", width=854, height=480, fs=1, rel=0)\n",
        "  print('Video available at https://youtube.com/watch?v=' + video.id)\n",
        "  display(video)\n",
        "\n",
        "out = widgets.Tab([out1, out2])\n",
        "out.set_title(0, 'Youtube')\n",
        "out.set_title(1, 'Bilibili')\n",
        "\n",
        "display(out)"
      ]
    },
    {
      "cell_type": "markdown",
      "metadata": {
        "execution": {},
        "id": "IuGYHL_Bjf8U"
      },
      "source": [
        "**Video correction**: the connectivity graph plots and associated explanations in this and other videos show the wrong direction of connectivity (the arrows should be pointing the opposite direction). This has been fixed in the figures below."
      ]
    },
    {
      "cell_type": "markdown",
      "metadata": {
        "execution": {},
        "id": "bYIQWjTIjf8U"
      },
      "source": [
        "This video introduces a big causal system (interacting neurons) with understandable dynamical properties and how to simulate it.\n",
        "\n",
        "<details>\n",
        "<summary> <font color='blue'>Click here for text recap of video </font></summary>\n",
        "\n",
        "\n",
        "Our system has N interconnected neurons that affect each other over time. The activity of each neuron at time $t+1$ is a function of the activity of all neurons from the previous time $t$. \n",
        "\n",
        "Neurons affect each other nonlinearly: each neuron's activity at time $t+1$ consists of a linearly weighted sum of all neural activities at time $t$, with added noise, passed through a nonlinearity:\n",
        "\n",
        "$$\n",
        "\\vec{x}_{t+1} = \\sigma(A\\vec{x}_t + \\epsilon_t), \n",
        "$$\n",
        "\n",
        "- $\\vec{x}_t$ is an $n$-dimensional vector representing our $n$-neuron system at timestep $t$\n",
        "- $\\sigma$ is a sigmoid nonlinearity\n",
        "- $A$ is our $n \\times n$ *causal ground truth connectivity matrix* (more on this later)\n",
        "- $\\epsilon_t$ is random noise: $\\epsilon_t \\sim N(\\vec{0}, I_n)$\n",
        "- $\\vec{x}_0$ is initialized to $\\vec{0}$\n",
        "\n",
        "$A$ is a connectivity matrix, so the element $A_{ij}$ represents the causal effect of neuron $i$ on neuron $j$. In our system, neurons will receive connections from only 10% of the whole population on average.\n"
      ]
    },
    {
      "cell_type": "markdown",
      "metadata": {
        "execution": {},
        "id": "PPDcT60njf8U"
      },
      "source": [
        "We will create the true connectivity matrix between 6 neurons and visualize it in two different ways: as a graph with directional edges between connected neurons and as an image of the connectivity matrix.\n",
        "\n",
        "*Check your understanding*: do you understand how the left plot relates to the right plot below?"
      ]
    },
    {
      "cell_type": "code",
      "execution_count": null,
      "metadata": {
        "cellView": "form",
        "execution": {},
        "id": "AtibnFnzjf8V",
        "colab": {
          "base_uri": "https://localhost:8080/",
          "height": 365
        },
        "outputId": "e8306840-3feb-4f40-bcf8-970daadd384d"
      },
      "outputs": [
        {
          "output_type": "display_data",
          "data": {
            "image/png": "[encoded data removed]",
            "text/plain": [
              "<Figure size 720x360 with 3 Axes>"
            ]
          },
          "metadata": {
            "image/png": {
              "width": 694,
              "height": 348
            },
            "needs_background": "light"
          }
        }
      ],
      "source": [
        "#@markdown Execute this cell to get helper function `create_connectivity` and visualize connectivity\n",
        "\n",
        "def create_connectivity(n_neurons, random_state=42):\n",
        "    \"\"\"\n",
        "    Generate our nxn causal connectivity matrix.\n",
        "\n",
        "    Args:\n",
        "        n_neurons (int): the number of neurons in our system.\n",
        "        random_state (int): random seed for reproducibility\n",
        "\n",
        "    Returns:\n",
        "        A (np.ndarray): our 0.1 sparse connectivity matrix\n",
        "    \"\"\"\n",
        "    np.random.seed(random_state)\n",
        "    A_0 = np.random.choice([0, 1], size=(n_neurons, n_neurons), p=[0.9, 0.1])\n",
        "\n",
        "    # set the timescale of the dynamical system to about 100 steps\n",
        "    _, s_vals, _ = np.linalg.svd(A_0)\n",
        "    A = A_0 / (1.01 * s_vals[0])\n",
        "\n",
        "    # _, s_val_test, _ = np.linalg.svd(A)\n",
        "    # assert s_val_test[0] < 1, \"largest singular value >= 1\"\n",
        "\n",
        "    return A\n",
        "\n",
        "## Initializes the system\n",
        "n_neurons = 6\n",
        "A = create_connectivity(n_neurons) # we are invoking a helper function that generates our nxn causal connectivity matrix.\n",
        "\n",
        "# Let's plot it!\n",
        "plot_connectivity_graph_matrix(A)"
      ]
    },
    {
      "cell_type": "markdown",
      "metadata": {
        "execution": {},
        "id": "-kKkWcBqjf8V"
      },
      "source": [
        "## Coding Exercise 2: System simulation\n",
        "\n",
        "In this exercise we're going to simulate the system. Please complete the following function so that at every timestep the activity vector $x$ is updated according to:\n",
        "$$\n",
        "\\vec{x}_{t+1} = \\sigma(A\\vec{x}_t + \\epsilon_t).\n",
        "$$\n",
        "\n",
        "We will use helper function `sigmoid`, defined in the cell below."
      ]
    },
    {
      "cell_type": "code",
      "execution_count": null,
      "metadata": {
        "execution": {},
        "id": "0e90H92Djf8V"
      },
      "outputs": [],
      "source": [
        "# @markdown Execute to enable helper function `sigmoid`\n",
        "\n",
        "def sigmoid(x):\n",
        "    \"\"\"\n",
        "    Compute sigmoid nonlinearity element-wise on x\n",
        "\n",
        "    Args:\n",
        "        x (np.ndarray): the numpy data array we want to transform\n",
        "    Returns\n",
        "        (np.ndarray): x with sigmoid nonlinearity applied\n",
        "    \"\"\"\n",
        "    return 1 / (1 + np.exp(-x))"
      ]
    },
    {
      "cell_type": "code",
      "execution_count": null,
      "metadata": {
        "execution": {},
        "id": "RfPBo4dvjf8W"
      },
      "outputs": [],
      "source": [
        "def simulate_neurons(A, timesteps, random_state=42):\n",
        "    \"\"\"Simulates a dynamical system for the specified number of neurons and timesteps.\n",
        "\n",
        "    Args:\n",
        "        A (np.array): the connectivity matrix\n",
        "        timesteps (int): the number of timesteps to simulate our system.\n",
        "        random_state (int): random seed for reproducibility\n",
        "\n",
        "    Returns:\n",
        "        - X has shape (n_neurons, timeteps). A schematic:\n",
        "                   ___t____t+1___\n",
        "       neuron  0  |   0    1     |\n",
        "                  |   1    0     |\n",
        "       neuron  i  |   0 -> 1     |\n",
        "                  |   0    0     |\n",
        "                  |___1____0_____|\n",
        "\n",
        "    \"\"\"\n",
        "    np.random.seed(random_state)\n",
        "\n",
        "    n_neurons = len(A)\n",
        "    X = np.zeros((n_neurons, timesteps))\n",
        "\n",
        "    for t in range(timesteps - 1):\n",
        "\n",
        "        # Create noise vector\n",
        "        epsilon = np.random.multivariate_normal(np.zeros(n_neurons), np.eye(n_neurons))\n",
        "\n",
        "        ########################################################################\n",
        "        ## TODO: Fill in the update rule for our dynamical system.\n",
        "        ## Fill in function and remove\n",
        "        #raise NotImplementedError(\"Complete simulate_neurons\")\n",
        "        ########################################################################\n",
        "\n",
        "        # Update activity vector for next step\n",
        "        X[:, t + 1] = sigmoid(...)  # we are using helper function sigmoid\n",
        "\n",
        "    return X\n",
        "\n",
        "\n",
        "# Set simulation length\n",
        "timesteps = 5000\n",
        "\n",
        "# Simulate our dynamical system\n",
        "X = simulate_neurons(A, timesteps)\n",
        "\n",
        "# Visualize\n",
        "plot_neural_activity(X)"
      ]
    },
    {
      "cell_type": "markdown",
      "metadata": {
        "execution": {},
        "id": "lh7x22v4jf8W"
      },
      "source": [
        "[*Click for solution*](https://github.com/NeuromatchAcademy/course-content/tree/master//tutorials/W3D5_NetworkCausality/solutions/W3D5_Tutorial1_Solution_ac49c6ab.py)\n",
        "\n",
        "*Example output:*\n",
        "\n",
        "<img alt='Solution hint' align='left' width=1115.0 height=686.0 src=https://raw.githubusercontent.com/NeuromatchAcademy/course-content/master/tutorials/W3D5_NetworkCausality/static/W3D5_Tutorial1_Solution_ac49c6ab_0.png>\n",
        "\n"
      ]
    },
    {
      "cell_type": "markdown",
      "metadata": {
        "execution": {},
        "id": "hQW6nsmWjf8W"
      },
      "source": [
        "---\n",
        "# Section 3: Recovering connectivity through perturbation\n",
        "\n",
        "*Estimated timing to here from start of tutorial: 22 min*\n"
      ]
    },
    {
      "cell_type": "code",
      "execution_count": null,
      "metadata": {
        "cellView": "form",
        "execution": {},
        "id": "YeByYsCMjf8W",
        "colab": {
          "base_uri": "https://localhost:8080/",
          "height": 581,
          "referenced_widgets": [
            "e553fde5a38647a6906c1727686f3a5f",
            "128b0d8864fe4fdf8f07de641aa0f850",
            "ba035768136144b0ace4f27ce2ed36e4",
            "76a079aae27645d9ad5667803f503324",
            "a91702e2335f4a9795acc2af416da65c",
            "add28f66067440f185bbb25b42bb3ea4"
          ]
        },
        "outputId": "79d703f9-14d7-4ab2-d613-1bf7d3943241"
      },
      "outputs": [
        {
          "output_type": "display_data",
          "data": {
            "application/vnd.jupyter.widget-view+json": {
              "model_id": "e553fde5a38647a6906c1727686f3a5f",
              "version_minor": 0,
              "version_major": 2
            },
            "text/plain": [
              "Tab(children=(Output(), Output()), _titles={'0': 'Youtube', '1': 'Bilibili'})"
            ]
          },
          "metadata": {}
        }
      ],
      "source": [
        "# @title Video 3: Perturbing systems\n",
        "from ipywidgets import widgets\n",
        "\n",
        "out2 = widgets.Output()\n",
        "with out2:\n",
        "  from IPython.display import IFrame\n",
        "  class BiliVideo(IFrame):\n",
        "      def __init__(self, id, page=1, width=400, height=300, **kwargs):\n",
        "          self.id=id\n",
        "          src = 'https://player.bilibili.com/player.html?bvid={0}&page={1}'.format(id, page)\n",
        "          super(BiliVideo, self).__init__(src, width, height, **kwargs)\n",
        "\n",
        "  video = BiliVideo(id=\"BV1Hv411q7Ka\", width=854, height=480, fs=1)\n",
        "  print('Video available at https://www.bilibili.com/video/{0}'.format(video.id))\n",
        "  display(video)\n",
        "\n",
        "out1 = widgets.Output()\n",
        "with out1:\n",
        "  from IPython.display import YouTubeVideo\n",
        "  video = YouTubeVideo(id=\"wOZunGtuqQE\", width=854, height=480, fs=1, rel=0)\n",
        "  print('Video available at https://youtube.com/watch?v=' + video.id)\n",
        "  display(video)\n",
        "\n",
        "out = widgets.Tab([out1, out2])\n",
        "out.set_title(0, 'Youtube')\n",
        "out.set_title(1, 'Bilibili')\n",
        "\n",
        "display(out)"
      ]
    },
    {
      "cell_type": "markdown",
      "metadata": {
        "execution": {},
        "id": "IenMwKN1jf8W"
      },
      "source": [
        "## Section 3.1: Random perturbation in our system\n",
        "\n",
        "We want to get the causal effect that each variable has on the other variables, in our example of of each neuron upon each other neuron. The ground truth of the causal effects is the connectivity matrix $A$.\n",
        "\n",
        "Remember that we would like to calculate:\n",
        "$$\n",
        "\\delta_{A\\to B} = \\mathbb{E}[B | A=1] -  \\mathbb{E}[B | A=0] \n",
        "$$\n",
        "while we set A to be $1$ or $0$ (Pearl denotes that setting as $do()$.)\n",
        "\n",
        "We'll do this by randomly setting the system state to 0 or 1 and observing the outcome after one timestep. If we do this $N$ times, the effect of neuron $i$ upon neuron $j$ is:\n",
        "$$\n",
        "\\delta_{x^i\\to x^j} \\approx \\frac1N \\sum_i^N[x_{t+1}^j | x^i_t=1] -  \\frac1N \\sum_i^N[x_{t+1}^j | x^i_t=0]\n",
        "$$\n",
        "This is just the average difference of the activity of neuron $j$ in the two conditions.\n",
        "\n",
        "We are going to calculate the above equation, but imagine it like *intervening* in activity every other timestep."
      ]
    },
    {
      "cell_type": "markdown",
      "metadata": {
        "execution": {},
        "id": "1qoXfRC-jf8X"
      },
      "source": [
        "We will use helper function `simulate_neurons_perturb`. While the rest of the function is the same as the ``simulate_neurons`` function in the previous exercise, every time step we now additionally include:\n",
        "```\n",
        "if t % 2 == 0:  #if it is an even timescale then perturb\n",
        "    X[:,t] = np.random.choice([0,1], size=n_neurons)\n",
        "```\n",
        "\n",
        "This means that at every other timestep,  every neuron's activity is changed to either 0 or 1. \n",
        "\n",
        "Pretty serious perturbation, huh? You don't want that going on in your brain.\n",
        "\n",
        "**Now visually compare the dynamics:** Run this next cell and see if you can spot how the dynamics have changed."
      ]
    },
    {
      "cell_type": "code",
      "execution_count": null,
      "metadata": {
        "execution": {},
        "id": "uyIVye-Gjf8X"
      },
      "outputs": [],
      "source": [
        "# @markdown Execute this cell to visualize perturbed dynamics\n",
        "def simulate_neurons_perturb(A, timesteps):\n",
        "    \"\"\"\n",
        "    Simulates a dynamical system for the specified number of neurons and timesteps,\n",
        "    BUT every other timestep the activity is clamped to a random pattern of 1s and 0s\n",
        "\n",
        "    Args:\n",
        "        A (np.array): the true connectivity matrix\n",
        "        timesteps (int): the number of timesteps to simulate our system.\n",
        "\n",
        "    Returns:\n",
        "        The results of the simulated system.\n",
        "        - X has shape (n_neurons, timeteps)\n",
        "    \"\"\"\n",
        "    n_neurons = len(A)\n",
        "    X = np.zeros((n_neurons, timesteps))\n",
        "\n",
        "    for t in range(timesteps - 1):\n",
        "\n",
        "        if t % 2 == 0:\n",
        "            X[:, t] = np.random.choice([0, 1], size=n_neurons)\n",
        "\n",
        "        epsilon = np.random.multivariate_normal(np.zeros(n_neurons), np.eye(n_neurons))\n",
        "        X[:, t + 1] = sigmoid(A.dot(X[:, t]) + epsilon)  # we are using helper function sigmoid\n",
        "\n",
        "    return X\n",
        "\n",
        "timesteps = 5000  # Simulate for 5000 timesteps.\n",
        "\n",
        "# Simulate our dynamical system for the given amount of time\n",
        "X_perturbed = simulate_neurons_perturb(A, timesteps)\n",
        "\n",
        "# Plot our standard versus perturbed dynamics\n",
        "fig, axs = plt.subplots(1, 2, figsize=(15, 4))\n",
        "im0 = axs[0].imshow(X[:, :10])\n",
        "im1 = axs[1].imshow(X_perturbed[:, :10])\n",
        "\n",
        "# Matplotlib boilerplate code\n",
        "divider = make_axes_locatable(axs[0])\n",
        "cax0 = divider.append_axes(\"right\", size=\"5%\", pad=0.15)\n",
        "plt.colorbar(im0, cax=cax0)\n",
        "\n",
        "divider = make_axes_locatable(axs[1])\n",
        "cax1 = divider.append_axes(\"right\", size=\"5%\", pad=0.15)\n",
        "plt.colorbar(im1, cax=cax1)\n",
        "\n",
        "axs[0].set_ylabel(\"Neuron\", fontsize=15)\n",
        "axs[1].set_xlabel(\"Timestep\", fontsize=15)\n",
        "axs[0].set_xlabel(\"Timestep\", fontsize=15);\n",
        "axs[0].set_title(\"Standard dynamics\", fontsize=15)\n",
        "axs[1].set_title(\"Perturbed dynamics\", fontsize=15);"
      ]
    },
    {
      "cell_type": "markdown",
      "metadata": {
        "execution": {},
        "id": "OQDc_E0ojf8X"
      },
      "source": [
        "## Section 3.2: Recovering connectivity from perturbed dynamics"
      ]
    },
    {
      "cell_type": "code",
      "execution_count": null,
      "metadata": {
        "cellView": "form",
        "execution": {},
        "id": "mIa8zb2Cjf8X",
        "colab": {
          "base_uri": "https://localhost:8080/",
          "height": 581,
          "referenced_widgets": [
            "83cb4c0740d54fa8bb0007d36ba6b3d3",
            "d966a66716a34103a3e80624ed6c1855",
            "4a926f6173444c98bbdbcb84d5608429",
            "9cfc8993700246d6aca1b3a5f1d2c6e1",
            "8ee04986f4bf4e53aa87845091952471",
            "ad4ffce0f0184c1aa056de06ae9680a7"
          ]
        },
        "outputId": "dd888614-498d-4681-e834-9abeeefb0bd0"
      },
      "outputs": [
        {
          "output_type": "display_data",
          "data": {
            "application/vnd.jupyter.widget-view+json": {
              "model_id": "83cb4c0740d54fa8bb0007d36ba6b3d3",
              "version_minor": 0,
              "version_major": 2
            },
            "text/plain": [
              "Tab(children=(Output(), Output()), _titles={'0': 'Youtube', '1': 'Bilibili'})"
            ]
          },
          "metadata": {}
        }
      ],
      "source": [
        "# @title Video 4: Calculating causality\n",
        "from ipywidgets import widgets\n",
        "\n",
        "out2 = widgets.Output()\n",
        "with out2:\n",
        "  from IPython.display import IFrame\n",
        "  class BiliVideo(IFrame):\n",
        "      def __init__(self, id, page=1, width=400, height=300, **kwargs):\n",
        "          self.id=id\n",
        "          src = 'https://player.bilibili.com/player.html?bvid={0}&page={1}'.format(id, page)\n",
        "          super(BiliVideo, self).__init__(src, width, height, **kwargs)\n",
        "\n",
        "  video = BiliVideo(id=\"BV15A411v7JS\", width=854, height=480, fs=1)\n",
        "  print('Video available at https://www.bilibili.com/video/{0}'.format(video.id))\n",
        "  display(video)\n",
        "\n",
        "out1 = widgets.Output()\n",
        "with out1:\n",
        "  from IPython.display import YouTubeVideo\n",
        "  video = YouTubeVideo(id=\"EDZtcsIAVGM\", width=854, height=480, fs=1, rel=0)\n",
        "  print('Video available at https://youtube.com/watch?v=' + video.id)\n",
        "  display(video)\n",
        "\n",
        "out = widgets.Tab([out1, out2])\n",
        "out.set_title(0, 'Youtube')\n",
        "out.set_title(1, 'Bilibili')\n",
        "\n",
        "display(out)"
      ]
    },
    {
      "cell_type": "markdown",
      "metadata": {
        "execution": {},
        "id": "3WkBudLGjf8X"
      },
      "source": [
        "### Coding Exercise 3.2: Using perturbed dynamics to recover connectivity \n",
        "\n",
        "From the above perturbed dynamics, write a function that recovers the causal effect of a given single neuron (`selected_neuron`) upon all other neurons in the system. Remember from above you're calculating:\n",
        "$$\n",
        "\\delta_{x^i\\to x^j} \\approx \\frac1N \\sum_i^N[x_{t+1}^j | x^i_t=1] -  \\frac1N \\sum_i^N[x_{t+1}^j | x^i_t=0]] \n",
        "$$\n",
        "\n",
        "\n",
        "Recall that we perturbed every neuron at every other timestep. Despite perturbing every neuron, in this exercise we are concentrating on computing the causal effect of a single neuron (we will look at all neurons effects on all neurons next). We want to exclusively use the timesteps without perturbation for $x^j_{t+1}$ and the timesteps with perturbation for $x^j_{t}$ in the formulas above. In numpy, indexing occurs as `array[ start_index : end_index : count_by]`. So getting every other element in an array (such as every other timestep) is as easy as `array[::2]`."
      ]
    },
    {
      "cell_type": "code",
      "execution_count": null,
      "metadata": {
        "execution": {},
        "id": "J8_6VDxvjf8X"
      },
      "outputs": [],
      "source": [
        "def get_perturbed_connectivity_from_single_neuron(perturbed_X, selected_neuron):\n",
        "    \"\"\"\n",
        "    Computes the connectivity matrix from the selected neuron using differences in means.\n",
        "\n",
        "    Args:\n",
        "        perturbed_X (np.ndarray): the perturbed dynamical system matrix of shape (n_neurons, timesteps)\n",
        "        selected_neuron (int): the index of the neuron we want to estimate connectivity for\n",
        "\n",
        "    Returns:\n",
        "        estimated_connectivity (np.ndarray): estimated connectivity for the selected neuron, of shape (n_neurons,)\n",
        "    \"\"\"\n",
        "    # Extract the perturbations of neuron 1 (every other timestep)\n",
        "    neuron_perturbations = perturbed_X[selected_neuron, ::2]\n",
        "\n",
        "    # Extract the observed outcomes of all the neurons (every other timestep)\n",
        "    all_neuron_output = perturbed_X[:, 1::2]\n",
        "\n",
        "    # Initialize estimated connectivity matrix\n",
        "    estimated_connectivity = np.zeros(n_neurons)\n",
        "\n",
        "    # Loop over neurons\n",
        "    for neuron_idx in range(n_neurons):\n",
        "\n",
        "        # Get this output neurons (neuron_idx) activity\n",
        "        this_neuron_output = all_neuron_output[neuron_idx, :]\n",
        "\n",
        "        # Get timesteps where the selected neuron == 0 vs == 1\n",
        "        one_idx = np.argwhere(neuron_perturbations == 1)\n",
        "        zero_idx = np.argwhere(neuron_perturbations == 0)\n",
        "\n",
        "        ########################################################################\n",
        "        ## TODO: Insert your code here to compute the neuron activation from perturbations.\n",
        "        # Fill out function and remove\n",
        "        raise NotImplementedError(\"Complete the function get_perturbed_connectivity_single_neuron\")\n",
        "        ########################################################################\n",
        "\n",
        "        difference_in_means = ...\n",
        "\n",
        "        estimated_connectivity[neuron_idx] = difference_in_means\n",
        "\n",
        "    return estimated_connectivity\n",
        "\n",
        "\n",
        "# Initialize the system\n",
        "n_neurons = 6\n",
        "timesteps = 5000\n",
        "selected_neuron = 1\n",
        "\n",
        "# Simulate our perturbed dynamical system\n",
        "perturbed_X = simulate_neurons_perturb(A, timesteps)\n",
        "\n",
        "\n",
        "## Uncomment below to test your function\n",
        "\n",
        "# Measure connectivity of neuron 1\n",
        "# estimated_connectivity = get_perturbed_connectivity_from_single_neuron(perturbed_X, selected_neuron)\n",
        "\n",
        "# plot_true_vs_estimated_connectivity(estimated_connectivity, A, selected_neuron)"
      ]
    },
    {
      "cell_type": "markdown",
      "metadata": {
        "execution": {},
        "id": "kLUHKOQrjf8Y"
      },
      "source": [
        "[*Click for solution*](https://github.com/NeuromatchAcademy/course-content/tree/master//tutorials/W3D5_NetworkCausality/solutions/W3D5_Tutorial1_Solution_b51df5f6.py)\n",
        "\n",
        "*Example output:*\n",
        "\n",
        "<img alt='Solution hint' align='left' width=972.0 height=683.0 src=https://raw.githubusercontent.com/NeuromatchAcademy/course-content/master/tutorials/W3D5_NetworkCausality/static/W3D5_Tutorial1_Solution_b51df5f6_0.png>\n",
        "\n"
      ]
    },
    {
      "cell_type": "markdown",
      "metadata": {
        "execution": {},
        "id": "-vMe1rBgjf8Y"
      },
      "source": [
        "We can quantify how close our estimated connectivity matrix is to our true connectivity matrix by correlating them. We should see almost perfect correlation between our estimates and the true connectivity - do we?"
      ]
    },
    {
      "cell_type": "code",
      "execution_count": null,
      "metadata": {
        "execution": {},
        "id": "4NB2Glj0jf8Y"
      },
      "outputs": [],
      "source": [
        "# Correlate true vs estimated connectivity matrix\n",
        "np.corrcoef(A[:, selected_neuron], estimated_connectivity)[1, 0]"
      ]
    },
    {
      "cell_type": "markdown",
      "metadata": {
        "execution": {},
        "id": "Qz_0vY3hjf8Y"
      },
      "source": [
        "**Note on interpreting A**: Strictly speaking, $A$ is not the matrix of causal effects but rather the dynamics matrix. So why compare them like this? The answer is that $A$ and the effect matrix both are $0$ everywhere except where there is a directed connection. So they should have a correlation of $1$ if we estimate the effects correctly. (Their scales, however, are different. This in part because the nonlinearity $\\sigma$ squashes the values of $x$ to $[0,1]$.) See the Appendix after Tutorial 2 for more discussion of using correlation as a metric."
      ]
    },
    {
      "cell_type": "markdown",
      "metadata": {
        "execution": {},
        "id": "a4qXlHoRjf8Y"
      },
      "source": [
        "\n",
        "Nice job! You just estimated the causal connectivity from a single neuron to all others.\n",
        "\n",
        "We're now going to use the same strategy for all neurons at once. We provide this helper function `get_perturbed_connectivity_all_neurons`.  If you're curious about how this works and have extra time, check out Bonus Section 1.\n"
      ]
    },
    {
      "cell_type": "code",
      "execution_count": null,
      "metadata": {
        "cellView": "form",
        "execution": {},
        "id": "0N1YzxNqjf8Z"
      },
      "outputs": [],
      "source": [
        "# @markdown Execute to get helper function `get_perturbed_connectivity_all_neurons`\n",
        "\n",
        "def get_perturbed_connectivity_all_neurons(perturbed_X):\n",
        "    \"\"\"\n",
        "    Estimates the connectivity matrix of perturbations through stacked correlations.\n",
        "\n",
        "    Args:\n",
        "        perturbed_X (np.ndarray): the simulated dynamical system X of shape\n",
        "                                  (n_neurons, timesteps)\n",
        "\n",
        "    Returns:\n",
        "        R (np.ndarray): the estimated connectivity matrix of shape\n",
        "                        (n_neurons, n_neurons)\n",
        "    \"\"\"\n",
        "    # select perturbations (P) and outcomes (Outs)\n",
        "    # we perturb the system every over time step, hence the 2 in slice notation\n",
        "    P = perturbed_X[:, ::2]\n",
        "    Outs = perturbed_X[:, 1::2]\n",
        "\n",
        "    # stack perturbations and outcomes into a 2n by (timesteps / 2) matrix\n",
        "    S = np.concatenate([P, Outs], axis=0)\n",
        "\n",
        "    # select the perturbation -> outcome block of correlation matrix (upper right)\n",
        "    R = np.corrcoef(S)[:n_neurons, n_neurons:]\n",
        "\n",
        "    return R\n",
        "\n",
        "\n",
        "# Parameters\n",
        "n_neurons = 6\n",
        "timesteps = 5000\n",
        "\n",
        "# Generate nxn causal connectivity matrix\n",
        "A = create_connectivity(n_neurons)\n",
        "\n",
        "# Simulate perturbed dynamical system\n",
        "perturbed_X = simulate_neurons_perturb(A, timesteps)\n",
        "\n",
        "# Get estimated connectivity matrix\n",
        "R = get_perturbed_connectivity_all_neurons(perturbed_X)"
      ]
    },
    {
      "cell_type": "code",
      "execution_count": null,
      "metadata": {
        "cellView": "form",
        "execution": {},
        "id": "3rtRN20Hjf8Z",
        "colab": {
          "base_uri": "https://localhost:8080/",
          "height": 716
        },
        "outputId": "e135fdfd-6c13-4a31-da46-49d6768716d0"
      },
      "outputs": [
        {
          "output_type": "display_data",
          "data": {
            "image/png": "[encoded data removed]",
            "text/plain": [
              "<Figure size 720x360 with 3 Axes>"
            ]
          },
          "metadata": {
            "image/png": {
              "width": 694,
              "height": 348
            },
            "needs_background": "light"
          }
        },
        {
          "output_type": "display_data",
          "data": {
            "image/png": "[encoded data removed]",
            "text/plain": [
              "<Figure size 720x360 with 3 Axes>"
            ]
          },
          "metadata": {
            "image/png": {
              "width": 701,
              "height": 351
            },
            "needs_background": "light"
          }
        }
      ],
      "source": [
        "#@markdown Execute this cell to visualize true vs estimated connectivity\n",
        "\n",
        "# Let's visualize the true connectivity and estimated connectivity together\n",
        "fig, axs = plt.subplots(1, 2, figsize=(10, 5))\n",
        "see_neurons(A, axs[0]) # we are invoking a helper function that visualizes the connectivity matrix\n",
        "plot_connectivity_matrix(A, ax=axs[1])\n",
        "plt.suptitle(\"True connectivity matrix A\");\n",
        "plt.show()\n",
        "fig, axs = plt.subplots(1,2, figsize=(10,5))\n",
        "see_neurons(R.T,axs[0]) # we are invoking a helper function that visualizes the connectivity matrix\n",
        "plot_connectivity_matrix(R.T, ax=axs[1])\n",
        "plt.suptitle(\"Estimated connectivity matrix R\");"
      ]
    },
    {
      "cell_type": "markdown",
      "metadata": {
        "execution": {},
        "id": "H6Tf2L8vjf8Z"
      },
      "source": [
        "We can again calculate the correlation coefficient between the elements of the two matrices. In the cell below, we compute the correlation coefficient between true and estimated connectivity matrices. It is almost 1 so we do a good job recovering the true causality of the system!"
      ]
    },
    {
      "cell_type": "code",
      "execution_count": null,
      "metadata": {
        "execution": {},
        "id": "nYTB5Qz5jf8Z"
      },
      "outputs": [],
      "source": [
        "np.corrcoef(A.transpose().flatten(), R.flatten())[1, 0]"
      ]
    },
    {
      "cell_type": "markdown",
      "metadata": {
        "execution": {},
        "id": "nHXhxkl8jf8Z"
      },
      "source": [
        "---\n",
        "# Summary\n"
      ]
    },
    {
      "cell_type": "code",
      "execution_count": null,
      "metadata": {
        "cellView": "form",
        "execution": {},
        "id": "vzp7QJMjjf8Z",
        "colab": {
          "base_uri": "https://localhost:8080/",
          "height": 581,
          "referenced_widgets": [
            "a87a6d38ed8b4bc6aecf85d4e731fd70",
            "7c4d64113ad94157b93a7d922ce13cff",
            "c1cbb942404a43378f8a3d44ec3bea88",
            "b43604f122994f78b4998305949c3798",
            "e263890668a74b11bfa32af0e757bc3e",
            "b025625ce60e4ff5a3f3dac07a94fbfe"
          ]
        },
        "outputId": "0648dc44-1814-4462-9191-7a6927d48bbb"
      },
      "outputs": [
        {
          "output_type": "display_data",
          "data": {
            "application/vnd.jupyter.widget-view+json": {
              "model_id": "a87a6d38ed8b4bc6aecf85d4e731fd70",
              "version_minor": 0,
              "version_major": 2
            },
            "text/plain": [
              "Tab(children=(Output(), Output()), _titles={'0': 'Youtube', '1': 'Bilibili'})"
            ]
          },
          "metadata": {}
        }
      ],
      "source": [
        "# @title Video 5: Summary\n",
        "from ipywidgets import widgets\n",
        "\n",
        "out2 = widgets.Output()\n",
        "with out2:\n",
        "  from IPython.display import IFrame\n",
        "  class BiliVideo(IFrame):\n",
        "      def __init__(self, id, page=1, width=400, height=300, **kwargs):\n",
        "          self.id=id\n",
        "          src = 'https://player.bilibili.com/player.html?bvid={0}&page={1}'.format(id, page)\n",
        "          super(BiliVideo, self).__init__(src, width, height, **kwargs)\n",
        "\n",
        "  video = BiliVideo(id=\"BV1FT4y1j7PW\", width=854, height=480, fs=1)\n",
        "  print('Video available at https://www.bilibili.com/video/{0}'.format(video.id))\n",
        "  display(video)\n",
        "\n",
        "out1 = widgets.Output()\n",
        "with out1:\n",
        "  from IPython.display import YouTubeVideo\n",
        "  video = YouTubeVideo(id=\"p3fZW5Woqa4\", width=854, height=480, fs=1, rel=0)\n",
        "  print('Video available at https://youtube.com/watch?v=' + video.id)\n",
        "  display(video)\n",
        "\n",
        "out = widgets.Tab([out1, out2])\n",
        "out.set_title(0, 'Youtube')\n",
        "out.set_title(1, 'Bilibili')\n",
        "\n",
        "display(out)"
      ]
    },
    {
      "cell_type": "markdown",
      "metadata": {
        "execution": {},
        "id": "6GfelpAdjf8a"
      },
      "source": [
        "In this tutorial, we learned about how to define and estimate causality using pertubations. \n",
        "In particular we:\n",
        "\n",
        "1) Learned how to simulate a system of connected neurons\n",
        "\n",
        "2) Learned how to estimate the connectivity between neurons by directly perturbing neural activity"
      ]
    },
    {
      "cell_type": "markdown",
      "metadata": {
        "execution": {},
        "id": "dcaQ-EATjf8a"
      },
      "source": [
        "\n",
        "If you are interested in causality after this, here are some useful texts to consult.\n",
        "\n",
        "\n",
        "*   *Causal Inference for Statistics, Social, and Biomedical Sciences* by Imbens and Rubin\n",
        "*   *Causal Inference: What If* by Hernan and Rubin\n",
        "*   *Mostly Harmless Econometrics* by Angrist and Pischke\n",
        "*   https://www.nature.com/articles/s41562-018-0466-5 for applications in Neuroscience\n",
        "*   https://github.com/datascienceforall/dsfa-2018sp-public/blob/master/textbook/Causality.ipynb for application to studying chronic back pain\n",
        "*   https://www.inovex.de/de/blog/causal-inference-in-campaign-targeting/ for application to ad-targeting\n",
        "\n",
        "\n"
      ]
    },
    {
      "cell_type": "markdown",
      "metadata": {
        "execution": {},
        "id": "QWYE8C0qjf8a"
      },
      "source": [
        "---\n",
        "# Bonus\n"
      ]
    },
    {
      "cell_type": "markdown",
      "metadata": {
        "execution": {},
        "id": "uN3sUINUjf8a"
      },
      "source": [
        "---\n",
        "## Bonus Section 1: Computation of the estimated connectivity matrix\n",
        "\n",
        "**This is an explanation of what the code is doing in `get_perturbed_connectivity_all_neurons()`**\n",
        "\n",
        "First, we compute an estimated connectivity matrix $R$. We extract\n",
        "perturbation matrix $P$ and outcomes matrix $O$:\n",
        "\n",
        "$$\n",
        "P = \\begin{bmatrix}\n",
        "\\mid & \\mid & ... & \\mid \\\\ \n",
        "x_0  & x_2  & ... & x_T  \\\\ \n",
        "\\mid & \\mid & ... & \\mid\n",
        "\\end{bmatrix}_{n \\times T/2}\n",
        "$$\n",
        "\n",
        "$$\n",
        "O = \\begin{bmatrix}\n",
        "\\mid & \\mid & ... & \\mid \\\\ \n",
        "x_1  & x_3  & ... & x_{T-1}  \\\\ \n",
        "\\mid & \\mid & ... & \\mid\n",
        "\\end{bmatrix}_{n \\times T/2}\n",
        "$$\n",
        "\n",
        "And calculate the correlation of matrix $S$, which is $P$ and $O$ stacked on each other:\n",
        "\n",
        "$$\n",
        "S = \\begin{bmatrix}\n",
        "P  \\\\ \n",
        "O\n",
        "\\end{bmatrix}_{2n \\times T/2}\n",
        "$$\n",
        "\n",
        "We then extract $R$ as the upper right $n \\times n$ block of $corr(S)$:\n",
        "\n",
        "\n",
        "This is because the upper right block corresponds to the estimated perturbation effect on outcomes for each pair of neurons in our system.\n",
        "\n",
        "This method gives an estimated connectivity matrix that is the proportional to the result you would obtain with differences in means, and differs only in a proportionality constant that depends on the variance of $x$"
      ]
    }
  ],
  "metadata": {
    "colab": {
      "collapsed_sections": [],
      "name": "Module 1-_Tutorial 1",
      "provenance": [],
      "toc_visible": true,
      "include_colab_link": true
    },
    "kernel": {
      "display_name": "Python 3",
      "language": "python",
      "name": "python3"
    },
    "kernelspec": {
      "display_name": "Python 3",
      "name": "python3"
    },
    "language_info": {
      "codemirror_mode": {
        "name": "ipython",
        "version": 3
      },
      "file_extension": ".py",
      "mimetype": "text/x-python",
      "name": "python",
      "nbconvert_exporter": "python",
      "pygments_lexer": "ipython3",
      "version": "3.7.11"
    },
    "widgets": {
      "application/vnd.jupyter.widget-state+json": {
        "e553fde5a38647a6906c1727686f3a5f": {
          "model_module": "@jupyter-widgets/controls",
          "model_name": "TabModel",
          "model_module_version": "1.5.0",
          "state": {
            "_view_name": "TabView",
            "_dom_classes": [],
            "_titles": {
              "0": "Youtube",
              "1": "Bilibili"
            },
            "_model_name": "TabModel",
            "_view_module": "@jupyter-widgets/controls",
            "selected_index": 0,
            "_model_module_version": "1.5.0",
            "_view_count": null,
            "_view_module_version": "1.5.0",
            "box_style": "",
            "layout": "IPY_MODEL_128b0d8864fe4fdf8f07de641aa0f850",
            "_model_module": "@jupyter-widgets/controls",
            "children": [
              "IPY_MODEL_ba035768136144b0ace4f27ce2ed36e4",
              "IPY_MODEL_76a079aae27645d9ad5667803f503324"
            ]
          }
        },
        "128b0d8864fe4fdf8f07de641aa0f850": {
          "model_module": "@jupyter-widgets/base",
          "model_name": "LayoutModel",
          "model_module_version": "1.2.0",
          "state": {
            "_view_name": "LayoutView",
            "grid_template_rows": null,
            "right": null,
            "justify_content": null,
            "_view_module": "@jupyter-widgets/base",
            "overflow": null,
            "_model_module_version": "1.2.0",
            "_view_count": null,
            "flex_flow": null,
            "width": null,
            "min_width": null,
            "border": null,
            "align_items": null,
            "bottom": null,
            "_model_module": "@jupyter-widgets/base",
            "top": null,
            "grid_column": null,
            "overflow_y": null,
            "overflow_x": null,
            "grid_auto_flow": null,
            "grid_area": null,
            "grid_template_columns": null,
            "flex": null,
            "_model_name": "LayoutModel",
            "justify_items": null,
            "grid_row": null,
            "max_height": null,
            "align_content": null,
            "visibility": null,
            "align_self": null,
            "height": null,
            "min_height": null,
            "padding": null,
            "grid_auto_rows": null,
            "grid_gap": null,
            "max_width": null,
            "order": null,
            "_view_module_version": "1.2.0",
            "grid_template_areas": null,
            "object_position": null,
            "object_fit": null,
            "grid_auto_columns": null,
            "margin": null,
            "display": null,
            "left": null
          }
        },
        "ba035768136144b0ace4f27ce2ed36e4": {
          "model_module": "@jupyter-widgets/output",
          "model_name": "OutputModel",
          "model_module_version": "1.0.0",
          "state": {
            "_view_name": "OutputView",
            "msg_id": "",
            "_dom_classes": [],
            "_model_name": "OutputModel",
            "outputs": [
              {
                "output_type": "stream",
                "name": "stdout",
                "text": [
                  "Video available at https://youtube.com/watch?v=wOZunGtuqQE\n"
                ]
              },
              {
                "output_type": "display_data",
                "data": {
                  "text/html": "\n        <iframe\n            width=\"854\"\n            height=\"480\"\n            src=\"https://www.youtube.com/embed/wOZunGtuqQE?fs=1&rel=0\"\n            frameborder=\"0\"\n            allowfullscreen\n        ></iframe>\n        ",
                  "text/plain": "<IPython.lib.display.YouTubeVideo at 0x7fbc6ab79c50>",
                  "image/jpeg": "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\n"
                },
                "metadata": {}
              }
            ],
            "_view_module": "@jupyter-widgets/output",
            "_model_module_version": "1.0.0",
            "_view_count": null,
            "_view_module_version": "1.0.0",
            "layout": "IPY_MODEL_a91702e2335f4a9795acc2af416da65c",
            "_model_module": "@jupyter-widgets/output"
          }
        },
        "76a079aae27645d9ad5667803f503324": {
          "model_module": "@jupyter-widgets/output",
          "model_name": "OutputModel",
          "model_module_version": "1.0.0",
          "state": {
            "_view_name": "OutputView",
            "msg_id": "",
            "_dom_classes": [],
            "_model_name": "OutputModel",
            "outputs": [
              {
                "output_type": "stream",
                "name": "stdout",
                "text": [
                  "Video available at https://www.bilibili.com/video/BV1Hv411q7Ka\n"
                ]
              },
              {
                "output_type": "display_data",
                "data": {
                  "text/html": "\n        <iframe\n            width=\"854\"\n            height=\"480\"\n            src=\"https://player.bilibili.com/player.html?bvid=BV1Hv411q7Ka&page=1?fs=1\"\n            frameborder=\"0\"\n            allowfullscreen\n        ></iframe>\n        ",
                  "text/plain": "<__main__.BiliVideo at 0x7fbc6ab8b850>"
                },
                "metadata": {}
              }
            ],
            "_view_module": "@jupyter-widgets/output",
            "_model_module_version": "1.0.0",
            "_view_count": null,
            "_view_module_version": "1.0.0",
            "layout": "IPY_MODEL_add28f66067440f185bbb25b42bb3ea4",
            "_model_module": "@jupyter-widgets/output"
          }
        },
        "a91702e2335f4a9795acc2af416da65c": {
          "model_module": "@jupyter-widgets/base",
          "model_name": "LayoutModel",
          "model_module_version": "1.2.0",
          "state": {
            "_view_name": "LayoutView",
            "grid_template_rows": null,
            "right": null,
            "justify_content": null,
            "_view_module": "@jupyter-widgets/base",
            "overflow": null,
            "_model_module_version": "1.2.0",
            "_view_count": null,
            "flex_flow": null,
            "width": null,
            "min_width": null,
            "border": null,
            "align_items": null,
            "bottom": null,
            "_model_module": "@jupyter-widgets/base",
            "top": null,
            "grid_column": null,
            "overflow_y": null,
            "overflow_x": null,
            "grid_auto_flow": null,
            "grid_area": null,
            "grid_template_columns": null,
            "flex": null,
            "_model_name": "LayoutModel",
            "justify_items": null,
            "grid_row": null,
            "max_height": null,
            "align_content": null,
            "visibility": null,
            "align_self": null,
            "height": null,
            "min_height": null,
            "padding": null,
            "grid_auto_rows": null,
            "grid_gap": null,
            "max_width": null,
            "order": null,
            "_view_module_version": "1.2.0",
            "grid_template_areas": null,
            "object_position": null,
            "object_fit": null,
            "grid_auto_columns": null,
            "margin": null,
            "display": null,
            "left": null
          }
        },
        "add28f66067440f185bbb25b42bb3ea4": {
          "model_module": "@jupyter-widgets/base",
          "model_name": "LayoutModel",
          "model_module_version": "1.2.0",
          "state": {
            "_view_name": "LayoutView",
            "grid_template_rows": null,
            "right": null,
            "justify_content": null,
            "_view_module": "@jupyter-widgets/base",
            "overflow": null,
            "_model_module_version": "1.2.0",
            "_view_count": null,
            "flex_flow": null,
            "width": null,
            "min_width": null,
            "border": null,
            "align_items": null,
            "bottom": null,
            "_model_module": "@jupyter-widgets/base",
            "top": null,
            "grid_column": null,
            "overflow_y": null,
            "overflow_x": null,
            "grid_auto_flow": null,
            "grid_area": null,
            "grid_template_columns": null,
            "flex": null,
            "_model_name": "LayoutModel",
            "justify_items": null,
            "grid_row": null,
            "max_height": null,
            "align_content": null,
            "visibility": null,
            "align_self": null,
            "height": null,
            "min_height": null,
            "padding": null,
            "grid_auto_rows": null,
            "grid_gap": null,
            "max_width": null,
            "order": null,
            "_view_module_version": "1.2.0",
            "grid_template_areas": null,
            "object_position": null,
            "object_fit": null,
            "grid_auto_columns": null,
            "margin": null,
            "display": null,
            "left": null
          }
        },
        "83cb4c0740d54fa8bb0007d36ba6b3d3": {
          "model_module": "@jupyter-widgets/controls",
          "model_name": "TabModel",
          "model_module_version": "1.5.0",
          "state": {
            "_view_name": "TabView",
            "_dom_classes": [],
            "_titles": {
              "0": "Youtube",
              "1": "Bilibili"
            },
            "_model_name": "TabModel",
            "_view_module": "@jupyter-widgets/controls",
            "selected_index": 0,
            "_model_module_version": "1.5.0",
            "_view_count": null,
            "_view_module_version": "1.5.0",
            "box_style": "",
            "layout": "IPY_MODEL_d966a66716a34103a3e80624ed6c1855",
            "_model_module": "@jupyter-widgets/controls",
            "children": [
              "IPY_MODEL_4a926f6173444c98bbdbcb84d5608429",
              "IPY_MODEL_9cfc8993700246d6aca1b3a5f1d2c6e1"
            ]
          }
        },
        "d966a66716a34103a3e80624ed6c1855": {
          "model_module": "@jupyter-widgets/base",
          "model_name": "LayoutModel",
          "model_module_version": "1.2.0",
          "state": {
            "_view_name": "LayoutView",
            "grid_template_rows": null,
            "right": null,
            "justify_content": null,
            "_view_module": "@jupyter-widgets/base",
            "overflow": null,
            "_model_module_version": "1.2.0",
            "_view_count": null,
            "flex_flow": null,
            "width": null,
            "min_width": null,
            "border": null,
            "align_items": null,
            "bottom": null,
            "_model_module": "@jupyter-widgets/base",
            "top": null,
            "grid_column": null,
            "overflow_y": null,
            "overflow_x": null,
            "grid_auto_flow": null,
            "grid_area": null,
            "grid_template_columns": null,
            "flex": null,
            "_model_name": "LayoutModel",
            "justify_items": null,
            "grid_row": null,
            "max_height": null,
            "align_content": null,
            "visibility": null,
            "align_self": null,
            "height": null,
            "min_height": null,
            "padding": null,
            "grid_auto_rows": null,
            "grid_gap": null,
            "max_width": null,
            "order": null,
            "_view_module_version": "1.2.0",
            "grid_template_areas": null,
            "object_position": null,
            "object_fit": null,
            "grid_auto_columns": null,
            "margin": null,
            "display": null,
            "left": null
          }
        },
        "4a926f6173444c98bbdbcb84d5608429": {
          "model_module": "@jupyter-widgets/output",
          "model_name": "OutputModel",
          "model_module_version": "1.0.0",
          "state": {
            "_view_name": "OutputView",
            "msg_id": "",
            "_dom_classes": [],
            "_model_name": "OutputModel",
            "outputs": [
              {
                "output_type": "stream",
                "name": "stdout",
                "text": [
                  "Video available at https://youtube.com/watch?v=EDZtcsIAVGM\n"
                ]
              },
              {
                "output_type": "display_data",
                "data": {
                  "text/html": "\n        <iframe\n            width=\"854\"\n            height=\"480\"\n            src=\"https://www.youtube.com/embed/EDZtcsIAVGM?fs=1&rel=0\"\n            frameborder=\"0\"\n            allowfullscreen\n        ></iframe>\n        ",
                  "text/plain": "<IPython.lib.display.YouTubeVideo at 0x7fbc62683310>",
                  "image/jpeg": "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\n"
                },
                "metadata": {}
              }
            ],
            "_view_module": "@jupyter-widgets/output",
            "_model_module_version": "1.0.0",
            "_view_count": null,
            "_view_module_version": "1.0.0",
            "layout": "IPY_MODEL_8ee04986f4bf4e53aa87845091952471",
            "_model_module": "@jupyter-widgets/output"
          }
        },
        "9cfc8993700246d6aca1b3a5f1d2c6e1": {
          "model_module": "@jupyter-widgets/output",
          "model_name": "OutputModel",
          "model_module_version": "1.0.0",
          "state": {
            "_view_name": "OutputView",
            "msg_id": "",
            "_dom_classes": [],
            "_model_name": "OutputModel",
            "outputs": [
              {
                "output_type": "stream",
                "name": "stdout",
                "text": [
                  "Video available at https://www.bilibili.com/video/BV15A411v7JS\n"
                ]
              },
              {
                "output_type": "display_data",
                "data": {
                  "text/html": "\n        <iframe\n            width=\"854\"\n            height=\"480\"\n            src=\"https://player.bilibili.com/player.html?bvid=BV15A411v7JS&page=1?fs=1\"\n            frameborder=\"0\"\n            allowfullscreen\n        ></iframe>\n        ",
                  "text/plain": "<__main__.BiliVideo at 0x7fbc6256b610>"
                },
                "metadata": {}
              }
            ],
            "_view_module": "@jupyter-widgets/output",
            "_model_module_version": "1.0.0",
            "_view_count": null,
            "_view_module_version": "1.0.0",
            "layout": "IPY_MODEL_ad4ffce0f0184c1aa056de06ae9680a7",
            "_model_module": "@jupyter-widgets/output"
          }
        },
        "8ee04986f4bf4e53aa87845091952471": {
          "model_module": "@jupyter-widgets/base",
          "model_name": "LayoutModel",
          "model_module_version": "1.2.0",
          "state": {
            "_view_name": "LayoutView",
            "grid_template_rows": null,
            "right": null,
            "justify_content": null,
            "_view_module": "@jupyter-widgets/base",
            "overflow": null,
            "_model_module_version": "1.2.0",
            "_view_count": null,
            "flex_flow": null,
            "width": null,
            "min_width": null,
            "border": null,
            "align_items": null,
            "bottom": null,
            "_model_module": "@jupyter-widgets/base",
            "top": null,
            "grid_column": null,
            "overflow_y": null,
            "overflow_x": null,
            "grid_auto_flow": null,
            "grid_area": null,
            "grid_template_columns": null,
            "flex": null,
            "_model_name": "LayoutModel",
            "justify_items": null,
            "grid_row": null,
            "max_height": null,
            "align_content": null,
            "visibility": null,
            "align_self": null,
            "height": null,
            "min_height": null,
            "padding": null,
            "grid_auto_rows": null,
            "grid_gap": null,
            "max_width": null,
            "order": null,
            "_view_module_version": "1.2.0",
            "grid_template_areas": null,
            "object_position": null,
            "object_fit": null,
            "grid_auto_columns": null,
            "margin": null,
            "display": null,
            "left": null
          }
        },
        "ad4ffce0f0184c1aa056de06ae9680a7": {
          "model_module": "@jupyter-widgets/base",
          "model_name": "LayoutModel",
          "model_module_version": "1.2.0",
          "state": {
            "_view_name": "LayoutView",
            "grid_template_rows": null,
            "right": null,
            "justify_content": null,
            "_view_module": "@jupyter-widgets/base",
            "overflow": null,
            "_model_module_version": "1.2.0",
            "_view_count": null,
            "flex_flow": null,
            "width": null,
            "min_width": null,
            "border": null,
            "align_items": null,
            "bottom": null,
            "_model_module": "@jupyter-widgets/base",
            "top": null,
            "grid_column": null,
            "overflow_y": null,
            "overflow_x": null,
            "grid_auto_flow": null,
            "grid_area": null,
            "grid_template_columns": null,
            "flex": null,
            "_model_name": "LayoutModel",
            "justify_items": null,
            "grid_row": null,
            "max_height": null,
            "align_content": null,
            "visibility": null,
            "align_self": null,
            "height": null,
            "min_height": null,
            "padding": null,
            "grid_auto_rows": null,
            "grid_gap": null,
            "max_width": null,
            "order": null,
            "_view_module_version": "1.2.0",
            "grid_template_areas": null,
            "object_position": null,
            "object_fit": null,
            "grid_auto_columns": null,
            "margin": null,
            "display": null,
            "left": null
          }
        },
        "a87a6d38ed8b4bc6aecf85d4e731fd70": {
          "model_module": "@jupyter-widgets/controls",
          "model_name": "TabModel",
          "model_module_version": "1.5.0",
          "state": {
            "_view_name": "TabView",
            "_dom_classes": [],
            "_titles": {
              "0": "Youtube",
              "1": "Bilibili"
            },
            "_model_name": "TabModel",
            "_view_module": "@jupyter-widgets/controls",
            "selected_index": 0,
            "_model_module_version": "1.5.0",
            "_view_count": null,
            "_view_module_version": "1.5.0",
            "box_style": "",
            "layout": "IPY_MODEL_7c4d64113ad94157b93a7d922ce13cff",
            "_model_module": "@jupyter-widgets/controls",
            "children": [
              "IPY_MODEL_c1cbb942404a43378f8a3d44ec3bea88",
              "IPY_MODEL_b43604f122994f78b4998305949c3798"
            ]
          }
        },
        "7c4d64113ad94157b93a7d922ce13cff": {
          "model_module": "@jupyter-widgets/base",
          "model_name": "LayoutModel",
          "model_module_version": "1.2.0",
          "state": {
            "_view_name": "LayoutView",
            "grid_template_rows": null,
            "right": null,
            "justify_content": null,
            "_view_module": "@jupyter-widgets/base",
            "overflow": null,
            "_model_module_version": "1.2.0",
            "_view_count": null,
            "flex_flow": null,
            "width": null,
            "min_width": null,
            "border": null,
            "align_items": null,
            "bottom": null,
            "_model_module": "@jupyter-widgets/base",
            "top": null,
            "grid_column": null,
            "overflow_y": null,
            "overflow_x": null,
            "grid_auto_flow": null,
            "grid_area": null,
            "grid_template_columns": null,
            "flex": null,
            "_model_name": "LayoutModel",
            "justify_items": null,
            "grid_row": null,
            "max_height": null,
            "align_content": null,
            "visibility": null,
            "align_self": null,
            "height": null,
            "min_height": null,
            "padding": null,
            "grid_auto_rows": null,
            "grid_gap": null,
            "max_width": null,
            "order": null,
            "_view_module_version": "1.2.0",
            "grid_template_areas": null,
            "object_position": null,
            "object_fit": null,
            "grid_auto_columns": null,
            "margin": null,
            "display": null,
            "left": null
          }
        },
        "c1cbb942404a43378f8a3d44ec3bea88": {
          "model_module": "@jupyter-widgets/output",
          "model_name": "OutputModel",
          "model_module_version": "1.0.0",
          "state": {
            "_view_name": "OutputView",
            "msg_id": "",
            "_dom_classes": [],
            "_model_name": "OutputModel",
            "outputs": [
              {
                "output_type": "stream",
                "name": "stdout",
                "text": [
                  "Video available at https://youtube.com/watch?v=p3fZW5Woqa4\n"
                ]
              },
              {
                "output_type": "display_data",
                "data": {
                  "text/html": "\n        <iframe\n            width=\"854\"\n            height=\"480\"\n            src=\"https://www.youtube.com/embed/p3fZW5Woqa4?fs=1&rel=0\"\n            frameborder=\"0\"\n            allowfullscreen\n        ></iframe>\n        ",
                  "text/plain": "<IPython.lib.display.YouTubeVideo at 0x7fbc622cba50>",
                  "image/jpeg": "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\n"
                },
                "metadata": {}
              }
            ],
            "_view_module": "@jupyter-widgets/output",
            "_model_module_version": "1.0.0",
            "_view_count": null,
            "_view_module_version": "1.0.0",
            "layout": "IPY_MODEL_e263890668a74b11bfa32af0e757bc3e",
            "_model_module": "@jupyter-widgets/output"
          }
        },
        "b43604f122994f78b4998305949c3798": {
          "model_module": "@jupyter-widgets/output",
          "model_name": "OutputModel",
          "model_module_version": "1.0.0",
          "state": {
            "_view_name": "OutputView",
            "msg_id": "",
            "_dom_classes": [],
            "_model_name": "OutputModel",
            "outputs": [
              {
                "output_type": "stream",
                "name": "stdout",
                "text": [
                  "Video available at https://www.bilibili.com/video/BV1FT4y1j7PW\n"
                ]
              },
              {
                "output_type": "display_data",
                "data": {
                  "text/html": "\n        <iframe\n            width=\"854\"\n            height=\"480\"\n            src=\"https://player.bilibili.com/player.html?bvid=BV1FT4y1j7PW&page=1?fs=1\"\n            frameborder=\"0\"\n            allowfullscreen\n        ></iframe>\n        ",
                  "text/plain": "<__main__.BiliVideo at 0x7fbc622fcd10>"
                },
                "metadata": {}
              }
            ],
            "_view_module": "@jupyter-widgets/output",
            "_model_module_version": "1.0.0",
            "_view_count": null,
            "_view_module_version": "1.0.0",
            "layout": "IPY_MODEL_b025625ce60e4ff5a3f3dac07a94fbfe",
            "_model_module": "@jupyter-widgets/output"
          }
        },
        "e263890668a74b11bfa32af0e757bc3e": {
          "model_module": "@jupyter-widgets/base",
          "model_name": "LayoutModel",
          "model_module_version": "1.2.0",
          "state": {
            "_view_name": "LayoutView",
            "grid_template_rows": null,
            "right": null,
            "justify_content": null,
            "_view_module": "@jupyter-widgets/base",
            "overflow": null,
            "_model_module_version": "1.2.0",
            "_view_count": null,
            "flex_flow": null,
            "width": null,
            "min_width": null,
            "border": null,
            "align_items": null,
            "bottom": null,
            "_model_module": "@jupyter-widgets/base",
            "top": null,
            "grid_column": null,
            "overflow_y": null,
            "overflow_x": null,
            "grid_auto_flow": null,
            "grid_area": null,
            "grid_template_columns": null,
            "flex": null,
            "_model_name": "LayoutModel",
            "justify_items": null,
            "grid_row": null,
            "max_height": null,
            "align_content": null,
            "visibility": null,
            "align_self": null,
            "height": null,
            "min_height": null,
            "padding": null,
            "grid_auto_rows": null,
            "grid_gap": null,
            "max_width": null,
            "order": null,
            "_view_module_version": "1.2.0",
            "grid_template_areas": null,
            "object_position": null,
            "object_fit": null,
            "grid_auto_columns": null,
            "margin": null,
            "display": null,
            "left": null
          }
        },
        "b025625ce60e4ff5a3f3dac07a94fbfe": {
          "model_module": "@jupyter-widgets/base",
          "model_name": "LayoutModel",
          "model_module_version": "1.2.0",
          "state": {
            "_view_name": "LayoutView",
            "grid_template_rows": null,
            "right": null,
            "justify_content": null,
            "_view_module": "@jupyter-widgets/base",
            "overflow": null,
            "_model_module_version": "1.2.0",
            "_view_count": null,
            "flex_flow": null,
            "width": null,
            "min_width": null,
            "border": null,
            "align_items": null,
            "bottom": null,
            "_model_module": "@jupyter-widgets/base",
            "top": null,
            "grid_column": null,
            "overflow_y": null,
            "overflow_x": null,
            "grid_auto_flow": null,
            "grid_area": null,
            "grid_template_columns": null,
            "flex": null,
            "_model_name": "LayoutModel",
            "justify_items": null,
            "grid_row": null,
            "max_height": null,
            "align_content": null,
            "visibility": null,
            "align_self": null,
            "height": null,
            "min_height": null,
            "padding": null,
            "grid_auto_rows": null,
            "grid_gap": null,
            "max_width": null,
            "order": null,
            "_view_module_version": "1.2.0",
            "grid_template_areas": null,
            "object_position": null,
            "object_fit": null,
            "grid_auto_columns": null,
            "margin": null,
            "display": null,
            "left": null
          }
        },
        "89abb1ec6e294ea1abd07d1e054385e7": {
          "model_module": "@jupyter-widgets/controls",
          "model_name": "TabModel",
          "model_module_version": "1.5.0",
          "state": {
            "_view_name": "TabView",
            "_dom_classes": [],
            "_titles": {
              "0": "Youtube",
              "1": "Bilibili"
            },
            "_model_name": "TabModel",
            "_view_module": "@jupyter-widgets/controls",
            "selected_index": 0,
            "_model_module_version": "1.5.0",
            "_view_count": null,
            "_view_module_version": "1.5.0",
            "box_style": "",
            "layout": "IPY_MODEL_c7b3a44e59ed445cb8ee21cb819ac951",
            "_model_module": "@jupyter-widgets/controls",
            "children": [
              "IPY_MODEL_826572d2cf534e7dbc4c0e6965243f8a",
              "IPY_MODEL_484dc8bbb9274a78b84bf031c290ac5f"
            ]
          }
        },
        "c7b3a44e59ed445cb8ee21cb819ac951": {
          "model_module": "@jupyter-widgets/base",
          "model_name": "LayoutModel",
          "model_module_version": "1.2.0",
          "state": {
            "_view_name": "LayoutView",
            "grid_template_rows": null,
            "right": null,
            "justify_content": null,
            "_view_module": "@jupyter-widgets/base",
            "overflow": null,
            "_model_module_version": "1.2.0",
            "_view_count": null,
            "flex_flow": null,
            "width": null,
            "min_width": null,
            "border": null,
            "align_items": null,
            "bottom": null,
            "_model_module": "@jupyter-widgets/base",
            "top": null,
            "grid_column": null,
            "overflow_y": null,
            "overflow_x": null,
            "grid_auto_flow": null,
            "grid_area": null,
            "grid_template_columns": null,
            "flex": null,
            "_model_name": "LayoutModel",
            "justify_items": null,
            "grid_row": null,
            "max_height": null,
            "align_content": null,
            "visibility": null,
            "align_self": null,
            "height": null,
            "min_height": null,
            "padding": null,
            "grid_auto_rows": null,
            "grid_gap": null,
            "max_width": null,
            "order": null,
            "_view_module_version": "1.2.0",
            "grid_template_areas": null,
            "object_position": null,
            "object_fit": null,
            "grid_auto_columns": null,
            "margin": null,
            "display": null,
            "left": null
          }
        },
        "826572d2cf534e7dbc4c0e6965243f8a": {
          "model_module": "@jupyter-widgets/output",
          "model_name": "OutputModel",
          "model_module_version": "1.0.0",
          "state": {
            "_view_name": "OutputView",
            "msg_id": "",
            "_dom_classes": [],
            "_model_name": "OutputModel",
            "outputs": [
              {
                "output_type": "stream",
                "name": "stdout",
                "text": [
                  "Video available at https://youtube.com/watch?v=yiddT2sMbZM\n"
                ]
              },
              {
                "output_type": "display_data",
                "data": {
                  "text/html": "\n        <iframe\n            width=\"854\"\n            height=\"480\"\n            src=\"https://www.youtube.com/embed/yiddT2sMbZM?fs=1&rel=0\"\n            frameborder=\"0\"\n            allowfullscreen\n        ></iframe>\n        ",
                  "text/plain": "<IPython.lib.display.YouTubeVideo at 0x7fcbb746af90>",
                  "image/jpeg": "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\n"
                },
                "metadata": {}
              }
            ],
            "_view_module": "@jupyter-widgets/output",
            "_model_module_version": "1.0.0",
            "_view_count": null,
            "_view_module_version": "1.0.0",
            "layout": "IPY_MODEL_b32d1bc0eb914cdda9a53199ef669664",
            "_model_module": "@jupyter-widgets/output"
          }
        },
        "484dc8bbb9274a78b84bf031c290ac5f": {
          "model_module": "@jupyter-widgets/output",
          "model_name": "OutputModel",
          "model_module_version": "1.0.0",
          "state": {
            "_view_name": "OutputView",
            "msg_id": "",
            "_dom_classes": [],
            "_model_name": "OutputModel",
            "outputs": [
              {
                "output_type": "stream",
                "name": "stdout",
                "text": [
                  "Video available at https://www.bilibili.com/video/BV1ZD4y1m7GG\n"
                ]
              },
              {
                "output_type": "display_data",
                "data": {
                  "text/html": "\n        <iframe\n            width=\"854\"\n            height=\"480\"\n            src=\"https://player.bilibili.com/player.html?bvid=BV1ZD4y1m7GG&page=1?fs=1\"\n            frameborder=\"0\"\n            allowfullscreen\n        ></iframe>\n        ",
                  "text/plain": "<__main__.BiliVideo at 0x7fcbb1474210>"
                },
                "metadata": {}
              }
            ],
            "_view_module": "@jupyter-widgets/output",
            "_model_module_version": "1.0.0",
            "_view_count": null,
            "_view_module_version": "1.0.0",
            "layout": "IPY_MODEL_665ddc390af4499da4cbdf55bd4fc527",
            "_model_module": "@jupyter-widgets/output"
          }
        },
        "b32d1bc0eb914cdda9a53199ef669664": {
          "model_module": "@jupyter-widgets/base",
          "model_name": "LayoutModel",
          "model_module_version": "1.2.0",
          "state": {
            "_view_name": "LayoutView",
            "grid_template_rows": null,
            "right": null,
            "justify_content": null,
            "_view_module": "@jupyter-widgets/base",
            "overflow": null,
            "_model_module_version": "1.2.0",
            "_view_count": null,
            "flex_flow": null,
            "width": null,
            "min_width": null,
            "border": null,
            "align_items": null,
            "bottom": null,
            "_model_module": "@jupyter-widgets/base",
            "top": null,
            "grid_column": null,
            "overflow_y": null,
            "overflow_x": null,
            "grid_auto_flow": null,
            "grid_area": null,
            "grid_template_columns": null,
            "flex": null,
            "_model_name": "LayoutModel",
            "justify_items": null,
            "grid_row": null,
            "max_height": null,
            "align_content": null,
            "visibility": null,
            "align_self": null,
            "height": null,
            "min_height": null,
            "padding": null,
            "grid_auto_rows": null,
            "grid_gap": null,
            "max_width": null,
            "order": null,
            "_view_module_version": "1.2.0",
            "grid_template_areas": null,
            "object_position": null,
            "object_fit": null,
            "grid_auto_columns": null,
            "margin": null,
            "display": null,
            "left": null
          }
        },
        "665ddc390af4499da4cbdf55bd4fc527": {
          "model_module": "@jupyter-widgets/base",
          "model_name": "LayoutModel",
          "model_module_version": "1.2.0",
          "state": {
            "_view_name": "LayoutView",
            "grid_template_rows": null,
            "right": null,
            "justify_content": null,
            "_view_module": "@jupyter-widgets/base",
            "overflow": null,
            "_model_module_version": "1.2.0",
            "_view_count": null,
            "flex_flow": null,
            "width": null,
            "min_width": null,
            "border": null,
            "align_items": null,
            "bottom": null,
            "_model_module": "@jupyter-widgets/base",
            "top": null,
            "grid_column": null,
            "overflow_y": null,
            "overflow_x": null,
            "grid_auto_flow": null,
            "grid_area": null,
            "grid_template_columns": null,
            "flex": null,
            "_model_name": "LayoutModel",
            "justify_items": null,
            "grid_row": null,
            "max_height": null,
            "align_content": null,
            "visibility": null,
            "align_self": null,
            "height": null,
            "min_height": null,
            "padding": null,
            "grid_auto_rows": null,
            "grid_gap": null,
            "max_width": null,
            "order": null,
            "_view_module_version": "1.2.0",
            "grid_template_areas": null,
            "object_position": null,
            "object_fit": null,
            "grid_auto_columns": null,
            "margin": null,
            "display": null,
            "left": null
          }
        },
        "4aeba248599640ce8d85b803bcccd65e": {
          "model_module": "@jupyter-widgets/controls",
          "model_name": "TabModel",
          "model_module_version": "1.5.0",
          "state": {
            "_view_name": "TabView",
            "_dom_classes": [],
            "_titles": {
              "0": "Youtube",
              "1": "Bilibili"
            },
            "_model_name": "TabModel",
            "_view_module": "@jupyter-widgets/controls",
            "selected_index": 0,
            "_model_module_version": "1.5.0",
            "_view_count": null,
            "_view_module_version": "1.5.0",
            "box_style": "",
            "layout": "IPY_MODEL_21fe78ef83604001b329adbd77f5d229",
            "_model_module": "@jupyter-widgets/controls",
            "children": [
              "IPY_MODEL_a605e4a4ff2a41dd986de96095eab111",
              "IPY_MODEL_7a6e248002d04ef9bed1533351e384d6"
            ]
          }
        },
        "21fe78ef83604001b329adbd77f5d229": {
          "model_module": "@jupyter-widgets/base",
          "model_name": "LayoutModel",
          "model_module_version": "1.2.0",
          "state": {
            "_view_name": "LayoutView",
            "grid_template_rows": null,
            "right": null,
            "justify_content": null,
            "_view_module": "@jupyter-widgets/base",
            "overflow": null,
            "_model_module_version": "1.2.0",
            "_view_count": null,
            "flex_flow": null,
            "width": null,
            "min_width": null,
            "border": null,
            "align_items": null,
            "bottom": null,
            "_model_module": "@jupyter-widgets/base",
            "top": null,
            "grid_column": null,
            "overflow_y": null,
            "overflow_x": null,
            "grid_auto_flow": null,
            "grid_area": null,
            "grid_template_columns": null,
            "flex": null,
            "_model_name": "LayoutModel",
            "justify_items": null,
            "grid_row": null,
            "max_height": null,
            "align_content": null,
            "visibility": null,
            "align_self": null,
            "height": null,
            "min_height": null,
            "padding": null,
            "grid_auto_rows": null,
            "grid_gap": null,
            "max_width": null,
            "order": null,
            "_view_module_version": "1.2.0",
            "grid_template_areas": null,
            "object_position": null,
            "object_fit": null,
            "grid_auto_columns": null,
            "margin": null,
            "display": null,
            "left": null
          }
        },
        "a605e4a4ff2a41dd986de96095eab111": {
          "model_module": "@jupyter-widgets/output",
          "model_name": "OutputModel",
          "model_module_version": "1.0.0",
          "state": {
            "_view_name": "OutputView",
            "msg_id": "",
            "_dom_classes": [],
            "_model_name": "OutputModel",
            "outputs": [
              {
                "output_type": "stream",
                "name": "stdout",
                "text": [
                  "Video available at https://youtube.com/watch?v=oPJz49dAuL8\n"
                ]
              },
              {
                "output_type": "display_data",
                "data": {
                  "text/html": "\n        <iframe\n            width=\"854\"\n            height=\"480\"\n            src=\"https://www.youtube.com/embed/oPJz49dAuL8?fs=1&rel=0\"\n            frameborder=\"0\"\n            allowfullscreen\n        ></iframe>\n        ",
                  "text/plain": "<IPython.lib.display.YouTubeVideo at 0x7fcbb14816d0>",
                  "image/jpeg": "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\n"
                },
                "metadata": {}
              }
            ],
            "_view_module": "@jupyter-widgets/output",
            "_model_module_version": "1.0.0",
            "_view_count": null,
            "_view_module_version": "1.0.0",
            "layout": "IPY_MODEL_eef04a9a99f94142b56c9c7b8f351e26",
            "_model_module": "@jupyter-widgets/output"
          }
        },
        "7a6e248002d04ef9bed1533351e384d6": {
          "model_module": "@jupyter-widgets/output",
          "model_name": "OutputModel",
          "model_module_version": "1.0.0",
          "state": {
            "_view_name": "OutputView",
            "msg_id": "",
            "_dom_classes": [],
            "_model_name": "OutputModel",
            "outputs": [
              {
                "output_type": "stream",
                "name": "stdout",
                "text": [
                  "Video available at https://www.bilibili.com/video/BV1Xt4y1Q7uC\n"
                ]
              },
              {
                "output_type": "display_data",
                "data": {
                  "text/html": "\n        <iframe\n            width=\"854\"\n            height=\"480\"\n            src=\"https://player.bilibili.com/player.html?bvid=BV1Xt4y1Q7uC&page=1?fs=1\"\n            frameborder=\"0\"\n            allowfullscreen\n        ></iframe>\n        ",
                  "text/plain": "<__main__.BiliVideo at 0x7fcbb1481610>"
                },
                "metadata": {}
              }
            ],
            "_view_module": "@jupyter-widgets/output",
            "_model_module_version": "1.0.0",
            "_view_count": null,
            "_view_module_version": "1.0.0",
            "layout": "IPY_MODEL_7539f340be5a42dc90c5b504597dbee1",
            "_model_module": "@jupyter-widgets/output"
          }
        },
        "eef04a9a99f94142b56c9c7b8f351e26": {
          "model_module": "@jupyter-widgets/base",
          "model_name": "LayoutModel",
          "model_module_version": "1.2.0",
          "state": {
            "_view_name": "LayoutView",
            "grid_template_rows": null,
            "right": null,
            "justify_content": null,
            "_view_module": "@jupyter-widgets/base",
            "overflow": null,
            "_model_module_version": "1.2.0",
            "_view_count": null,
            "flex_flow": null,
            "width": null,
            "min_width": null,
            "border": null,
            "align_items": null,
            "bottom": null,
            "_model_module": "@jupyter-widgets/base",
            "top": null,
            "grid_column": null,
            "overflow_y": null,
            "overflow_x": null,
            "grid_auto_flow": null,
            "grid_area": null,
            "grid_template_columns": null,
            "flex": null,
            "_model_name": "LayoutModel",
            "justify_items": null,
            "grid_row": null,
            "max_height": null,
            "align_content": null,
            "visibility": null,
            "align_self": null,
            "height": null,
            "min_height": null,
            "padding": null,
            "grid_auto_rows": null,
            "grid_gap": null,
            "max_width": null,
            "order": null,
            "_view_module_version": "1.2.0",
            "grid_template_areas": null,
            "object_position": null,
            "object_fit": null,
            "grid_auto_columns": null,
            "margin": null,
            "display": null,
            "left": null
          }
        },
        "7539f340be5a42dc90c5b504597dbee1": {
          "model_module": "@jupyter-widgets/base",
          "model_name": "LayoutModel",
          "model_module_version": "1.2.0",
          "state": {
            "_view_name": "LayoutView",
            "grid_template_rows": null,
            "right": null,
            "justify_content": null,
            "_view_module": "@jupyter-widgets/base",
            "overflow": null,
            "_model_module_version": "1.2.0",
            "_view_count": null,
            "flex_flow": null,
            "width": null,
            "min_width": null,
            "border": null,
            "align_items": null,
            "bottom": null,
            "_model_module": "@jupyter-widgets/base",
            "top": null,
            "grid_column": null,
            "overflow_y": null,
            "overflow_x": null,
            "grid_auto_flow": null,
            "grid_area": null,
            "grid_template_columns": null,
            "flex": null,
            "_model_name": "LayoutModel",
            "justify_items": null,
            "grid_row": null,
            "max_height": null,
            "align_content": null,
            "visibility": null,
            "align_self": null,
            "height": null,
            "min_height": null,
            "padding": null,
            "grid_auto_rows": null,
            "grid_gap": null,
            "max_width": null,
            "order": null,
            "_view_module_version": "1.2.0",
            "grid_template_areas": null,
            "object_position": null,
            "object_fit": null,
            "grid_auto_columns": null,
            "margin": null,
            "display": null,
            "left": null
          }
        }
      }
    }
  },
  "nbformat": 4,
  "nbformat_minor": 0
}