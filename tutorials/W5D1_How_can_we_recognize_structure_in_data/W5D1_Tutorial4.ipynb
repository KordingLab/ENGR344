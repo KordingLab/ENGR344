{
  "cells": [
    {
      "cell_type": "markdown",
      "metadata": {
        "id": "view-in-github",
        "colab_type": "text"
      },
      "source": [
        "<a href=\"https://colab.research.google.com/github/KordingLab/ENGR344/blob/master/tutorials/W5D1_How_can_we_recognize_structure_in_data/W5D1_Tutorial4.ipynb\" target=\"_parent\"><img src=\"https://colab.research.google.com/assets/colab-badge.svg\" alt=\"Open In Colab\"/></a>"
      ]
    },
    {
      "cell_type": "markdown",
      "metadata": {
        "execution": {},
        "id": "BwE8nYhpX11y"
      },
      "source": [
        "# Tutorial 4:  Nonlinear Dimensionality Reduction\n",
        "**Module 5: How do we recognize structure in data?**\n",
        "\n",
        "**Originally By Neuromatch Academy**\n",
        "\n",
        "__Content creators:__ Alex Cayco Gajic, John Murray\n",
        "\n",
        "__Content reviewers:__ Roozbeh Farhoudi, Matt Krause, Spiros Chavlis, Richard Gao, Michael Waskom,  Siddharth Suresh, Natalie Schaworonkow, Ella Batty\n",
        "\n",
        "**Content Modifiers**: Ilenna Jones, Keervani Kandala\n"
      ]
    },
    {
      "cell_type": "markdown",
      "metadata": {
        "execution": {},
        "id": "Zgd5Dl8JX110"
      },
      "source": [
        "**Our 2021 Sponsors, including Presenting Sponsor Facebook Reality Labs**\n",
        "\n",
        "<p align='center'><img src='https://github.com/NeuromatchAcademy/widgets/blob/master/sponsors.png?raw=True'/></p>"
      ]
    },
    {
      "cell_type": "code",
      "source": [
        "# @title Due Dates Calendar\n",
        "\n",
        "from ipywidgets import widgets\n",
        "from IPython.display import display, IFrame, YouTubeVideo\n",
        "\n",
        "\n",
        "out1 = widgets.Output()\n",
        "with out1:\n",
        "  calendar = IFrame(src=\"https://calendar.google.com/calendar/embed?src=356b9d2nspjttvgbb3tvgk2f58%40group.calendar.google.com&ctz=America%2FNew_York\", width=600, height=480)\n",
        "  display(calendar)\n",
        "\n",
        "out = widgets.Tab([out1])\n",
        "out.set_title(0, 'Calendar')\n",
        "\n",
        "display(out)"
      ],
      "metadata": {
        "cellView": "form",
        "colab": {
          "base_uri": "https://localhost:8080/",
          "height": 563,
          "referenced_widgets": [
            "b2edb9d70abb496e9b05fd7f817ce034",
            "9720ea863f794e2c8a661e4e506143c2",
            "e025a14f2a5f44a28f371d2551a700be",
            "a13e35098007418c8aa8dbc71e6152b9"
          ]
        },
        "id": "ktEUV5KThLT8",
        "outputId": "93edeca5-9ca7-4d83-ded8-630a29032b1b"
      },
      "execution_count": null,
      "outputs": [
        {
          "output_type": "display_data",
          "data": {
            "text/plain": [
              "Tab(children=(Output(),), _titles={'0': 'Calendar'})"
            ],
            "application/vnd.jupyter.widget-view+json": {
              "version_major": 2,
              "version_minor": 0,
              "model_id": "b2edb9d70abb496e9b05fd7f817ce034"
            }
          },
          "metadata": {}
        }
      ]
    },
    {
      "cell_type": "markdown",
      "metadata": {
        "execution": {},
        "id": "OhmdM3rrX111"
      },
      "source": [
        "---\n",
        "# Tutorial Objectives\n",
        "\n",
        "*Estimated timing of tutorial: 35 minutes*\n",
        "\n",
        "In this notebook we'll explore how dimensionality reduction can be useful for visualizing and inferring structure in your data. To do this, we will compare PCA with t-SNE, a nonlinear dimensionality reduction method.\n",
        "\n",
        "Overview:\n",
        "- Visualize MNIST in 2D using PCA.\n",
        "- Visualize MNIST in 2D using t-SNE."
      ]
    },
    {
      "cell_type": "code",
      "execution_count": null,
      "metadata": {
        "cellView": "form",
        "execution": {},
        "id": "RSKaRh28X111"
      },
      "outputs": [],
      "source": [
        "# @title Tutorial slides\n",
        "\n",
        "# @markdown These are the slides for the videos in all tutorials today\n",
        "from IPython.display import IFrame\n",
        "IFrame(src=f\"https://mfr.ca-1.osf.io/render?url=https://osf.io/kaq2x/?direct%26mode=render%26action=download%26mode=render\", width=854, height=480)"
      ]
    },
    {
      "cell_type": "code",
      "execution_count": null,
      "metadata": {
        "cellView": "form",
        "execution": {},
        "id": "Rmoc4jJtX112"
      },
      "outputs": [],
      "source": [
        "# @title Video 1: PCA Applications\n",
        "from ipywidgets import widgets\n",
        "\n",
        "out2 = widgets.Output()\n",
        "with out2:\n",
        "  from IPython.display import IFrame\n",
        "  class BiliVideo(IFrame):\n",
        "      def __init__(self, id, page=1, width=400, height=300, **kwargs):\n",
        "          self.id=id\n",
        "          src = 'https://player.bilibili.com/player.html?bvid={0}&page={1}'.format(id, page)\n",
        "          super(BiliVideo, self).__init__(src, width, height, **kwargs)\n",
        "\n",
        "  video = BiliVideo(id=\"BV1Jf4y1R7UZ\", width=854, height=480, fs=1)\n",
        "  print('Video available at https://www.bilibili.com/video/{0}'.format(video.id))\n",
        "  display(video)\n",
        "\n",
        "out1 = widgets.Output()\n",
        "with out1:\n",
        "  from IPython.display import YouTubeVideo\n",
        "  video = YouTubeVideo(id=\"2Zb93aOWioM\", width=854, height=480, fs=1, rel=0)\n",
        "  print('Video available at https://youtube.com/watch?v=' + video.id)\n",
        "  display(video)\n",
        "\n",
        "out = widgets.Tab([out1, out2])\n",
        "out.set_title(0, 'Youtube')\n",
        "out.set_title(1, 'Bilibili')\n",
        "\n",
        "display(out)"
      ]
    },
    {
      "cell_type": "markdown",
      "metadata": {
        "execution": {},
        "id": "F6z2ixNjX113"
      },
      "source": [
        "---\n",
        "# Setup\n"
      ]
    },
    {
      "cell_type": "code",
      "execution_count": null,
      "metadata": {
        "execution": {},
        "id": "cNgorOfrX113"
      },
      "outputs": [],
      "source": [
        "# Imports\n",
        "\n",
        "import numpy as np\n",
        "import matplotlib.pyplot as plt"
      ]
    },
    {
      "cell_type": "code",
      "execution_count": null,
      "metadata": {
        "cellView": "form",
        "execution": {},
        "id": "-een4_F8X114"
      },
      "outputs": [],
      "source": [
        "#@title Figure Settings\n",
        "import ipywidgets as widgets       # interactive display\n",
        "%config InlineBackend.figure_format = 'retina'\n",
        "plt.style.use(\"https://raw.githubusercontent.com/NeuromatchAcademy/course-content/master/nma.mplstyle\")"
      ]
    },
    {
      "cell_type": "code",
      "execution_count": null,
      "metadata": {
        "cellView": "form",
        "execution": {},
        "id": "M4SzRrlAX114"
      },
      "outputs": [],
      "source": [
        "# @title Plotting Functions\n",
        "\n",
        "def visualize_components(component1, component2, labels, show=True):\n",
        "  \"\"\"\n",
        "  Plots a 2D representation of the data for visualization with categories\n",
        "  labelled as different colors.\n",
        "\n",
        "  Args:\n",
        "    component1 (numpy array of floats) : Vector of component 1 scores\n",
        "    component2 (numpy array of floats) : Vector of component 2 scores\n",
        "    labels (numpy array of floats)     : Vector corresponding to categories of\n",
        "                                         samples\n",
        "\n",
        "  Returns:\n",
        "    Nothing.\n",
        "\n",
        "  \"\"\"\n",
        "\n",
        "  plt.figure()\n",
        "  cmap = plt.cm.get_cmap('tab10')\n",
        "  plt.scatter(x=component1, y=component2, c=labels, cmap=cmap)\n",
        "  plt.xlabel('Component 1')\n",
        "  plt.ylabel('Component 2')\n",
        "  plt.colorbar(ticks=range(10))\n",
        "  plt.clim(-0.5, 9.5)\n",
        "  if show:\n",
        "    plt.show()"
      ]
    },
    {
      "cell_type": "markdown",
      "metadata": {
        "execution": {},
        "id": "hFHlN6NEX114"
      },
      "source": [
        "---\n",
        "# Section 1: Visualize MNIST in 2D using PCA\n",
        "\n",
        "In this exercise, we'll visualize the first few components of the MNIST dataset to look for evidence of structure in the data. But in this tutorial, we will also be interested in the label of each image (i.e., which numeral it is from 0 to 9). Start by running the following cell to reload the MNIST dataset (this takes a few seconds). "
      ]
    },
    {
      "cell_type": "code",
      "execution_count": null,
      "metadata": {
        "execution": {},
        "id": "tJuspg7bX115"
      },
      "outputs": [],
      "source": [
        "from sklearn.datasets import fetch_openml\n",
        "\n",
        "# Get images\n",
        "mnist = fetch_openml(name='mnist_784', as_frame=False)\n",
        "X_all = mnist.data\n",
        "\n",
        "# Get labels\n",
        "labels_all = np.array([int(k) for k in mnist.target])"
      ]
    },
    {
      "cell_type": "markdown",
      "metadata": {
        "execution": {},
        "id": "tUqD9xePX115"
      },
      "source": [
        "**Note:** We saved the complete dataset with as `X_all` and the labels as `labels_all`."
      ]
    },
    {
      "cell_type": "markdown",
      "metadata": {
        "execution": {},
        "id": "OEoyawz9X115"
      },
      "source": [
        "To perform PCA, we now will use the method implemented in sklearn. Run the following cell to set the parameters of PCA - we will only look at the top 2 components because we will be visualizing the data in 2D."
      ]
    },
    {
      "cell_type": "code",
      "execution_count": null,
      "metadata": {
        "execution": {},
        "id": "oMSdwyI4X115"
      },
      "outputs": [],
      "source": [
        "from sklearn.decomposition import PCA\n",
        "\n",
        "# Initializes PCA\n",
        "pca_model = PCA(n_components=2)\n",
        "\n",
        "# Performs PCA\n",
        "pca_model.fit(X_all)"
      ]
    },
    {
      "cell_type": "markdown",
      "metadata": {
        "execution": {},
        "id": "Vo6lJNVTX116"
      },
      "source": [
        "## Coding Exercise 1: Visualization of MNIST in 2D using PCA\n",
        "\n",
        "Fill in the code below to perform PCA and visualize the top two  components. For better visualization, take only the first 2,000 samples of the data (this will also make t-SNE much faster in the following section of the tutorial so don't skip this step!)\n",
        "\n",
        "**Suggestions:**\n",
        "- Truncate the data matrix at 2,000 samples. You will also need to truncate the array of labels.\n",
        "- Perform PCA on the truncated data.\n",
        "- Use the function `visualize_components` to plot the labelled data."
      ]
    },
    {
      "cell_type": "code",
      "execution_count": null,
      "metadata": {
        "execution": {},
        "id": "_lOz4jD7X116"
      },
      "outputs": [],
      "source": [
        "help(visualize_components)\n",
        "help(pca_model.transform)"
      ]
    },
    {
      "cell_type": "code",
      "execution_count": null,
      "metadata": {
        "execution": {},
        "id": "RGC_CcRmX116"
      },
      "outputs": [],
      "source": [
        "#################################################\n",
        "## TODO for students: take only 2,000 samples and perform PCA\n",
        "# Comment once you've completed the code\n",
        "raise NotImplementedError(\"Student excercise: perform PCA\")\n",
        "#################################################\n",
        "\n",
        "# Take only the first 2000 samples with the corresponding labels\n",
        "X, labels = ...\n",
        "\n",
        "# Perform PCA\n",
        "scores = pca_model.transform(X)\n",
        "\n",
        "# Plot the data and reconstruction\n",
        "visualize_components(...)"
      ]
    },
    {
      "cell_type": "markdown",
      "metadata": {
        "execution": {},
        "id": "yduG5CLiX116"
      },
      "source": [
        "[*Click for solution*](https://github.com/NeuromatchAcademy/course-content/tree/master//tutorials/W1D5_DimensionalityReduction/solutions/W1D5_Tutorial4_Solution_58cf80ab.py)\n",
        "\n",
        "*Example output:*\n",
        "\n",
        "<img alt='Solution hint' align='left' width=1048.0 height=832.0 src=https://raw.githubusercontent.com/NeuromatchAcademy/course-content/master/tutorials/W1D5_DimensionalityReduction/static/W1D5_Tutorial4_Solution_58cf80ab_0.png>\n",
        "\n"
      ]
    },
    {
      "cell_type": "markdown",
      "metadata": {
        "execution": {},
        "id": "qRCv35afX116"
      },
      "source": [
        "## Think! 1: PCA Visualization\n",
        "\n",
        "1.  What do you see? Are different samples corresponding to the same numeral clustered together? Is there much overlap?\n",
        "2.  Do some pairs of numerals appear to be more distinguishable than others?"
      ]
    },
    {
      "cell_type": "markdown",
      "metadata": {
        "execution": {},
        "id": "a01bZDzGX116"
      },
      "source": [
        "[*Click for solution*](https://github.com/NeuromatchAcademy/course-content/tree/master//tutorials/W1D5_DimensionalityReduction/solutions/W1D5_Tutorial4_Solution_27572ebe.py)\n",
        "\n"
      ]
    },
    {
      "cell_type": "markdown",
      "metadata": {
        "execution": {},
        "id": "-wVl1P02X117"
      },
      "source": [
        "---\n",
        "# Section 2: Visualize MNIST in 2D using t-SNE\n",
        "\n",
        "*Estimated timing to here from start of tutorial: 15 min*\n"
      ]
    },
    {
      "cell_type": "code",
      "execution_count": null,
      "metadata": {
        "cellView": "form",
        "execution": {},
        "id": "bgoENv0-X117"
      },
      "outputs": [],
      "source": [
        "# @title Video 2: Nonlinear Methods\n",
        "from ipywidgets import widgets\n",
        "\n",
        "out2 = widgets.Output()\n",
        "with out2:\n",
        "  from IPython.display import IFrame\n",
        "  class BiliVideo(IFrame):\n",
        "      def __init__(self, id, page=1, width=400, height=300, **kwargs):\n",
        "          self.id=id\n",
        "          src = 'https://player.bilibili.com/player.html?bvid={0}&page={1}'.format(id, page)\n",
        "          super(BiliVideo, self).__init__(src, width, height, **kwargs)\n",
        "\n",
        "  video = BiliVideo(id=\"BV14Z4y1u7HG\", width=854, height=480, fs=1)\n",
        "  print('Video available at https://www.bilibili.com/video/{0}'.format(video.id))\n",
        "  display(video)\n",
        "\n",
        "out1 = widgets.Output()\n",
        "with out1:\n",
        "  from IPython.display import YouTubeVideo\n",
        "  video = YouTubeVideo(id=\"5Xpb0YaN5Ms\", width=854, height=480, fs=1, rel=0)\n",
        "  print('Video available at https://youtube.com/watch?v=' + video.id)\n",
        "  display(video)\n",
        "\n",
        "out = widgets.Tab([out1, out2])\n",
        "out.set_title(0, 'Youtube')\n",
        "out.set_title(1, 'Bilibili')\n",
        "\n",
        "display(out)"
      ]
    },
    {
      "cell_type": "markdown",
      "metadata": {
        "execution": {},
        "id": "99GOAhQ3X117"
      },
      "source": [
        "Next we will analyze the same data using t-SNE, a nonlinear dimensionality reduction method that is useful for visualizing high dimensional data in 2D or 3D. Run the cell below to get started. "
      ]
    },
    {
      "cell_type": "code",
      "execution_count": null,
      "metadata": {
        "execution": {},
        "id": "NuHEg0NWX117"
      },
      "outputs": [],
      "source": [
        "from sklearn.manifold import TSNE\n",
        "tsne_model = TSNE(n_components=2, perplexity=30, random_state=2020)"
      ]
    },
    {
      "cell_type": "markdown",
      "metadata": {
        "execution": {},
        "id": "QfMWE9sJX117"
      },
      "source": [
        "## Coding Exercise 2.1: Apply t-SNE on MNIST\n",
        "First, we'll run t-SNE on the data to explore whether we can see more structure. The cell above defined the parameters that we will use to find our embedding (i.e, the low-dimensional representation of the data) and stored them in `model`. To run t-SNE on our data, use the function `model.fit_transform`.\n",
        "\n",
        "**Suggestions:**\n",
        "- Run t-SNE using the function `model.fit_transform`.\n",
        "- Plot the result data using `visualize_components`."
      ]
    },
    {
      "cell_type": "code",
      "execution_count": null,
      "metadata": {
        "execution": {},
        "id": "XSvj4D40X117"
      },
      "outputs": [],
      "source": [
        "help(tsne_model.fit_transform)"
      ]
    },
    {
      "cell_type": "code",
      "execution_count": null,
      "metadata": {
        "execution": {},
        "id": "-I0XhBROX117"
      },
      "outputs": [],
      "source": [
        "#################################################\n",
        "## TODO for students\n",
        "# Comment once you've completed the code\n",
        "raise NotImplementedError(\"Student excercise: perform t-SNE\")\n",
        "#################################################\n",
        "\n",
        "# Perform t-SNE\n",
        "embed = ...\n",
        "\n",
        "# Visualize the data\n",
        "visualize_components(..., ..., labels)"
      ]
    },
    {
      "cell_type": "markdown",
      "metadata": {
        "execution": {},
        "id": "_AS_5f6TX117"
      },
      "source": [
        "[*Click for solution*](https://github.com/NeuromatchAcademy/course-content/tree/master//tutorials/W1D5_DimensionalityReduction/solutions/W1D5_Tutorial4_Solution_4e6f6604.py)\n",
        "\n",
        "*Example output:*\n",
        "\n",
        "<img alt='Solution hint' align='left' width=1044.0 height=832.0 src=https://raw.githubusercontent.com/NeuromatchAcademy/course-content/master/tutorials/W1D5_DimensionalityReduction/static/W1D5_Tutorial4_Solution_4e6f6604_1.png>\n",
        "\n"
      ]
    },
    {
      "cell_type": "markdown",
      "metadata": {
        "execution": {},
        "id": "mXddzMnkX118"
      },
      "source": [
        "## Coding Exercise 2.2: Run t-SNE with different perplexities\n",
        "\n",
        "Unlike PCA, t-SNE has a free parameter (the perplexity) that roughly determines how global vs. local information is weighted. Here we'll take a look at how the perplexity affects our interpretation of the results. \n",
        "\n",
        "**Steps:**\n",
        "- Rerun t-SNE (don't forget to re-initialize using the function `TSNE` as above) with a perplexity of 50, 5 and 2."
      ]
    },
    {
      "cell_type": "code",
      "execution_count": null,
      "metadata": {
        "execution": {},
        "id": "hz5KnuP6X118"
      },
      "outputs": [],
      "source": [
        "def explore_perplexity(values, X, labels):\n",
        "  \"\"\"\n",
        "  Plots a 2D representation of the data for visualization with categories\n",
        "  labelled as different colors using different perplexities.\n",
        "\n",
        "  Args:\n",
        "    values (list of floats) : list with perplexities to be visualized\n",
        "    X (np.ndarray of floats) : matrix with the dataset\n",
        "    labels (np.ndarray of int) : array with the labels\n",
        "\n",
        "  Returns:\n",
        "    Nothing.\n",
        "\n",
        "  \"\"\"\n",
        "  for perp in values:\n",
        "\n",
        "    #################################################\n",
        "    ## TO DO for students: Insert your code here to redefine the t-SNE \"model\"\n",
        "    ## while setting the perplexity perform t-SNE on the data and plot the\n",
        "    ## results for perplexity = 50, 5, and 2 (set random_state to 2020\n",
        "    # Comment these lines when you complete the function\n",
        "    raise NotImplementedError(\"Student Exercise! Explore t-SNE with different perplexity\")\n",
        "    #################################################\n",
        "\n",
        "    # Perform t-SNE\n",
        "    tsne_model = ...\n",
        "\n",
        "    embed = tsne_model.fit_transform(X)\n",
        "    visualize_components(embed[:, 0], embed[:, 1], labels, show=False)\n",
        "    plt.title(f\"perplexity: {perp}\")\n",
        "\n",
        "\n",
        "# Visualize\n",
        "values = [50, 5, 2]\n",
        "explore_perplexity(values, X, labels)"
      ]
    },
    {
      "cell_type": "markdown",
      "metadata": {
        "execution": {},
        "id": "Lh42PKxEX118"
      },
      "source": [
        "[*Click for solution*](https://github.com/NeuromatchAcademy/course-content/tree/master//tutorials/W1D5_DimensionalityReduction/solutions/W1D5_Tutorial4_Solution_577e57bc.py)\n",
        "\n",
        "*Example output:*\n",
        "\n",
        "<img alt='Solution hint' align='left' width=1042.0 height=832.0 src=https://raw.githubusercontent.com/NeuromatchAcademy/course-content/master/tutorials/W1D5_DimensionalityReduction/static/W1D5_Tutorial4_Solution_577e57bc_1.png>\n",
        "\n",
        "<img alt='Solution hint' align='left' width=1042.0 height=832.0 src=https://raw.githubusercontent.com/NeuromatchAcademy/course-content/master/tutorials/W1D5_DimensionalityReduction/static/W1D5_Tutorial4_Solution_577e57bc_3.png>\n",
        "\n",
        "<img alt='Solution hint' align='left' width=1044.0 height=832.0 src=https://raw.githubusercontent.com/NeuromatchAcademy/course-content/master/tutorials/W1D5_DimensionalityReduction/static/W1D5_Tutorial4_Solution_577e57bc_5.png>\n",
        "\n"
      ]
    },
    {
      "cell_type": "markdown",
      "metadata": {
        "execution": {},
        "id": "jqXjnn07X118"
      },
      "source": [
        "## Think! 2: t-SNE Visualization\n",
        "\n",
        "1. What changed compared to your previous results using perplexity equal to 50? Do you see any clusters that have a different structure than before? \n",
        "2. What changed in the embedding structure for perplexity equals to 5 or 2?"
      ]
    },
    {
      "cell_type": "markdown",
      "metadata": {
        "execution": {},
        "id": "ozaykeM_X118"
      },
      "source": [
        "---\n",
        "# Summary"
      ]
    },
    {
      "cell_type": "markdown",
      "metadata": {
        "execution": {},
        "id": "YQqJDChtX118"
      },
      "source": [
        "*Estimated timing of tutorial: 35 minutes*\n",
        "\n",
        "* We learned the difference between linear and nonlinear dimensionality reduction. While nonlinear methods can be more powerful, they can also be senseitive to noise. In contrast, linear methods are useful for their simplicity and robustness.\n",
        "* We compared PCA and t-SNE for data visualization. Using t-SNE, we could visualize clusters in the data corresponding to different digits. While PCA was able to separate some clusters (e.g., 0 vs 1), it performed poorly overall.\n",
        "* However, the results of t-SNE can change depending on the choice of perplexity. To learn more, we recommend this [Distill paper](https://distill.pub/2016/misread-tsne/).\n"
      ]
    },
    {
      "cell_type": "markdown",
      "source": [
        "## Submit\n",
        "Take the weekly survey/quiz and also submit your notebooks there. (Click the ?D logo below!)\n",
        "\n",
        "<a href=\"https://airtable.com/shrTcjJUTe5W4uXsS\"><img src=\"https://github.com/KordingLab/ENGR344/blob/master/tutorials/static_344/SubmitButton.jpg?raw=1\" alt=\"button link to survey\" style=\"width:410px\"></a>"
      ],
      "metadata": {
        "id": "ojMXjWHihdEm"
      }
    },
    {
      "cell_type": "code",
      "source": [
        ""
      ],
      "metadata": {
        "id": "EytErAckhgBX"
      },
      "execution_count": null,
      "outputs": []
    }
  ],
  "metadata": {
    "colab": {
      "collapsed_sections": [],
      "name": "Module_5_Tutorial_4",
      "provenance": [],
      "toc_visible": true,
      "include_colab_link": true
    },
    "kernel": {
      "display_name": "Python 3",
      "language": "python",
      "name": "python3"
    },
    "kernelspec": {
      "display_name": "Python 3",
      "language": "python",
      "name": "python3"
    },
    "language_info": {
      "codemirror_mode": {
        "name": "ipython",
        "version": 3
      },
      "file_extension": ".py",
      "mimetype": "text/x-python",
      "name": "python",
      "nbconvert_exporter": "python",
      "pygments_lexer": "ipython3",
      "version": "3.7.12"
    },
    "widgets": {
      "application/vnd.jupyter.widget-state+json": {
        "b2edb9d70abb496e9b05fd7f817ce034": {
          "model_module": "@jupyter-widgets/controls",
          "model_name": "TabModel",
          "model_module_version": "1.5.0",
          "state": {
            "_dom_classes": [],
            "_model_module": "@jupyter-widgets/controls",
            "_model_module_version": "1.5.0",
            "_model_name": "TabModel",
            "_titles": {
              "0": "Calendar"
            },
            "_view_count": null,
            "_view_module": "@jupyter-widgets/controls",
            "_view_module_version": "1.5.0",
            "_view_name": "TabView",
            "box_style": "",
            "children": [
              "IPY_MODEL_9720ea863f794e2c8a661e4e506143c2"
            ],
            "layout": "IPY_MODEL_e025a14f2a5f44a28f371d2551a700be",
            "selected_index": 0
          }
        },
        "9720ea863f794e2c8a661e4e506143c2": {
          "model_module": "@jupyter-widgets/output",
          "model_name": "OutputModel",
          "model_module_version": "1.0.0",
          "state": {
            "_dom_classes": [],
            "_model_module": "@jupyter-widgets/output",
            "_model_module_version": "1.0.0",
            "_model_name": "OutputModel",
            "_view_count": null,
            "_view_module": "@jupyter-widgets/output",
            "_view_module_version": "1.0.0",
            "_view_name": "OutputView",
            "layout": "IPY_MODEL_a13e35098007418c8aa8dbc71e6152b9",
            "msg_id": "",
            "outputs": [
              {
                "output_type": "display_data",
                "data": {
                  "text/plain": "<IPython.lib.display.IFrame at 0x7f69a3866b90>",
                  "text/html": "\n        <iframe\n            width=\"600\"\n            height=\"480\"\n            src=\"https://calendar.google.com/calendar/embed?src=356b9d2nspjttvgbb3tvgk2f58%40group.calendar.google.com&ctz=America%2FNew_York\"\n            frameborder=\"0\"\n            allowfullscreen\n        ></iframe>\n        "
                },
                "metadata": {}
              }
            ]
          }
        },
        "e025a14f2a5f44a28f371d2551a700be": {
          "model_module": "@jupyter-widgets/base",
          "model_name": "LayoutModel",
          "model_module_version": "1.2.0",
          "state": {
            "_model_module": "@jupyter-widgets/base",
            "_model_module_version": "1.2.0",
            "_model_name": "LayoutModel",
            "_view_count": null,
            "_view_module": "@jupyter-widgets/base",
            "_view_module_version": "1.2.0",
            "_view_name": "LayoutView",
            "align_content": null,
            "align_items": null,
            "align_self": null,
            "border": null,
            "bottom": null,
            "display": null,
            "flex": null,
            "flex_flow": null,
            "grid_area": null,
            "grid_auto_columns": null,
            "grid_auto_flow": null,
            "grid_auto_rows": null,
            "grid_column": null,
            "grid_gap": null,
            "grid_row": null,
            "grid_template_areas": null,
            "grid_template_columns": null,
            "grid_template_rows": null,
            "height": null,
            "justify_content": null,
            "justify_items": null,
            "left": null,
            "margin": null,
            "max_height": null,
            "max_width": null,
            "min_height": null,
            "min_width": null,
            "object_fit": null,
            "object_position": null,
            "order": null,
            "overflow": null,
            "overflow_x": null,
            "overflow_y": null,
            "padding": null,
            "right": null,
            "top": null,
            "visibility": null,
            "width": null
          }
        },
        "a13e35098007418c8aa8dbc71e6152b9": {
          "model_module": "@jupyter-widgets/base",
          "model_name": "LayoutModel",
          "model_module_version": "1.2.0",
          "state": {
            "_model_module": "@jupyter-widgets/base",
            "_model_module_version": "1.2.0",
            "_model_name": "LayoutModel",
            "_view_count": null,
            "_view_module": "@jupyter-widgets/base",
            "_view_module_version": "1.2.0",
            "_view_name": "LayoutView",
            "align_content": null,
            "align_items": null,
            "align_self": null,
            "border": null,
            "bottom": null,
            "display": null,
            "flex": null,
            "flex_flow": null,
            "grid_area": null,
            "grid_auto_columns": null,
            "grid_auto_flow": null,
            "grid_auto_rows": null,
            "grid_column": null,
            "grid_gap": null,
            "grid_row": null,
            "grid_template_areas": null,
            "grid_template_columns": null,
            "grid_template_rows": null,
            "height": null,
            "justify_content": null,
            "justify_items": null,
            "left": null,
            "margin": null,
            "max_height": null,
            "max_width": null,
            "min_height": null,
            "min_width": null,
            "object_fit": null,
            "object_position": null,
            "order": null,
            "overflow": null,
            "overflow_x": null,
            "overflow_y": null,
            "padding": null,
            "right": null,
            "top": null,
            "visibility": null,
            "width": null
          }
        }
      }
    }
  },
  "nbformat": 4,
  "nbformat_minor": 0
}