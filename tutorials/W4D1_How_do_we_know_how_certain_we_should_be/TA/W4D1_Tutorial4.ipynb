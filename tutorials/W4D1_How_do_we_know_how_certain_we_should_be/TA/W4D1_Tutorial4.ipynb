{
  "cells": [
    {
      "cell_type": "markdown",
      "metadata": {
        "id": "view-in-github",
        "colab_type": "text"
      },
      "source": [
        "<a href=\"https://colab.research.google.com/github/KordingLab/ENGR344/blob/master/tutorials/W4D1_How_do_we_know_how_certain_we_should_be/TA/W4D1_Tutorial4.ipynb\" target=\"_parent\"><img src=\"https://colab.research.google.com/assets/colab-badge.svg\" alt=\"Open In Colab\"/></a>"
      ]
    },
    {
      "cell_type": "markdown",
      "metadata": {
        "execution": {},
        "id": "eUzWZrG-G87j"
      },
      "source": [
        "# Tutorial 4: Model Selection: Bias-variance trade-off\n",
        "**Module 4: How do we know how certain we should be?**\n",
        "\n",
        "**Originally By Neuromatch Academy**\n",
        "\n",
        "**Content creators**: Pierre-Étienne Fiquet, Anqi Wu, Alex Hyafil  with help from Byron Galbraith\n",
        "\n",
        "**Content reviewers**: Lina Teichmann, Madineh Sarvestani, Patrick Mineault, Ella Batty, Michael Waskom\n",
        "\n",
        "**Content Modifiers**: Konrad Kording, Ilenna Jones\n",
        "\n"
      ]
    },
    {
      "cell_type": "markdown",
      "metadata": {
        "execution": {},
        "id": "jZN8zlAkG87m"
      },
      "source": [
        "**Our 2021 Sponsors, including Presenting Sponsor Facebook Reality Labs**\n",
        "\n",
        "<p align='center'><img src='https://github.com/NeuromatchAcademy/widgets/blob/master/sponsors.png?raw=True'/></p>"
      ]
    },
    {
      "cell_type": "code",
      "source": [
        "# @title Due Dates Calendar\n",
        "\n",
        "from ipywidgets import widgets\n",
        "from IPython.display import display, IFrame, YouTubeVideo\n",
        "\n",
        "\n",
        "out1 = widgets.Output()\n",
        "with out1:\n",
        "  calendar = IFrame(src=\"https://calendar.google.com/calendar/embed?src=356b9d2nspjttvgbb3tvgk2f58%40group.calendar.google.com&ctz=America%2FNew_York\", width=600, height=480)\n",
        "  display(calendar)\n",
        "\n",
        "out = widgets.Tab([out1])\n",
        "out.set_title(0, 'Calendar')\n",
        "\n",
        "display(out)"
      ],
      "metadata": {
        "colab": {
          "base_uri": "https://localhost:8080/",
          "height": 563,
          "referenced_widgets": [
            "dfec4a497a9742f0baa42255e9f01b54",
            "ee1e5e7f03f9446dbe246fecd91ec593",
            "b5e064e2a037482aa8e4693299c05b9e",
            "039dc23b74a948c59fb70601ee6ae6e6"
          ]
        },
        "cellView": "form",
        "id": "CsTXHm5gOwQC",
        "outputId": "90a81afd-c1f9-4a3b-8af5-21056e4875b7"
      },
      "execution_count": null,
      "outputs": [
        {
          "output_type": "display_data",
          "data": {
            "application/vnd.jupyter.widget-view+json": {
              "model_id": "dfec4a497a9742f0baa42255e9f01b54",
              "version_minor": 0,
              "version_major": 2
            },
            "text/plain": [
              "Tab(children=(Output(),), _titles={'0': 'Calendar'})"
            ]
          },
          "metadata": {}
        }
      ]
    },
    {
      "cell_type": "markdown",
      "metadata": {
        "execution": {},
        "id": "1-rWcBbSG87n"
      },
      "source": [
        "---\n",
        "# Tutorial Objectives\n",
        "\n",
        "*Estimated timing of tutorial: 25 minutes*\n",
        "\n",
        "This is Tutorial 5 of a series on fitting models to data. We start with simple linear regression, using least squares optimization (Tutorial 1) and Maximum Likelihood Estimation (Tutorial 2). We will use bootstrapping to build confidence intervals around the inferred linear model parameters (Tutorial 3). We'll finish our exploration of regression models by generalizing to multiple linear regression and polynomial regression (Tutorial 4). We end by learning how to choose between these various models. We discuss the bias-variance trade-off (Tutorial 5) and Cross Validation for model selection (Tutorial 6).\n",
        "\n",
        "In this tutorial, we will learn about the bias-variance tradeoff and see it in action using polynomial regression models.\n",
        "\n",
        "Tutorial objectives:\n",
        "\n",
        "* Understand difference between test and train data\n",
        "* Compare train and test error for models of varying complexity\n",
        "* Understand how bias-variance tradeoff relates to what model we choose"
      ]
    },
    {
      "cell_type": "code",
      "execution_count": null,
      "metadata": {
        "cellView": "form",
        "execution": {},
        "id": "qPpbj8C1G87o"
      },
      "outputs": [],
      "source": [
        "# @title Tutorial slides\n",
        "\n",
        "# @markdown These are the slides for the videos in all tutorials today\n",
        "from IPython.display import IFrame\n",
        "IFrame(src=f\"https://mfr.ca-1.osf.io/render?url=https://osf.io/2mkq4/?direct%26mode=render%26action=download%26mode=render\", width=854, height=480)"
      ]
    },
    {
      "cell_type": "code",
      "execution_count": null,
      "metadata": {
        "execution": {},
        "id": "TSSjuLYTG87o",
        "colab": {
          "base_uri": "https://localhost:8080/",
          "height": 581,
          "referenced_widgets": [
            "00f024be40a84b05bd984bef9e9b89eb",
            "5ad0506778f14fef9278802936128f4a",
            "568f953f674741bb897cbb821af54c98",
            "d8433228ad8e4ab4a63285819a480954"
          ]
        },
        "outputId": "4410f969-34d7-4fba-e159-b3f363b1865c",
        "cellView": "form"
      },
      "outputs": [
        {
          "output_type": "display_data",
          "data": {
            "application/vnd.jupyter.widget-view+json": {
              "model_id": "00f024be40a84b05bd984bef9e9b89eb",
              "version_minor": 0,
              "version_major": 2
            },
            "text/plain": [
              "Tab(children=(Output(),), _titles={'0': 'Youtube'})"
            ]
          },
          "metadata": {}
        }
      ],
      "source": [
        "# @title Video 1: Bias Variance Tradeoff\n",
        "from ipywidgets import widgets\n",
        "\n",
        "out1 = widgets.Output()\n",
        "with out1:\n",
        "  from IPython.display import YouTubeVideo\n",
        "  video = YouTubeVideo(id=\"O0KEY0xpzMk\", width=854, height=480, fs=1, rel=0)\n",
        "  print('Video available at https://youtube.com/watch?v=' + video.id)\n",
        "  display(video)\n",
        "\n",
        "out = widgets.Tab([out1])\n",
        "out.set_title(0, 'Youtube')\n",
        "\n",
        "display(out)"
      ]
    },
    {
      "cell_type": "markdown",
      "metadata": {
        "execution": {},
        "id": "ISfi7aiUG87p"
      },
      "source": [
        "---\n",
        "# Setup"
      ]
    },
    {
      "cell_type": "code",
      "execution_count": null,
      "metadata": {
        "cellView": "both",
        "execution": {},
        "id": "2NsJl4Z0G87p"
      },
      "outputs": [],
      "source": [
        "# Imports\n",
        "\n",
        "import numpy as np\n",
        "import matplotlib.pyplot as plt"
      ]
    },
    {
      "cell_type": "code",
      "execution_count": null,
      "metadata": {
        "cellView": "form",
        "execution": {},
        "id": "VilnqDgeG87q"
      },
      "outputs": [],
      "source": [
        "#@title Figure Settings\n",
        "%config InlineBackend.figure_format = 'retina'\n",
        "plt.style.use(\"https://raw.githubusercontent.com/NeuromatchAcademy/course-content/master/nma.mplstyle\")"
      ]
    },
    {
      "cell_type": "code",
      "execution_count": null,
      "metadata": {
        "cellView": "form",
        "execution": {},
        "id": "5dVmVb9UG87q"
      },
      "outputs": [],
      "source": [
        "# @title Plotting Functions\n",
        "\n",
        "def plot_MSE_poly_fits(mse_train, mse_test, max_order):\n",
        "  \"\"\"\n",
        "    Plot the MSE values for various orders of polynomial fits on the same bar\n",
        "    graph\n",
        "\n",
        "    Args:\n",
        "      mse_train (ndarray): an array of MSE values for each order of polynomial fit\n",
        "      over the training data\n",
        "      mse_test (ndarray): an array of MSE values for each order of polynomial fit\n",
        "      over the test data\n",
        "      max_order (scalar): max order of polynomial fit\n",
        "  \"\"\"\n",
        "  fig, ax = plt.subplots()\n",
        "  width = .35\n",
        "\n",
        "  ax.bar(np.arange(max_order + 1) - width / 2, mse_train, width, label=\"train MSE\")\n",
        "  ax.bar(np.arange(max_order + 1) + width / 2, mse_test , width, label=\"test MSE\")\n",
        "\n",
        "  ax.legend()\n",
        "  ax.set(xlabel='Polynomial order', ylabel='MSE', title ='Comparing polynomial fits');"
      ]
    },
    {
      "cell_type": "code",
      "execution_count": null,
      "metadata": {
        "cellView": "form",
        "execution": {},
        "id": "3U_LmU9NG87r"
      },
      "outputs": [],
      "source": [
        "# @title Helper functions\n",
        "\n",
        "def ordinary_least_squares(x, y):\n",
        "  \"\"\"Ordinary least squares estimator for linear regression.\n",
        "\n",
        "  Args:\n",
        "    x (ndarray): design matrix of shape (n_samples, n_regressors)\n",
        "    y (ndarray): vector of measurements of shape (n_samples)\n",
        "\n",
        "  Returns:\n",
        "    ndarray: estimated parameter values of shape (n_regressors)\n",
        "  \"\"\"\n",
        "\n",
        "  return np.linalg.inv(x.T @ x) @ x.T @ y\n",
        "\n",
        "\n",
        "def make_design_matrix(x, order):\n",
        "  \"\"\"Create the design matrix of inputs for use in polynomial regression\n",
        "\n",
        "  Args:\n",
        "    x (ndarray): input vector of shape (n_samples)\n",
        "    order (scalar): polynomial regression order\n",
        "\n",
        "  Returns:\n",
        "    ndarray: design matrix for polynomial regression of shape (samples, order+1)\n",
        "  \"\"\"\n",
        "\n",
        "  # Broadcast to shape (n x 1) so dimensions work\n",
        "  if x.ndim == 1:\n",
        "    x = x[:, None]\n",
        "\n",
        "  #if x has more than one feature, we don't want multiple columns of ones so we assign\n",
        "  # x^0 here\n",
        "  design_matrix = np.ones((x.shape[0],1))\n",
        "\n",
        "  # Loop through rest of degrees and stack columns\n",
        "  for degree in range(1, order+1):\n",
        "      design_matrix = np.hstack((design_matrix, x**degree))\n",
        "\n",
        "  return design_matrix\n",
        "\n",
        "\n",
        "def solve_poly_reg(x, y, max_order):\n",
        "  \"\"\"Fit a polynomial regression model for each order 0 through max_order.\n",
        "\n",
        "  Args:\n",
        "    x (ndarray): input vector of shape (n_samples)\n",
        "    y (ndarray): vector of measurements of shape (n_samples)\n",
        "    max_order (scalar): max order for polynomial fits\n",
        "\n",
        "  Returns:\n",
        "    dict: fitted weights for each polynomial model (dict key is order)\n",
        "  \"\"\"\n",
        "\n",
        "  # Create a dictionary with polynomial order as keys, and np array of theta\n",
        "  # (weights) as the values\n",
        "  theta_hats = {}\n",
        "\n",
        "  # Loop over polynomial orders from 0 through max_order\n",
        "  for order in range(max_order+1):\n",
        "\n",
        "    X = make_design_matrix(x, order)\n",
        "    this_theta = ordinary_least_squares(X, y)\n",
        "\n",
        "    theta_hats[order] = this_theta\n",
        "\n",
        "  return theta_hats"
      ]
    },
    {
      "cell_type": "markdown",
      "metadata": {
        "execution": {},
        "id": "lbVLD23lG87r"
      },
      "source": [
        "---\n",
        "# Section 1: Train vs test data\n",
        "\n",
        "*Estimated timing to here from start of tutorial: 8 min*\n",
        "\n",
        " The data used for the fitting procedure for a given model is the **training data**. In tutorial 4, we computed MSE on the training data of our polynomial regression models and compared training MSE across models. An additional important type of data is **test data**. This is held-out data that is not used (in any way) during the fitting procedure. When fitting models, we often want to consider both the train error (the quality of prediction on the training data) and the test error (the quality of prediction on the test data) as we will see in the next section.\n"
      ]
    },
    {
      "cell_type": "markdown",
      "metadata": {
        "execution": {},
        "id": "FJt3XNBIG87r"
      },
      "source": [
        "We will generate some noisy data for use in this tutorial using a similar process as in Tutorial 4. However, now we will also generate test data. We want to see how our model generalizes beyond the range of values seen in the training phase. To accomplish this, we will generate x from a wider range of values ([-3, 3]). We then plot the train and test data together."
      ]
    },
    {
      "cell_type": "code",
      "execution_count": null,
      "metadata": {
        "cellView": "form",
        "execution": {},
        "id": "7-P5ypwVG87s"
      },
      "outputs": [],
      "source": [
        "# @markdown Execute this cell to simulate both training and test data\n",
        "\n",
        "### Generate training data\n",
        "np.random.seed(0)\n",
        "n_train_samples = 50\n",
        "x_train = np.random.uniform(-2, 2.5, n_train_samples) # sample from a uniform distribution over [-2, 2.5)\n",
        "noise = np.random.randn(n_train_samples) # sample from a standard normal distribution\n",
        "y_train =  x_train**2 - x_train - 2 + noise\n",
        "\n",
        "### Generate testing data\n",
        "n_test_samples = 20\n",
        "x_test = np.random.uniform(-3, 3, n_test_samples) # sample from a uniform distribution over [-2, 2.5)\n",
        "noise = np.random.randn(n_test_samples) # sample from a standard normal distribution\n",
        "y_test =  x_test**2 - x_test - 2 + noise\n",
        "\n",
        "## Plot both train and test data\n",
        "fig, ax = plt.subplots()\n",
        "plt.title('Training & Test Data')\n",
        "plt.plot(x_train, y_train, '.', markersize=15, label='Training')\n",
        "plt.plot(x_test, y_test, 'g+', markersize=15, label='Test')\n",
        "plt.legend()\n",
        "plt.xlabel('x')\n",
        "plt.ylabel('y');"
      ]
    },
    {
      "cell_type": "markdown",
      "metadata": {
        "execution": {},
        "id": "3TIQ8ZSwG872"
      },
      "source": [
        "---\n",
        "# Section 2: Bias-variance tradeoff\n",
        "\n",
        "*Estimated timing to here from start of tutorial: 10 min*\n",
        "\n",
        "<details>\n",
        "<summary> <font color='blue'>Click here for text recap of video </font></summary>\n",
        "\n",
        "Finding a good model can be difficult. One of the most important concepts to keep in mind when modeling is the **bias-variance tradeoff**. \n",
        "\n",
        "**Bias** is the difference between the prediction of the model and the corresponding true output variables you are trying to predict. Models with high bias will not fit the training data well since the predictions are quite different from the true data. These high bias models are overly simplified - they do not have enough parameters and complexity to accurately capture the patterns in the data and are thus **underfitting**.\n",
        "\n",
        "\n",
        "**Variance** refers to the variability of model predictions for a given input. Essentially, do the model predictions change a lot with changes in the exact training data used? Models with high variance are highly dependent on the exact training data used - they will not generalize well to test data. These high variance models are **overfitting** to the data.\n",
        "\n",
        "In essence:\n",
        "\n",
        "* High bias, low variance models have high train and test error.\n",
        "* Low bias, high variance models have low train error, high test error\n",
        "* Low bias, low variance models have low train and test error\n",
        "\n",
        "\n",
        "As we can see from this list, we ideally want low bias and low variance models! These goals can be in conflict though - models with enough complexity to have low bias also tend to overfit and depend on the training data more. We need to decide on the correct tradeoff.\n",
        "\n",
        "In this section, we will see the bias-variance tradeoff in action with polynomial regression models of different orders.\n",
        "\n",
        "</details>\n",
        "\n",
        "Graphical illustration of bias and variance.\n",
        "(Source: http://scott.fortmann-roe.com/docs/BiasVariance.html)\n",
        "\n",
        "![bias-variance](https://www.cs.cornell.edu/courses/cs4780/2018fa/lectures/images/bias_variance/bullseye.png) \n"
      ]
    },
    {
      "cell_type": "markdown",
      "metadata": {
        "execution": {},
        "id": "1oWvDurMG872"
      },
      "source": [
        "We will first fit polynomial regression models of orders 0-5 on our simulated training data just as we did in Tutorial 4. "
      ]
    },
    {
      "cell_type": "code",
      "execution_count": null,
      "metadata": {
        "cellView": "form",
        "execution": {},
        "id": "-FyXMhRjG872"
      },
      "outputs": [],
      "source": [
        "# @markdown Execute this cell to estimate theta_hats\n",
        "max_order = 5\n",
        "theta_hats = solve_poly_reg(x_train, y_train, max_order)"
      ]
    },
    {
      "cell_type": "markdown",
      "metadata": {
        "execution": {},
        "id": "YFOyQz3gG873"
      },
      "source": [
        "## Coding Exercise 2: Compute and compare train vs test error\n",
        "\n",
        "We will use MSE as our error metric again. Compute MSE on training data ($x_{train},y_{train}$) and test data ($x_{test}, y_{test}$) for each polynomial regression model (orders 0-5). Since you already developed code in T4 Exercise 4 for making design matrices and evaluating fit polynomials, we have ported that here into the functions `make_design_matrix` and `evaluate_poly_reg` for your use.\n",
        "\n",
        "*Please think about after completing exercise before reading the following text! Do you think the order 0 model has high or low bias? High or low variance? How about the order 5 model?*"
      ]
    },
    {
      "cell_type": "code",
      "execution_count": null,
      "metadata": {
        "cellView": "form",
        "execution": {},
        "id": "S8cuAh73G873"
      },
      "outputs": [],
      "source": [
        "# @markdown Execute this cell for function `evalute_poly_reg`\n",
        "\n",
        "def evaluate_poly_reg(x, y, theta_hats, max_order):\n",
        "    \"\"\" Evaluates MSE of polynomial regression models on data\n",
        "\n",
        "    Args:\n",
        "      x (ndarray): input vector of shape (n_samples)\n",
        "      y (ndarray): vector of measurements of shape (n_samples)\n",
        "      theta_hats (dict):  fitted weights for each polynomial model (dict key is order)\n",
        "      max_order (scalar): max order of polynomial fit\n",
        "\n",
        "    Returns\n",
        "      (ndarray): mean squared error for each order, shape (max_order)\n",
        "    \"\"\"\n",
        "\n",
        "    mse = np.zeros((max_order + 1))\n",
        "    for order in range(0, max_order + 1):\n",
        "      X_design = make_design_matrix(x, order)\n",
        "      y_hat = np.dot(X_design, theta_hats[order])\n",
        "      residuals = y - y_hat\n",
        "      mse[order] = np.mean(residuals ** 2)\n",
        "\n",
        "    return mse"
      ]
    },
    {
      "cell_type": "code",
      "execution_count": null,
      "metadata": {
        "execution": {},
        "id": "kWSu378VG873"
      },
      "outputs": [],
      "source": [
        "def compute_mse(x_train, x_test, y_train, y_test, theta_hats, max_order):\n",
        "  \"\"\"Compute MSE on training data and test data.\n",
        "\n",
        "  Args:\n",
        "    x_train(ndarray): training data input vector of shape (n_samples)\n",
        "    x_test(ndarray): test data input vector of shape (n_samples)\n",
        "    y_train(ndarray): training vector of measurements of shape (n_samples)\n",
        "    y_test(ndarray): test vector of measurements of shape (n_samples)\n",
        "    theta_hats(dict): fitted weights for each polynomial model (dict key is order)\n",
        "    max_order (scalar): max order of polynomial fit\n",
        "\n",
        "  Returns:\n",
        "    ndarray, ndarray: MSE error on training data and test data for each order\n",
        "  \"\"\"\n",
        "\n",
        "  #######################################################\n",
        "  ## TODO for students: calculate mse error for both sets\n",
        "  ## Hint: look back at tutorial 5 where we calculated MSE\n",
        "  # Fill out function and remove\n",
        "  raise NotImplementedError(\"Student excercise: calculate mse for train and test set\")\n",
        "  #######################################################\n",
        "\n",
        "  mse_train = ...\n",
        "  mse_test = ...\n",
        "\n",
        "  return mse_train, mse_test\n",
        "\n",
        "\n",
        "# Compute train and test MSE\n",
        "mse_train, mse_test = compute_mse(x_train, x_test, y_train, y_test, theta_hats, max_order)\n",
        "\n",
        "# Visualize\n",
        "plot_MSE_poly_fits(mse_train, mse_test, max_order)"
      ]
    },
    {
      "cell_type": "code",
      "execution_count": null,
      "metadata": {
        "cellView": "both",
        "execution": {},
        "id": "JYBC_B6JG873"
      },
      "outputs": [],
      "source": [
        "# to_remove solution\n",
        "\n",
        "def compute_mse(x_train, x_test, y_train, y_test, theta_hats, max_order):\n",
        "  \"\"\"Compute MSE on training data and test data.\n",
        "\n",
        "  Args:\n",
        "    x_train(ndarray): training data input vector of shape (n_samples)\n",
        "    x_test(ndarray): test vector of shape (n_samples)\n",
        "    y_train(ndarray): training vector of measurements of shape (n_samples)\n",
        "    y_test(ndarray): test vector of measurements of shape (n_samples)\n",
        "    theta_hats(dict): fitted weights for each polynomial model (dict key is order)\n",
        "    max_order (scalar): max order of polynomial fit\n",
        "\n",
        "  Returns:\n",
        "    ndarray, ndarray: MSE error on training data and test data for each order\n",
        "  \"\"\"\n",
        "\n",
        "  mse_train = evaluate_poly_reg(x_train, y_train, theta_hats, max_order)\n",
        "  mse_test = evaluate_poly_reg(x_test, y_test, theta_hats, max_order)\n",
        "\n",
        "  return mse_train, mse_test\n",
        "\n",
        "\n",
        "# Compute train and test MSE\n",
        "mse_train, mse_test = compute_mse(x_train, x_test, y_train, y_test, theta_hats, max_order)\n",
        "\n",
        "# Visualize\n",
        "with plt.xkcd():\n",
        "  plot_MSE_poly_fits(mse_train, mse_test, max_order)"
      ]
    },
    {
      "cell_type": "markdown",
      "metadata": {
        "execution": {},
        "id": "6u7LcpawG874"
      },
      "source": [
        "As we can see from the plot above, more complex models (higher order polynomials) have lower MSE for training data. The overly simplified models (orders 0 and 1) have high MSE on the training data. As we add complexity to the model, we go from high bias to low bias. \n",
        "\n",
        "The MSE on test data follows a different pattern. The best test MSE is for an order 2 model - this makes sense as the data was generated with an order 2 model. Both simpler models and more complex models have higher test MSE. \n",
        "\n",
        "So to recap:\n",
        "\n",
        "Order 0 model: High bias, low variance\n",
        "\n",
        "Order 5 model: Low bias, high variance\n",
        "\n",
        "Order 2 model: Just right, low bias, low variance\n"
      ]
    },
    {
      "cell_type": "markdown",
      "metadata": {
        "execution": {},
        "id": "c0cgR2pjG874"
      },
      "source": [
        "---\n",
        "# Summary\n",
        "\n",
        "*Estimated timing of tutorial: 25 minutes*\n",
        "\n",
        "- Training data is the data used for fitting, test data is held-out data.\n",
        "- We need to strike the right balance between bias and variance. Ideally we want to find a model with optimal model complexity that has both low bias and low variance\n",
        " - Too complex models have low bias and high variance.\n",
        " - Too simple models have high bias and low variance."
      ]
    },
    {
      "cell_type": "markdown",
      "metadata": {
        "execution": {},
        "id": "XLhiPzOXG874"
      },
      "source": [
        "**Note**\n",
        " - Bias and variance are very important concepts in modern machine learning, but it has recently been observed that they do not necessarily trade off (see for example the phenomenon and theory of \"double descent\")\n",
        "\n",
        "**Further readings:**\n",
        "- [The elements of statistical learning](https://web.stanford.edu/~hastie/ElemStatLearn/) by Hastie, Tibshirani and Friedman"
      ]
    },
    {
      "cell_type": "markdown",
      "metadata": {
        "execution": {},
        "id": "jXHuEzI4G874"
      },
      "source": [
        "---\n",
        "# Bonus\n",
        "\n"
      ]
    },
    {
      "cell_type": "markdown",
      "metadata": {
        "execution": {},
        "id": "OokLt2RWG874"
      },
      "source": [
        "## Bonus Exercise\n",
        "\n",
        "Prove the bias-variance decomposition for MSE\n",
        "\n",
        "\\begin{align}\n",
        "\\mathbb{E}_{x}\\left[\\left(y-\\hat{y}(x ; \\theta)\\right)^{2}\\right]=\\left(\\operatorname{Bias}_{x}[\\hat{y}(x ; \\theta)]\\right)^{2}+\\operatorname{Var}_{x}[\\hat{y}(x ; \\theta)]+\\sigma^{2}\n",
        "\\end{align}\n",
        "where\n",
        "\n",
        "\\begin{align}\n",
        "\\operatorname{Bias}_{x}[\\hat{y}(x ; \\theta)]=\\mathbb{E}_{x}[\\hat{y}(x ; \\theta)]-y\n",
        "\\end{align}\n",
        "\n",
        "and\n",
        "\\begin{align}\n",
        "\\operatorname{Var}_{x}[\\hat{y}(x ; \\theta)]=\\mathbb{E}_{x}\\left[\\hat{y}(x ; \\theta)^{2}\\right]-\\mathrm{E}_{x}[\\hat{y}(x ; \\theta)]^{2}\n",
        "\\end{align}\n",
        "\n",
        "Hint: use \n",
        "\\begin{align}\n",
        "\\operatorname{Var}[X]=\\mathbb{E}\\left[X^{2}\\right]-(\\mathrm{E}[X])^{2}\n",
        "\\end{align}"
      ]
    }
  ],
  "metadata": {
    "colab": {
      "collapsed_sections": [],
      "name": "Module_4_Tutorial_4_TA",
      "provenance": [],
      "include_colab_link": true
    },
    "kernel": {
      "display_name": "Python 3",
      "language": "python",
      "name": "python3"
    },
    "kernelspec": {
      "display_name": "Python 3",
      "language": "python",
      "name": "python3"
    },
    "language_info": {
      "codemirror_mode": {
        "name": "ipython",
        "version": 3
      },
      "file_extension": ".py",
      "mimetype": "text/x-python",
      "name": "python",
      "nbconvert_exporter": "python",
      "pygments_lexer": "ipython3",
      "version": "3.7.12"
    },
    "toc-autonumbering": true,
    "widgets": {
      "application/vnd.jupyter.widget-state+json": {
        "00f024be40a84b05bd984bef9e9b89eb": {
          "model_module": "@jupyter-widgets/controls",
          "model_name": "TabModel",
          "model_module_version": "1.5.0",
          "state": {
            "_view_name": "TabView",
            "_dom_classes": [],
            "_titles": {
              "0": "Youtube"
            },
            "_model_name": "TabModel",
            "_view_module": "@jupyter-widgets/controls",
            "selected_index": 0,
            "_model_module_version": "1.5.0",
            "_view_count": null,
            "_view_module_version": "1.5.0",
            "box_style": "",
            "layout": "IPY_MODEL_5ad0506778f14fef9278802936128f4a",
            "_model_module": "@jupyter-widgets/controls",
            "children": [
              "IPY_MODEL_568f953f674741bb897cbb821af54c98"
            ]
          }
        },
        "5ad0506778f14fef9278802936128f4a": {
          "model_module": "@jupyter-widgets/base",
          "model_name": "LayoutModel",
          "model_module_version": "1.2.0",
          "state": {
            "_view_name": "LayoutView",
            "grid_template_rows": null,
            "right": null,
            "justify_content": null,
            "_view_module": "@jupyter-widgets/base",
            "overflow": null,
            "_model_module_version": "1.2.0",
            "_view_count": null,
            "flex_flow": null,
            "width": null,
            "min_width": null,
            "border": null,
            "align_items": null,
            "bottom": null,
            "_model_module": "@jupyter-widgets/base",
            "top": null,
            "grid_column": null,
            "overflow_y": null,
            "overflow_x": null,
            "grid_auto_flow": null,
            "grid_area": null,
            "grid_template_columns": null,
            "flex": null,
            "_model_name": "LayoutModel",
            "justify_items": null,
            "grid_row": null,
            "max_height": null,
            "align_content": null,
            "visibility": null,
            "align_self": null,
            "height": null,
            "min_height": null,
            "padding": null,
            "grid_auto_rows": null,
            "grid_gap": null,
            "max_width": null,
            "order": null,
            "_view_module_version": "1.2.0",
            "grid_template_areas": null,
            "object_position": null,
            "object_fit": null,
            "grid_auto_columns": null,
            "margin": null,
            "display": null,
            "left": null
          }
        },
        "568f953f674741bb897cbb821af54c98": {
          "model_module": "@jupyter-widgets/output",
          "model_name": "OutputModel",
          "model_module_version": "1.0.0",
          "state": {
            "_view_name": "OutputView",
            "msg_id": "",
            "_dom_classes": [],
            "_model_name": "OutputModel",
            "outputs": [
              {
                "output_type": "stream",
                "name": "stdout",
                "text": [
                  "Video available at https://youtube.com/watch?v=O0KEY0xpzMk\n"
                ]
              },
              {
                "output_type": "display_data",
                "data": {
                  "text/html": "\n        <iframe\n            width=\"854\"\n            height=\"480\"\n            src=\"https://www.youtube.com/embed/O0KEY0xpzMk?fs=1&rel=0\"\n            frameborder=\"0\"\n            allowfullscreen\n        ></iframe>\n        ",
                  "text/plain": "<IPython.lib.display.YouTubeVideo at 0x7f8f4fb09190>",
                  "image/jpeg": "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\n"
                },
                "metadata": {}
              }
            ],
            "_view_module": "@jupyter-widgets/output",
            "_model_module_version": "1.0.0",
            "_view_count": null,
            "_view_module_version": "1.0.0",
            "layout": "IPY_MODEL_d8433228ad8e4ab4a63285819a480954",
            "_model_module": "@jupyter-widgets/output"
          }
        },
        "d8433228ad8e4ab4a63285819a480954": {
          "model_module": "@jupyter-widgets/base",
          "model_name": "LayoutModel",
          "model_module_version": "1.2.0",
          "state": {
            "_view_name": "LayoutView",
            "grid_template_rows": null,
            "right": null,
            "justify_content": null,
            "_view_module": "@jupyter-widgets/base",
            "overflow": null,
            "_model_module_version": "1.2.0",
            "_view_count": null,
            "flex_flow": null,
            "width": null,
            "min_width": null,
            "border": null,
            "align_items": null,
            "bottom": null,
            "_model_module": "@jupyter-widgets/base",
            "top": null,
            "grid_column": null,
            "overflow_y": null,
            "overflow_x": null,
            "grid_auto_flow": null,
            "grid_area": null,
            "grid_template_columns": null,
            "flex": null,
            "_model_name": "LayoutModel",
            "justify_items": null,
            "grid_row": null,
            "max_height": null,
            "align_content": null,
            "visibility": null,
            "align_self": null,
            "height": null,
            "min_height": null,
            "padding": null,
            "grid_auto_rows": null,
            "grid_gap": null,
            "max_width": null,
            "order": null,
            "_view_module_version": "1.2.0",
            "grid_template_areas": null,
            "object_position": null,
            "object_fit": null,
            "grid_auto_columns": null,
            "margin": null,
            "display": null,
            "left": null
          }
        },
        "dfec4a497a9742f0baa42255e9f01b54": {
          "model_module": "@jupyter-widgets/controls",
          "model_name": "TabModel",
          "model_module_version": "1.5.0",
          "state": {
            "_view_name": "TabView",
            "_dom_classes": [],
            "_titles": {
              "0": "Calendar"
            },
            "_model_name": "TabModel",
            "_view_module": "@jupyter-widgets/controls",
            "selected_index": 0,
            "_model_module_version": "1.5.0",
            "_view_count": null,
            "_view_module_version": "1.5.0",
            "box_style": "",
            "layout": "IPY_MODEL_ee1e5e7f03f9446dbe246fecd91ec593",
            "_model_module": "@jupyter-widgets/controls",
            "children": [
              "IPY_MODEL_b5e064e2a037482aa8e4693299c05b9e"
            ]
          }
        },
        "ee1e5e7f03f9446dbe246fecd91ec593": {
          "model_module": "@jupyter-widgets/base",
          "model_name": "LayoutModel",
          "model_module_version": "1.2.0",
          "state": {
            "_view_name": "LayoutView",
            "grid_template_rows": null,
            "right": null,
            "justify_content": null,
            "_view_module": "@jupyter-widgets/base",
            "overflow": null,
            "_model_module_version": "1.2.0",
            "_view_count": null,
            "flex_flow": null,
            "width": null,
            "min_width": null,
            "border": null,
            "align_items": null,
            "bottom": null,
            "_model_module": "@jupyter-widgets/base",
            "top": null,
            "grid_column": null,
            "overflow_y": null,
            "overflow_x": null,
            "grid_auto_flow": null,
            "grid_area": null,
            "grid_template_columns": null,
            "flex": null,
            "_model_name": "LayoutModel",
            "justify_items": null,
            "grid_row": null,
            "max_height": null,
            "align_content": null,
            "visibility": null,
            "align_self": null,
            "height": null,
            "min_height": null,
            "padding": null,
            "grid_auto_rows": null,
            "grid_gap": null,
            "max_width": null,
            "order": null,
            "_view_module_version": "1.2.0",
            "grid_template_areas": null,
            "object_position": null,
            "object_fit": null,
            "grid_auto_columns": null,
            "margin": null,
            "display": null,
            "left": null
          }
        },
        "b5e064e2a037482aa8e4693299c05b9e": {
          "model_module": "@jupyter-widgets/output",
          "model_name": "OutputModel",
          "model_module_version": "1.0.0",
          "state": {
            "_view_name": "OutputView",
            "msg_id": "",
            "_dom_classes": [],
            "_model_name": "OutputModel",
            "outputs": [
              {
                "output_type": "display_data",
                "data": {
                  "text/html": "\n        <iframe\n            width=\"600\"\n            height=\"480\"\n            src=\"https://calendar.google.com/calendar/embed?src=356b9d2nspjttvgbb3tvgk2f58%40group.calendar.google.com&ctz=America%2FNew_York\"\n            frameborder=\"0\"\n            allowfullscreen\n        ></iframe>\n        ",
                  "text/plain": "<IPython.lib.display.IFrame at 0x7f2071e8c1d0>"
                },
                "metadata": {}
              }
            ],
            "_view_module": "@jupyter-widgets/output",
            "_model_module_version": "1.0.0",
            "_view_count": null,
            "_view_module_version": "1.0.0",
            "layout": "IPY_MODEL_039dc23b74a948c59fb70601ee6ae6e6",
            "_model_module": "@jupyter-widgets/output"
          }
        },
        "039dc23b74a948c59fb70601ee6ae6e6": {
          "model_module": "@jupyter-widgets/base",
          "model_name": "LayoutModel",
          "model_module_version": "1.2.0",
          "state": {
            "_view_name": "LayoutView",
            "grid_template_rows": null,
            "right": null,
            "justify_content": null,
            "_view_module": "@jupyter-widgets/base",
            "overflow": null,
            "_model_module_version": "1.2.0",
            "_view_count": null,
            "flex_flow": null,
            "width": null,
            "min_width": null,
            "border": null,
            "align_items": null,
            "bottom": null,
            "_model_module": "@jupyter-widgets/base",
            "top": null,
            "grid_column": null,
            "overflow_y": null,
            "overflow_x": null,
            "grid_auto_flow": null,
            "grid_area": null,
            "grid_template_columns": null,
            "flex": null,
            "_model_name": "LayoutModel",
            "justify_items": null,
            "grid_row": null,
            "max_height": null,
            "align_content": null,
            "visibility": null,
            "align_self": null,
            "height": null,
            "min_height": null,
            "padding": null,
            "grid_auto_rows": null,
            "grid_gap": null,
            "max_width": null,
            "order": null,
            "_view_module_version": "1.2.0",
            "grid_template_areas": null,
            "object_position": null,
            "object_fit": null,
            "grid_auto_columns": null,
            "margin": null,
            "display": null,
            "left": null
          }
        }
      }
    }
  },
  "nbformat": 4,
  "nbformat_minor": 0
}