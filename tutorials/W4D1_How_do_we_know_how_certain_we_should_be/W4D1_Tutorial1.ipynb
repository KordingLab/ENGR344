{
  "cells": [
    {
      "cell_type": "markdown",
      "metadata": {
        "id": "view-in-github",
        "colab_type": "text"
      },
      "source": [
        "<a href=\"https://colab.research.google.com/github/KordingLab/ENGR344/blob/master/tutorials/W4D1_How_do_we_know_how_certain_we_should_be/W4D1_Tutorial1.ipynb\" target=\"_parent\"><img src=\"https://colab.research.google.com/assets/colab-badge.svg\" alt=\"Open In Colab\"/></a>"
      ]
    },
    {
      "cell_type": "markdown",
      "metadata": {
        "execution": {},
        "id": "wuSb692OG7s9"
      },
      "source": [
        "# Tutorial 1: Linear regression with MLE\n",
        "**Module 4: How do we know how certain we should be?**\n",
        "\n",
        "**Originally By Neuromatch Academy**\n",
        "\n",
        "**Content creators**: Pierre-Étienne Fiquet, Anqi Wu, Alex Hyafil  with help from Byron Galbraith\n",
        "\n",
        "**Content reviewers**: Lina Teichmann, Madineh Sarvestani, Patrick Mineault, Ella Batty, Michael Waskom\n",
        "\n",
        "**Content Modifiers**: Konrad Kording, Ilenna Jones"
      ]
    },
    {
      "cell_type": "markdown",
      "metadata": {
        "execution": {},
        "id": "yUZ5o1SRG7tA"
      },
      "source": [
        "**Our 2021 Sponsors, including Presenting Sponsor Facebook Reality Labs**\n",
        "\n",
        "<p align='center'><img src='https://github.com/NeuromatchAcademy/widgets/blob/master/sponsors.png?raw=True'/></p>"
      ]
    },
    {
      "cell_type": "code",
      "source": [
        "# @title Due Dates Calendar\n",
        "\n",
        "from ipywidgets import widgets\n",
        "from IPython.display import display, IFrame, YouTubeVideo\n",
        "\n",
        "\n",
        "out1 = widgets.Output()\n",
        "with out1:\n",
        "  calendar = IFrame(src=\"https://calendar.google.com/calendar/embed?src=356b9d2nspjttvgbb3tvgk2f58%40group.calendar.google.com&ctz=America%2FNew_York\", width=600, height=480)\n",
        "  display(calendar)\n",
        "\n",
        "out = widgets.Tab([out1])\n",
        "out.set_title(0, 'Calendar')\n",
        "\n",
        "display(out)"
      ],
      "metadata": {
        "colab": {
          "base_uri": "https://localhost:8080/",
          "height": 563,
          "referenced_widgets": [
            "1cffd4ccdae54039b76ead26e65cbf21",
            "f7141cebf2f048f982eededdc3537861",
            "d73b81d96eae480b9ed9d2dfee7a60b4",
            "1514270a166d45299bc217f33faf7167"
          ]
        },
        "cellView": "form",
        "id": "slvOzp2YOqfZ",
        "outputId": "adc22778-4d22-4afd-de13-0ded5fb79553"
      },
      "execution_count": null,
      "outputs": [
        {
          "output_type": "display_data",
          "data": {
            "application/vnd.jupyter.widget-view+json": {
              "model_id": "1cffd4ccdae54039b76ead26e65cbf21",
              "version_minor": 0,
              "version_major": 2
            },
            "text/plain": [
              "Tab(children=(Output(),), _titles={'0': 'Calendar'})"
            ]
          },
          "metadata": {}
        }
      ]
    },
    {
      "cell_type": "markdown",
      "metadata": {
        "execution": {},
        "id": "v9CTWLTsG7tB"
      },
      "source": [
        "---\n",
        "# Tutorial Objectives\n",
        "\n",
        "*Estimated timing of tutorial: 30 minutes*\n",
        "\n",
        "This is Tutorial 2 of a series on fitting models to data. We start with simple linear regression, using least squares optimization (Tutorial 1) and Maximum Likelihood Estimation (Tutorial 2). We will use bootstrapping to build confidence intervals around the inferred linear model parameters (Tutorial 3). We'll finish our exploration of regression models by generalizing to multiple linear regression and polynomial regression (Tutorial 4). We end by learning how to choose between these various models. We discuss the bias-variance trade-off (Tutorial 5) and Cross Validation for model selection (Tutorial 6).\n",
        "\n",
        "In this tutorial, we will use a different approach to fit linear models that incorporates the random 'noise' in our data.\n",
        "- Learn about probability distributions and probabilistic models\n",
        "- Learn how to calculate the likelihood of our model parameters\n",
        "- Learn how to implement the maximum likelihood estimator, to find the model parameter with the maximum likelihood\n",
        "\n"
      ]
    },
    {
      "cell_type": "code",
      "execution_count": null,
      "metadata": {
        "cellView": "form",
        "execution": {},
        "id": "zkAji4BkG7tC"
      },
      "outputs": [],
      "source": [
        "# @title Tutorial slides\n",
        "\n",
        "# @markdown These are the slides for the videos in all tutorials today\n",
        "from IPython.display import IFrame\n",
        "IFrame(src=f\"https://mfr.ca-1.osf.io/render?url=https://osf.io/2mkq4/?direct%26mode=render%26action=download%26mode=render\", width=854, height=480)"
      ]
    },
    {
      "cell_type": "markdown",
      "metadata": {
        "execution": {},
        "id": "Vqg-pjSjG7tD"
      },
      "source": [
        "---\n",
        "# Setup"
      ]
    },
    {
      "cell_type": "code",
      "execution_count": null,
      "metadata": {
        "execution": {},
        "id": "fg-ZjpWuG7tE"
      },
      "outputs": [],
      "source": [
        "import numpy as np\n",
        "import matplotlib.pyplot as plt\n",
        "from scipy import stats"
      ]
    },
    {
      "cell_type": "code",
      "execution_count": null,
      "metadata": {
        "cellView": "form",
        "execution": {},
        "id": "xUyQaEiUG7tE"
      },
      "outputs": [],
      "source": [
        "#@title Figure Settings\n",
        "import ipywidgets as widgets       # interactive display\n",
        "%config InlineBackend.figure_format = 'retina'\n",
        "plt.style.use(\"https://raw.githubusercontent.com/NeuromatchAcademy/course-content/master/nma.mplstyle\")"
      ]
    },
    {
      "cell_type": "code",
      "execution_count": null,
      "metadata": {
        "cellView": "form",
        "execution": {},
        "id": "s-_f4Ok5G7tF"
      },
      "outputs": [],
      "source": [
        "# @title Plotting Functions\n",
        "def plot_density_image(x, y, theta, sigma=1, ax=None):\n",
        "  \"\"\" Plots probability distribution of y given x, theta, and sigma\n",
        "\n",
        "  Args:\n",
        "\n",
        "    x (ndarray): An array of shape (samples,) that contains the input values.\n",
        "    y (ndarray): An array of shape (samples,) that contains the corresponding\n",
        "      measurement values to the inputs.\n",
        "    theta (float): Slope parameter\n",
        "    sigma (float): standard deviation of Gaussian noise\n",
        "\n",
        "  \"\"\"\n",
        "\n",
        "  # plot the probability density of p(y|x,theta)\n",
        "  if ax is None:\n",
        "    fig, ax = plt.subplots()\n",
        "\n",
        "  xmin, xmax = np.floor(np.min(x)), np.ceil(np.max(x))\n",
        "  ymin, ymax = np.floor(np.min(y)), np.ceil(np.max(y))\n",
        "  xx = np.linspace(xmin, xmax, 50)\n",
        "  yy = np.linspace(ymin, ymax, 50)\n",
        "\n",
        "  surface = np.zeros((len(yy), len(xx)))\n",
        "  for i, x_i in enumerate(xx):\n",
        "    surface[:, i] = stats.norm(theta * x_i, sigma).pdf(yy)\n",
        "\n",
        "  ax.set(xlabel='x', ylabel='y')\n",
        "\n",
        "  return ax.imshow(surface, origin='lower', aspect='auto', vmin=0, vmax=None,\n",
        "            cmap=plt.get_cmap('Wistia'),\n",
        "            extent=[xmin, xmax, ymin, ymax])"
      ]
    },
    {
      "cell_type": "markdown",
      "metadata": {
        "execution": {},
        "id": "rPT0sztBG7tG"
      },
      "source": [
        "---\n",
        "# Section 1: Maximum Likelihood Estimation (MLE)\n"
      ]
    },
    {
      "cell_type": "code",
      "execution_count": null,
      "metadata": {
        "execution": {},
        "id": "oJaU9BY-G7tG",
        "colab": {
          "base_uri": "https://localhost:8080/",
          "height": 581,
          "referenced_widgets": [
            "5a6bf15e553a472789d07bf400e19640",
            "f8fec86b1cc64c7d9a7ea4023d6c0bb9",
            "6b70f8f0505648d2af4ae1d4f67d6a14",
            "4af7ed809bcb4dbc8c4e48cb16663c63"
          ]
        },
        "outputId": "705bbd53-b86b-45a8-8460-1a72efdcdfcc",
        "cellView": "form"
      },
      "outputs": [
        {
          "output_type": "display_data",
          "data": {
            "application/vnd.jupyter.widget-view+json": {
              "model_id": "5a6bf15e553a472789d07bf400e19640",
              "version_minor": 0,
              "version_major": 2
            },
            "text/plain": [
              "Tab(children=(Output(),), _titles={'0': 'Youtube'})"
            ]
          },
          "metadata": {}
        }
      ],
      "source": [
        "# @title Video 1: Maximum Likelihood Estimation\n",
        "from ipywidgets import widgets\n",
        "\n",
        "out1 = widgets.Output()\n",
        "with out1:\n",
        "  from IPython.display import YouTubeVideo\n",
        "  video = YouTubeVideo(id=\"liTs_2PhiTU\", width=854, height=480, fs=1, rel=0)\n",
        "  print('Video available at https://youtube.com/watch?v=' + video.id)\n",
        "  display(video)\n",
        "\n",
        "out = widgets.Tab([out1])\n",
        "out.set_title(0, 'Youtube')\n",
        "\n",
        "\n",
        "display(out)"
      ]
    },
    {
      "cell_type": "markdown",
      "metadata": {
        "execution": {},
        "id": "4IkFiRTHG7tH"
      },
      "source": [
        "This video covers Maximum Likelihood Estimation (MLE) in the context of a 1D linear regression.\n"
      ]
    },
    {
      "cell_type": "markdown",
      "metadata": {
        "execution": {},
        "id": "386aghBnG7tH"
      },
      "source": [
        "## Section 1.1: Gaussian noise"
      ]
    },
    {
      "cell_type": "markdown",
      "metadata": {
        "execution": {},
        "id": "Fjc70ZDzG7tH"
      },
      "source": [
        "\n",
        "<details>\n",
        "<summary> <font color='blue'>Click here for text recap of relevant part of video </font></summary>\n",
        "\n",
        "In the previous tutorial we made the assumption that the data was drawn from a linear relationship with noise added, and found an effective approach for estimating model parameters based on minimizing the mean squared error.\n",
        "\n",
        "In that case we treated the noise as simply a nuisance, but what if we factored it directly into our model?\n",
        "\n",
        "Recall our linear model:\n",
        "\n",
        "\\begin{align}\n",
        "y = \\theta x + \\epsilon.\n",
        "\\end{align}\n",
        "\n",
        "The noise component $\\epsilon$ is often modeled as a random variable drawn from a Gaussian distribution (also called the normal distribution).\n",
        "\n",
        "The Gaussian distribution is described by its [probability density function](https://en.wikipedia.org/wiki/Probability_density_function) (pdf)\n",
        "\\begin{align}\n",
        "\\mathcal{N}(x; \\mu, \\sigma^2) = \\frac{1}{\\sqrt{2\\pi\\sigma^2}}e^{-\\frac{1}{2\\sigma^2}(x-\\mu)^2}\n",
        "\\end{align}\n",
        "\n",
        "and is dependent on two parameters: the mean $\\mu$ and the variance $\\sigma^2$. We often consider the noise signal to be Gaussian \"white noise\", with zero mean and unit variance:\n",
        "\n",
        "\\begin{align}\n",
        "\\epsilon \\sim \\mathcal{N}(0, 1).\n",
        "\\end{align}\n",
        "\n"
      ]
    },
    {
      "cell_type": "markdown",
      "metadata": {
        "execution": {},
        "id": "bFUmLfIUG7tH"
      },
      "source": [
        "### Interactive Demo 1.1: Gaussian Distribution Explorer\n",
        "\n",
        "Use the explorer widget below to see how varying the $\\mu$ and $\\sigma$ parameters change the location and shape of the samples.\n",
        "\n",
        "\n",
        "1.   What effect does varying $\\mu$ have on the pdf?\n",
        "2.   What effect does varying $\\sigma$ have on the pdf?\n",
        "\n"
      ]
    },
    {
      "cell_type": "code",
      "execution_count": null,
      "metadata": {
        "cellView": "form",
        "execution": {},
        "id": "VDBqKEfJG7tI"
      },
      "outputs": [],
      "source": [
        "# @markdown Make sure you execute this cell to enable the widget!\n",
        "\n",
        "@widgets.interact(mu=widgets.FloatSlider(0.0, min=-2.0, max=2.0),\n",
        "                  sigma=widgets.FloatSlider(1.0, min=0.5, max=2.0))\n",
        "def plot_normal_dist(mu=0, sigma=1):\n",
        "\n",
        "  # Generate pdf & samples from normal distribution with mu/sigma\n",
        "  rv = stats.norm(mu, sigma)\n",
        "  x = np.linspace(-5, 5, 100)\n",
        "  y = rv.pdf(x)\n",
        "  samples = rv.rvs(1000)\n",
        "\n",
        "  # Plot\n",
        "  fig, ax = plt.subplots()\n",
        "  ax.hist(samples, 20, density=True, color='g', histtype='stepfilled', alpha=0.8,\n",
        "          label='histogram')\n",
        "  ax.plot(x, y, color='orange', linewidth=3, label='pdf')\n",
        "  ax.vlines(mu, 0, rv.pdf(mu), color='y', linewidth=3, label='$\\mu$')\n",
        "  ax.vlines([mu-sigma, mu+sigma], 0, rv.pdf([mu-sigma, mu+sigma]), colors='red',\n",
        "            color='b', linewidth=3, label='$\\sigma$')\n",
        "  ax.set(xlabel='x', ylabel='probability density', xlim=[-5, 5], ylim=[0, 1.0])\n",
        "  ax.legend()"
      ]
    },
    {
      "cell_type": "markdown",
      "metadata": {
        "execution": {},
        "id": "AgZLeLWkG7tI"
      },
      "source": [
        "## Section 1.2: Probabilistic Models\n",
        "\n",
        "*Estimated timing to here from start of tutorial: 11 min*\n",
        "\n",
        "Now that we have a model of our noise component $\\epsilon$ as random variable, how do we incorporate this back into our original linear model from before? Consider again our simplified model $y = \\theta x + \\epsilon$ where the noise has zero mean and unit variance $\\epsilon \\sim \\mathcal{N}(0, 1)$. We can now also treat $y$ as a random variable drawn from a Gaussian distribution where $\\mu = \\theta x$ and $\\sigma^2 = 1$:\n",
        "\n",
        "\\begin{align}\n",
        "y \\sim \\mathcal{N}(\\theta x, 1)\n",
        "\\end{align}\n",
        "\n",
        "which is to say that the probability of observing $y$ given $x$ and parameter $\\theta$ is\n",
        "\\begin{align}\n",
        "p(y|x,\\theta) = \\frac{1}{\\sqrt{2\\pi}}e^{-\\frac{1}{2}(y-\\theta x)^2}\n",
        "\\end{align}\n",
        "\n",
        "\n",
        "Note that in this and the following sections, we will focus on a single data point (a single pairing of $x$ and $y$). We have dropped the subscript $i$ just for simplicity (that is, we use $x$ for a single data point, instead of $x_i$). \n",
        "\n",
        "Now, let's revisit our original sample dataset where the true underlying model has $\\theta = 1.2$."
      ]
    },
    {
      "cell_type": "code",
      "execution_count": null,
      "metadata": {
        "cellView": "form",
        "execution": {},
        "id": "PMA6b0F-G7tJ"
      },
      "outputs": [],
      "source": [
        "# @markdown Execute this cell to generate some simulated data\n",
        "\n",
        "# setting a fixed seed to our random number generator ensures we will always\n",
        "# get the same psuedorandom number sequence\n",
        "\n",
        "np.random.seed(121)\n",
        "theta = 1.2\n",
        "n_samples = 30\n",
        "x = 10 * np.random.rand(n_samples) # sample from a uniform distribution over [0,10)\n",
        "noise = np.random.randn(n_samples) # sample from a standard normal distribution\n",
        "y = theta * x + noise"
      ]
    },
    {
      "cell_type": "markdown",
      "metadata": {
        "execution": {},
        "id": "6TSqpPdDG7tJ"
      },
      "source": [
        "This time we can plot the density of $p(y|x,\\theta=1.2)$ and see how $p(y)$ changes for different values of $x$."
      ]
    },
    {
      "cell_type": "code",
      "execution_count": null,
      "metadata": {
        "cellView": "form",
        "execution": {},
        "id": "AmnLdK4aG7tJ"
      },
      "outputs": [],
      "source": [
        "# @markdown Execute this cell to visualize p(y|x, theta=1.2)\n",
        "\n",
        "fig, (ax1, ax2) = plt.subplots(ncols=2, figsize=(10, 4))\n",
        "\n",
        "# Invokes helper function to generate density image plots from data and parameters\n",
        "im = plot_density_image(x, y, 1.2, ax=ax1)\n",
        "plt.colorbar(im, ax=ax1)\n",
        "ax1.axvline(8, color='k')\n",
        "ax1.set(title=r'p(y | x, $\\theta$=1.2)')\n",
        "\n",
        "# Plot pdf for given x\n",
        "ylim = ax1.get_ylim()\n",
        "yy = np.linspace(ylim[0], ylim[1], 50)\n",
        "ax2.plot(yy, stats.norm(theta * 8, 1).pdf(yy), color='orange', linewidth=2)\n",
        "ax2.set(\n",
        "    title=r'p(y|x=8, $\\theta$=1.2)',\n",
        "    xlabel='y',\n",
        "    ylabel='probability density');"
      ]
    },
    {
      "cell_type": "markdown",
      "metadata": {
        "execution": {},
        "id": "GfPdKbY_G7tJ"
      },
      "source": [
        "## Section 1.3: Likelihood Estimation\n",
        "\n",
        "*Estimated timing to here from start of tutorial: 15 min*\n",
        "\n",
        "Now that we have our probabilistic model, we turn back to our original challenge of finding a good estimate for $\\theta$ that fits our data. Given the inherent uncertainty when dealing in probabilities, we talk about the [likelihood](https://en.wikipedia.org/wiki/Likelihood_function) that some estimate $\\hat{\\theta}$ fits our data. The likelihood function $\\mathcal{L}(\\theta)$ is equal to the probability density function parameterized by that $\\theta$:\n",
        "\n",
        "\\begin{align}\n",
        "\\mathcal{L}(\\theta|x,y) = p(y|x,\\theta) = \\frac{1}{\\sqrt{2\\pi\\sigma^2}}e^{-\\frac{1}{2\\sigma^2}(y-\\theta x)^2}\n",
        "\\end{align}"
      ]
    },
    {
      "cell_type": "markdown",
      "metadata": {
        "execution": {},
        "id": "mzuNXo2GG7tJ"
      },
      "source": [
        "### Coding Exercise 1.3: Likelihood Function\n",
        "\n",
        "In this exercise you will implement the likelihood function $\\mathcal{L}(\\theta|x, y)$ for our linear model where $\\sigma = 1$.\n",
        "\n",
        "After implementing this function, we can produce probabilities that our estimate $\\hat{\\theta}$ generated the provided observations. We will try with one of the samples from our dataset.\n",
        "\n",
        "TIP: Use `np.exp` and `np.sqrt` for the exponential and square root functions, respectively."
      ]
    },
    {
      "cell_type": "code",
      "execution_count": null,
      "metadata": {
        "execution": {},
        "id": "-OG0S10EG7tJ"
      },
      "outputs": [],
      "source": [
        "def likelihood(theta_hat, x, y):\n",
        "  \"\"\"The likelihood function for a linear model with noise sampled from a\n",
        "    Gaussian distribution with zero mean and unit variance.\n",
        "\n",
        "  Args:\n",
        "    theta_hat (float): An estimate of the slope parameter.\n",
        "    x (ndarray): An array of shape (samples,) that contains the input values.\n",
        "    y (ndarray): An array of shape (samples,) that contains the corresponding\n",
        "      measurement values to the inputs.\n",
        "\n",
        "  Returns:\n",
        "    ndarray: the likelihood values for the theta_hat estimate\n",
        "  \"\"\"\n",
        "  sigma = 1\n",
        "  ##############################################################################\n",
        "  ## TODO for students: implement the likelihood function\n",
        "  # Fill out function and remove\n",
        "  raise NotImplementedError(\"Student exercise: implement the likelihood function\")\n",
        "  ##############################################################################\n",
        "\n",
        "  # Compute Gaussian likelihood\n",
        "  pdf = ...\n",
        "\n",
        "  return pdf\n",
        "\n",
        "\n",
        "print(likelihood(1.0, x[1], y[1]))"
      ]
    },
    {
      "cell_type": "markdown",
      "metadata": {
        "execution": {},
        "id": "qZrmQ1PsG7tK"
      },
      "source": [
        "We should see that $\\mathcal{L}(\\theta=1.0|x=2.1,y=3.7) \\approx 0.11$. So far so good, but how does this tell us how this estimate is better than any others?\n",
        "\n",
        "When dealing with a set of data points, as we are with our dataset, we are concerned with their joint probability -- the likelihood that all data points are explained by our parameterization. Since we have assumed that the noise affects each output independently, we can factorize the likelihood, and write:\n",
        "\n",
        "\\begin{align}\n",
        "\\mathcal{L}(\\theta|\\mathbf{x}, \\mathbf{y}) = \\prod_{i=1}^N \\mathcal{L}(\\theta|x_i,y_i),\n",
        "\\end{align}\n",
        "\n",
        "where we have $N$ data points $\\mathbf{x} = [x_1,...,x_N]$ and $\\mathbf{y} = [y_1,...,y_N]$.\n",
        "\n",
        "\n",
        "In practice, such a product can be numerically unstable. Indeed multiplying small values together can lead to [underflow](https://en.wikipedia.org/wiki/Arithmetic_underflow), the situation in which the digital representation of floating point number reaches its limit. This problem can be circumvented by taking the logarithm of the likelihood because the logarithm transforms products into sums:\n",
        "\n",
        "\\begin{align}\n",
        "\\log\\mathcal{L}(\\theta|\\mathbf{x}, \\mathbf{y}) = \\sum_{i=1}^N \\log\\mathcal{L}(\\theta|x_i,y_i)\n",
        "\\end{align}\n",
        "\n",
        "We can take the sum of the log of the output of our `likelihood` method applied to the full dataset to get a better idea of how different $\\hat{\\theta}$ compare. We can also plot the different distribution densities over our dataset and see how they line up qualitatively."
      ]
    },
    {
      "cell_type": "code",
      "execution_count": null,
      "metadata": {
        "cellView": "form",
        "execution": {},
        "id": "zGlIm4XnG7tK"
      },
      "outputs": [],
      "source": [
        "# @markdown Execute this cell to visualize different distribution densities\n",
        "theta_hats = [0.5, 1.0, 2.2]\n",
        "fig, axes = plt.subplots(ncols=3, figsize=(16, 4))\n",
        "for theta_hat, ax in zip(theta_hats, axes):\n",
        "  ll = np.sum(np.log(likelihood(theta_hat, x, y)))  # log likelihood\n",
        "  im = plot_density_image(x, y, theta_hat, ax=ax)\n",
        "  ax.scatter(x, y)\n",
        "  ax.set(title=fr'$\\hat{{\\theta}}$ = {theta_hat}, log likelihood: {ll:.2f}')\n",
        "plt.colorbar(im, ax=ax);"
      ]
    },
    {
      "cell_type": "markdown",
      "metadata": {
        "execution": {},
        "id": "davoFIjxG7tK"
      },
      "source": [
        "Using the log likelihood calculation, we see that $\\mathcal{L}(\\theta=1.0) > \\mathcal{L}(\\theta=0.5) > \\mathcal{L}(\\theta=2.2)$.\n",
        "\n",
        "This is great: now we have a way to compare estimators based on likelihood. But like with the MSE approach, we want an analytic solution to find the best estimator. In this case, we want to find the estimator that maximizes the likelihood.\n"
      ]
    },
    {
      "cell_type": "markdown",
      "metadata": {
        "execution": {},
        "id": "PvVX4QpuG7tL"
      },
      "source": [
        "## Section 1.4: Finding the Maximum Likelihood Estimator\n",
        "\n",
        "*Estimated timing to here from start of tutorial: 23 min*\n",
        "\n",
        "<details>\n",
        "<summary> <font color='blue'>Click here for text recap of relevant part of video </font></summary>\n",
        "\n",
        "We want to find the parameter value $\\hat\\theta$ that makes our data set most likely:\n",
        "\n",
        "\\begin{align}\n",
        "\\hat{\\theta}_{\\textrm{MLE}} = \\underset{\\theta}{\\operatorname{argmax}} \\mathcal{L}(\\theta|X,Y) \n",
        "\\end{align}\n",
        "\n",
        "We discussed how taking the logarithm of the likelihood helps with numerical stability, the good thing is that it does so without changing the parameter value that maximizes the likelihood. Indeed, the $\\log()$ function is *monotonically increasing*, which means that it preserves the order of its inputs. So we have:\n",
        "\n",
        "\\begin{align}\n",
        "\\hat{\\theta}_{\\textrm{MLE}} = \\underset{\\theta}{\\operatorname{argmax}} \\sum_{i=1}^m \\textrm{log} \\mathcal{L}(\\theta|x_i,y_i) \n",
        "\\end{align}\n",
        "\n",
        "Now substituting our specific likelihood function and taking its logarithm, we get:\n",
        "\\begin{align}\n",
        "\\hat{\\theta}_{\\textrm{MLE}} = \\underset{\\theta}{\\operatorname{argmax}} [-\\frac{N}{2} \\operatorname{log} 2\\pi\\sigma^2 - \\frac{1}{2\\sigma^2}\\sum_{i=1}^N (y_i-\\theta x_i)^2].\n",
        "\\end{align}\n",
        "\n",
        "Note that maximizing the log likelihood is the same as minimizing the negative log likelihood (in practice optimization routines are developed to solve minimization not maximization problems). Because of the convexity of this objective function, we can take the derivative of our negative log likelihhood, set it to 0, and solve - just like our solution to minimizing MSE.\n",
        "\n",
        "\\begin{align}\n",
        "\\frac{\\partial\\operatorname{log}\\mathcal{L}(\\theta|x,y)}{\\partial\\theta}=\\frac{1}{\\sigma^2}\\sum_{i=1}^N(y_i-\\theta x_i)x_i = 0\n",
        "\\end{align}\n",
        "\n",
        "This looks remarkably like the equation we had to solve for the optimal MSE estimator, and, in fact, we arrive to the exact same solution!\n",
        "\n",
        "\\begin{align}\n",
        "\\hat{\\theta}_{\\textrm{MLE}} = \\hat{\\theta}_{\\textrm{MSE}} = \\frac{\\sum_{i=1}^N x_i y_i}{\\sum_{i=1}^N x_i^2}\n",
        "\\end{align}"
      ]
    },
    {
      "cell_type": "code",
      "execution_count": null,
      "metadata": {
        "execution": {},
        "id": "SRVJL8iJG7tL"
      },
      "outputs": [],
      "source": [
        "# Compute theta_hat_MLE\n",
        "theta_hat_mle = (x @ y) / (x @ x)"
      ]
    },
    {
      "cell_type": "code",
      "execution_count": null,
      "metadata": {
        "cellView": "form",
        "execution": {},
        "id": "J2ku5KIVG7tL"
      },
      "outputs": [],
      "source": [
        "#@title\n",
        "#@markdown Execute this cell to visualize density with theta_hat_mle\n",
        "\n",
        "# Plot the resulting distribution density\n",
        "fig, ax = plt.subplots()\n",
        "ll = np.sum(np.log(likelihood(theta_hat_mle, x, y))) # log likelihood\n",
        "im = plot_density_image(x, y, theta_hat_mle, ax=ax)\n",
        "plt.colorbar(im, ax=ax);\n",
        "ax.scatter(x, y)\n",
        "ax.set(title=fr'$\\hat{{\\theta}}$ = {theta_hat_mle:.2f}, log likelihood: {ll:.2f}');"
      ]
    },
    {
      "cell_type": "markdown",
      "metadata": {
        "execution": {},
        "id": "WvJVY_TfG7tL"
      },
      "source": [
        "---\n",
        "# Summary\n",
        "\n",
        "*Estimated timing of tutorial: 30 minutes*\n",
        "\n",
        "\n",
        "Likelihood vs probability:\n",
        "\n",
        "  - $\\mathcal{L}(\\theta|x, y) = p(y|x, \\theta)$\n",
        "  - $p(y|x, \\theta)$ -> \"probability of observing the response $y$ given parameter $\\theta$ and input $x$\"\n",
        "  - $\\mathcal{L}(\\theta|x, y)$ -> \"likelihood model that parameters $\\theta$ produced response $y$ from input $x$\"\n",
        "\n",
        "Log-likelihood maximization:\n",
        "\n",
        "  - We take the $\\log$ of the likelihood function for computational convenience\n",
        "  - The parameters $\\theta$ that maximize $\\log\\mathcal{L}(\\theta|x, y)$ are the model parameters that maximize the probability of observing the data.\n",
        "\n",
        "**Key point**: the log-likelihood is a flexible cost function, and is often used to find model parameters that best fit the data."
      ]
    },
    {
      "cell_type": "markdown",
      "metadata": {
        "execution": {},
        "id": "6Ls_ehS3G7tL"
      },
      "source": [
        "\n",
        "---\n",
        "# Notation\n",
        "\n",
        "\\begin{align}\n",
        "x &\\quad \\text{input, independent variable}\\\\\n",
        "y &\\quad \\text{response measurement, dependent variable}\\\\\n",
        "\\mathbf{x} &\\quad \\text{vector of input values}\\\\\n",
        "\\mathbf{y} &\\quad \\text{vector of measurements}\\\\\n",
        "\\epsilon &\\quad \\text{measurement error, noise contribution}\\\\\n",
        "\\epsilon \\sim \\mathcal{N}(\\mu, \\sigma^2) &\\quad \\text{random variable } \\epsilon \\text{ is distributed according to a Gaussian distribution, with mean } \\mu \\text{ and variance } \\sigma^2\\\\\n",
        "\\mu &\\quad \\text{mean}\\\\\n",
        "\\sigma^2 &\\quad \\text{variance}\\\\\n",
        "\\sigma &\\quad \\text{standard deviation}\\\\\n",
        "\\theta &\\quad \\text{parameter}\\\\\n",
        "\\hat{\\theta} &\\quad \\text{estimate of parameter}\\\\\n",
        "\\mathcal{L}(\\theta|x, y) &\\quad \\text{likelihood of that parameter } \\theta \\text{ producing response } y \\text{ from input } x \\\\ \n",
        "p(y|x, \\theta) &\\quad \\text{probability of observing the response } y \\text{ given input } x \\text{ and parameter } \\theta \\\\ \n",
        "\\end{align}"
      ]
    },
    {
      "cell_type": "markdown",
      "metadata": {
        "execution": {},
        "id": "QVmR-By3G7tM"
      },
      "source": [
        "---\n",
        "# Bonus"
      ]
    },
    {
      "cell_type": "markdown",
      "metadata": {
        "execution": {},
        "id": "TFVz_KFyG7tM"
      },
      "source": [
        "We can also see $\\mathrm{p}(\\mathrm{y} | \\mathrm{x}, \\theta)$ as a function of $x$. This is the stimulus likelihood function, and it is useful in case we want to decode the input $x$ from observed responses $y$. This is what is relevant from the point of view of a neuron that does not have access to the outside world and tries to infer what's out there from the responses of other neurons!\n",
        "\n",
        "\n",
        "\n"
      ]
    }
  ],
  "metadata": {
    "celltoolbar": "Slideshow",
    "colab": {
      "collapsed_sections": [],
      "name": "Module_4_Tutorial_1",
      "provenance": [],
      "include_colab_link": true
    },
    "kernel": {
      "display_name": "Python 3",
      "language": "python",
      "name": "python3"
    },
    "kernelspec": {
      "display_name": "Python 3",
      "language": "python",
      "name": "python3"
    },
    "language_info": {
      "codemirror_mode": {
        "name": "ipython",
        "version": 3
      },
      "file_extension": ".py",
      "mimetype": "text/x-python",
      "name": "python",
      "nbconvert_exporter": "python",
      "pygments_lexer": "ipython3",
      "version": "3.7.12"
    },
    "widgets": {
      "application/vnd.jupyter.widget-state+json": {
        "5a6bf15e553a472789d07bf400e19640": {
          "model_module": "@jupyter-widgets/controls",
          "model_name": "TabModel",
          "model_module_version": "1.5.0",
          "state": {
            "_view_name": "TabView",
            "_dom_classes": [],
            "_titles": {
              "0": "Youtube"
            },
            "_model_name": "TabModel",
            "_view_module": "@jupyter-widgets/controls",
            "selected_index": 0,
            "_model_module_version": "1.5.0",
            "_view_count": null,
            "_view_module_version": "1.5.0",
            "box_style": "",
            "layout": "IPY_MODEL_f8fec86b1cc64c7d9a7ea4023d6c0bb9",
            "_model_module": "@jupyter-widgets/controls",
            "children": [
              "IPY_MODEL_6b70f8f0505648d2af4ae1d4f67d6a14"
            ]
          }
        },
        "f8fec86b1cc64c7d9a7ea4023d6c0bb9": {
          "model_module": "@jupyter-widgets/base",
          "model_name": "LayoutModel",
          "model_module_version": "1.2.0",
          "state": {
            "_view_name": "LayoutView",
            "grid_template_rows": null,
            "right": null,
            "justify_content": null,
            "_view_module": "@jupyter-widgets/base",
            "overflow": null,
            "_model_module_version": "1.2.0",
            "_view_count": null,
            "flex_flow": null,
            "width": null,
            "min_width": null,
            "border": null,
            "align_items": null,
            "bottom": null,
            "_model_module": "@jupyter-widgets/base",
            "top": null,
            "grid_column": null,
            "overflow_y": null,
            "overflow_x": null,
            "grid_auto_flow": null,
            "grid_area": null,
            "grid_template_columns": null,
            "flex": null,
            "_model_name": "LayoutModel",
            "justify_items": null,
            "grid_row": null,
            "max_height": null,
            "align_content": null,
            "visibility": null,
            "align_self": null,
            "height": null,
            "min_height": null,
            "padding": null,
            "grid_auto_rows": null,
            "grid_gap": null,
            "max_width": null,
            "order": null,
            "_view_module_version": "1.2.0",
            "grid_template_areas": null,
            "object_position": null,
            "object_fit": null,
            "grid_auto_columns": null,
            "margin": null,
            "display": null,
            "left": null
          }
        },
        "6b70f8f0505648d2af4ae1d4f67d6a14": {
          "model_module": "@jupyter-widgets/output",
          "model_name": "OutputModel",
          "model_module_version": "1.0.0",
          "state": {
            "_view_name": "OutputView",
            "msg_id": "",
            "_dom_classes": [],
            "_model_name": "OutputModel",
            "outputs": [
              {
                "output_type": "stream",
                "name": "stdout",
                "text": [
                  "Video available at https://youtube.com/watch?v=liTs_2PhiTU\n"
                ]
              },
              {
                "output_type": "display_data",
                "data": {
                  "text/html": "\n        <iframe\n            width=\"854\"\n            height=\"480\"\n            src=\"https://www.youtube.com/embed/liTs_2PhiTU?fs=1&rel=0\"\n            frameborder=\"0\"\n            allowfullscreen\n        ></iframe>\n        ",
                  "text/plain": "<IPython.lib.display.YouTubeVideo at 0x7f63964efed0>",
                  "image/jpeg": "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\n"
                },
                "metadata": {}
              }
            ],
            "_view_module": "@jupyter-widgets/output",
            "_model_module_version": "1.0.0",
            "_view_count": null,
            "_view_module_version": "1.0.0",
            "layout": "IPY_MODEL_4af7ed809bcb4dbc8c4e48cb16663c63",
            "_model_module": "@jupyter-widgets/output"
          }
        },
        "4af7ed809bcb4dbc8c4e48cb16663c63": {
          "model_module": "@jupyter-widgets/base",
          "model_name": "LayoutModel",
          "model_module_version": "1.2.0",
          "state": {
            "_view_name": "LayoutView",
            "grid_template_rows": null,
            "right": null,
            "justify_content": null,
            "_view_module": "@jupyter-widgets/base",
            "overflow": null,
            "_model_module_version": "1.2.0",
            "_view_count": null,
            "flex_flow": null,
            "width": null,
            "min_width": null,
            "border": null,
            "align_items": null,
            "bottom": null,
            "_model_module": "@jupyter-widgets/base",
            "top": null,
            "grid_column": null,
            "overflow_y": null,
            "overflow_x": null,
            "grid_auto_flow": null,
            "grid_area": null,
            "grid_template_columns": null,
            "flex": null,
            "_model_name": "LayoutModel",
            "justify_items": null,
            "grid_row": null,
            "max_height": null,
            "align_content": null,
            "visibility": null,
            "align_self": null,
            "height": null,
            "min_height": null,
            "padding": null,
            "grid_auto_rows": null,
            "grid_gap": null,
            "max_width": null,
            "order": null,
            "_view_module_version": "1.2.0",
            "grid_template_areas": null,
            "object_position": null,
            "object_fit": null,
            "grid_auto_columns": null,
            "margin": null,
            "display": null,
            "left": null
          }
        },
        "1cffd4ccdae54039b76ead26e65cbf21": {
          "model_module": "@jupyter-widgets/controls",
          "model_name": "TabModel",
          "model_module_version": "1.5.0",
          "state": {
            "_view_name": "TabView",
            "_dom_classes": [],
            "_titles": {
              "0": "Calendar"
            },
            "_model_name": "TabModel",
            "_view_module": "@jupyter-widgets/controls",
            "selected_index": 0,
            "_model_module_version": "1.5.0",
            "_view_count": null,
            "_view_module_version": "1.5.0",
            "box_style": "",
            "layout": "IPY_MODEL_f7141cebf2f048f982eededdc3537861",
            "_model_module": "@jupyter-widgets/controls",
            "children": [
              "IPY_MODEL_d73b81d96eae480b9ed9d2dfee7a60b4"
            ]
          }
        },
        "f7141cebf2f048f982eededdc3537861": {
          "model_module": "@jupyter-widgets/base",
          "model_name": "LayoutModel",
          "model_module_version": "1.2.0",
          "state": {
            "_view_name": "LayoutView",
            "grid_template_rows": null,
            "right": null,
            "justify_content": null,
            "_view_module": "@jupyter-widgets/base",
            "overflow": null,
            "_model_module_version": "1.2.0",
            "_view_count": null,
            "flex_flow": null,
            "width": null,
            "min_width": null,
            "border": null,
            "align_items": null,
            "bottom": null,
            "_model_module": "@jupyter-widgets/base",
            "top": null,
            "grid_column": null,
            "overflow_y": null,
            "overflow_x": null,
            "grid_auto_flow": null,
            "grid_area": null,
            "grid_template_columns": null,
            "flex": null,
            "_model_name": "LayoutModel",
            "justify_items": null,
            "grid_row": null,
            "max_height": null,
            "align_content": null,
            "visibility": null,
            "align_self": null,
            "height": null,
            "min_height": null,
            "padding": null,
            "grid_auto_rows": null,
            "grid_gap": null,
            "max_width": null,
            "order": null,
            "_view_module_version": "1.2.0",
            "grid_template_areas": null,
            "object_position": null,
            "object_fit": null,
            "grid_auto_columns": null,
            "margin": null,
            "display": null,
            "left": null
          }
        },
        "d73b81d96eae480b9ed9d2dfee7a60b4": {
          "model_module": "@jupyter-widgets/output",
          "model_name": "OutputModel",
          "model_module_version": "1.0.0",
          "state": {
            "_view_name": "OutputView",
            "msg_id": "",
            "_dom_classes": [],
            "_model_name": "OutputModel",
            "outputs": [
              {
                "output_type": "display_data",
                "data": {
                  "text/html": "\n        <iframe\n            width=\"600\"\n            height=\"480\"\n            src=\"https://calendar.google.com/calendar/embed?src=356b9d2nspjttvgbb3tvgk2f58%40group.calendar.google.com&ctz=America%2FNew_York\"\n            frameborder=\"0\"\n            allowfullscreen\n        ></iframe>\n        ",
                  "text/plain": "<IPython.lib.display.IFrame at 0x7f639adb8610>"
                },
                "metadata": {}
              }
            ],
            "_view_module": "@jupyter-widgets/output",
            "_model_module_version": "1.0.0",
            "_view_count": null,
            "_view_module_version": "1.0.0",
            "layout": "IPY_MODEL_1514270a166d45299bc217f33faf7167",
            "_model_module": "@jupyter-widgets/output"
          }
        },
        "1514270a166d45299bc217f33faf7167": {
          "model_module": "@jupyter-widgets/base",
          "model_name": "LayoutModel",
          "model_module_version": "1.2.0",
          "state": {
            "_view_name": "LayoutView",
            "grid_template_rows": null,
            "right": null,
            "justify_content": null,
            "_view_module": "@jupyter-widgets/base",
            "overflow": null,
            "_model_module_version": "1.2.0",
            "_view_count": null,
            "flex_flow": null,
            "width": null,
            "min_width": null,
            "border": null,
            "align_items": null,
            "bottom": null,
            "_model_module": "@jupyter-widgets/base",
            "top": null,
            "grid_column": null,
            "overflow_y": null,
            "overflow_x": null,
            "grid_auto_flow": null,
            "grid_area": null,
            "grid_template_columns": null,
            "flex": null,
            "_model_name": "LayoutModel",
            "justify_items": null,
            "grid_row": null,
            "max_height": null,
            "align_content": null,
            "visibility": null,
            "align_self": null,
            "height": null,
            "min_height": null,
            "padding": null,
            "grid_auto_rows": null,
            "grid_gap": null,
            "max_width": null,
            "order": null,
            "_view_module_version": "1.2.0",
            "grid_template_areas": null,
            "object_position": null,
            "object_fit": null,
            "grid_auto_columns": null,
            "margin": null,
            "display": null,
            "left": null
          }
        }
      }
    }
  },
  "nbformat": 4,
  "nbformat_minor": 0
}