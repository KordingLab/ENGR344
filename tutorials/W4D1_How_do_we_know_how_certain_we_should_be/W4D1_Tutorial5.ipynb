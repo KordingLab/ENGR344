{
  "cells": [
    {
      "cell_type": "markdown",
      "metadata": {
        "id": "view-in-github",
        "colab_type": "text"
      },
      "source": [
        "<a href=\"https://colab.research.google.com/github/KordingLab/ENGR344/blob/master/tutorials/W4D1_How_do_we_know_how_certain_we_should_be/W4D1_Tutorial5.ipynb\" target=\"_parent\"><img src=\"https://colab.research.google.com/assets/colab-badge.svg\" alt=\"Open In Colab\"/></a>"
      ]
    },
    {
      "cell_type": "markdown",
      "metadata": {
        "execution": {},
        "id": "EwsdTAOEG9YZ"
      },
      "source": [
        "# Tutorial 5: Model Selection: Cross-validation\n",
        "**Module 4: How do we know how certain we should be?**\n",
        "\n",
        "**Originally By Neuromatch Academy**\n",
        "\n",
        "**Content creators**: Pierre-Étienne Fiquet, Anqi Wu, Alex Hyafil  with help from Byron Galbraith\n",
        "\n",
        "**Content reviewers**: Lina Teichmann, Madineh Sarvestani, Patrick Mineault, Ella Batty, Michael Waskom\n",
        "\n",
        "**Content Modifiers**: Konrad Kording, Ilenna Jones\n"
      ]
    },
    {
      "cell_type": "markdown",
      "metadata": {
        "execution": {},
        "id": "g_QHamEbG9Yc"
      },
      "source": [
        "**Our 2021 Sponsors, including Presenting Sponsor Facebook Reality Labs**\n",
        "\n",
        "<p align='center'><img src='https://github.com/NeuromatchAcademy/widgets/blob/master/sponsors.png?raw=True'/></p>"
      ]
    },
    {
      "cell_type": "code",
      "source": [
        "# @title Due Dates Calendar\n",
        "\n",
        "from ipywidgets import widgets\n",
        "from IPython.display import display, IFrame, YouTubeVideo\n",
        "\n",
        "\n",
        "out1 = widgets.Output()\n",
        "with out1:\n",
        "  calendar = IFrame(src=\"https://calendar.google.com/calendar/embed?src=356b9d2nspjttvgbb3tvgk2f58%40group.calendar.google.com&ctz=America%2FNew_York\", width=600, height=480)\n",
        "  display(calendar)\n",
        "\n",
        "out = widgets.Tab([out1])\n",
        "out.set_title(0, 'Calendar')\n",
        "\n",
        "display(out)"
      ],
      "metadata": {
        "colab": {
          "base_uri": "https://localhost:8080/",
          "height": 563,
          "referenced_widgets": [
            "b553f35d8055493da65b84362a3f99b1",
            "0a59e0213ad048ecb541cbc252416648",
            "cac9e285cb434b778bb9b9340cba4104",
            "e225b2b970c24d168cb859b20e7530a9"
          ]
        },
        "cellView": "form",
        "id": "L_vl-lFEOxea",
        "outputId": "1f4f1ef8-0c97-4f51-ebcb-a0233105fd95"
      },
      "execution_count": null,
      "outputs": [
        {
          "output_type": "display_data",
          "data": {
            "application/vnd.jupyter.widget-view+json": {
              "model_id": "b553f35d8055493da65b84362a3f99b1",
              "version_minor": 0,
              "version_major": 2
            },
            "text/plain": [
              "Tab(children=(Output(),), _titles={'0': 'Calendar'})"
            ]
          },
          "metadata": {}
        }
      ]
    },
    {
      "cell_type": "markdown",
      "metadata": {
        "execution": {},
        "id": "6eVb-98UG9Yc"
      },
      "source": [
        "---\n",
        "# Tutorial Objectives\n",
        "\n",
        "*Estimated timing of tutorial: 25 minutes*\n",
        "\n",
        "This is Tutorial 6 of a series on fitting models to data. We start with simple linear regression, using least squares optimization (Tutorial 1) and Maximum Likelihood Estimation (Tutorial 2). We will use bootstrapping to build confidence intervals around the inferred linear model parameters (Tutorial 3). We'll finish our exploration of regression models by generalizing to multiple linear regression and polynomial regression (Tutorial 4). We end by learning how to choose between these various models. We discuss the bias-variance trade-off (Tutorial 5) and Cross Validation for model selection (Tutorial 6).\n",
        "\n",
        "Tutorial objectives:\n",
        "* Implement cross-validation and use it to compare polynomial regression model"
      ]
    },
    {
      "cell_type": "code",
      "execution_count": null,
      "metadata": {
        "cellView": "form",
        "execution": {},
        "id": "mgLio_UtG9Yd"
      },
      "outputs": [],
      "source": [
        "# @title Tutorial slides\n",
        "\n",
        "# @markdown These are the slides for the videos in all tutorials today\n",
        "from IPython.display import IFrame\n",
        "IFrame(src=f\"https://mfr.ca-1.osf.io/render?url=https://osf.io/2mkq4/?direct%26mode=render%26action=download%26mode=render\", width=854, height=480)"
      ]
    },
    {
      "cell_type": "markdown",
      "metadata": {
        "execution": {},
        "id": "fI7sPtUSG9Ye"
      },
      "source": [
        "---\n",
        "# Setup"
      ]
    },
    {
      "cell_type": "code",
      "execution_count": null,
      "metadata": {
        "cellView": "both",
        "execution": {},
        "id": "Kb9x1coQG9Ye"
      },
      "outputs": [],
      "source": [
        "# Imports\n",
        "\n",
        "import numpy as np\n",
        "import matplotlib.pyplot as plt\n",
        "from sklearn.model_selection import KFold"
      ]
    },
    {
      "cell_type": "code",
      "execution_count": null,
      "metadata": {
        "cellView": "form",
        "execution": {},
        "id": "Ax8C5QCPG9Yf"
      },
      "outputs": [],
      "source": [
        "#@title Figure Settings\n",
        "%config InlineBackend.figure_format = 'retina'\n",
        "plt.style.use(\"https://raw.githubusercontent.com/NeuromatchAcademy/course-content/master/nma.mplstyle\")"
      ]
    },
    {
      "cell_type": "code",
      "execution_count": null,
      "metadata": {
        "cellView": "form",
        "execution": {},
        "id": "gFonQsz1G9Yf"
      },
      "outputs": [],
      "source": [
        "# @title Plotting Functions\n",
        "\n",
        "\n",
        "def plot_cross_validate_MSE(mse_all):\n",
        "  \"\"\" Plot the MSE values for the K_fold cross validation\n",
        "\n",
        "  Args:\n",
        "    mse_all (ndarray): an array of size (number of splits, max_order + 1)\n",
        "  \"\"\"\n",
        "  plt.figure()\n",
        "  plt.boxplot(mse_all, labels=np.arange(0, max_order + 1))\n",
        "\n",
        "  plt.xlabel('Polynomial Order')\n",
        "  plt.ylabel('Validation MSE')\n",
        "  plt.title(f'Validation MSE over {n_splits} splits of the data')\n",
        "\n",
        "\n",
        "def plot_AIC(order_list, AIC_list):\n",
        "  \"\"\" Plot the AIC value for fitted polynomials of various orders\n",
        "\n",
        "  Args:\n",
        "    order_list (list): list of fitted polynomial orders\n",
        "    AIC_list (list): list of AIC values corresponding to each polynomial model on order_list\n",
        "  \"\"\"\n",
        "  plt.bar(order_list, AIC_list)\n",
        "  plt.ylabel('AIC')\n",
        "  plt.xlabel('polynomial order')\n",
        "  plt.title('comparing polynomial fits')\n",
        "  plt.show()"
      ]
    },
    {
      "cell_type": "code",
      "execution_count": null,
      "metadata": {
        "cellView": "form",
        "execution": {},
        "id": "iTDuFl6qG9Yg"
      },
      "outputs": [],
      "source": [
        "# @title Helper Functions\n",
        "\n",
        "def ordinary_least_squares(x, y):\n",
        "  \"\"\"Ordinary least squares estimator for linear regression.\n",
        "\n",
        "  Args:\n",
        "    x (ndarray): design matrix of shape (n_samples, n_regressors)\n",
        "    y (ndarray): vector of measurements of shape (n_samples)\n",
        "\n",
        "  Returns:\n",
        "    ndarray: estimated parameter values of shape (n_regressors)\n",
        "  \"\"\"\n",
        "\n",
        "  return np.linalg.inv(x.T @ x) @ x.T @ y\n",
        "\n",
        "def make_design_matrix(x, order):\n",
        "  \"\"\"Create the design matrix of inputs for use in polynomial regression\n",
        "\n",
        "  Args:\n",
        "    x (ndarray): input vector of shape (n_samples)\n",
        "    order (scalar): polynomial regression order\n",
        "\n",
        "  Returns:\n",
        "    ndarray: design matrix for polynomial regression of shape (samples, order+1)\n",
        "  \"\"\"\n",
        "\n",
        "  # Broadcast to shape (n x 1)\n",
        "  if x.ndim == 1:\n",
        "    x = x[:, None]\n",
        "\n",
        "  #if x has more than one feature, we don't want multiple columns of ones so we assign\n",
        "  # x^0 here\n",
        "  design_matrix = np.ones((x.shape[0], 1))\n",
        "\n",
        "  # Loop through rest of degrees and stack columns\n",
        "  for degree in range(1, order + 1):\n",
        "      design_matrix = np.hstack((design_matrix, x**degree))\n",
        "\n",
        "  return design_matrix\n",
        "\n",
        "\n",
        "def solve_poly_reg(x, y, max_order):\n",
        "  \"\"\"Fit a polynomial regression model for each order 0 through max_order.\n",
        "\n",
        "  Args:\n",
        "    x (ndarray): input vector of shape (n_samples)\n",
        "    y (ndarray): vector of measurements of shape (n_samples)\n",
        "    max_order (scalar): max order for polynomial fits\n",
        "\n",
        "  Returns:\n",
        "    dict: fitted weights for each polynomial model (dict key is order)\n",
        "  \"\"\"\n",
        "\n",
        "  # Create a dictionary with polynomial order as keys, and np array of theta\n",
        "  # (weights) as the values\n",
        "  theta_hats = {}\n",
        "\n",
        "  # Loop over polynomial orders from 0 through max_order\n",
        "  for order in range(max_order + 1):\n",
        "\n",
        "    X = make_design_matrix(x, order)\n",
        "    this_theta = ordinary_least_squares(X, y)\n",
        "\n",
        "    theta_hats[order] = this_theta\n",
        "\n",
        "  return theta_hats\n",
        "\n",
        "def evaluate_poly_reg(x, y, theta_hats, max_order):\n",
        "    \"\"\" Evaluates MSE of polynomial regression models on data\n",
        "\n",
        "    Args:\n",
        "      x (ndarray): input vector of shape (n_samples)\n",
        "      y (ndarray): vector of measurements of shape (n_samples)\n",
        "      theta_hat (dict):  fitted weights for each polynomial model (dict key is order)\n",
        "      max_order (scalar): max order of polynomial fit\n",
        "\n",
        "    Returns\n",
        "      (ndarray): mean squared error for each order, shape (max_order)\n",
        "    \"\"\"\n",
        "\n",
        "    mse = np.zeros((max_order + 1))\n",
        "    for order in range(0, max_order + 1):\n",
        "      X_design = make_design_matrix(x, order)\n",
        "      y_hat = np.dot(X_design, theta_hats[order])\n",
        "      residuals = y - y_hat\n",
        "      mse[order] = np.mean(residuals ** 2)\n",
        "\n",
        "    return mse"
      ]
    },
    {
      "cell_type": "markdown",
      "metadata": {
        "execution": {},
        "id": "vBGjKB_GG9Yg"
      },
      "source": [
        "---\n",
        "# Section 1: Cross-validation\n",
        "\n"
      ]
    },
    {
      "cell_type": "code",
      "execution_count": null,
      "metadata": {
        "cellView": "form",
        "execution": {},
        "id": "-d9qsa7hG9Yh",
        "colab": {
          "base_uri": "https://localhost:8080/",
          "height": 581,
          "referenced_widgets": [
            "46757ec427494ef69e0042361f35eb06",
            "cf5a56c1ffe3446aa89ea10183595a24",
            "3a2afc5745fb45d4b14daccf2e5d8450",
            "c53090d9e6734e66b5f3c66ac9093981"
          ]
        },
        "outputId": "5c0812c4-da41-4022-cefa-3cc3f77d53be"
      },
      "outputs": [
        {
          "output_type": "display_data",
          "data": {
            "application/vnd.jupyter.widget-view+json": {
              "model_id": "46757ec427494ef69e0042361f35eb06",
              "version_minor": 0,
              "version_major": 2
            },
            "text/plain": [
              "Tab(children=(Output(),), _titles={'0': 'Youtube'})"
            ]
          },
          "metadata": {}
        }
      ],
      "source": [
        "# @title Video 1: Cross-Validation\n",
        "from ipywidgets import widgets\n",
        "\n",
        "out1 = widgets.Output()\n",
        "with out1:\n",
        "  from IPython.display import YouTubeVideo\n",
        "  video = YouTubeVideo(id=\"Vwr3raFaURY\", width=854, height=480, fs=1, rel=0)\n",
        "  print('Video available at https://youtube.com/watch?v=' + video.id)\n",
        "  display(video)\n",
        "\n",
        "out = widgets.Tab([out1])\n",
        "out.set_title(0, 'Youtube')\n",
        "\n",
        "display(out)"
      ]
    },
    {
      "cell_type": "markdown",
      "metadata": {
        "execution": {},
        "id": "glCWob0ZG9Yh"
      },
      "source": [
        "We now have multiple choices for which model to use for a given problem: we could use linear regression, order 2 polynomial regression, order 3 polynomial regression, etc. As we saw in Tutorial 5, different models will have different quality of predictions, both on the training data and on the test data.\n",
        "\n",
        "A commonly used method for model selection is to asks how well the model predicts new data that it hasn't seen yet. But we don't want to use test data to do this, otherwise that would mean using it during the training process! One approach is to use another kind of held-out data which we call **validation data**: we do not fit the model with this data but we use it to select our best model.\n",
        "\n",
        "We often have a limited amount of data though (especially in neuroscience), so we do not want to further reduce our potential training data by reassigning some as validation. Luckily, we can use **k-fold cross-validation**! In k-fold cross validation, we divide up the training data into k subsets (that are called *folds*, see diagram below), train our model on the first k-1 folds, and then compute error on the last held-out fold. We can then repeat this process k times, once on each k-1 folds of the data. Each of these k instances (which are called *splits*, see diagram below) excludes a different fold from fitting. We then average the error of each of the k trained models on its held-out subset - this is the final measure of performance which we can use to do model selection. \n",
        "\n",
        "To make this explicit, let's say we have 1000 samples of training data and choose 4-fold cross-validation. Samples 0 - 250 would be subset 1, samples 250 - 500 subset 2, samples 500 - 750 subset 3, and samples 750-1000 subset 4. First, we train an order 3 polynomial regression on subsets 1, 2, 3 and evaluate on subset 4. Next, we train an order 3 polynomial model on subsets 1, 2, 4 and evalute on subset 3. We continue until we have 4 instances of a trained order 3 polynomial regression model, each with a different subset as held-out data, and average the held-out error from each instance.\n",
        "\n",
        "We can now compare the error of different models to pick a model that generalizes well to held-out data. We can choose the measure of prediction quality to report error on the held-out subsets to suit our purposes. We will use MSE here but we could also use log likelihood of the data and so on.\n",
        "\n",
        "As a final step, it is common to retrain this model on all of the training data (without subset divisions) to get our final model that we will evaluate on test data. This approach allows us to evaluate the quality of predictions on new data without sacrificing any of our precious training data. \n",
        "\n",
        "Note that the held-out subsets are called either validation or test subsets. There is not a consensus and may depend on the exact use of k-fold cross validation. Sometimes people use k-fold cross validation to choose between different models/parameters to then apply to held-out test data and sometimes people report the averaged error on the held-out subsets as the model performance.   If you are doing the former (using k-fold cross validation for model selection), you must report performance on held-out test data! In this text/code, we will refer to them as validation subsets to differentiate from our completely held-out test data (differing from the video above).\n"
      ]
    },
    {
      "cell_type": "markdown",
      "metadata": {
        "execution": {},
        "id": "x2g59G05G9Yh"
      },
      "source": [
        "These steps are summarized in this diagram from Scikit-learn (https://scikit-learn.org/stable/modules/cross_validation.html)\n",
        "\n",
        "![Diagram from Sklearn](https://scikit-learn.org/stable/_images/grid_search_cross_validation.png) "
      ]
    },
    {
      "cell_type": "markdown",
      "metadata": {
        "execution": {},
        "id": "sKSMCKtaG9Yh"
      },
      "source": [
        "Importantly, we need to be very careful when dividing the data into subsets.  The held-out subset should not be used in any way to fit the model. We should not do any preprocessing (e.g. normalization) before we divide into subsets or the held-out subset could influence the training subsets. A lot of false-positives in cross-validation come from wrongly dividing. \n",
        "\n",
        "An important consideration in the choice of model selection method are the relevant biases. If we just fit using MSE on training data, we will generally find that fits get better as we add more parameters because the model will overfit the data, as we saw in Tutorial 5. When using cross-validation, the bias is the other way around. Models with more parameters are more affected by variance so cross-validation will generally prefer models with fewer parameters.\n",
        "\n",
        "\n"
      ]
    },
    {
      "cell_type": "markdown",
      "metadata": {
        "execution": {},
        "id": "4e7SIO1tG9Yi"
      },
      "source": [
        "\n",
        "\n",
        "We will again simulate some train and test data and fit polynomial regression models\n"
      ]
    },
    {
      "cell_type": "code",
      "execution_count": null,
      "metadata": {
        "cellView": "form",
        "execution": {},
        "id": "h1ssXXh7G9Yi"
      },
      "outputs": [],
      "source": [
        "#@title\n",
        "#@markdown Execute this cell to simulate data and fit polynomial regression models\n",
        "\n",
        "### Generate training data\n",
        "np.random.seed(0)\n",
        "n_train_samples = 50\n",
        "x_train = np.random.uniform(-2, 2.5, n_train_samples)  # sample from a uniform distribution over [-2, 2.5)\n",
        "noise = np.random.randn(n_train_samples)  # sample from a standard normal distribution\n",
        "y_train = x_train**2 - x_train - 2 + noise\n",
        "\n",
        "### Generate testing data\n",
        "n_test_samples = 20\n",
        "x_test = np.random.uniform(-3, 3, n_test_samples)  # sample from a uniform distribution over [-2, 2.5)\n",
        "noise = np.random.randn(n_test_samples)  # sample from a standard normal distribution\n",
        "y_test = x_test**2 - x_test - 2 + noise\n",
        "\n",
        "### Fit polynomial regression models\n",
        "max_order = 5\n",
        "theta_hats = solve_poly_reg(x_train, y_train, max_order)"
      ]
    },
    {
      "cell_type": "markdown",
      "metadata": {
        "execution": {},
        "id": "jSUL7bnDG9Yi"
      },
      "source": [
        "## Coding Exercise 1: Implement cross-validation\n",
        "\n",
        "Given our set of models to evaluate (polynomial regression models with orders 0 through 5), we will use cross-validation to determine which model has the best predictions on new data according to MSE. \n",
        "\n",
        "In this code, we split the data into 10 subsets using `Kfold` (from `sklearn.model_selection`). `KFold` handles cross-validation subset splitting and train/val assignments.  In particular, the `Kfold.split` method returns an iterator which we can loop through. On each loop, this iterator assigns a different subset as validation and returns new training and validation indices with which to split the data. \n",
        "\n",
        "We will loop through the 10 train/validation splits and fit several different polynomial regression models (with different orders) for each split. You will need to use the `solve_poly_reg` method from Tutorial 4 and `evaluate_poly_reg` from Tutorial 5 (already implemented in this notebook).\n",
        "\n",
        "We will visualize the validation MSE over 10 splits of the data for each polynomial order using box plots."
      ]
    },
    {
      "cell_type": "code",
      "execution_count": null,
      "metadata": {
        "execution": {},
        "id": "3NJRsCPsG9Yi"
      },
      "outputs": [],
      "source": [
        "help(solve_poly_reg)"
      ]
    },
    {
      "cell_type": "code",
      "execution_count": null,
      "metadata": {
        "execution": {},
        "id": "1lIGViWJG9Yj"
      },
      "outputs": [],
      "source": [
        "help(evaluate_poly_reg)"
      ]
    },
    {
      "cell_type": "code",
      "execution_count": null,
      "metadata": {
        "execution": {},
        "id": "nLTM8CaHG9Yj"
      },
      "outputs": [],
      "source": [
        "def cross_validate(x_train, y_train, max_order, n_splits):\n",
        "  \"\"\" Compute MSE for k-fold validation for each order polynomial\n",
        "\n",
        "  Args:\n",
        "    x_train (ndarray): training data input vector of shape (n_samples)\n",
        "    y_train (ndarray): training vector of measurements of shape (n_samples)\n",
        "    max_order (scalar): max order of polynomial fit\n",
        "    n_split (scalar): number of folds for k-fold validation\n",
        "\n",
        "  Return:\n",
        "    ndarray: MSE over splits for each model order, shape (n_splits, max_order + 1)\n",
        "\n",
        "  \"\"\"\n",
        "\n",
        "  # Initialize the split method\n",
        "  kfold_iterator = KFold(n_splits)\n",
        "\n",
        "  # Initialize np array mse values for all models for each split\n",
        "  mse_all = np.zeros((n_splits, max_order + 1))\n",
        "\n",
        "  for i_split, (train_indices, val_indices) in enumerate(kfold_iterator.split(x_train)):\n",
        "\n",
        "      # Split up the overall training data into cross-validation training and validation sets\n",
        "      x_cv_train = x_train[train_indices]\n",
        "      y_cv_train = y_train[train_indices]\n",
        "      x_cv_val = x_train[val_indices]\n",
        "      y_cv_val = y_train[val_indices]\n",
        "\n",
        "      #############################################################################\n",
        "      ## TODO for students: Fill in missing ... in code below to choose which data\n",
        "      ## to fit to and compute MSE for\n",
        "      # Fill out function and remove\n",
        "      raise NotImplementedError(\"Student exercise: implement cross-validation\")\n",
        "      #############################################################################\n",
        "\n",
        "      # Fit models\n",
        "      theta_hats = ...\n",
        "\n",
        "      # Compute MSE\n",
        "      mse_this_split = ...\n",
        "\n",
        "      mse_all[i_split] = mse_this_split\n",
        "\n",
        "  return mse_all\n",
        "\n",
        "\n",
        "# Cross-validate\n",
        "max_order = 5\n",
        "n_splits = 10\n",
        "mse_all = cross_validate(x_train, y_train, max_order, n_splits)\n",
        "\n",
        "# Visualize\n",
        "plot_cross_validate_MSE(mse_all)"
      ]
    },
    {
      "cell_type": "markdown",
      "metadata": {
        "execution": {},
        "id": "bJ7drSNpG9Yj"
      },
      "source": [
        "Which polynomial order do you think is a better model of the data?"
      ]
    },
    {
      "cell_type": "markdown",
      "metadata": {
        "execution": {},
        "id": "xWu8QOhNG9Yj"
      },
      "source": [
        "---\n",
        "# Summary\n",
        "\n",
        "*Estimated timing of tutorial: 25 minutes*\n",
        "\n",
        "We need to use model selection methods to determine the best model to use for a given problem. \n",
        "\n",
        "Cross-validation focuses on how well the model predicts new data."
      ]
    },
    {
      "cell_type": "markdown",
      "metadata": {
        "execution": {},
        "id": "lMrG8MLEG9Yk"
      },
      "source": [
        "---\n",
        "# Bonus"
      ]
    },
    {
      "cell_type": "markdown",
      "metadata": {
        "execution": {},
        "id": "5rC-BO32G9Yk"
      },
      "source": [
        "---\n",
        "## Bonus Section 1: Akaike's Information Criterion (AIC)\n",
        "\n",
        "In order to choose the best model for a given problem, we can ask how likely the data is under a given model. We want to choose a model that assigns high probability to the data. A commonly used method for model selection that uses this approach is **Akaike’s Information Criterion (AIC)**.\n",
        "\n",
        "Essentially, AIC estimates how much information would be lost if the model predictions were used instead of the true data (the relative information value of the model). We compute the AIC for each model and choose the model with the lowest AIC. Note that AIC only tells us relative qualities, not absolute - we do not know from AIC how good our model is independent of others.\n",
        "\n",
        "AIC strives for a good tradeoff between overfitting and underfitting by taking into account the complexity of the model and the information lost. AIC is calculated as:\n",
        "\n",
        "\\begin{align}  \n",
        "\\mathrm{AIC} = 2K - 2 \\log(L)\n",
        "\\end{align}\n",
        "\n",
        "where $K$ is the number of parameters in your model and $L$ is the likelihood that the model could have produced the output data.\n"
      ]
    },
    {
      "cell_type": "markdown",
      "metadata": {
        "execution": {},
        "id": "gEuhr0wIG9Yk"
      },
      "source": [
        "Now we know what AIC is, we want to use it to pick between our polynomial regression models. We haven't been thinking in terms of likelihoods though - so how will we calculate L? \n",
        "\n",
        "As we saw in Tutorial 2, there is a link between mean squared error and the likelihood estimates for linear regression models that we can take advantage of. \n",
        "\n",
        "*Derivation time!*\n",
        "\n",
        "We start with our formula for AIC from above:\n",
        "\n",
        "\\begin{align} AIC = 2k - 2 \\log L \\end{align}\n",
        "\n",
        "For a model with normal errors, we can use the log likelihood of the normal distribution:\n",
        "\n",
        "\\begin{align}  \\log L = -\\frac{n}{2} \\log(2 \\pi) -\\frac{n}{2}\\log(\\sigma^2) - \\sum_i^N \\frac{1}{2 \\sigma^2} (y_i - \\tilde y_i)^2\n",
        "\\end{align} \n",
        "\n",
        "We can drop the first as it is a constant and we're only assessing relative information with AIC. The last term is actually also a constant: we don't know $\\sigma^2$ in advance so we use the empirical estimate from the residual ($\\hat{\\sigma}^2 = 1/N\\sum_i^N (y_i - \\tilde y_i)^2$). Once we plug this in, the two $\\sum [(y - \\tilde y)^2]$ terms (in the numerator and denominator, respectively) cancel out and we are left with the last term as $\\frac N 2$. \n",
        "\n",
        "Once we drop the constant terms and incorporate into the AIC formula we get:\n",
        "\n",
        "\\begin{align} \n",
        "\\mathrm{AIC} = 2k + n\\log(\\sigma^2)\n",
        "\\end{align}\n",
        "\n",
        "We can replace $\\sigma^2$ with the computation for variance (the sum of squared errors divided by number of samples). Thus, we end up with the following formula for AIC for linear and polynomial regression:\n",
        "\n",
        "\\begin{align}\n",
        "\\mathrm{AIC} = 2K + n \\log(\\frac{\\mathrm{SSE}}{n})\n",
        "\\end{align}\n",
        "\n",
        "where k is the number of parameters, n is the number of samples, and SSE is the summed squared error.\n"
      ]
    },
    {
      "cell_type": "markdown",
      "metadata": {
        "execution": {},
        "id": "McVVIXGMG9Yk"
      },
      "source": [
        "### Bonus Exercise 1: Compute AIC"
      ]
    },
    {
      "cell_type": "code",
      "execution_count": null,
      "metadata": {
        "execution": {},
        "id": "uMtAw3MVG9Yk"
      },
      "outputs": [],
      "source": [
        "AIC_list = []\n",
        "order_list = list(range(max_order + 1))\n",
        "\n",
        "for order in order_list:\n",
        "\n",
        "  # Compute predictions for this model\n",
        "  X_design = make_design_matrix(x_train, order)\n",
        "  y_hat = np.dot(X_design, theta_hats[order])\n",
        "\n",
        "  #############################################################################\n",
        "  ## TODO for students:\n",
        "  ## to fit to and compute MSE for\n",
        "  # Fill out function and remove\n",
        "  raise NotImplementedError(\"Student exercise: implement compute AIC\")\n",
        "  # 1) Compute sum of squared errors (SSE) given prediction y_hat and y_train\n",
        "  # 2) Identify number of parameters in this model (K in formula above)\n",
        "  # 3) Compute AIC (call this_AIC) according to formula above\n",
        "  #############################################################################\n",
        "\n",
        "  # Compute SSE\n",
        "  residuals = ...\n",
        "  sse = ...\n",
        "\n",
        "  # Get K\n",
        "  K = len(theta_hats[order])\n",
        "\n",
        "  # Compute AIC\n",
        "  AIC = ...\n",
        "\n",
        "  AIC_list.append(AIC)\n",
        "\n",
        "# Visualize\n",
        "plt.bar(order_list, AIC_list)\n",
        "\n",
        "plt.ylabel('AIC')\n",
        "plt.xlabel('polynomial order')\n",
        "plt.title('comparing polynomial fits')\n",
        "plt.show()"
      ]
    },
    {
      "cell_type": "markdown",
      "metadata": {
        "execution": {},
        "id": "NcEFYzv0G9Yk"
      },
      "source": [
        "Which model would we choose based on AIC? "
      ]
    },
    {
      "cell_type": "markdown",
      "source": [
        "## Submit\n",
        "Take the weekly survey/quiz and also submit your notebooks there. (Click the ?D logo below!)\n",
        "\n",
        "<a href=\"https://airtable.com/shrdlg2GPIzYkUBkq\"><img src=\"https://github.com/KordingLab/ENGR344/blob/master/tutorials/static_344/SubmitButton.jpg?raw=1\" alt=\"button link to survey\" style=\"width:410px\"></a>"
      ],
      "metadata": {
        "id": "RjIVaXIAP_aZ"
      }
    }
  ],
  "metadata": {
    "colab": {
      "collapsed_sections": [],
      "name": "Module_4_Tutorial_5",
      "provenance": [],
      "include_colab_link": true
    },
    "kernel": {
      "display_name": "Python 3",
      "language": "python",
      "name": "python3"
    },
    "kernelspec": {
      "display_name": "Python 3",
      "language": "python",
      "name": "python3"
    },
    "language_info": {
      "codemirror_mode": {
        "name": "ipython",
        "version": 3
      },
      "file_extension": ".py",
      "mimetype": "text/x-python",
      "name": "python",
      "nbconvert_exporter": "python",
      "pygments_lexer": "ipython3",
      "version": "3.7.12"
    },
    "toc-autonumbering": true,
    "widgets": {
      "application/vnd.jupyter.widget-state+json": {
        "46757ec427494ef69e0042361f35eb06": {
          "model_module": "@jupyter-widgets/controls",
          "model_name": "TabModel",
          "model_module_version": "1.5.0",
          "state": {
            "_view_name": "TabView",
            "_dom_classes": [],
            "_titles": {
              "0": "Youtube"
            },
            "_model_name": "TabModel",
            "_view_module": "@jupyter-widgets/controls",
            "selected_index": 0,
            "_model_module_version": "1.5.0",
            "_view_count": null,
            "_view_module_version": "1.5.0",
            "box_style": "",
            "layout": "IPY_MODEL_cf5a56c1ffe3446aa89ea10183595a24",
            "_model_module": "@jupyter-widgets/controls",
            "children": [
              "IPY_MODEL_3a2afc5745fb45d4b14daccf2e5d8450"
            ]
          }
        },
        "cf5a56c1ffe3446aa89ea10183595a24": {
          "model_module": "@jupyter-widgets/base",
          "model_name": "LayoutModel",
          "model_module_version": "1.2.0",
          "state": {
            "_view_name": "LayoutView",
            "grid_template_rows": null,
            "right": null,
            "justify_content": null,
            "_view_module": "@jupyter-widgets/base",
            "overflow": null,
            "_model_module_version": "1.2.0",
            "_view_count": null,
            "flex_flow": null,
            "width": null,
            "min_width": null,
            "border": null,
            "align_items": null,
            "bottom": null,
            "_model_module": "@jupyter-widgets/base",
            "top": null,
            "grid_column": null,
            "overflow_y": null,
            "overflow_x": null,
            "grid_auto_flow": null,
            "grid_area": null,
            "grid_template_columns": null,
            "flex": null,
            "_model_name": "LayoutModel",
            "justify_items": null,
            "grid_row": null,
            "max_height": null,
            "align_content": null,
            "visibility": null,
            "align_self": null,
            "height": null,
            "min_height": null,
            "padding": null,
            "grid_auto_rows": null,
            "grid_gap": null,
            "max_width": null,
            "order": null,
            "_view_module_version": "1.2.0",
            "grid_template_areas": null,
            "object_position": null,
            "object_fit": null,
            "grid_auto_columns": null,
            "margin": null,
            "display": null,
            "left": null
          }
        },
        "3a2afc5745fb45d4b14daccf2e5d8450": {
          "model_module": "@jupyter-widgets/output",
          "model_name": "OutputModel",
          "model_module_version": "1.0.0",
          "state": {
            "_view_name": "OutputView",
            "msg_id": "",
            "_dom_classes": [],
            "_model_name": "OutputModel",
            "outputs": [
              {
                "output_type": "stream",
                "name": "stdout",
                "text": [
                  "Video available at https://youtube.com/watch?v=Vwr3raFaURY\n"
                ]
              },
              {
                "output_type": "display_data",
                "data": {
                  "text/html": "\n        <iframe\n            width=\"854\"\n            height=\"480\"\n            src=\"https://www.youtube.com/embed/Vwr3raFaURY?fs=1&rel=0\"\n            frameborder=\"0\"\n            allowfullscreen\n        ></iframe>\n        ",
                  "text/plain": "<IPython.lib.display.YouTubeVideo at 0x7f055551cf90>",
                  "image/jpeg": "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\n"
                },
                "metadata": {}
              }
            ],
            "_view_module": "@jupyter-widgets/output",
            "_model_module_version": "1.0.0",
            "_view_count": null,
            "_view_module_version": "1.0.0",
            "layout": "IPY_MODEL_c53090d9e6734e66b5f3c66ac9093981",
            "_model_module": "@jupyter-widgets/output"
          }
        },
        "c53090d9e6734e66b5f3c66ac9093981": {
          "model_module": "@jupyter-widgets/base",
          "model_name": "LayoutModel",
          "model_module_version": "1.2.0",
          "state": {
            "_view_name": "LayoutView",
            "grid_template_rows": null,
            "right": null,
            "justify_content": null,
            "_view_module": "@jupyter-widgets/base",
            "overflow": null,
            "_model_module_version": "1.2.0",
            "_view_count": null,
            "flex_flow": null,
            "width": null,
            "min_width": null,
            "border": null,
            "align_items": null,
            "bottom": null,
            "_model_module": "@jupyter-widgets/base",
            "top": null,
            "grid_column": null,
            "overflow_y": null,
            "overflow_x": null,
            "grid_auto_flow": null,
            "grid_area": null,
            "grid_template_columns": null,
            "flex": null,
            "_model_name": "LayoutModel",
            "justify_items": null,
            "grid_row": null,
            "max_height": null,
            "align_content": null,
            "visibility": null,
            "align_self": null,
            "height": null,
            "min_height": null,
            "padding": null,
            "grid_auto_rows": null,
            "grid_gap": null,
            "max_width": null,
            "order": null,
            "_view_module_version": "1.2.0",
            "grid_template_areas": null,
            "object_position": null,
            "object_fit": null,
            "grid_auto_columns": null,
            "margin": null,
            "display": null,
            "left": null
          }
        },
        "b553f35d8055493da65b84362a3f99b1": {
          "model_module": "@jupyter-widgets/controls",
          "model_name": "TabModel",
          "model_module_version": "1.5.0",
          "state": {
            "_view_name": "TabView",
            "_dom_classes": [],
            "_titles": {
              "0": "Calendar"
            },
            "_model_name": "TabModel",
            "_view_module": "@jupyter-widgets/controls",
            "selected_index": 0,
            "_model_module_version": "1.5.0",
            "_view_count": null,
            "_view_module_version": "1.5.0",
            "box_style": "",
            "layout": "IPY_MODEL_0a59e0213ad048ecb541cbc252416648",
            "_model_module": "@jupyter-widgets/controls",
            "children": [
              "IPY_MODEL_cac9e285cb434b778bb9b9340cba4104"
            ]
          }
        },
        "0a59e0213ad048ecb541cbc252416648": {
          "model_module": "@jupyter-widgets/base",
          "model_name": "LayoutModel",
          "model_module_version": "1.2.0",
          "state": {
            "_view_name": "LayoutView",
            "grid_template_rows": null,
            "right": null,
            "justify_content": null,
            "_view_module": "@jupyter-widgets/base",
            "overflow": null,
            "_model_module_version": "1.2.0",
            "_view_count": null,
            "flex_flow": null,
            "width": null,
            "min_width": null,
            "border": null,
            "align_items": null,
            "bottom": null,
            "_model_module": "@jupyter-widgets/base",
            "top": null,
            "grid_column": null,
            "overflow_y": null,
            "overflow_x": null,
            "grid_auto_flow": null,
            "grid_area": null,
            "grid_template_columns": null,
            "flex": null,
            "_model_name": "LayoutModel",
            "justify_items": null,
            "grid_row": null,
            "max_height": null,
            "align_content": null,
            "visibility": null,
            "align_self": null,
            "height": null,
            "min_height": null,
            "padding": null,
            "grid_auto_rows": null,
            "grid_gap": null,
            "max_width": null,
            "order": null,
            "_view_module_version": "1.2.0",
            "grid_template_areas": null,
            "object_position": null,
            "object_fit": null,
            "grid_auto_columns": null,
            "margin": null,
            "display": null,
            "left": null
          }
        },
        "cac9e285cb434b778bb9b9340cba4104": {
          "model_module": "@jupyter-widgets/output",
          "model_name": "OutputModel",
          "model_module_version": "1.0.0",
          "state": {
            "_view_name": "OutputView",
            "msg_id": "",
            "_dom_classes": [],
            "_model_name": "OutputModel",
            "outputs": [
              {
                "output_type": "display_data",
                "data": {
                  "text/html": "\n        <iframe\n            width=\"600\"\n            height=\"480\"\n            src=\"https://calendar.google.com/calendar/embed?src=356b9d2nspjttvgbb3tvgk2f58%40group.calendar.google.com&ctz=America%2FNew_York\"\n            frameborder=\"0\"\n            allowfullscreen\n        ></iframe>\n        ",
                  "text/plain": "<IPython.lib.display.IFrame at 0x7fd8b030fbd0>"
                },
                "metadata": {}
              }
            ],
            "_view_module": "@jupyter-widgets/output",
            "_model_module_version": "1.0.0",
            "_view_count": null,
            "_view_module_version": "1.0.0",
            "layout": "IPY_MODEL_e225b2b970c24d168cb859b20e7530a9",
            "_model_module": "@jupyter-widgets/output"
          }
        },
        "e225b2b970c24d168cb859b20e7530a9": {
          "model_module": "@jupyter-widgets/base",
          "model_name": "LayoutModel",
          "model_module_version": "1.2.0",
          "state": {
            "_view_name": "LayoutView",
            "grid_template_rows": null,
            "right": null,
            "justify_content": null,
            "_view_module": "@jupyter-widgets/base",
            "overflow": null,
            "_model_module_version": "1.2.0",
            "_view_count": null,
            "flex_flow": null,
            "width": null,
            "min_width": null,
            "border": null,
            "align_items": null,
            "bottom": null,
            "_model_module": "@jupyter-widgets/base",
            "top": null,
            "grid_column": null,
            "overflow_y": null,
            "overflow_x": null,
            "grid_auto_flow": null,
            "grid_area": null,
            "grid_template_columns": null,
            "flex": null,
            "_model_name": "LayoutModel",
            "justify_items": null,
            "grid_row": null,
            "max_height": null,
            "align_content": null,
            "visibility": null,
            "align_self": null,
            "height": null,
            "min_height": null,
            "padding": null,
            "grid_auto_rows": null,
            "grid_gap": null,
            "max_width": null,
            "order": null,
            "_view_module_version": "1.2.0",
            "grid_template_areas": null,
            "object_position": null,
            "object_fit": null,
            "grid_auto_columns": null,
            "margin": null,
            "display": null,
            "left": null
          }
        }
      }
    }
  },
  "nbformat": 4,
  "nbformat_minor": 0
}