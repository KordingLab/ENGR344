{
  "cells": [
    {
      "cell_type": "markdown",
      "metadata": {
        "id": "view-in-github",
        "colab_type": "text"
      },
      "source": [
        "<a href=\"https://colab.research.google.com/github/KordingLab/ENGR344/blob/master/tutorials/W4D1_How_do_we_know_how_certain_we_should_be/W4D1_Tutorial3.ipynb\" target=\"_parent\"><img src=\"https://colab.research.google.com/assets/colab-badge.svg\" alt=\"Open In Colab\"/></a>"
      ]
    },
    {
      "cell_type": "markdown",
      "metadata": {
        "execution": {},
        "id": "zEwqDGI5G8f4"
      },
      "source": [
        "# Tutorial 3: Multiple linear regression and polynomial regression\n",
        "**Module 4: How do we know how certain we should be?**\n",
        "\n",
        "**Originally By Neuromatch Academy**\n",
        "\n",
        "**Content creators**: Pierre-Étienne Fiquet, Anqi Wu, Alex Hyafil  with help from Byron Galbraith\n",
        "\n",
        "**Content reviewers**: Lina Teichmann, Madineh Sarvestani, Patrick Mineault, Ella Batty, Michael Waskom\n",
        "\n",
        "**Content Modifiers**: Konrad Kording, Ilenna Jones"
      ]
    },
    {
      "cell_type": "markdown",
      "metadata": {
        "execution": {},
        "id": "nLytVzB3G8f6"
      },
      "source": [
        "**Our 2021 Sponsors, including Presenting Sponsor Facebook Reality Labs**\n",
        "\n",
        "<p align='center'><img src='https://github.com/NeuromatchAcademy/widgets/blob/master/sponsors.png?raw=True'/></p>"
      ]
    },
    {
      "cell_type": "code",
      "source": [
        "# @title Due Dates Calendar\n",
        "\n",
        "from ipywidgets import widgets\n",
        "from IPython.display import display, IFrame, YouTubeVideo\n",
        "\n",
        "\n",
        "out1 = widgets.Output()\n",
        "with out1:\n",
        "  calendar = IFrame(src=\"https://calendar.google.com/calendar/embed?src=356b9d2nspjttvgbb3tvgk2f58%40group.calendar.google.com&ctz=America%2FNew_York\", width=600, height=480)\n",
        "  display(calendar)\n",
        "\n",
        "out = widgets.Tab([out1])\n",
        "out.set_title(0, 'Calendar')\n",
        "\n",
        "display(out)"
      ],
      "metadata": {
        "colab": {
          "base_uri": "https://localhost:8080/",
          "height": 563,
          "referenced_widgets": [
            "f375616bc36642c3a24fb690aaf0ec9e",
            "24622a5501e740ad8bd1509b680503ed",
            "53919fa0470643edae53571f94d2fff6",
            "56b191c070864c7490f3e6cb4768a920"
          ]
        },
        "cellView": "form",
        "id": "njk5vBRUOu4q",
        "outputId": "2718a9d7-1c23-40d6-f060-d9383ebfbf5d"
      },
      "execution_count": null,
      "outputs": [
        {
          "output_type": "display_data",
          "data": {
            "application/vnd.jupyter.widget-view+json": {
              "model_id": "f375616bc36642c3a24fb690aaf0ec9e",
              "version_minor": 0,
              "version_major": 2
            },
            "text/plain": [
              "Tab(children=(Output(),), _titles={'0': 'Calendar'})"
            ]
          },
          "metadata": {}
        }
      ]
    },
    {
      "cell_type": "markdown",
      "metadata": {
        "execution": {},
        "id": "upPNIRwBG8f7"
      },
      "source": [
        "---\n",
        "# Tutorial Objectives\n",
        "\n",
        "*Estimated timing of tutorial: 35 minutes*\n",
        "\n",
        "This is Tutorial 4 of a series on fitting models to data. We start with simple linear regression, using least squares optimization (Tutorial 1) and Maximum Likelihood Estimation (Tutorial 2). We will use bootstrapping to build confidence intervals around the inferred linear model parameters (Tutorial 3). We'll finish our exploration of regression models by generalizing to multiple linear regression and polynomial regression (Tutorial 4). We end by learning how to choose between these various models. We discuss the bias-variance trade-off (Tutorial 5) and Cross Validation for model selection (Tutorial 6).\n",
        "\n",
        "In this tutorial, we will generalize the regression model to incorporate multiple features.\n",
        "- Learn how to structure inputs for regression using the 'Design Matrix'\n",
        "- Generalize the MSE for multiple features using the ordinary least squares estimator\n",
        "- Visualize data and model fit in multiple dimensions\n",
        "- Fit polynomial regression models of different complexity\n",
        "- Plot and evaluate the polynomial regression fits\n"
      ]
    },
    {
      "cell_type": "code",
      "execution_count": null,
      "metadata": {
        "cellView": "form",
        "execution": {},
        "id": "UswhL9wzG8f8"
      },
      "outputs": [],
      "source": [
        "# @title Tutorial slides\n",
        "\n",
        "# @markdown These are the slides for the videos in all tutorials today\n",
        "from IPython.display import IFrame\n",
        "IFrame(src=f\"https://mfr.ca-1.osf.io/render?url=https://osf.io/2mkq4/?direct%26mode=render%26action=download%26mode=render\", width=854, height=480)"
      ]
    },
    {
      "cell_type": "code",
      "execution_count": null,
      "metadata": {
        "execution": {},
        "id": "xS38cHaNG8f8",
        "colab": {
          "base_uri": "https://localhost:8080/",
          "height": 581,
          "referenced_widgets": [
            "5df2153774a346d2bdf35e72ad270637",
            "4c1406c1a21440ee8c115deee6a4ad8f",
            "26ad51c92941448aad01203933e6c638",
            "3d9e3d06cc524d5da3dc2fd9bd99a6f4"
          ]
        },
        "outputId": "cecdb8a1-c7ba-4037-cffa-ecbab80ffd73",
        "cellView": "form"
      },
      "outputs": [
        {
          "output_type": "display_data",
          "data": {
            "application/vnd.jupyter.widget-view+json": {
              "model_id": "5df2153774a346d2bdf35e72ad270637",
              "version_minor": 0,
              "version_major": 2
            },
            "text/plain": [
              "Tab(children=(Output(),), _titles={'0': 'Youtube'})"
            ]
          },
          "metadata": {}
        }
      ],
      "source": [
        "# @title Video 1: Multiple Linear Regression and Polynomial Regression\n",
        "from ipywidgets import widgets\n",
        "\n",
        "out1 = widgets.Output()\n",
        "with out1:\n",
        "  from IPython.display import YouTubeVideo\n",
        "  video = YouTubeVideo(id=\"FD5vuZ1ndkg\", width=854, height=480, fs=1, rel=0)\n",
        "  print('Video available at https://youtube.com/watch?v=' + video.id)\n",
        "  display(video)\n",
        "\n",
        "out = widgets.Tab([out1])\n",
        "out.set_title(0, 'Youtube')\n",
        "\n",
        "display(out)"
      ]
    },
    {
      "cell_type": "markdown",
      "metadata": {
        "execution": {},
        "id": "lBcPVncAG8f9"
      },
      "source": [
        "---\n",
        "# Setup"
      ]
    },
    {
      "cell_type": "code",
      "execution_count": null,
      "metadata": {
        "cellView": "both",
        "execution": {},
        "id": "_9GBxOpsG8f9"
      },
      "outputs": [],
      "source": [
        "# Imports\n",
        "\n",
        "import numpy as np\n",
        "import matplotlib.pyplot as plt"
      ]
    },
    {
      "cell_type": "code",
      "execution_count": null,
      "metadata": {
        "cellView": "form",
        "execution": {},
        "id": "bEwxHcnxG8f-"
      },
      "outputs": [],
      "source": [
        "#@title Figure Settings\n",
        "%config InlineBackend.figure_format = 'retina'\n",
        "plt.style.use(\"https://raw.githubusercontent.com/NeuromatchAcademy/course-content/master/nma.mplstyle\")"
      ]
    },
    {
      "cell_type": "code",
      "execution_count": null,
      "metadata": {
        "cellView": "form",
        "execution": {},
        "id": "e_xK68hUG8f-"
      },
      "outputs": [],
      "source": [
        "# @title Plotting Functions\n",
        "\n",
        "def evaluate_fits(order_list, mse_list):\n",
        "  \"\"\" Compare the quality of multiple polynomial fits\n",
        "  by plotting their MSE values.\n",
        "\n",
        "  Args:\n",
        "    order_list (list): list of the order of polynomials to be compared\n",
        "    mse_list (list): list of the MSE values for the corresponding polynomial fit\n",
        "  \"\"\"\n",
        "  fig, ax = plt.subplots()\n",
        "  ax.bar(order_list, mse_list)\n",
        "  ax.set(title='Comparing Polynomial Fits', xlabel='Polynomial order', ylabel='MSE')\n",
        "\n",
        "def plot_fitted_polynomials(x, y, theta_hat):\n",
        "  \"\"\" Plot polynomials of different orders\n",
        "\n",
        "  Args:\n",
        "    x (ndarray): input vector of shape (n_samples)\n",
        "    y (ndarray): vector of measurements of shape (n_samples)\n",
        "    theta_hat (dict): polynomial regression weights for different orders\n",
        "  \"\"\"\n",
        "\n",
        "  x_grid = np.linspace(x.min() - .5, x.max() + .5)\n",
        "\n",
        "  plt.figure()\n",
        "\n",
        "  for order in range(0, max_order + 1):\n",
        "    X_design = make_design_matrix(x_grid, order)\n",
        "    plt.plot(x_grid, X_design @ theta_hat[order]);\n",
        "\n",
        "  plt.ylabel('y')\n",
        "  plt.xlabel('x')\n",
        "  plt.plot(x, y, 'C0.');\n",
        "  plt.legend([f'order {o}' for o in range(max_order + 1)], loc=1)\n",
        "  plt.title('polynomial fits')\n",
        "  plt.show()"
      ]
    },
    {
      "cell_type": "markdown",
      "metadata": {
        "execution": {},
        "id": "0HsiNK7LG8f_"
      },
      "source": [
        "---\n",
        "# Section 1: Multiple Linear Regression\n",
        "\n",
        "*Estimated timing to here from start of tutorial: 8 min*\n",
        "\n",
        "This video covers linear regression with multiple inputs (more than 1D) and polynomial regression.\n",
        "\n",
        "<details>\n",
        "<summary> <font color='blue'>Click here for text recap of video </font></summary>\n",
        "\n",
        "Now that we have considered the univariate case and how to produce confidence intervals for our estimator, we turn to the general linear regression case, where we can have more than one regressor, or feature, in our input.\n",
        "\n",
        "Recall that our original univariate linear model was given as\n",
        "\n",
        "\\begin{align}\n",
        "y = \\theta x + \\epsilon\n",
        "\\end{align}\n",
        "\n",
        "where $\\theta$ is the slope and $\\epsilon$ some noise. We can easily extend this to the multivariate scenario by adding another parameter for each additional feature\n",
        "\n",
        "\\begin{align}\n",
        "y = \\theta_0 + \\theta_1 x_1 + \\theta_2 x_2 + ... +\\theta_d x_d + \\epsilon\n",
        "\\end{align}\n",
        "\n",
        "where $\\theta_0$ is the intercept and $d$ is the number of features (it is also the dimensionality of our input).\n",
        "\n",
        "We can condense this succinctly using vector notation for a single data point\n",
        "\n",
        "\\begin{align}\n",
        "y_i = \\boldsymbol{\\theta}^{\\top}\\mathbf{x}_i + \\epsilon\n",
        "\\end{align}\n",
        "\n",
        "and fully in matrix form\n",
        "\n",
        "\\begin{align}\n",
        "\\mathbf{y} = \\mathbf{X}\\boldsymbol{\\theta} + \\mathbf{\\epsilon}\n",
        "\\end{align}\n",
        "\n",
        "where $\\mathbf{y}$ is a vector of measurements, $\\mathbf{X}$ is a matrix containing the feature values (columns) for each input sample (rows), and $\\boldsymbol{\\theta}$ is our parameter vector.\n",
        "\n",
        "This matrix $\\mathbf{X}$ is often referred to as the \"[design matrix](https://en.wikipedia.org/wiki/Design_matrix)\".\n",
        "\n",
        "We want to find an optimal vector of paramters $\\boldsymbol{\\hat\\theta}$. Recall our analytic solution to minimizing MSE for a single regressor:\n",
        "\n",
        "\\begin{align}\n",
        "\\hat\\theta = \\frac{\\sum_{i=1}^N x_i y_i}{\\sum_{i=1}^N x_i^2}.\n",
        "\\end{align}\n",
        "\n",
        "The same holds true for the multiple regressor case, only now expressed in matrix form\n",
        "\n",
        "\\begin{align}\n",
        "\\boldsymbol{\\hat\\theta} = (\\mathbf{X}^\\top\\mathbf{X})^{-1}\\mathbf{X}^\\top\\mathbf{y}.\n",
        "\\end{align}\n",
        "\n",
        "This is called the [ordinary least squares](https://en.wikipedia.org/wiki/Ordinary_least_squares) (OLS) estimator.\n",
        "</details>"
      ]
    },
    {
      "cell_type": "markdown",
      "metadata": {
        "execution": {},
        "id": "z1DyJCpeG8f_"
      },
      "source": [
        "For this tutorial we will focus on the two-dimensional case ($d=2$), which allows us to easily visualize our results. As an example, think of a situation where a scientist records the spiking response of a retinal ganglion cell to patterns of light signals that vary in contrast and in orientation. Then contrast and orientation values can be used as features / regressors to predict the cells response.\n",
        "\n",
        "In this case our model can be writen for a single data point as:\n",
        "\n",
        "\\begin{align}\n",
        "y = \\theta_0 + \\theta_1 x_1 + \\theta_2 x_2 + \\epsilon\n",
        "\\end{align}\n",
        "\n",
        "or for multiple data points in matrix form where\n",
        "\n",
        "\\begin{align}\n",
        "\\mathbf{X} = \n",
        "\\begin{bmatrix}\n",
        "1 & x_{1,1} & x_{1,2} \\\\\n",
        "1 & x_{2,1} & x_{2,2} \\\\\n",
        "\\vdots & \\vdots & \\vdots \\\\\n",
        "1 & x_{n,1} & x_{n,2}\n",
        "\\end{bmatrix}, \n",
        "\\boldsymbol{\\theta} =\n",
        "\\begin{bmatrix}\n",
        "\\theta_0 \\\\\n",
        "\\theta_1 \\\\\n",
        "\\theta_2 \\\\\n",
        "\\end{bmatrix}\n",
        "\\end{align}\n",
        "\n",
        "When we refer to $x_{i, j}$, we mean that it is the i-th data point and the j-th feature of that data point.\n",
        "\n",
        "For our actual exploration dataset we shall set $\\boldsymbol{\\theta}=[0, -2, -3]$ and draw $N=40$ noisy samples from $x \\in [-2,2)$. Note that setting the value of $\\theta_0 = 0$ effectively ignores the offset term."
      ]
    },
    {
      "cell_type": "code",
      "execution_count": null,
      "metadata": {
        "cellView": "form",
        "execution": {},
        "id": "6qd91URrG8f_"
      },
      "outputs": [],
      "source": [
        "# @markdown Execute this cell to simulate some data\n",
        "\n",
        "# Set random seed for reproducibility\n",
        "np.random.seed(1234)\n",
        "\n",
        "# Set parameters\n",
        "theta = [0, -2, -3]\n",
        "n_samples = 40\n",
        "\n",
        "# Draw x and calculate y\n",
        "n_regressors = len(theta)\n",
        "x0 = np.ones((n_samples, 1))\n",
        "x1 = np.random.uniform(-2, 2, (n_samples, 1))\n",
        "x2 = np.random.uniform(-2, 2, (n_samples, 1))\n",
        "X = np.hstack((x0, x1, x2))\n",
        "noise = np.random.randn(n_samples)\n",
        "y = X @ theta + noise\n",
        "\n",
        "\n",
        "ax = plt.subplot(projection='3d')\n",
        "ax.plot(X[:,1], X[:,2], y, '.')\n",
        "\n",
        "ax.set(\n",
        "    xlabel='$x_1$',\n",
        "    ylabel='$x_2$',\n",
        "    zlabel='y'\n",
        ")\n",
        "plt.tight_layout()"
      ]
    },
    {
      "cell_type": "markdown",
      "metadata": {
        "execution": {},
        "id": "uTShHCN9G8gA"
      },
      "source": [
        "## Coding Exercise 1: Ordinary Least Squares Estimator\n",
        "\n",
        "In this exercise you will implement the OLS approach to estimating $\\boldsymbol{\\hat\\theta}$ from the design matrix $\\mathbf{X}$ and measurement vector $\\mathbf{y}$. You can use the `@` symbol for matrix multiplication, `.T` for transpose, and `np.linalg.inv` for matrix inversion.\n"
      ]
    },
    {
      "cell_type": "code",
      "execution_count": null,
      "metadata": {
        "execution": {},
        "id": "06tJZF2bG8gA"
      },
      "outputs": [],
      "source": [
        "def ordinary_least_squares(X, y):\n",
        "  \"\"\"Ordinary least squares estimator for linear regression.\n",
        "\n",
        "  Args:\n",
        "    x (ndarray): design matrix of shape (n_samples, n_regressors)\n",
        "    y (ndarray): vector of measurements of shape (n_samples)\n",
        "\n",
        "  Returns:\n",
        "    ndarray: estimated parameter values of shape (n_regressors)\n",
        "  \"\"\"\n",
        "  ######################################################################\n",
        "  ## TODO for students: solve for the optimal parameter vector using OLS\n",
        "  # Fill out function and remove\n",
        "  raise NotImplementedError(\"Student exercise: solve for theta_hat vector using OLS\")\n",
        "  ######################################################################\n",
        "\n",
        "  # Compute theta_hat using OLS\n",
        "  theta_hat = ...\n",
        "\n",
        "  return theta_hat\n",
        "\n",
        "\n",
        "theta_hat = ordinary_least_squares(X, y)\n",
        "print(theta_hat)"
      ]
    },
    {
      "cell_type": "markdown",
      "metadata": {
        "execution": {},
        "id": "Viz6Pt5hG8gA"
      },
      "source": [
        "After filling in this function, you should see that $\\boldsymbol{\\hat\\theta}$ = [ 0.13861386, -2.09395731, -3.16370742]"
      ]
    },
    {
      "cell_type": "markdown",
      "metadata": {
        "execution": {},
        "id": "YRVUV4mrG8gA"
      },
      "source": [
        "Now that we have our $\\boldsymbol{\\hat\\theta}$, we can obtain $\\hat{\\mathbf{y}}$ and thus our mean squared error."
      ]
    },
    {
      "cell_type": "code",
      "execution_count": null,
      "metadata": {
        "execution": {},
        "id": "TahDyD7qG8gA"
      },
      "outputs": [],
      "source": [
        "# Compute predicted data\n",
        "theta_hat = ordinary_least_squares(X, y)\n",
        "y_hat = X @ theta_hat\n",
        "\n",
        "# Compute MSE\n",
        "print(f\"MSE = {np.mean((y - y_hat)**2):.2f}\")"
      ]
    },
    {
      "cell_type": "markdown",
      "metadata": {
        "execution": {},
        "id": "wKPZbhbJG8gB"
      },
      "source": [
        "Finally, the following code will plot a geometric visualization of the data points (blue) and fitted plane. "
      ]
    },
    {
      "cell_type": "code",
      "execution_count": null,
      "metadata": {
        "cellView": "form",
        "execution": {},
        "id": "imOOklHvG8gB"
      },
      "outputs": [],
      "source": [
        "# @markdown Execute this cell to visualize data and predicted plane\n",
        "\n",
        "theta_hat = ordinary_least_squares(X, y)\n",
        "xx, yy = np.mgrid[-2:2:50j, -2:2:50j]\n",
        "y_hat_grid = np.array([xx.flatten(), yy.flatten()]).T @ theta_hat[1:]\n",
        "y_hat_grid = y_hat_grid.reshape((50, 50))\n",
        "\n",
        "ax = plt.subplot(projection='3d')\n",
        "ax.plot(X[:, 1], X[:, 2], y, '.')\n",
        "ax.plot_surface(xx, yy, y_hat_grid, linewidth=0, alpha=0.5, color='C1',\n",
        "                cmap=plt.get_cmap('coolwarm'))\n",
        "\n",
        "for i in range(len(X)):\n",
        "  ax.plot((X[i, 1], X[i, 1]),\n",
        "          (X[i, 2], X[i, 2]),\n",
        "          (y[i], y_hat[i]),\n",
        "          'g-', alpha=.5)\n",
        "\n",
        "ax.set(\n",
        "    xlabel='$x_1$',\n",
        "    ylabel='$x_2$',\n",
        "    zlabel='y'\n",
        ")\n",
        "plt.tight_layout()"
      ]
    },
    {
      "cell_type": "markdown",
      "metadata": {
        "execution": {},
        "id": "2bWceHfOG8gB"
      },
      "source": [
        "---\n",
        "# Section 2:  Polynomial Regression\n",
        "\n",
        "\n",
        "So far today, you learned how to predict outputs from inputs by fitting a linear regression model. We can now model all sort of relationships, including in neuroscience!  \n",
        "\n",
        "One potential problem with this approach is the simplicity of the model. Linear regression, as the name implies, can only capture a linear relationship between the inputs and outputs. Put another way, the predicted outputs are only a weighted sum of the inputs. What if there are more complicated computations happening? Luckily, many more complex models exist (and you will encounter many more over the next 3 weeks). One model that is still very simple to fit and understand, but captures more complex relationships, is **polynomial regression**, an extension of linear regression.\n",
        "\n",
        "<details>\n",
        "<summary> <font color='blue'>Click here for text recap of relevant part of video </font></summary>\n",
        "\n",
        "Since polynomial regression is an extension of linear regression, everything you learned so far will come in handy now! The goal is the same: we want to predict the dependent variable $y$ given the input values $x$. The key change is the type of relationship between inputs and outputs that the model can capture. \n",
        "\n",
        "Linear regression models predict the outputs as a weighted sum of the inputs:\n",
        "\n",
        "\\begin{align}\n",
        "y = \\theta_0 + \\theta x + \\epsilon\n",
        "\\end{align}\n",
        "\n",
        "With polynomial regression, we model the outputs as a polynomial equation based on the inputs. For example, we can model the outputs as:\n",
        "\n",
        "\\begin{align}\n",
        "y & = \\theta_0 + \\theta_1 x + \\theta_2 x^2 + \\theta_3 x^3 + \\epsilon\n",
        "\\end{align}\n",
        "\n",
        "We can change how complex a polynomial is fit by changing the order of the polynomial. The order of a polynomial refers to the highest power in the polynomial. The equation above is a third order polynomial because the highest value x is raised to is 3. We could add another term ($+ \\theta_4 x^4$) to model an order 4 polynomial and so on.\n",
        "</details>\n"
      ]
    },
    {
      "cell_type": "code",
      "source": [
        "# @title Video 2: Polynomial Regression\n",
        "from ipywidgets import widgets\n",
        "\n",
        "out1 = widgets.Output()\n",
        "with out1:\n",
        "  from IPython.display import YouTubeVideo\n",
        "  video = YouTubeVideo(id=\"1YNT7yIy50w\", width=854, height=480, fs=1, rel=0)\n",
        "  print('Video available at https://youtube.com/watch?v=' + video.id)\n",
        "  display(video)\n",
        "\n",
        "out = widgets.Tab([out1])\n",
        "out.set_title(0, 'Youtube')\n",
        "\n",
        "display(out)\n",
        "\n"
      ],
      "metadata": {
        "id": "cbVK_FfnI13O",
        "colab": {
          "base_uri": "https://localhost:8080/",
          "height": 581,
          "referenced_widgets": [
            "294db302a22940b3942bd3e035dd52f5",
            "89d4106e30144db1afaf8f3db169af9d",
            "2916862620ad4265bbd238a0933562bb",
            "666c79822a514ee889d1b92853aa24cf"
          ]
        },
        "cellView": "form",
        "outputId": "2776d281-b69d-43b4-8021-239be3edcfb9"
      },
      "execution_count": null,
      "outputs": [
        {
          "output_type": "display_data",
          "data": {
            "application/vnd.jupyter.widget-view+json": {
              "model_id": "294db302a22940b3942bd3e035dd52f5",
              "version_minor": 0,
              "version_major": 2
            },
            "text/plain": [
              "Tab(children=(Output(),), _titles={'0': 'Youtube'})"
            ]
          },
          "metadata": {}
        }
      ]
    },
    {
      "cell_type": "markdown",
      "metadata": {
        "execution": {},
        "id": "45pwvx6SG8gB"
      },
      "source": [
        "First, we will simulate some data to practice fitting polynomial regression models. We will generate random inputs $x$ and then compute y according to $y = x^2 - x - 2 $, with some extra noise both in the input and the output to make the model fitting exercise closer to a real life situation."
      ]
    },
    {
      "cell_type": "code",
      "execution_count": null,
      "metadata": {
        "cellView": "form",
        "execution": {},
        "id": "QU0Ow4ecG8gB"
      },
      "outputs": [],
      "source": [
        "# @markdown Execute this cell to simulate some data\n",
        "\n",
        "# setting a fixed seed to our random number generator ensures we will always\n",
        "# get the same psuedorandom number sequence\n",
        "np.random.seed(121)\n",
        "n_samples = 30\n",
        "x = np.random.uniform(-2, 2.5, n_samples)  # inputs uniformly sampled from [-2, 2.5)\n",
        "y =  x**2 - x - 2   # computing the outputs\n",
        "\n",
        "output_noise = 1/8 * np.random.randn(n_samples)\n",
        "y += output_noise  # adding some output noise\n",
        "\n",
        "input_noise = 1/2 * np.random.randn(n_samples)\n",
        "x += input_noise  # adding some input noise\n",
        "\n",
        "fig, ax = plt.subplots()\n",
        "ax.scatter(x, y)  # produces a scatter plot\n",
        "ax.set(xlabel='x', ylabel='y');"
      ]
    },
    {
      "cell_type": "markdown",
      "metadata": {
        "execution": {},
        "id": "ZZZWe0VDG8gC"
      },
      "source": [
        "## Section 2.1: Design matrix for polynomial regression\n",
        "\n",
        "*Estimated timing to here from start of tutorial: 16 min*\n",
        "\n",
        "Now we have the basic idea of polynomial regression and some noisy data, let's begin! The key difference between fitting a linear regression model and a polynomial regression model lies in how we structure the input variables.  \n",
        "\n",
        "Let's go back to one feature for each data point. For linear regression, we used $\\mathbf{X} = \\mathbf{x}$ as the input data, where $\\mathbf{x}$ is a vector where each element is the input for a single data point. To add a constant bias (a y-intercept in a 2-D plot), we use $\\mathbf{X} = \\big[ \\boldsymbol 1, \\mathbf{x} \\big]$, where $\\boldsymbol 1$ is a column of ones.  When fitting, we learn a weight for each column of this matrix. So we learn a weight that multiples with column 1 - in this case that column is all ones so we gain the bias parameter ($+ \\theta_0$). \n",
        "\n",
        "This matrix $\\mathbf{X}$ that we use for our inputs is known as a **design matrix**. We want to create our design matrix so we learn weights for $\\mathbf{x}^2, \\mathbf{x}^3,$ etc. Thus, we want to build our design matrix $X$ for polynomial regression of order $k$ as:\n",
        "\n",
        "\\begin{align}\n",
        "\\mathbf{X} = \\big[ \\boldsymbol 1 , \\mathbf{x}^1, \\mathbf{x}^2 , \\ldots , \\mathbf{x}^k \\big],\n",
        "\\end{align}\n",
        "\n",
        "where $\\boldsymbol{1}$ is the vector the same length as $\\mathbf{x}$ consisting of of all ones, and $\\mathbf{x}^p$ is the vector $\\mathbf{x}$ with all elements raised to the power $p$. Note that $\\boldsymbol{1} = \\mathbf{x}^0$ and $\\mathbf{x}^1 = \\mathbf{x}$.  \n",
        "\n",
        "If we have inputs with more than one feature, we can use a similar design matrix but include all features raised to each power. Imagine that we have two features per data point: $\\mathbf{x}_m$ is a vector of one feature per data point and  $\\mathbf{x}_n$ is another.  Our design matrix for a polynomial regression would be:\n",
        "\\begin{align}\n",
        "\\mathbf{X} = \\big[ \\boldsymbol 1 , \\mathbf{x}_m^1, \\mathbf{x}_n^1, \\mathbf{x}_m^2 , \\mathbf{x}_n^2\\ldots , \\mathbf{x}_m^k , \\mathbf{x}_n^k \\big],\n",
        "\\end{align}"
      ]
    },
    {
      "cell_type": "markdown",
      "metadata": {
        "execution": {},
        "id": "we_3g26-G8gC"
      },
      "source": [
        "### Coding Exercise 2.1: Structure design matrix\n",
        "\n",
        "Create a function (`make_design_matrix`) that structures the design matrix given the input data and the order of the polynomial you wish to fit. We will print part of this design matrix for our data and order 5."
      ]
    },
    {
      "cell_type": "code",
      "execution_count": null,
      "metadata": {
        "execution": {},
        "id": "sPuV8tgEG8gC"
      },
      "outputs": [],
      "source": [
        "def make_design_matrix(x, order):\n",
        "  \"\"\"Create the design matrix of inputs for use in polynomial regression\n",
        "\n",
        "  Args:\n",
        "    x (ndarray): input vector of shape (n_samples)\n",
        "    order (scalar): polynomial regression order\n",
        "\n",
        "  Returns:\n",
        "    ndarray: design matrix for polynomial regression of shape (samples, order+1)\n",
        "  \"\"\"\n",
        "  ########################################################################\n",
        "  ## TODO for students: create the design matrix ##\n",
        "  # Fill out function and remove\n",
        "  raise NotImplementedError(\"Student exercise: create the design matrix\")\n",
        "  ########################################################################\n",
        "\n",
        "  # Broadcast to shape (n x 1) so dimensions work\n",
        "  if x.ndim == 1:\n",
        "    x = x[:, None]\n",
        "\n",
        "  #if x has more than one feature, we don't want multiple columns of ones so we assign\n",
        "  # x^0 here\n",
        "  design_matrix = np.ones((x.shape[0], 1))\n",
        "\n",
        "  # Loop through rest of degrees and stack columns (hint: np.hstack)\n",
        "  for degree in range(1, order + 1):\n",
        "      design_matrix = ...\n",
        "\n",
        "  return design_matrix\n",
        "\n",
        "\n",
        "order = 5\n",
        "X_design = make_design_matrix(x, order)\n",
        "\n",
        "print(X_design[0:2, 0:2])"
      ]
    },
    {
      "cell_type": "markdown",
      "metadata": {
        "execution": {},
        "id": "apBrbt1aG8gC"
      },
      "source": [
        "You should see that the printed section of this design matrix is `[[ 1.         -1.51194917]\n",
        " [ 1.         -0.35259945]]`"
      ]
    },
    {
      "cell_type": "markdown",
      "metadata": {
        "execution": {},
        "id": "jCEUbtOoG8gC"
      },
      "source": [
        "## Section 2.2: Fitting polynomial regression models\n",
        "\n",
        "*Estimated timing to here from start of tutorial: 24 min*\n",
        "\n",
        "Now that we have the inputs structured correctly in our design matrix, fitting a polynomial regression is the same as fitting a linear regression model! All of the polynomial structure we need to learn is contained in how the inputs are structured in the design matrix. We can use the same least squares solution we computed in previous exercises. "
      ]
    },
    {
      "cell_type": "markdown",
      "metadata": {
        "execution": {},
        "id": "6Y_c6Gl7G8gC"
      },
      "source": [
        "### Coding Exercise 2.2: Fitting polynomial regression models with different orders "
      ]
    },
    {
      "cell_type": "markdown",
      "metadata": {
        "execution": {},
        "id": "A0jgHFbuG8gC"
      },
      "source": [
        "Here, we will fit polynomial regression models to find the regression coefficients ($\\theta_0, \\theta_1, \\theta_2,$ ...) by solving the least squares problem. Create a function `solve_poly_reg` that loops over different order polynomials (up to `max_order`), fits that model, and saves out the weights for each. You may invoke the `ordinary_least_squares` function. \n",
        "\n",
        "We will then qualitatively inspect the quality of our fits for each order by plotting the fitted polynomials on top of the data. In order to see smooth curves, we evaluate the fitted polynomials on a grid of $x$ values (ranging between the largest and smallest of the inputs present in the dataset)."
      ]
    },
    {
      "cell_type": "code",
      "execution_count": null,
      "metadata": {
        "execution": {},
        "id": "KMxuDVUfG8gC"
      },
      "outputs": [],
      "source": [
        "def solve_poly_reg(x, y, max_order):\n",
        "  \"\"\"Fit a polynomial regression model for each order 0 through max_order.\n",
        "\n",
        "  Args:\n",
        "    x (ndarray): input vector of shape (n_samples)\n",
        "    y (ndarray): vector of measurements of shape (n_samples)\n",
        "    max_order (scalar): max order for polynomial fits\n",
        "\n",
        "  Returns:\n",
        "    dict: fitted weights for each polynomial model (dict key is order)\n",
        "  \"\"\"\n",
        "\n",
        "  # Create a dictionary with polynomial order as keys,\n",
        "  # and np array of theta_hat (weights) as the values\n",
        "  theta_hats = {}\n",
        "\n",
        "  # Loop over polynomial orders from 0 through max_order\n",
        "  for order in range(max_order + 1):\n",
        "\n",
        "    ##################################################################################\n",
        "    ## TODO for students: Create design matrix and fit polynomial model for this order\n",
        "    # Fill out function and remove\n",
        "    raise NotImplementedError(\"Student exercise: fit a polynomial model\")\n",
        "    ##################################################################################\n",
        "\n",
        "    # Create design matrix\n",
        "    X_design = ...\n",
        "\n",
        "    # Fit polynomial model\n",
        "    this_theta = ...\n",
        "\n",
        "    theta_hats[order] = this_theta\n",
        "\n",
        "  return theta_hats\n",
        "\n",
        "\n",
        "max_order = 5\n",
        "theta_hats = solve_poly_reg(x, y, max_order)\n",
        "\n",
        "# Visualize\n",
        "plot_fitted_polynomials(x, y, theta_hats)"
      ]
    },
    {
      "cell_type": "markdown",
      "metadata": {
        "execution": {},
        "id": "4UGLE-DZG8gD"
      },
      "source": [
        "## Section 2.3: Evaluating fit quality\n",
        "\n",
        "*Estimated timing to here from start of tutorial: 29 min*\n",
        "\n",
        "As with linear regression, we can compute mean squared error (MSE) to get a sense of how well the model fits the data. \n",
        "\n",
        "We compute MSE as:\n",
        "\n",
        "\\begin{align}\n",
        "\\mathrm{MSE} = \\frac 1 N ||\\mathbf{y} - \\hat{\\mathbf{y}}||^2 = \\frac 1 N \\sum_{i=1}^N (y_i - \\hat y_i)^2 \n",
        "\\end{align}\n",
        "\n",
        "where the predicted values for each model are given by $ \\hat{\\mathbf{y}} = \\mathbf{X}\\boldsymbol{\\hat\\theta}$.\n",
        "\n",
        "*Which model (i.e. which polynomial order) do you think will have the best MSE?*"
      ]
    },
    {
      "cell_type": "markdown",
      "metadata": {
        "execution": {},
        "id": "lrWkviz-G8gD"
      },
      "source": [
        "### Coding Exercise 2.3: Compute MSE and compare models\n",
        "\n",
        "We will compare the MSE for different polynomial orders with a bar plot."
      ]
    },
    {
      "cell_type": "code",
      "execution_count": null,
      "metadata": {
        "execution": {},
        "id": "wJmAbCW1G8gD"
      },
      "outputs": [],
      "source": [
        "mse_list = []\n",
        "order_list = list(range(max_order + 1))\n",
        "\n",
        "for order in order_list:\n",
        "\n",
        "  X_design = make_design_matrix(x, order)\n",
        "\n",
        "  ########################################################################\n",
        "  ## TODO for students\n",
        "  # Fill out function and remove\n",
        "  raise NotImplementedError(\"Student exercise: compute MSE\")\n",
        "  ########################################################################\n",
        "\n",
        "  # Get prediction for the polynomial regression model of this order\n",
        "  y_hat = ...\n",
        "\n",
        "  # Compute the residuals\n",
        "  residuals = ...\n",
        "\n",
        "  # Compute the MSE\n",
        "  mse = ...\n",
        "\n",
        "  mse_list.append(mse)\n",
        "\n",
        "\n",
        "# Visualize MSE of fits\n",
        "evaluate_fits(order_list, mse_list)"
      ]
    },
    {
      "cell_type": "markdown",
      "metadata": {
        "execution": {},
        "id": "1fREaGqyG8gD"
      },
      "source": [
        "---\n",
        "# Summary\n",
        "\n",
        "*Estimated timing of tutorial: 35 minutes*\n",
        "\n",
        "* Linear regression generalizes naturally to multiple dimensions\n",
        "* Linear algebra affords us the mathematical tools to reason and solve such problems beyond the two dimensional case\n",
        "\n",
        "* To change from a linear regression model to a polynomial regression model, we only have to change how the input data is structured\n",
        "\n",
        "* We can choose the complexity of the model by changing the order of the polynomial model fit\n",
        "\n",
        "* Higher order polynomial models tend to have lower MSE on the data they're fit with\n",
        "\n",
        "**Note**: In practice, multidimensional least squares problems can be solved very efficiently (thanks to numerical routines such as LAPACK).\n",
        "\n"
      ]
    },
    {
      "cell_type": "markdown",
      "metadata": {
        "execution": {},
        "id": "14EXjWruG8gD"
      },
      "source": [
        "---\n",
        "# Notation\n",
        "\n",
        "\\begin{align}\n",
        "x &\\quad \\text{input, independent variable}\\\\\n",
        "y &\\quad \\text{response measurement, dependent variable}\\\\\n",
        "\\epsilon &\\quad \\text{measurement error, noise contribution}\\\\\n",
        "\\theta &\\quad \\text{slope parameter}\\\\\n",
        "\\hat{\\theta} &\\quad \\text{estimated slope parameter}\\\\\n",
        "\\mathbf{x} &\\quad \\text{vector of inputs where each element is a different data point}\\\\\n",
        "\\mathbf{X} &\\quad \\text{design matrix}\\\\\n",
        "\\mathbf{y} &\\quad \\text{vector of measurements}\\\\\n",
        "\\mathbf{\\hat y} &\\quad \\text{vector of estimated measurements}\\\\\n",
        "\\boldsymbol{\\theta} &\\quad \\text{vector of parameters}\\\\\n",
        "\\boldsymbol{\\hat\\theta} &\\quad \\text{vector of estimated parameters}\\\\\n",
        "d &\\quad \\text{dimensionality of input}\\\\\n",
        "N &\\quad \\text{number of samples}\\\\\n",
        "\\end{align}"
      ]
    },
    {
      "cell_type": "markdown",
      "metadata": {
        "execution": {},
        "id": "hoBNyT4hG8gE"
      },
      "source": [
        "**Suggested readings**  \n",
        "\n",
        "[Introduction to Applied Linear Algebra – Vectors, Matrices, and Least Squares](http://vmls-book.stanford.edu/)\n",
        "Stephen Boyd and Lieven Vandenberghe"
      ]
    }
  ],
  "metadata": {
    "celltoolbar": "Slideshow",
    "colab": {
      "collapsed_sections": [],
      "name": "Module_4_Tutorial_3",
      "provenance": [],
      "include_colab_link": true
    },
    "kernel": {
      "display_name": "Python 3",
      "language": "python",
      "name": "python3"
    },
    "kernelspec": {
      "display_name": "Python 3",
      "language": "python",
      "name": "python3"
    },
    "language_info": {
      "codemirror_mode": {
        "name": "ipython",
        "version": 3
      },
      "file_extension": ".py",
      "mimetype": "text/x-python",
      "name": "python",
      "nbconvert_exporter": "python",
      "pygments_lexer": "ipython3",
      "version": "3.7.12"
    },
    "widgets": {
      "application/vnd.jupyter.widget-state+json": {
        "5df2153774a346d2bdf35e72ad270637": {
          "model_module": "@jupyter-widgets/controls",
          "model_name": "TabModel",
          "model_module_version": "1.5.0",
          "state": {
            "_view_name": "TabView",
            "_dom_classes": [],
            "_titles": {
              "0": "Youtube"
            },
            "_model_name": "TabModel",
            "_view_module": "@jupyter-widgets/controls",
            "selected_index": 0,
            "_model_module_version": "1.5.0",
            "_view_count": null,
            "_view_module_version": "1.5.0",
            "box_style": "",
            "layout": "IPY_MODEL_4c1406c1a21440ee8c115deee6a4ad8f",
            "_model_module": "@jupyter-widgets/controls",
            "children": [
              "IPY_MODEL_26ad51c92941448aad01203933e6c638"
            ]
          }
        },
        "4c1406c1a21440ee8c115deee6a4ad8f": {
          "model_module": "@jupyter-widgets/base",
          "model_name": "LayoutModel",
          "model_module_version": "1.2.0",
          "state": {
            "_view_name": "LayoutView",
            "grid_template_rows": null,
            "right": null,
            "justify_content": null,
            "_view_module": "@jupyter-widgets/base",
            "overflow": null,
            "_model_module_version": "1.2.0",
            "_view_count": null,
            "flex_flow": null,
            "width": null,
            "min_width": null,
            "border": null,
            "align_items": null,
            "bottom": null,
            "_model_module": "@jupyter-widgets/base",
            "top": null,
            "grid_column": null,
            "overflow_y": null,
            "overflow_x": null,
            "grid_auto_flow": null,
            "grid_area": null,
            "grid_template_columns": null,
            "flex": null,
            "_model_name": "LayoutModel",
            "justify_items": null,
            "grid_row": null,
            "max_height": null,
            "align_content": null,
            "visibility": null,
            "align_self": null,
            "height": null,
            "min_height": null,
            "padding": null,
            "grid_auto_rows": null,
            "grid_gap": null,
            "max_width": null,
            "order": null,
            "_view_module_version": "1.2.0",
            "grid_template_areas": null,
            "object_position": null,
            "object_fit": null,
            "grid_auto_columns": null,
            "margin": null,
            "display": null,
            "left": null
          }
        },
        "26ad51c92941448aad01203933e6c638": {
          "model_module": "@jupyter-widgets/output",
          "model_name": "OutputModel",
          "model_module_version": "1.0.0",
          "state": {
            "_view_name": "OutputView",
            "msg_id": "",
            "_dom_classes": [],
            "_model_name": "OutputModel",
            "outputs": [
              {
                "output_type": "stream",
                "name": "stdout",
                "text": [
                  "Video available at https://youtube.com/watch?v=FD5vuZ1ndkg\n"
                ]
              },
              {
                "output_type": "display_data",
                "data": {
                  "text/html": "\n        <iframe\n            width=\"854\"\n            height=\"480\"\n            src=\"https://www.youtube.com/embed/FD5vuZ1ndkg?fs=1&rel=0\"\n            frameborder=\"0\"\n            allowfullscreen\n        ></iframe>\n        ",
                  "text/plain": "<IPython.lib.display.YouTubeVideo at 0x7fb69b611750>",
                  "image/jpeg": "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\n"
                },
                "metadata": {}
              }
            ],
            "_view_module": "@jupyter-widgets/output",
            "_model_module_version": "1.0.0",
            "_view_count": null,
            "_view_module_version": "1.0.0",
            "layout": "IPY_MODEL_3d9e3d06cc524d5da3dc2fd9bd99a6f4",
            "_model_module": "@jupyter-widgets/output"
          }
        },
        "3d9e3d06cc524d5da3dc2fd9bd99a6f4": {
          "model_module": "@jupyter-widgets/base",
          "model_name": "LayoutModel",
          "model_module_version": "1.2.0",
          "state": {
            "_view_name": "LayoutView",
            "grid_template_rows": null,
            "right": null,
            "justify_content": null,
            "_view_module": "@jupyter-widgets/base",
            "overflow": null,
            "_model_module_version": "1.2.0",
            "_view_count": null,
            "flex_flow": null,
            "width": null,
            "min_width": null,
            "border": null,
            "align_items": null,
            "bottom": null,
            "_model_module": "@jupyter-widgets/base",
            "top": null,
            "grid_column": null,
            "overflow_y": null,
            "overflow_x": null,
            "grid_auto_flow": null,
            "grid_area": null,
            "grid_template_columns": null,
            "flex": null,
            "_model_name": "LayoutModel",
            "justify_items": null,
            "grid_row": null,
            "max_height": null,
            "align_content": null,
            "visibility": null,
            "align_self": null,
            "height": null,
            "min_height": null,
            "padding": null,
            "grid_auto_rows": null,
            "grid_gap": null,
            "max_width": null,
            "order": null,
            "_view_module_version": "1.2.0",
            "grid_template_areas": null,
            "object_position": null,
            "object_fit": null,
            "grid_auto_columns": null,
            "margin": null,
            "display": null,
            "left": null
          }
        },
        "294db302a22940b3942bd3e035dd52f5": {
          "model_module": "@jupyter-widgets/controls",
          "model_name": "TabModel",
          "model_module_version": "1.5.0",
          "state": {
            "_view_name": "TabView",
            "_dom_classes": [],
            "_titles": {
              "0": "Youtube"
            },
            "_model_name": "TabModel",
            "_view_module": "@jupyter-widgets/controls",
            "selected_index": 0,
            "_model_module_version": "1.5.0",
            "_view_count": null,
            "_view_module_version": "1.5.0",
            "box_style": "",
            "layout": "IPY_MODEL_89d4106e30144db1afaf8f3db169af9d",
            "_model_module": "@jupyter-widgets/controls",
            "children": [
              "IPY_MODEL_2916862620ad4265bbd238a0933562bb"
            ]
          }
        },
        "89d4106e30144db1afaf8f3db169af9d": {
          "model_module": "@jupyter-widgets/base",
          "model_name": "LayoutModel",
          "model_module_version": "1.2.0",
          "state": {
            "_view_name": "LayoutView",
            "grid_template_rows": null,
            "right": null,
            "justify_content": null,
            "_view_module": "@jupyter-widgets/base",
            "overflow": null,
            "_model_module_version": "1.2.0",
            "_view_count": null,
            "flex_flow": null,
            "width": null,
            "min_width": null,
            "border": null,
            "align_items": null,
            "bottom": null,
            "_model_module": "@jupyter-widgets/base",
            "top": null,
            "grid_column": null,
            "overflow_y": null,
            "overflow_x": null,
            "grid_auto_flow": null,
            "grid_area": null,
            "grid_template_columns": null,
            "flex": null,
            "_model_name": "LayoutModel",
            "justify_items": null,
            "grid_row": null,
            "max_height": null,
            "align_content": null,
            "visibility": null,
            "align_self": null,
            "height": null,
            "min_height": null,
            "padding": null,
            "grid_auto_rows": null,
            "grid_gap": null,
            "max_width": null,
            "order": null,
            "_view_module_version": "1.2.0",
            "grid_template_areas": null,
            "object_position": null,
            "object_fit": null,
            "grid_auto_columns": null,
            "margin": null,
            "display": null,
            "left": null
          }
        },
        "2916862620ad4265bbd238a0933562bb": {
          "model_module": "@jupyter-widgets/output",
          "model_name": "OutputModel",
          "model_module_version": "1.0.0",
          "state": {
            "_view_name": "OutputView",
            "msg_id": "",
            "_dom_classes": [],
            "_model_name": "OutputModel",
            "outputs": [
              {
                "output_type": "stream",
                "name": "stdout",
                "text": [
                  "Video available at https://youtube.com/watch?v=1YNT7yIy50w\n"
                ]
              },
              {
                "output_type": "display_data",
                "data": {
                  "text/html": "\n        <iframe\n            width=\"854\"\n            height=\"480\"\n            src=\"https://www.youtube.com/embed/1YNT7yIy50w?fs=1&rel=0\"\n            frameborder=\"0\"\n            allowfullscreen\n        ></iframe>\n        ",
                  "text/plain": "<IPython.lib.display.YouTubeVideo at 0x7fb6953d5810>",
                  "image/jpeg": "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\n"
                },
                "metadata": {}
              }
            ],
            "_view_module": "@jupyter-widgets/output",
            "_model_module_version": "1.0.0",
            "_view_count": null,
            "_view_module_version": "1.0.0",
            "layout": "IPY_MODEL_666c79822a514ee889d1b92853aa24cf",
            "_model_module": "@jupyter-widgets/output"
          }
        },
        "666c79822a514ee889d1b92853aa24cf": {
          "model_module": "@jupyter-widgets/base",
          "model_name": "LayoutModel",
          "model_module_version": "1.2.0",
          "state": {
            "_view_name": "LayoutView",
            "grid_template_rows": null,
            "right": null,
            "justify_content": null,
            "_view_module": "@jupyter-widgets/base",
            "overflow": null,
            "_model_module_version": "1.2.0",
            "_view_count": null,
            "flex_flow": null,
            "width": null,
            "min_width": null,
            "border": null,
            "align_items": null,
            "bottom": null,
            "_model_module": "@jupyter-widgets/base",
            "top": null,
            "grid_column": null,
            "overflow_y": null,
            "overflow_x": null,
            "grid_auto_flow": null,
            "grid_area": null,
            "grid_template_columns": null,
            "flex": null,
            "_model_name": "LayoutModel",
            "justify_items": null,
            "grid_row": null,
            "max_height": null,
            "align_content": null,
            "visibility": null,
            "align_self": null,
            "height": null,
            "min_height": null,
            "padding": null,
            "grid_auto_rows": null,
            "grid_gap": null,
            "max_width": null,
            "order": null,
            "_view_module_version": "1.2.0",
            "grid_template_areas": null,
            "object_position": null,
            "object_fit": null,
            "grid_auto_columns": null,
            "margin": null,
            "display": null,
            "left": null
          }
        },
        "f375616bc36642c3a24fb690aaf0ec9e": {
          "model_module": "@jupyter-widgets/controls",
          "model_name": "TabModel",
          "model_module_version": "1.5.0",
          "state": {
            "_view_name": "TabView",
            "_dom_classes": [],
            "_titles": {
              "0": "Calendar"
            },
            "_model_name": "TabModel",
            "_view_module": "@jupyter-widgets/controls",
            "selected_index": 0,
            "_model_module_version": "1.5.0",
            "_view_count": null,
            "_view_module_version": "1.5.0",
            "box_style": "",
            "layout": "IPY_MODEL_24622a5501e740ad8bd1509b680503ed",
            "_model_module": "@jupyter-widgets/controls",
            "children": [
              "IPY_MODEL_53919fa0470643edae53571f94d2fff6"
            ]
          }
        },
        "24622a5501e740ad8bd1509b680503ed": {
          "model_module": "@jupyter-widgets/base",
          "model_name": "LayoutModel",
          "model_module_version": "1.2.0",
          "state": {
            "_view_name": "LayoutView",
            "grid_template_rows": null,
            "right": null,
            "justify_content": null,
            "_view_module": "@jupyter-widgets/base",
            "overflow": null,
            "_model_module_version": "1.2.0",
            "_view_count": null,
            "flex_flow": null,
            "width": null,
            "min_width": null,
            "border": null,
            "align_items": null,
            "bottom": null,
            "_model_module": "@jupyter-widgets/base",
            "top": null,
            "grid_column": null,
            "overflow_y": null,
            "overflow_x": null,
            "grid_auto_flow": null,
            "grid_area": null,
            "grid_template_columns": null,
            "flex": null,
            "_model_name": "LayoutModel",
            "justify_items": null,
            "grid_row": null,
            "max_height": null,
            "align_content": null,
            "visibility": null,
            "align_self": null,
            "height": null,
            "min_height": null,
            "padding": null,
            "grid_auto_rows": null,
            "grid_gap": null,
            "max_width": null,
            "order": null,
            "_view_module_version": "1.2.0",
            "grid_template_areas": null,
            "object_position": null,
            "object_fit": null,
            "grid_auto_columns": null,
            "margin": null,
            "display": null,
            "left": null
          }
        },
        "53919fa0470643edae53571f94d2fff6": {
          "model_module": "@jupyter-widgets/output",
          "model_name": "OutputModel",
          "model_module_version": "1.0.0",
          "state": {
            "_view_name": "OutputView",
            "msg_id": "",
            "_dom_classes": [],
            "_model_name": "OutputModel",
            "outputs": [
              {
                "output_type": "display_data",
                "data": {
                  "text/html": "\n        <iframe\n            width=\"600\"\n            height=\"480\"\n            src=\"https://calendar.google.com/calendar/embed?src=356b9d2nspjttvgbb3tvgk2f58%40group.calendar.google.com&ctz=America%2FNew_York\"\n            frameborder=\"0\"\n            allowfullscreen\n        ></iframe>\n        ",
                  "text/plain": "<IPython.lib.display.IFrame at 0x7fb6953e8390>"
                },
                "metadata": {}
              }
            ],
            "_view_module": "@jupyter-widgets/output",
            "_model_module_version": "1.0.0",
            "_view_count": null,
            "_view_module_version": "1.0.0",
            "layout": "IPY_MODEL_56b191c070864c7490f3e6cb4768a920",
            "_model_module": "@jupyter-widgets/output"
          }
        },
        "56b191c070864c7490f3e6cb4768a920": {
          "model_module": "@jupyter-widgets/base",
          "model_name": "LayoutModel",
          "model_module_version": "1.2.0",
          "state": {
            "_view_name": "LayoutView",
            "grid_template_rows": null,
            "right": null,
            "justify_content": null,
            "_view_module": "@jupyter-widgets/base",
            "overflow": null,
            "_model_module_version": "1.2.0",
            "_view_count": null,
            "flex_flow": null,
            "width": null,
            "min_width": null,
            "border": null,
            "align_items": null,
            "bottom": null,
            "_model_module": "@jupyter-widgets/base",
            "top": null,
            "grid_column": null,
            "overflow_y": null,
            "overflow_x": null,
            "grid_auto_flow": null,
            "grid_area": null,
            "grid_template_columns": null,
            "flex": null,
            "_model_name": "LayoutModel",
            "justify_items": null,
            "grid_row": null,
            "max_height": null,
            "align_content": null,
            "visibility": null,
            "align_self": null,
            "height": null,
            "min_height": null,
            "padding": null,
            "grid_auto_rows": null,
            "grid_gap": null,
            "max_width": null,
            "order": null,
            "_view_module_version": "1.2.0",
            "grid_template_areas": null,
            "object_position": null,
            "object_fit": null,
            "grid_auto_columns": null,
            "margin": null,
            "display": null,
            "left": null
          }
        }
      }
    }
  },
  "nbformat": 4,
  "nbformat_minor": 0
}