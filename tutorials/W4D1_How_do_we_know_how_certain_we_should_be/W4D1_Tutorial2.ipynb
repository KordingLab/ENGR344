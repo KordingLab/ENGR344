{
  "cells": [
    {
      "cell_type": "markdown",
      "metadata": {
        "id": "view-in-github",
        "colab_type": "text"
      },
      "source": [
        "<a href=\"https://colab.research.google.com/github/KordingLab/ENGR344/blob/master/tutorials/W4D1_How_do_we_know_how_certain_we_should_be/W4D1_Tutorial2.ipynb\" target=\"_parent\"><img src=\"https://colab.research.google.com/assets/colab-badge.svg\" alt=\"Open In Colab\"/></a>"
      ]
    },
    {
      "cell_type": "markdown",
      "metadata": {
        "execution": {},
        "id": "6SdrBMy7G8E2"
      },
      "source": [
        "# Tutorial 2: Confidence intervals and bootstrapping\n",
        "**Module 4: How do we know how certain we should be?**\n",
        "\n",
        "**Originally By Neuromatch Academy**\n",
        "\n",
        "**Content creators**: Pierre-Étienne Fiquet, Anqi Wu, Alex Hyafil  with help from Byron Galbraith\n",
        "\n",
        "**Content reviewers**: Lina Teichmann, Madineh Sarvestani, Patrick Mineault, Ella Batty, Michael Waskom\n",
        "\n",
        "**Content Modifiers**: Konrad Kording, Ilenna Jones"
      ]
    },
    {
      "cell_type": "markdown",
      "metadata": {
        "execution": {},
        "id": "EJvMQDrvG8E4"
      },
      "source": [
        "**Our 2021 Sponsors, including Presenting Sponsor Facebook Reality Labs**\n",
        "\n",
        "<p align='center'><img src='https://github.com/NeuromatchAcademy/widgets/blob/master/sponsors.png?raw=True'/></p>"
      ]
    },
    {
      "cell_type": "code",
      "source": [
        "# @title Due Dates Calendar\n",
        "\n",
        "from ipywidgets import widgets\n",
        "from IPython.display import display, IFrame, YouTubeVideo\n",
        "\n",
        "\n",
        "out1 = widgets.Output()\n",
        "with out1:\n",
        "  calendar = IFrame(src=\"https://calendar.google.com/calendar/embed?src=356b9d2nspjttvgbb3tvgk2f58%40group.calendar.google.com&ctz=America%2FNew_York\", width=600, height=480)\n",
        "  display(calendar)\n",
        "\n",
        "out = widgets.Tab([out1])\n",
        "out.set_title(0, 'Calendar')\n",
        "\n",
        "display(out)"
      ],
      "metadata": {
        "colab": {
          "base_uri": "https://localhost:8080/",
          "height": 563,
          "referenced_widgets": [
            "e6b72b838f6443f4ab8713aac7cacd0f",
            "0a7ee4fa158d4d16bb7833bc4d8fad00",
            "aa38c4f26afb43a2946efde6b048be94",
            "ef418b0981714ae8a5b98d16d7c9b3df"
          ]
        },
        "cellView": "form",
        "id": "1G-b7g6BOtis",
        "outputId": "40be87c0-e7b0-42cc-bc8d-6f09542e8eda"
      },
      "execution_count": null,
      "outputs": [
        {
          "output_type": "display_data",
          "data": {
            "application/vnd.jupyter.widget-view+json": {
              "model_id": "e6b72b838f6443f4ab8713aac7cacd0f",
              "version_minor": 0,
              "version_major": 2
            },
            "text/plain": [
              "Tab(children=(Output(),), _titles={'0': 'Calendar'})"
            ]
          },
          "metadata": {}
        }
      ]
    },
    {
      "cell_type": "markdown",
      "metadata": {
        "execution": {},
        "id": "s8BjsbXKG8E5"
      },
      "source": [
        "# Tutorial Objectives\n",
        "\n",
        "*Estimated timing of tutorial: 23 minutes*\n",
        "\n",
        "This is Tutorial 3 of a series on fitting models to data. We start with simple linear regression, using least squares optimization (Tutorial 1) and Maximum Likelihood Estimation (Tutorial 2). We will use bootstrapping to build confidence intervals around the inferred linear model parameters (Tutorial 3). We'll finish our exploration of regression models by generalizing to multiple linear regression and polynomial regression (Tutorial 4). We end by learning how to choose between these various models. We discuss the bias-variance trade-off (Tutorial 5) and Cross Validation for model selection (Tutorial 6).\n",
        "\n",
        "In this tutorial, we will discuss how to gauge how good our estimated model parameters are. \n",
        "- Learn how to use bootstrapping to generate new sample datasets\n",
        "- Estimate our model parameter on these new sample datasets\n",
        "- Quantify the variance of our estimate using confidence intervals"
      ]
    },
    {
      "cell_type": "code",
      "execution_count": null,
      "metadata": {
        "cellView": "form",
        "execution": {},
        "id": "kuSoGxcDG8E5"
      },
      "outputs": [],
      "source": [
        "# @title Tutorial slides\n",
        "\n",
        "# @markdown These are the slides for the videos in all tutorials today\n",
        "from IPython.display import IFrame\n",
        "IFrame(src=f\"https://mfr.ca-1.osf.io/render?url=https://osf.io/2mkq4/?direct%26mode=render%26action=download%26mode=render\", width=854, height=480)"
      ]
    },
    {
      "cell_type": "code",
      "execution_count": null,
      "metadata": {
        "execution": {},
        "id": "Cy5pHTHZG8E6",
        "outputId": "5c17d84c-286c-4677-eb80-07a5862e68b2",
        "colab": {
          "base_uri": "https://localhost:8080/",
          "height": 581,
          "referenced_widgets": [
            "69f304c22a054606b794d4a8b6965831",
            "18e81900f6a84b83aab807f5c0c2a24c",
            "7fc7647292024944b397c084d67c930b",
            "f26be7549edc414582450facaa1ac0b2"
          ]
        },
        "cellView": "form"
      },
      "outputs": [
        {
          "output_type": "display_data",
          "data": {
            "application/vnd.jupyter.widget-view+json": {
              "model_id": "69f304c22a054606b794d4a8b6965831",
              "version_minor": 0,
              "version_major": 2
            },
            "text/plain": [
              "Tab(children=(Output(),), _titles={'0': 'Youtube'})"
            ]
          },
          "metadata": {}
        }
      ],
      "source": [
        "# @title Video 1: Confidence Intervals & Bootstrapping\n",
        "from ipywidgets import widgets\n",
        "\n",
        "out1 = widgets.Output()\n",
        "with out1:\n",
        "  from IPython.display import YouTubeVideo\n",
        "  video = YouTubeVideo(id=\"Jii0gMy5JLQ\", width=854, height=480, fs=1, rel=0)\n",
        "  print('Video available at https://youtube.com/watch?v=' + video.id)\n",
        "  display(video)\n",
        "\n",
        "out = widgets.Tab([out1])\n",
        "out.set_title(0, 'Youtube')\n",
        "\n",
        "display(out)"
      ]
    },
    {
      "cell_type": "markdown",
      "metadata": {
        "execution": {},
        "id": "CkCzXiK3G8E6"
      },
      "source": [
        "Up to this point we have been finding ways to estimate model parameters to fit some observed data. Our approach has been to optimize some criterion, either minimize the mean squared error or maximize the likelihood while using the entire dataset. How good is our estimate really? How confident are we that it will generalize to describe new data we haven't seen yet?\n",
        "\n",
        "One solution to this is to just collect more data and check the MSE on this new dataset with the previously estimated parameters. However this is not always feasible and still leaves open the question of how quantifiably confident we are in the accuracy of our model.\n",
        "\n",
        "In Section 1, we will explore how to implement bootstrapping. In Section 2, we will build confidence intervals of our estimates using the bootstrapping method."
      ]
    },
    {
      "cell_type": "markdown",
      "metadata": {
        "execution": {},
        "id": "guEnAdIwG8E7"
      },
      "source": [
        "---\n",
        "# Setup"
      ]
    },
    {
      "cell_type": "code",
      "execution_count": null,
      "metadata": {
        "cellView": "both",
        "execution": {},
        "id": "K27zV2BnG8E7"
      },
      "outputs": [],
      "source": [
        "# Imports\n",
        "\n",
        "import numpy as np\n",
        "import matplotlib.pyplot as plt"
      ]
    },
    {
      "cell_type": "code",
      "execution_count": null,
      "metadata": {
        "cellView": "form",
        "execution": {},
        "id": "6Gn6CaPjG8E8"
      },
      "outputs": [],
      "source": [
        "#@title Figure Settings\n",
        "%config InlineBackend.figure_format = 'retina'\n",
        "plt.style.use(\"https://raw.githubusercontent.com/NeuromatchAcademy/course-content/master/nma.mplstyle\")"
      ]
    },
    {
      "cell_type": "code",
      "execution_count": null,
      "metadata": {
        "cellView": "form",
        "execution": {},
        "id": "kCgekUPFG8E8"
      },
      "outputs": [],
      "source": [
        "# @title Plotting Functions\n",
        "\n",
        "def plot_original_and_resample(x, y, x_, y_):\n",
        "  \"\"\" Plot the original sample and the resampled points from this sample.\n",
        "\n",
        "  Args:\n",
        "    x (ndarray): An array of shape (samples,) that contains the input values.\n",
        "    y (ndarray): An array of shape (samples,) that contains the corresponding\n",
        "      measurement values to the inputs.\n",
        "    x_ (ndarray): An array of shape (samples,) with a subset of input values from x\n",
        "    y_ (ndarray): An array of shape (samples,) with a the corresponding subset\n",
        "      of measurement values as x_ from y\n",
        "\n",
        "  \"\"\"\n",
        "  fig, (ax1, ax2) = plt.subplots(ncols=2, figsize=(12, 5))\n",
        "  ax1.scatter(x, y)\n",
        "  ax1.set(title='Original', xlabel='x', ylabel='y')\n",
        "\n",
        "  ax2.scatter(x_, y_, color='c')\n",
        "\n",
        "  ax2.set(title='Resampled', xlabel='x', ylabel='y',\n",
        "          xlim=ax1.get_xlim(), ylim=ax1.get_ylim());"
      ]
    },
    {
      "cell_type": "markdown",
      "metadata": {
        "execution": {},
        "id": "eKLabMy8G8E8"
      },
      "source": [
        "---\n",
        "# Section 1: Bootstrapping\n",
        "\n",
        "*Estimated timing to here from start of tutorial: 7 min*\n",
        "\n",
        "[Bootstrapping](https://en.wikipedia.org/wiki/Bootstrapping_(statistics)) is a widely applicable method to assess confidence/uncertainty about estimated parameters, it was originally [proposed](https://projecteuclid.org/euclid.aos/1176344552) by [Bradley Efron](https://en.wikipedia.org/wiki/Bradley_Efron). The idea is to generate many new synthetic datasets from the initial true dataset by randomly sampling from it, then finding estimators for each one of these new datasets, and finally looking at the distribution of all these estimators to quantify our confidence.\n",
        "\n",
        "Note that each new resampled datasets will be the same size as our original one, with the new data points sampled with replacement i.e. we can repeat the same data point multiple times. Also note that in practice we need a lot of resampled datasets, here we use 2000.\n",
        "\n",
        "To explore this idea, we will start again with our noisy samples along the line $y_i = 1.2x_i + \\epsilon_i$, but this time only use half the data points as last time (15 instead of 30)."
      ]
    },
    {
      "cell_type": "code",
      "execution_count": null,
      "metadata": {
        "cellView": "form",
        "execution": {},
        "id": "--3ArfrsG8E9"
      },
      "outputs": [],
      "source": [
        "#@title\n",
        "\n",
        "#@markdown Execute this cell to simulate some data\n",
        "\n",
        "# setting a fixed seed to our random number generator ensures we will always\n",
        "# get the same psuedorandom number sequence\n",
        "np.random.seed(121)\n",
        "\n",
        "# Let's set some parameters\n",
        "theta = 1.2\n",
        "n_samples = 15\n",
        "\n",
        "# Draw x and then calculate y\n",
        "x = 10 * np.random.rand(n_samples)  # sample from a uniform distribution over [0,10)\n",
        "noise = np.random.randn(n_samples)  # sample from a standard normal distribution\n",
        "y = theta * x + noise\n",
        "\n",
        "fig, ax = plt.subplots()\n",
        "ax.scatter(x, y)  # produces a scatter plot\n",
        "ax.set(xlabel='x', ylabel='y');"
      ]
    },
    {
      "cell_type": "markdown",
      "metadata": {
        "execution": {},
        "id": "CIN1NIHaG8E9"
      },
      "source": [
        "## Coding Exercise 1: Resample Dataset with Replacement\n",
        "\n",
        "In this exercise you will implement a method to resample a dataset with replacement. The method accepts $\\mathbf{x}$ and $\\mathbf{y}$ arrays. It should return a new set of $\\mathbf{x}'$ and $\\mathbf{y}'$ arrays that are created by randomly sampling from the originals.\n",
        "\n",
        "We will then compare the original dataset to a resampled dataset.\n",
        "\n",
        "TIP: The [numpy.random.choice](https://numpy.org/doc/stable/reference/random/generated/numpy.random.choice.html) method would be useful here."
      ]
    },
    {
      "cell_type": "code",
      "execution_count": null,
      "metadata": {
        "cellView": "both",
        "execution": {},
        "id": "PItvAhA6G8E9"
      },
      "outputs": [],
      "source": [
        "def resample_with_replacement(x, y):\n",
        "  \"\"\"Resample data points with replacement from the dataset of `x` inputs and\n",
        "  `y` measurements.\n",
        "\n",
        "  Args:\n",
        "    x (ndarray): An array of shape (samples,) that contains the input values.\n",
        "    y (ndarray): An array of shape (samples,) that contains the corresponding\n",
        "      measurement values to the inputs.\n",
        "\n",
        "  Returns:\n",
        "    ndarray, ndarray: The newly resampled `x` and `y` data points.\n",
        "  \"\"\"\n",
        "  #######################################################\n",
        "  ## TODO for students: resample dataset with replacement\n",
        "  # Fill out function and remove\n",
        "  raise NotImplementedError(\"Student exercise: resample dataset with replacement\")\n",
        "  #######################################################\n",
        "\n",
        "  # Get array of indices for resampled points\n",
        "  sample_idx = ...\n",
        "\n",
        "  # Sample from x and y according to sample_idx\n",
        "  x_ = ...\n",
        "  y_ = ...\n",
        "\n",
        "  return x_, y_\n",
        "\n",
        "x_, y_ = resample_with_replacement(x, y)\n",
        "\n",
        "plot_original_and_resample(x, y, x_, y_)"
      ]
    },
    {
      "cell_type": "markdown",
      "metadata": {
        "execution": {},
        "id": "0kVljlwyG8E9"
      },
      "source": [
        "In the resampled plot on the right, the actual number of points is the same, but some have been repeated so they only display once.\n",
        "\n",
        "Now that we have a way to resample the data, we can use that in the full bootstrapping process."
      ]
    },
    {
      "cell_type": "markdown",
      "metadata": {
        "execution": {},
        "id": "t6kFTNckG8E-"
      },
      "source": [
        "## Coding Exercise 2: Bootstrap Estimates\n",
        "\n",
        "In this exercise you will implement a method to run the bootstrap process of generating a set of $\\hat\\theta$ values from a dataset of inputs ($\\mathbf{x}$) and  measurements ($\\mathbf{y}$). You should use `resample_with_replacement` here, and you may also invoke helper function `solve_normal_eqn` from Tutorial 1 to produce the MSE-based estimator.\n",
        "\n",
        "We will then use this function to look at the theta_hat from different samples.\n"
      ]
    },
    {
      "cell_type": "code",
      "execution_count": null,
      "metadata": {
        "cellView": "form",
        "execution": {},
        "id": "7yU1_0CaG8E-"
      },
      "outputs": [],
      "source": [
        "# @markdown Execute this cell for helper function `solve_normal_eqn`\n",
        "def solve_normal_eqn(x, y):\n",
        "  \"\"\"Solve the normal equations to produce the value of theta_hat that minimizes\n",
        "    MSE.\n",
        "\n",
        "    Args:\n",
        "    x (ndarray): An array of shape (samples,) that contains the input values.\n",
        "    y (ndarray): An array of shape (samples,) that contains the corresponding\n",
        "      measurement values to the inputs.\n",
        "    thata_hat (float): An estimate of the slope parameter.\n",
        "\n",
        "  Returns:\n",
        "    float: the value for theta_hat arrived from minimizing MSE\n",
        "  \"\"\"\n",
        "  theta_hat = (x.T @ y) / (x.T @ x)\n",
        "  return theta_hat"
      ]
    },
    {
      "cell_type": "code",
      "execution_count": null,
      "metadata": {
        "execution": {},
        "id": "5gLc2EpYG8E-"
      },
      "outputs": [],
      "source": [
        "def bootstrap_estimates(x, y, n=2000):\n",
        "  \"\"\"Generate a set of theta_hat estimates using the bootstrap method.\n",
        "\n",
        "  Args:\n",
        "    x (ndarray): An array of shape (samples,) that contains the input values.\n",
        "    y (ndarray): An array of shape (samples,) that contains the corresponding\n",
        "      measurement values to the inputs.\n",
        "    n (int): The number of estimates to compute\n",
        "\n",
        "  Returns:\n",
        "    ndarray: An array of estimated parameters with size (n,)\n",
        "  \"\"\"\n",
        "  theta_hats = np.zeros(n)\n",
        "\n",
        "  ##############################################################################\n",
        "  ## TODO for students: implement bootstrap estimation\n",
        "  # Fill out function and remove\n",
        "  raise NotImplementedError(\"Student exercise: implement bootstrap estimation\")\n",
        "  ##############################################################################\n",
        "\n",
        "  # Loop over number of estimates\n",
        "  for i in range(n):\n",
        "\n",
        "    # Resample x and y\n",
        "    x_, y_ = ...\n",
        "\n",
        "    # Compute theta_hat for this sample\n",
        "    theta_hats[i] = ...\n",
        "\n",
        "  return theta_hats\n",
        "\n",
        "\n",
        "# Set random seed\n",
        "np.random.seed(123)\n",
        "\n",
        "# Get boostrap estimates\n",
        "theta_hats = bootstrap_estimates(x, y, n=2000)\n",
        "print(theta_hats[0:5])"
      ]
    },
    {
      "cell_type": "markdown",
      "metadata": {
        "execution": {},
        "id": "hr2_nKhcG8E-"
      },
      "source": [
        "You should see `[1.27550888 1.17317819 1.18198819 1.25329255 1.20714664]` as the first five estimates."
      ]
    },
    {
      "cell_type": "markdown",
      "metadata": {
        "execution": {},
        "id": "QpGClNEwG8E-"
      },
      "source": [
        "Now that we have our bootstrap estimates, we can visualize all the potential models (models computed with different resampling) together to see how distributed they are."
      ]
    },
    {
      "cell_type": "code",
      "execution_count": null,
      "metadata": {
        "cellView": "form",
        "execution": {},
        "id": "J6b5h8ZyG8E_"
      },
      "outputs": [],
      "source": [
        "#@title\n",
        "#@markdown Execute this cell to visualize all potential models\n",
        "\n",
        "fig, ax = plt.subplots()\n",
        "\n",
        "# For each theta_hat, plot model\n",
        "theta_hats = bootstrap_estimates(x, y, n=2000)\n",
        "for i, theta_hat in enumerate(theta_hats):\n",
        "  y_hat = theta_hat * x\n",
        "  ax.plot(x, y_hat, c='r', alpha=0.01, label='Resampled Fits' if i==0 else '')\n",
        "\n",
        "# Plot observed data\n",
        "ax.scatter(x, y, label='Observed')\n",
        "\n",
        "# Plot true fit data\n",
        "y_true = theta * x\n",
        "ax.plot(x, y_true, 'g', linewidth=2, label='True Model')\n",
        "\n",
        "ax.set(\n",
        "  title='Bootstrapped Slope Estimation',\n",
        "  xlabel='x',\n",
        "  ylabel='y'\n",
        ")\n",
        "\n",
        "# Change legend line alpha property\n",
        "handles, labels = ax.get_legend_handles_labels()\n",
        "handles[0].set_alpha(1)\n",
        "\n",
        "ax.legend();"
      ]
    },
    {
      "cell_type": "markdown",
      "metadata": {
        "execution": {},
        "id": "SQm3R9EaG8E_"
      },
      "source": [
        "This looks pretty good! The bootstrapped estimates spread around the true model, as we would have hoped. Note that here we have the luxury to know the ground truth value for $\\theta$, but in applications we are trying to guess it from data. Therefore, assessing  the  quality  of  estimates  based  on  finite data is a task of fundamental importance in data analysis.\n"
      ]
    },
    {
      "cell_type": "markdown",
      "metadata": {
        "execution": {},
        "id": "WrkKdb7XG8E_"
      },
      "source": [
        "---\n",
        "# Section 2: Confidence Intervals\n",
        "\n",
        "*Estimated timing to here from start of tutorial: 17 min*\n",
        "\n",
        "Let us now quantify how uncertain our estimated slope is. We do so by computing [confidence intervals](https://en.wikipedia.org/wiki/Confidence_interval) (CIs) from our bootstrapped estimates. The most direct approach is to compute percentiles from the empirical distribution of bootstrapped estimates. Note that this is widely applicable as we are not assuming that this empirical distribution is Gaussian."
      ]
    },
    {
      "cell_type": "code",
      "execution_count": null,
      "metadata": {
        "cellView": "form",
        "execution": {},
        "id": "Q11CY34fG8E_"
      },
      "outputs": [],
      "source": [
        "#@title\n",
        "\n",
        "#@markdown Execute this cell to plot bootstrapped CI\n",
        "\n",
        "theta_hats = bootstrap_estimates(x, y, n=2000)\n",
        "print(f\"mean = {np.mean(theta_hats):.2f}, std = {np.std(theta_hats):.2f}\")\n",
        "\n",
        "fig, ax = plt.subplots()\n",
        "ax.hist(theta_hats, bins=20, facecolor='C1', alpha=0.75)\n",
        "ax.axvline(theta, c='g', label=r'True $\\theta$')\n",
        "ax.axvline(np.percentile(theta_hats, 50), color='r', label='Median')\n",
        "ax.axvline(np.percentile(theta_hats, 2.5), color='b', label='95% CI')\n",
        "ax.axvline(np.percentile(theta_hats, 97.5), color='b')\n",
        "ax.legend()\n",
        "ax.set(\n",
        "    title='Bootstrapped Confidence Interval',\n",
        "    xlabel=r'$\\hat{{\\theta}}$',\n",
        "    ylabel='count',\n",
        "    xlim=[1.0, 1.5]\n",
        ");"
      ]
    },
    {
      "cell_type": "markdown",
      "metadata": {
        "execution": {},
        "id": "2Imv9CyPG8E_"
      },
      "source": [
        "Looking at the distribution of bootstrapped $\\hat{\\theta}$ values, we see that the true $\\theta$ falls well within the 95% confidence interval, which is reassuring. We also see that the value $\\theta = 1$ does not fall within the confidence interval. From this we would reject the hypothesis that the slope was 1."
      ]
    },
    {
      "cell_type": "markdown",
      "metadata": {
        "execution": {},
        "id": "rto1-cU7G8E_"
      },
      "source": [
        "---\n",
        "# Summary\n",
        "\n",
        "*Estimated timing of tutorial: 23 minutes*\n",
        "\n",
        "- Bootstrapping is a resampling procedure that allows to build confidence intervals around inferred parameter values\n",
        "- it is a widely applicable and very practical method that relies on computational power and pseudo-random number generators (as opposed to more classical approaches than depend on analytical derivations)"
      ]
    },
    {
      "cell_type": "markdown",
      "metadata": {
        "execution": {},
        "id": "xtHO2wLoG8E_"
      },
      "source": [
        "---\n",
        "# Notation\n",
        "\n",
        "\\begin{align}\n",
        "\\theta &\\quad \\text{parameter}\\\\\n",
        "\\hat{\\theta} &\\quad \\text{estimated parameter}\\\\\n",
        "x &\\quad \\text{input, independent variable}\\\\\n",
        "y &\\quad \\text{response measurement, dependent variable}\\\\\n",
        "\\mathbf{x} &\\quad \\text{vector of input values}\\\\\n",
        "\\mathbf{y} &\\quad \\text{vector of measurements}\\\\\n",
        "\\mathbf{x}' &\\quad \\text{vector of resampled input values }\\\\\n",
        "\\mathbf{y}' &\\quad \\text{vector of resampled measurement values}\\\\\n",
        "\\end{align}"
      ]
    },
    {
      "cell_type": "markdown",
      "metadata": {
        "execution": {},
        "id": "4Zi2saaWG8E_"
      },
      "source": [
        "**Suggested readings**  \n",
        "\n",
        "Computer Age Statistical Inference: Algorithms, Evidence and Data Science, by Bradley Efron and Trevor Hastie\n"
      ]
    }
  ],
  "metadata": {
    "celltoolbar": "Slideshow",
    "colab": {
      "collapsed_sections": [],
      "name": "Module_4_Tutorial_2",
      "provenance": [],
      "include_colab_link": true
    },
    "kernel": {
      "display_name": "Python 3",
      "language": "python",
      "name": "python3"
    },
    "kernelspec": {
      "display_name": "Python 3",
      "language": "python",
      "name": "python3"
    },
    "language_info": {
      "codemirror_mode": {
        "name": "ipython",
        "version": 3
      },
      "file_extension": ".py",
      "mimetype": "text/x-python",
      "name": "python",
      "nbconvert_exporter": "python",
      "pygments_lexer": "ipython3",
      "version": "3.7.12"
    },
    "widgets": {
      "application/vnd.jupyter.widget-state+json": {
        "69f304c22a054606b794d4a8b6965831": {
          "model_module": "@jupyter-widgets/controls",
          "model_name": "TabModel",
          "model_module_version": "1.5.0",
          "state": {
            "_view_name": "TabView",
            "_dom_classes": [],
            "_titles": {
              "0": "Youtube"
            },
            "_model_name": "TabModel",
            "_view_module": "@jupyter-widgets/controls",
            "selected_index": 0,
            "_model_module_version": "1.5.0",
            "_view_count": null,
            "_view_module_version": "1.5.0",
            "box_style": "",
            "layout": "IPY_MODEL_18e81900f6a84b83aab807f5c0c2a24c",
            "_model_module": "@jupyter-widgets/controls",
            "children": [
              "IPY_MODEL_7fc7647292024944b397c084d67c930b"
            ]
          }
        },
        "18e81900f6a84b83aab807f5c0c2a24c": {
          "model_module": "@jupyter-widgets/base",
          "model_name": "LayoutModel",
          "model_module_version": "1.2.0",
          "state": {
            "_view_name": "LayoutView",
            "grid_template_rows": null,
            "right": null,
            "justify_content": null,
            "_view_module": "@jupyter-widgets/base",
            "overflow": null,
            "_model_module_version": "1.2.0",
            "_view_count": null,
            "flex_flow": null,
            "width": null,
            "min_width": null,
            "border": null,
            "align_items": null,
            "bottom": null,
            "_model_module": "@jupyter-widgets/base",
            "top": null,
            "grid_column": null,
            "overflow_y": null,
            "overflow_x": null,
            "grid_auto_flow": null,
            "grid_area": null,
            "grid_template_columns": null,
            "flex": null,
            "_model_name": "LayoutModel",
            "justify_items": null,
            "grid_row": null,
            "max_height": null,
            "align_content": null,
            "visibility": null,
            "align_self": null,
            "height": null,
            "min_height": null,
            "padding": null,
            "grid_auto_rows": null,
            "grid_gap": null,
            "max_width": null,
            "order": null,
            "_view_module_version": "1.2.0",
            "grid_template_areas": null,
            "object_position": null,
            "object_fit": null,
            "grid_auto_columns": null,
            "margin": null,
            "display": null,
            "left": null
          }
        },
        "7fc7647292024944b397c084d67c930b": {
          "model_module": "@jupyter-widgets/output",
          "model_name": "OutputModel",
          "model_module_version": "1.0.0",
          "state": {
            "_view_name": "OutputView",
            "msg_id": "",
            "_dom_classes": [],
            "_model_name": "OutputModel",
            "outputs": [
              {
                "output_type": "stream",
                "name": "stdout",
                "text": [
                  "Video available at https://youtube.com/watch?v=Jii0gMy5JLQ\n"
                ]
              },
              {
                "output_type": "display_data",
                "data": {
                  "text/html": "\n        <iframe\n            width=\"854\"\n            height=\"480\"\n            src=\"https://www.youtube.com/embed/Jii0gMy5JLQ?fs=1&rel=0\"\n            frameborder=\"0\"\n            allowfullscreen\n        ></iframe>\n        ",
                  "text/plain": "<IPython.lib.display.YouTubeVideo at 0x7fdf0674dbd0>",
                  "image/jpeg": "/9j/4AAQSkZJRgABAQAAAQABAAD/2wCEABALDBoYFhwaGRoeHRsfJC0mIiIiIjEoLSctLjU3MC4vLy01P1BCNDhLOi8tRWFFS1NWW1xbMkVlbWRYbFBZW1cBERISGRYZMBsbMFc9OT9XV1dXV1dXV1dXV1dXV1dXV1dXV1dXV1dXV1dXV1dXV1dXV1dXV1ddV1dXV1ddV1dXV//AABEIAWgB4AMBIgACEQEDEQH/xAAbAAEAAgMBAQAAAAAAAAAAAAAAAwQBAgUHBv/EAEYQAAIBAgIECggDBwMDBQEAAAABAgMRBCESMUFRBRMUIlNhcZGSoRcyUoGxwdHSBkJyFSOCk7Lh8BYzQzRicyRUY6LxB//EABgBAQEBAQEAAAAAAAAAAAAAAAABAgME/8QAJREBAQACAgICAQQDAAAAAAAAAAECESExElEDQTITkdHwImGx/9oADAMBAAIRAxEAPwDz8AAAAAAAAAAAAAAAAAAAAAAAAAAAAAAAAAAAAAAAAAAAAAAAAAAAAAAAAAAAAAAAAAAAAAAAAAAAAAAAAAAAAAAAAAAAAAAAAAAAAAAAAAAAAAAAAAAAAAAAAAAAAAAAAAAAAAAAAAAAAAAAAAAAAAAAAAAAAAAAAH2Ho4xvS4fxT+wejjG9Lh/FP7APjwfYejjG9Lh/FP7B6OMb0uH8U/sA+PB9h6OMb0uH8U/sHo4xvS4fxT+wD48H2Ho4xvS4fxT+wejjG9Lh/FP7APjwfYejjG9Lh/FP7B6OMb0uH8U/sA+PB9h6OMb0uH8U/sHo4xvS4fxT+wD48H2Ho4xvS4fxT+wejjG9Lh/FP7APjwfYejjG9Lh/FP7B6OMb0uH8U/sA+PB9h6OMb0uH8U/sHo4xvS4fxT+wD48H2Ho4xvS4fxT+wejjG9Lh/FP7APjwfYejjG9Lh/FP7B6OMb0uH8U/sA+PB9h6OMb0uH8U/sHo4xvS4fxT+wD48H2Ho4xvS4fxT+wejjG9Lh/FP7APjwfYejjG9Lh/FP7B6OMb0uH8U/sA+PB9h6OMb0uH8U/sHo4xvS4fxT+wD48H2Ho4xvS4fxT+wejjG9Lh/FP7APjwfYejjG9Lh/FP7B6OMb0uH8U/sA+PB9h6OMb0uH8U/sHo4xvS4fxT+wD48H2Ho4xvS4fxT+wejjG9Lh/FP7APjwfYejjG9Lh/FP7B6OMb0uH8U/sA+PB9h6OMb0uH8U/sHo4xvS4fxT+wD48H1tb/APnuMhCU3Uw9opt2lPZn7Jwv2PU9qHe/oBzwdD9j1LN6UMut/QLgeo/zQ739AOeDprgSr7VPvf0M/sKr7dPvf0A5YL9TgmpF20oPsb+hNR4BqTV1UpLtk/oBygd9fhDEP89HNX9aW3+E3f4LxXt0dV/Wl9pm5yXVamNvMfOg+nj+BcW/z0fFL7TdfgDGdJQ8UvtJ+pj7PGvlQfV+j/GdJQ8UvtNX+AsWvz0PFL7R+pj7PGvlgfSS/BOKX56Pil9pUq/hqvGTi5U7rrf0L54+zxrjA+gw/wCEMTUV4ype9y+0nX4Exft0PFL7R5RPGvWQAaQAAAAAAAAAAAAAAAAAAAAAAAAAAAAAAAAAAAAAAAAAAAAAAAAAAAAAVuEv+nrf+OXwZ5WmeqcJf9PW/wDHL4M8qUTGTeLZPmy7PmiHTJnBaEs9i+KK+hHeSLW+mbKRGqcd5uoxSykNoXNoSPo+A6UZYaLcYt3ebS3lb8QwUVSaSWb1K24SldTCPmR/RH4HWhTvD+E42EklCLbstCPwL9LhaloqKu8rHLPDLPLiNzPHDHmurCBKkR0MfSm7K6e5rX2FjTiS/FZ2z5+XSKRG+v5v5G0pK7MupHUmtRJgu9ItCLvu7DhY+iuOnbq+CPoYVVsa+Jx8fnWn7vgi5zUawvK1wZCKoxus7v4l9W9llXg2aVFdr+Jap1Yp9fadMZxGMryuAA7OYAAAAAAAAAAAAAAAAAAAAAAAAAAAAAAAAAAAAAAAAAAAAAAAAAAAAAr8IL9xV/RL4M8xnSSPUMXG9Kot8WvI+MlwVHecfly1Y7fF1Xz7itCXu+JVlBbDu43AKEXbbY5dSjYku4Wcqugb06avmbWsTYeCk88i2pJu6XMNwjOjT0ISVld5xvrK+Kx1Sukp2y1WVjZ4bNldxe4kq2aXMTiJzhGMNiXkaYepWbto5dZvSq04OV5LUtvVcsUuEaMc9fZrOnnZdRznwzKbyXaVWpTSlNO11ms2nsPo6NbTpxlty6jiYXhPD1KbV7OWWjNa9uR1ODfUlts7HS/54brjr9P5JMeqvMjmn/jsja90auKOUxdtswa2Pzuc3Fr97J9nwOhSglay2f5mUcWv3j93wM5zhrC8p8E7U/4mWcPFJ7NewqYR2p6/zPX7ixTqLWbxnDGV5dYAG0AAAAAAAAAAAAAAAAAAAAAAAAAAAAAAAAAAAAAAAAAAAAAAAAAAAAAEeI/25/pfwPmnI+kxP+3P9L+B8vJ5Hm+fuO/xfarjGms95Ulhla5Jjpav1Ilw9SM1ZGJdRqzdcytQjreo1w0acnZPMtY+0YuNsjh4avozubktjF4r6OGETWsqYjAaOpmj4UUbNbszeljeNdjOso1xUGIwMVFpK231rayxQ4Kp8mclbSXr57G8u7LzNcfK1na6ska8GS58loN3XV9TrztZrTp8EYCGlByino73paW7sWZ3MHBwi1aycnlb/Nev3nM4KaUb2aUda2qx2sPWjUheDyNyuWeowpO9mb2zMqNjWTsbch33lSUoqs3P1bbr55f3LaXU/Mo4qNp+5Gc+I1j2mwquna1rv5E8YpO/zIMD6su35IlqUr63lu3msOmcu3XAAUAAAAAAAAAAAAAAAAAAAAAAAAAAAAAAAAAAAAAAAAAAAAAAAAAAAAAQ4yVqNR7oS+B8JPhNI+44Q/6er/45fBnlk5HH5Jux0wunUnwhBq8o3VypPhTQd4RKrfMfavmVKmIitSuZmEauVWcRj6lTNlPSs8yRYxOLSVnv3FecWszpIxaldex1uBqsJ6Sd1NZqzyaOFNnf/D/BU5qGIjOKV2pR6hcdkujhCvacVsZjA4iEame3aVOHKyeI0YZcXk+3aVoY1rXCL718x4WNTN9ZX4TgoaMPztRv2sko4p0qcedo2k23fYfI0KkqtaGlJLPLcjrcKU6rprm8yN3J6S920aTe3Uh+LkpW4rSWx6Vm/I1o/i2TnzqMdC/5W7pbc3kz47SvqJFPZd9iOjnp61GnFpNamroPDx3HxfAX4llSmo1pTlTatZ5uO61/gfZ4XFU60NOnJSXw6mtgTRxEVsNXRiSSkRymajNjpgAy2AAAAAAAAAAAAABVx9aUIrQ1uVr2ulk3n3W95aIq+IjTScr5uytFybevUuwChXxFTQw87uDavPmSkk3HbFde80w9as6sHPSgpS50bNq7pwdurPS7t5cXCNJ6nJ2SllCTybstmvq169w/aNN2s5SvHSyhJ2Weuyy1PXuArV8ZXjUlCMLpPRUtF25/qPsWafuNOW122ks72d6cuZz4xW3nc1t+6+os0uFISipNSV1FpaMnJ3V/VS3ImhjKcp6Cb0uxpXWtXta/UBQnja8XNWvaSV1B2S0rX7be7bqJ54mqqMJOycpWlJRb0Y587R17F2XOgAOTPG1tJqKTWjk3Tks9DSUrZu18vLYYWPrtwSjk9ri+c9K1stWWd+u+w64A5+IqVVX0YZKSgtJpyS/3G8r2vlHvXUWcHUlOlCU1aTinJWtntyJjIAAAAAAAAAAAAAAAAAAAAAAAAEOL/wBqp+l/A864T4RhTvCnGLntbSsvqz0mpBSi4vU00/ecJ/g3AdFL+bP6mbjtqXTzSpKUm228/wDNRFKLWp956f8A6MwHRS/mz+o/0XgOil/Nn9S6TbyyTvnqe0xpPUep/wCieD+hl/Nn9TH+iOD+hl/Nn9QbeXXPp/wvi9DDV7/ld0tWtf2Pqv8ARPB/Qy/mz+pYofhTBU46MactFtSadSTu1qvd5rqGh8VheBY1ISlUlKU5O7lBScc89ai7kdTgSFJ6U5ScI5vJq/Vmkeg/sLDa+Lu97d33vMjn+G8JK16by1c+X1Jyu4+BwmDjGsqi5qV9GL121Xs8/iVOGcc5z4tPmx19bPSl+HsN7EuzTdvcr2RUf4LwDbbpSu//AJZ/Unjd7pvh5cmbq56d/ovAdFL+bP6j/RWA6KX82f1NI8zT7+47HAfDHEVLTTlTllKO3qaPtP8AReA6KX82f1Mv8GYDopZf/LP6izc0bWaVWM4qUXeLV01uIOI0HKWk2pbHsLeH4DoU46MFNRWzjJfUmXBlK97SfbJv5nH48Pkxy/LhrK42dLgAO7CPj4Xtpxve1rrWtnaaRlN3d4rNr1W9TtvNHglpuWnKznpuOVrpJLZssvf7jDpSnBxjUlTelLnRSb9Z+0mgsS8/2o+B/Uc/2o+B/Uqfs+t/7yt4af2E9XD1HSUI1Xpq/PaV3k7Xsra7PVsItknV2k5/tR8D+o5/tR8D+pVnha+dquWds7ZXyWrdtM4bCVYt6dXSVml1f5l3X3lZWef7UfA/qZtP2o+B/Ur4LCSpPOTktFRSu8rXzt13168i5tAj0Z+1Hwv6jRn7UfC/qSgCLRn7UfC/qQ4rCzqaH7xR0ZaV1F31Nb+stnN4X4UlhpUVHD1K3Gz0W4fkW9/5seYGy4MWjopq3NepvOLunm8829ZmlwdoNaM7WVmknZrNq+fWy+AOdHguyilNpxtaSTurKy27nYkpYDQm5xcbvP1dr1vXcugCLRn7UfC/qNGftR8L+pIRYrFQpR0pu2xJZtvcltYGbT9qPhf1MNzVruLV0sota/eVFh6mIelWvCnspJ5vrm1/Ssu0u1dS7V8SS7SVIARV5yjG8Y6Tyy1FVtOTukks03m91vqawqOSvHQa3qV9WT2GlGcpNOcNF2lle+4gwf7uvWpbG+Nh2S9b/wCyb/iKm1u890e9/QXnuj3v6EgIqO890e9/QXnuj3v6G8mkm3kka06iksvMDF57o97+hrUnNK6jF6stL+xKQ4u2g73tdau1Ey4hG2nK9rLvf0M3nuj3v6CU3pqOxpvusbiXaStLz3R739Bee6Pe/oSAqo7z3R739Bee6Pe/oSADSEm73Wp2y7L/ADNyOnrl2/JEgAAACGdS2k3KMYx1t7Fa7bdzGJqVI24uClvztbcKa0oyU16ySku1K6A3Wl7Ue7+5m0t8e7+5V4Km+K4uXrUm6b93qv3xs/eXS2aSXbS0t8e7+4tLfHu/ubmk5qKz2uyW8ilpb4939xaW+Pd/czCakk1qaujIEUnNSiubne7tq88ze0t8e7+5HVtxlO97527tpOSfatLS3x7v7i0t8e7+5uCo0tLfHu/uLS3x7v7m4A0tLfHu/uZpyvFPejY0o+pHsQG4AAAADRVI6tJa7a9q1oglSc4NKcqfOlzo2v6z3po1fB6dTTcn62lay/7cv/ovMnoLm/xS/qYFTkEv/d1++H2ElbDN04RVWWlF30m83k1no2333ZFwEk0mnPqYSo3ZV3GKatZ57dbd9tn7javhZylKUazjfUtaWUUsr22S8XUXgVXLlgKr/wCdrJpWbuk2na99ytpa8y7hqThFRctJ3k79rv8AMnMAZAAAAAADAGQazmopyk0ks227JHP42picqd6VHbUtaU/0J6l/3P3byW6S1TwfDGJqV8RReGSlCdqb0ua4586b2bHlm79R0sLgdGXGVJcZVf5nsW6K/Kv8ZPh8PClHRhFRXx629r6yRk19017DSrqXaviYw+Ip1YqdOcZweqUZKSfvRmrqXaviaVIYMkdeipx0Zav83gH667H8ipwjzJUq/sS0Zfonk+56L9xPRoRpySjfVJ5u/sklekqkJQlnGSafYyxLNxuZKfBlVypJT9eDcJ9scr+9WfvLgvBLtpWp6UXHerFd4eS9V60752155eVi2YM2StS6VeKnoyW+1nfVZL53Npxkqdla91rtvW8sEOLtoO97XWrtRmzUq72levV7zJHJvjIrO1nfyJTUvbEAAVQGCrOtJ4iNOL5sYuVT35RXxfuCWp6euXb8kSEdPXLt+SJAoAAMNo0hrl2/JGtfDQqW0le2r3maMFG6WpWXckBVf7vFp/lrRt/HDV3xv4S+VOE6LlSbh68Gpw7Y529+a95PQrKpCM45xkk17y3rbM70kIsRR00lqs7+TXzJQZs20qvDyvlZRuna+63y2GOInoxWXN69evq7C2CeMa8qgaalT1bb92y+ZOQVbcZTve+du4nE+0oADSABgDJpR9SPYithK0qlSrK/7uL0Ire4+s+92/hLNH1I9iFSXbcABQjdeClo6S0t1yQoVr8qp2byjmk3bO+vLLVvQF8joan+qXxZDi8HxsqctK2g76r7U/l5ktD1f4pf1MCUAAAAAAAAAAADAGSti8ZGlZO8py9WEc5S7F89RDVxspydPDpSkspVH6kPufUvfYlwmCjTvK7nUl605a39F1LIzvfTO99IYYOVVqeIs7ZxpLOMet+1Ly3by+CDF4ynRSdSVr6lrcnuSWbLqRrHH6iwUsfjaUE6c7zlNNKlFXlJPLVsXW7Ih/8AUV9+Hpe51ZfKHm+wt4TBU6KahGzfrSecpPe5PNjvp08Zj+Tk8F8DSp0lTjfD0Lt8XCbc3f2qmzsj3naq6l2r4m5pV1LtXxGmcstpCKvUcY3UXJ7kSlehidOc42toO1769f0KyUajlJNxcXaWT9xOaP112P5EgFCX7rFJ/lrqz/XFZd8b+EvlbH4d1aTjF2mudB7pLNeZtg8QqtOM0rXWa3PU17nct5m2ZxdJwYOfhuEHKbU01GVlHLe5aOa3qN896I3MbXQI8Q3oZNJ3Wu29byOOOpvU29ex7G18UzWeIhUpNq7jePVratrM5Ximqs536jYilF8ZF7En8iUsZgACq1nJJNt2SV2ynwXFuEq0laVZ6XZHVBd1u9mOEnxjhh1/yO8+qEfW78l7y8i9RnutKeuXb8kSEdPXLt+SJCNABrN2Te5ARYitOLWjT07687WNqEm7tqzdrrdkjGFr8ZDSta5vDXLt+SA2KOA/d1KlDYnpw/TLWvdK/ei+UOE1oaFda6T53XB5S7sn/CWekvtfBiLTV1mmRYqq6dOc0ruKbS3vYiLOUpk5+Hx9oy4y+Wk07a1F2errv5EsuEIK+vJpPVk20lfPLWtZNteNTVG9OFmks7rfkSlZ1FKVN2ed7dWXmWST7SgANIFbhDEOnSlKOc3zYLfKWUfMsFF/vcT/ANlDzqSXyj/UWJVnCYdUqUYLPRWve9r97N6PqR7EbGtH1I9iIrcAADnYmVsVS16ra9+ls29flqZ0SnVoyeJhO3NUbN2j17b3WzY/cBbNKHqv9Uv6mQ4rCupOnJStoO9rXTzT77Jr+JktD1f4pf1MCUAAAc3giljIyr8rqQnFzbpaKtox3PJdW968zpAAAAAKmKxqg1CKdSq9UI6+1v8AKutkt0W6T168KcXOclGK1tlHRqYn1tKlQ9nVOfb7K6tfYSUME3JVa7U6i9VL1IfpW19bz7C5OainKTSS1tuyRO+01axSpRhFRhFRiskkrJGuIxEKUXOpJRitrdil+0KlbLCwvHpp3UP4Vrn5LrJMPwZGMlUqSdaqvzz2fpjqj7i79OvhMfy/b+9I+U16/wDsx4qn0lRc5/ph85dxPhODqdJuWc6j11JvSk/fsXUsi0ZGkufGpxGDIBWAjq6l2r4khHV1LtXxAkKvIY8/N8+Sk9WzPLItEderoR0rOWrJZvN2Ajo0FTkkm3lJ5v8ASWCvRrack9GUcpLnK3slgAc+H7nEOP5K/Oj1TS5y96V/czoFfG4bjabje0snGXsyWafeWJU5DUwkJR0bWV783LO1r5GuBxPGwu1acXozjukta/zYyySxZfuKywMMteTbXU228t2tmHQVOnaDt6qV3krMtFfGTiopS1yasr2bs08viZy6rW6lfrLP3bxGqm2ls/8Aww6fPUtya77EMcO45xeep9mfzZN3bnysiUkk23ZLNsgtV3rV1dX9ytjG6so4felKs1sj7P8AE/JM3jybbcGxc3LESWdT1E9kF6vfm/eXgkZLbtZNI6euXb8kSEdPXLt+SJCKGGrqxkAVFwfBQjBNpRva1lrae7q2EtCCjeK1Ky8kYxFdwtaEp3vq9xtQle7ate2XuQEphq6s9RkAUODnxblh5f8AHnDrpv1e7V7lvLzSas1dMp8I0pc2tTV6lLO3tRfrR9+zrSLNGrGpCM4u8ZK6ZbzyzOOGlXCU561sss2ra1lbtZiWDg9afie9P4pdxYBG91X0NGVNJ2XOybeZYIav+5Tyvrz3ZChXU27asn33+nmZl5S1MAYNCDG4niqbla71Rj7Unkl3mMDhuKpqLd5PnTe+Tzb7yCn+/r6f/FRbUf8AunqlL3au25fLeOGZzyGtH1I9iNzSj6kexEabgAAc+tSXK6crNZa1FWbs8m9d7W3nQKFaN8VTexRafNvm76pbH271YC+R0PVf6pf1MjxdGc9DQno6MoyeTzSabWTWy5vQ9X+KX9TAlAAGDIMAZMNkWJxUKUdKbtsSWbb3Ja2yosPUxGddaFLZRTzf/ka1/pWW+5LUtJYqdduOHyhqlWauuyC/M+vV2lnC4WFGL0dbzlJu7k97e0grcIwi+KoxdWostCGqP6pao/HqNP2fOtnip3XRQuofxPXP35dRlufH95cf30zPhPTbhhocdJZOV7U49stvYrlPDcGYmeKnPGSpVaKS4uKTSUss9HVlnruduEFFJRSSWpJWSNjWvbXnr8eP+sWMgpYrhWhRr0qFSdqlb1FZ5+/YVzY4Z4LhjMPKhUlKMZNO8XZ5O+0tYeiqdOMFdqEVFXd3ZK2b2kgAAAAR1dS7V8SQjq6l2r4gSAGJK6a3gaP112P5EhXo0dBpaUpZSzb/AElgAYMgDn4yLo1OURV42tWivZWqa618OwvRkmk07p5poyc3PCPU3hm75f8AE/s+HZq12z06ZVx9CM4xlJK8JKUW/wAr1XXubXvLEZJpNNNPU0R4r1HlpZrL3oxl1W42bWkl+azt8zc0cVpp3zs7I0xWKhSjpTfUks3J7ktrE3tljG4pUoXtpSbtCK1yk9SNcDhnTi3J6VSb0py3vq6lqXYR4TDylPjqy59rRhrVOO7rk9rLpq8cJOeWQARpHT1y7fkiQjp65dvyRIAAAA0hrl2/JGK9LTjottda1mKENG6u3ayz7EBIZAAwc9f+mq2/4assv+yb2dkvj2nRNK1KM4uE0nGSs09pZUsbGTnUa8qElSrNuDyp1Xt3Rm9kuvb2nQFmiXaKo+fDO2vLfka8mSXNdsmvK3yRtU9eHNvrz3ZEpjW9rZtA8O9k2luz6uvq8yHG1pNqhSdqklzpexHbLt2Lr7DfF4zRap01p1pao7Evak9i+Ow2weF4tO70pyd5zeuT+SWxG5JOWdfUS0KMacIwgrRirJEgBGg0o+pHsRuaUfUj2IDcAACtVpS42MoxptJZuS53uZZAAjoan+qXxZHiqc5OGi7WknJ6TWS6lk/eb0PVf6pf1MCUA1nNRTlJpJZtvJIDYpYjHWlxVGPGVdqvzYdc3s7NbKWL4T00rSdKk9Ukm6lTqpw1267fU3w2GqyjoxXJaO5WdWXW3mo3977DG99LMblN9T3/AAOdOhO9SUq+KksoxV5Jbox1Qj1v3sl5NXr/AO9LiqfRU3m/1T1+6Nu1lrCYOnRVqcUr5t63J723m32k5ZGplMfx/dHQw8KUVCnFRitiViQyDTFuw5vDnBPLKUYKtUo6M1LSpuzdtn+bS/UqRgtKUlFb27LvNgBFUw1Oc4TlCMpwvoScU3G+uz2EwAAAAAABHV1LtXxJCOrqXaviBIAAIIVNKepq2ks1rs1muonNJQTz2rrsR04PPSus8uc/81gTg04tb5eJkcIO7vdLK3Ofv+XeBOYNeLW9+JkcIPSle+jlo857s9oFd4GdJt4eSinm6cs4e7bH3ZdRHiMZVULTw9SLuudCUZLWutPyOhxa3y8TKuInCM1Co3oy0dHN5vStv3uHeLdxJNNHia08oUeLk9TqtatrtFvqyuiXDYFRlxk5OpV1aUti3RWqKJ+JV7537Wa6D09ujbXd6+8S3lJPaUyacWt8vEzSVN6StfRs7859VtvaGkwNOLW+XiZpOm7x0b2vzuc8lZ6vfYDanrl2/JEhrGKWrabAAABrJ2Tdr22I0oS0ruzV7Oz7ESkc6d7tXv8Aqa+AEgIaVJ6K0rp7bSf1Mullle/65ASghpUsude93+Z6r5bd1jbilvl4n9QM1KcZxcZJSi8mnmmUlhq1H/Zmpw6Oo3l+mevvuWaNJ6K076W20pW+JvxS3y8T+pZUs2oVMXV04Xw8755KcGnlvuvgSPlNTLm0I709Ofu2LzNqc4OpoO+nFy/M8urXr0Wu8s8Ut8vE/qScGv8AbTC4SFJNRWbzlJu8pPe3tJiKFJ3le9r5c56rLr33NuKW+Xif1CpAQxpPSle+jlbnP37Tbilvl4n9QJDSj6kexEapPTfsWVudK987+7UTRVkktSAyAAAAAEdD1X+qX9TIsVCq5Q4t2inzu9eWjpLta7VvTT0Gk7O8rO2p3ewCLhDhGlhoaVSWb9WK1y7EcmFLFYxqc48TT1xUle3XoPW+uWS3bTp4XgunCfGSvVrPXUnm/ctUV2F0xq3tZZPpVwnB9Ok3JJym/WqSelJ+97OrUWjINltt3QABAAAUuFuC6WMoujWTcLp5Ozui1TgoxUY5KKSXYjcAAAAAAAAACOrqXaviSEdXUu1fECQAAAAAAAAwZAArV8FCpUhOWbjaystjuuzOz9yLIAAAAAAAAAAAAAAAAAAAAAAAAArU8FCNaVZLny25ZXUU+/Qjr3FkAAAAAAAAAAAAAAAEFKrFJpyinpS29bJyLEKWhLQ9a2X+PK4GePh7ce9Dj4e3HvRjDqShHT9a2erztlfsJQI+Ph7ce9Dj4e3HvRIV6Snxs201Cy0b6Oe+1s+8CjXwWnjaWJWLlGFOLi6KlzZN3zefXu2I6XHw9uPeiQAR8fD2496HHw9uPeiLGqq4ritHS0k3d2yTztkywBpx8Pbj3ocfD2496JDAGnHw9uPehx8Pbj3oh4PVXi/31tO+tWz3vLrv7rdhaAj4+Htx70OPh7ce9EhVlGryhNf7Wjnq157dfs5eexhNx8Pbj3ocfD2496JABHx8Pbj3o1qVYuyUk3dan1keOVW0eK13d9VvVdr3ztpaOokwunoLTvpXeu17XyvbK9ragJgAAAAAAAAAAAAAAAAAAAAAAAAAAAAAAAAAAAAAAAAAAAAAAAAABFyiG/yHKIb/ACKJzMTw5SpSqxkp6VJwTSS52mrrRzzste6wH0PKIb/Icohv8jjvhGjdrjFdPR2681lv1PVue4ipcL0Z04zTfOjGWjtWnotJ7L2km1fUwO7yiG/yHKIb/I4FbheEK06Ti24K7elTX5dLJOSk8uqxmPDFJtJaTd7Zxt+fi9bttA73KIb/ACHKIb/I4n7Vw+jp8atHfZ6rKV9WqzTvqzLgF/lEN/kOUQ3+TKIAs4icZwcVNxv+aN7rsIatOMpNqq1dWyT3JfLLte80AGHhYu160++XsuOWeWsPDJu7rya0tK1nbWml2c3zMgC1QqQhCMdK9lbUyTlEN/kyiAL3KIb/ACY5RDf5MogC9yiG/wAmOUQ3+TKIAvcohv8AJjlEN/kyiAL3KIb/ACY5RDf5MogC9yiG/wAmOUQ3+TKIAvcohv8AJjlEN/kyiAL3KIb/ACY5RDf5MogC9yiG/wAmOUQ3+TKIAvcohv8AJjlEN/kyiAL3KIb/ACY5RDf5MogC9yiG/wAmOUQ3+TKIAvcohv8AJjlEN/kyiAL3KIb/ACY5RDf5MogC9yiG/wAmOUQ3+TKIAvcohv8AJjlEN/kyiAL3KIb/ACY5RDf5MogC9yiG/wAmOUQ3+TKIAvcohv8AJjlEN/kyiAL3KIb/ACY5RDf5MogC9yiG/wAmOUQ3+TKIAvcohv8AJjlEN/kyiALFHhKjUclCabjrVntvZ9mTz6iblEN/kzjYTCyhOpOc1OU7Z6Nmkr2jreSv8ddy2Btxb3FKtwNSnOU5U25SvnfVpRjF23ZRR1gByP2NT0tK09JO8XpvmetlHcudLv6ka0eAqMPVg1lFa/ZUUs9eqMf8Z2QBzp8Hxlxt4v8Ae+vn1KOW7JET4IhfVPW3bSe2fGf1Z+86wA4WM4BVSGjBunzdBvNtwcVFpZrZFa76tR1OLe4sgCtxb3Di3uLIArcW9w4t7iyAK3FvcOLe4sgCtxb3Di3uLIArcW9w4t7iyAK3FvcOLe4sgCtxb3Di3uLIArcW9w4t7iyAK3FvcOLe4sgCtxb3Di3uLIArcW9w4t7iyAK3FvcOLe4sgCtxb3Di3uLIArcW9w4t7iyAK3FvcOLe4sgCtxb3Di3uLIArcW9w4t7iyAK3FvcOLe4sgCtxb3Di3uLIArcW9w4t7iyAK3FvcOLe4sgCtxb3Di3uLIArcW9w4t7iyAK3FvcOLe4sgCtxb3DQe4sgDh8E8GzoSqcxRjJLPm6TacrtuMVdZq17vWdPi3uLIAAAAAAAAAAAAAAAAAAAAAAAAAAAAAAAAAAAAAAAAAAAAAAAAAAAAAAAAAAAAAAAAAAAAAAAAAAAAAAAAA+br0pvFKakr8ZpKrxsdFQy5tteSurbbnQxOLnyim4ODpL1v3kM9Ltd8tZ42APV+FISnWlKEk4vU1WS/LbVpLb8SLhilOo6VpKoowimlWjG0lree/LPqPLQB6vwlCUo4fSnGsoRtUjGpFXlZZ569uezWdTAVowowjUqwc0s+en57e08UAHuXKqfSQ8SHKqfSQ8SPDQB7lyqn0kPEhyqn0kPEjw0Ae5cqp9JDxIcqp9JDxI8NAHuXKqfSQ8SHKqfSQ8SPDQB7lyqn0kPEhyqn0kPEjw0Ae5cqp9JDxIcqp9JDxI8NAHuXKqfSQ8SHKqfSQ8SPDQB7lyqn0kPEhyqn0kPEjw0Ae5cqp9JDxIcqp9JDxI8NAHuXKqfSQ8SHKqfSQ8SPDQB7lyqn0kPEhyqn0kPEjw0Ae5cqp9JDxIcqp9JDxI8NAHuXKqfSQ8SHKqfSQ8SPDQB7lyqn0kPEhyqn0kPEjw0Ae5cqp9JDxIcqp9JDxI8NAHuXKqfSQ8SHKqfSQ8SPDQB7lyqn0kPEhyqn0kPEjw0Ae5cqp9JDxIcqp9JDxI8NAHuXKqfSQ8SHKqfSQ8SPDQB7lyqn0kPEhyqn0kPEjw0Ae5cqp9JDxIcqp9JDxI8NAHuXKqfSQ8SHKqfSQ8SPDQB7lyqn0kPEhyqn0kPEjw0Ae5cqp9JDxIcqp9JDxI8NAHuXKqfSQ8SHKqfSQ8SPDQB7lyqn0kPEhyqn0kPEjw0Ae5cqp9JDxIcqp9JDxI8NAAAAAAAAAAAAAAAAAAAAAAAAAAAAAAAAAAAAAAAAAAAAAAAAAAAAAAAAAAAAAAAAAAAAAAAAAAAAAAAAAAAAAAAAAAAAAAAAAAAAAAAAAAAAAAAAAAAAAAAAAAAAAAAAAAAAAAAAAAAAAAAAAAAAAAAAAAAAAAAAAAAAAAAAAAAAAAAAAAAAAAAAAAAAAAAAAAAAAAAAAAAAAAAAAAAAAAAAAAAAAAAAAAAAAAAAAAAAAAAAAH/2Q==\n"
                },
                "metadata": {}
              }
            ],
            "_view_module": "@jupyter-widgets/output",
            "_model_module_version": "1.0.0",
            "_view_count": null,
            "_view_module_version": "1.0.0",
            "layout": "IPY_MODEL_f26be7549edc414582450facaa1ac0b2",
            "_model_module": "@jupyter-widgets/output"
          }
        },
        "f26be7549edc414582450facaa1ac0b2": {
          "model_module": "@jupyter-widgets/base",
          "model_name": "LayoutModel",
          "model_module_version": "1.2.0",
          "state": {
            "_view_name": "LayoutView",
            "grid_template_rows": null,
            "right": null,
            "justify_content": null,
            "_view_module": "@jupyter-widgets/base",
            "overflow": null,
            "_model_module_version": "1.2.0",
            "_view_count": null,
            "flex_flow": null,
            "width": null,
            "min_width": null,
            "border": null,
            "align_items": null,
            "bottom": null,
            "_model_module": "@jupyter-widgets/base",
            "top": null,
            "grid_column": null,
            "overflow_y": null,
            "overflow_x": null,
            "grid_auto_flow": null,
            "grid_area": null,
            "grid_template_columns": null,
            "flex": null,
            "_model_name": "LayoutModel",
            "justify_items": null,
            "grid_row": null,
            "max_height": null,
            "align_content": null,
            "visibility": null,
            "align_self": null,
            "height": null,
            "min_height": null,
            "padding": null,
            "grid_auto_rows": null,
            "grid_gap": null,
            "max_width": null,
            "order": null,
            "_view_module_version": "1.2.0",
            "grid_template_areas": null,
            "object_position": null,
            "object_fit": null,
            "grid_auto_columns": null,
            "margin": null,
            "display": null,
            "left": null
          }
        },
        "e6b72b838f6443f4ab8713aac7cacd0f": {
          "model_module": "@jupyter-widgets/controls",
          "model_name": "TabModel",
          "model_module_version": "1.5.0",
          "state": {
            "_view_name": "TabView",
            "_dom_classes": [],
            "_titles": {
              "0": "Calendar"
            },
            "_model_name": "TabModel",
            "_view_module": "@jupyter-widgets/controls",
            "selected_index": 0,
            "_model_module_version": "1.5.0",
            "_view_count": null,
            "_view_module_version": "1.5.0",
            "box_style": "",
            "layout": "IPY_MODEL_0a7ee4fa158d4d16bb7833bc4d8fad00",
            "_model_module": "@jupyter-widgets/controls",
            "children": [
              "IPY_MODEL_aa38c4f26afb43a2946efde6b048be94"
            ]
          }
        },
        "0a7ee4fa158d4d16bb7833bc4d8fad00": {
          "model_module": "@jupyter-widgets/base",
          "model_name": "LayoutModel",
          "model_module_version": "1.2.0",
          "state": {
            "_view_name": "LayoutView",
            "grid_template_rows": null,
            "right": null,
            "justify_content": null,
            "_view_module": "@jupyter-widgets/base",
            "overflow": null,
            "_model_module_version": "1.2.0",
            "_view_count": null,
            "flex_flow": null,
            "width": null,
            "min_width": null,
            "border": null,
            "align_items": null,
            "bottom": null,
            "_model_module": "@jupyter-widgets/base",
            "top": null,
            "grid_column": null,
            "overflow_y": null,
            "overflow_x": null,
            "grid_auto_flow": null,
            "grid_area": null,
            "grid_template_columns": null,
            "flex": null,
            "_model_name": "LayoutModel",
            "justify_items": null,
            "grid_row": null,
            "max_height": null,
            "align_content": null,
            "visibility": null,
            "align_self": null,
            "height": null,
            "min_height": null,
            "padding": null,
            "grid_auto_rows": null,
            "grid_gap": null,
            "max_width": null,
            "order": null,
            "_view_module_version": "1.2.0",
            "grid_template_areas": null,
            "object_position": null,
            "object_fit": null,
            "grid_auto_columns": null,
            "margin": null,
            "display": null,
            "left": null
          }
        },
        "aa38c4f26afb43a2946efde6b048be94": {
          "model_module": "@jupyter-widgets/output",
          "model_name": "OutputModel",
          "model_module_version": "1.0.0",
          "state": {
            "_view_name": "OutputView",
            "msg_id": "",
            "_dom_classes": [],
            "_model_name": "OutputModel",
            "outputs": [
              {
                "output_type": "display_data",
                "data": {
                  "text/html": "\n        <iframe\n            width=\"600\"\n            height=\"480\"\n            src=\"https://calendar.google.com/calendar/embed?src=356b9d2nspjttvgbb3tvgk2f58%40group.calendar.google.com&ctz=America%2FNew_York\"\n            frameborder=\"0\"\n            allowfullscreen\n        ></iframe>\n        ",
                  "text/plain": "<IPython.lib.display.IFrame at 0x7fdf066f2890>"
                },
                "metadata": {}
              }
            ],
            "_view_module": "@jupyter-widgets/output",
            "_model_module_version": "1.0.0",
            "_view_count": null,
            "_view_module_version": "1.0.0",
            "layout": "IPY_MODEL_ef418b0981714ae8a5b98d16d7c9b3df",
            "_model_module": "@jupyter-widgets/output"
          }
        },
        "ef418b0981714ae8a5b98d16d7c9b3df": {
          "model_module": "@jupyter-widgets/base",
          "model_name": "LayoutModel",
          "model_module_version": "1.2.0",
          "state": {
            "_view_name": "LayoutView",
            "grid_template_rows": null,
            "right": null,
            "justify_content": null,
            "_view_module": "@jupyter-widgets/base",
            "overflow": null,
            "_model_module_version": "1.2.0",
            "_view_count": null,
            "flex_flow": null,
            "width": null,
            "min_width": null,
            "border": null,
            "align_items": null,
            "bottom": null,
            "_model_module": "@jupyter-widgets/base",
            "top": null,
            "grid_column": null,
            "overflow_y": null,
            "overflow_x": null,
            "grid_auto_flow": null,
            "grid_area": null,
            "grid_template_columns": null,
            "flex": null,
            "_model_name": "LayoutModel",
            "justify_items": null,
            "grid_row": null,
            "max_height": null,
            "align_content": null,
            "visibility": null,
            "align_self": null,
            "height": null,
            "min_height": null,
            "padding": null,
            "grid_auto_rows": null,
            "grid_gap": null,
            "max_width": null,
            "order": null,
            "_view_module_version": "1.2.0",
            "grid_template_areas": null,
            "object_position": null,
            "object_fit": null,
            "grid_auto_columns": null,
            "margin": null,
            "display": null,
            "left": null
          }
        }
      }
    }
  },
  "nbformat": 4,
  "nbformat_minor": 0
}